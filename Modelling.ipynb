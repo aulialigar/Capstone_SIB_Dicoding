{
  "nbformat": 4,
  "nbformat_minor": 0,
  "metadata": {
    "colab": {
      "name": "Modelling.ipynb",
      "provenance": [],
      "collapsed_sections": [
        "mrbboybnkPJB"
      ],
      "include_colab_link": true
    },
    "kernelspec": {
      "name": "python3",
      "display_name": "Python 3"
    },
    "language_info": {
      "name": "python"
    },
    "accelerator": "GPU"
  },
  "cells": [
    {
      "cell_type": "markdown",
      "metadata": {
        "id": "view-in-github",
        "colab_type": "text"
      },
      "source": [
        "<a href=\"https://colab.research.google.com/github/aulialigar/Capstone_SIB_Dicoding/blob/main/Modelling.ipynb\" target=\"_parent\"><img src=\"https://colab.research.google.com/assets/colab-badge.svg\" alt=\"Open In Colab\"/></a>"
      ]
    },
    {
      "cell_type": "code",
      "metadata": {
        "id": "yXKPktp76FCP"
      },
      "source": [
        "import re\n",
        "import os\n",
        "import pandas as pd\n",
        "import numpy as np\n",
        "import matplotlib.pyplot as plt\n",
        "import seaborn as sns\n",
        "import tensorflow as tf"
      ],
      "execution_count": 1,
      "outputs": []
    },
    {
      "cell_type": "code",
      "metadata": {
        "colab": {
          "base_uri": "https://localhost:8080/"
        },
        "id": "jEROEEkc6Q_9",
        "outputId": "acfa96ee-a017-4d4d-faa9-c8cc8b9ff870"
      },
      "source": [
        "from google.colab import drive\n",
        "drive.mount('/content/drive')"
      ],
      "execution_count": 2,
      "outputs": [
        {
          "output_type": "stream",
          "name": "stdout",
          "text": [
            "Mounted at /content/drive\n"
          ]
        }
      ]
    },
    {
      "cell_type": "code",
      "metadata": {
        "colab": {
          "base_uri": "https://localhost:8080/"
        },
        "id": "FahyBJoa6RY3",
        "outputId": "b8f463fd-7866-4b92-b244-118829baa297"
      },
      "source": [
        "!unzip drive/MyDrive/data.zip -d data/"
      ],
      "execution_count": 3,
      "outputs": [
        {
          "output_type": "stream",
          "name": "stdout",
          "text": [
            "Archive:  drive/MyDrive/data.zip\n",
            "  inflating: data/test_data_classification.csv  \n",
            "  inflating: data/train_data_classification.csv  \n",
            "  inflating: data/data_forecasting_final.csv  \n"
          ]
        }
      ]
    },
    {
      "cell_type": "markdown",
      "metadata": {
        "id": "Wsto5hu-58Rk"
      },
      "source": [
        "Menampilkan dataset"
      ]
    },
    {
      "cell_type": "code",
      "metadata": {
        "colab": {
          "base_uri": "https://localhost:8080/",
          "height": 408
        },
        "id": "gWjrMT_h54Zd",
        "outputId": "fdc2d6eb-b8d8-4c3e-c3d7-564f893f586a"
      },
      "source": [
        "df = pd.read_csv(\"data/data_forecasting_final.csv\")\n",
        "df"
      ],
      "execution_count": 4,
      "outputs": [
        {
          "output_type": "execute_result",
          "data": {
            "text/html": [
              "<div>\n",
              "<style scoped>\n",
              "    .dataframe tbody tr th:only-of-type {\n",
              "        vertical-align: middle;\n",
              "    }\n",
              "\n",
              "    .dataframe tbody tr th {\n",
              "        vertical-align: top;\n",
              "    }\n",
              "\n",
              "    .dataframe thead th {\n",
              "        text-align: right;\n",
              "    }\n",
              "</style>\n",
              "<table border=\"1\" class=\"dataframe\">\n",
              "  <thead>\n",
              "    <tr style=\"text-align: right;\">\n",
              "      <th></th>\n",
              "      <th>tanggal</th>\n",
              "      <th>pm10</th>\n",
              "      <th>so2</th>\n",
              "      <th>co</th>\n",
              "      <th>o3</th>\n",
              "      <th>no2</th>\n",
              "    </tr>\n",
              "  </thead>\n",
              "  <tbody>\n",
              "    <tr>\n",
              "      <th>0</th>\n",
              "      <td>2010-01-01</td>\n",
              "      <td>60.0</td>\n",
              "      <td>4.0</td>\n",
              "      <td>73.0</td>\n",
              "      <td>27.0</td>\n",
              "      <td>14.0</td>\n",
              "    </tr>\n",
              "    <tr>\n",
              "      <th>1</th>\n",
              "      <td>2010-01-02</td>\n",
              "      <td>32.0</td>\n",
              "      <td>2.0</td>\n",
              "      <td>16.0</td>\n",
              "      <td>33.0</td>\n",
              "      <td>9.0</td>\n",
              "    </tr>\n",
              "    <tr>\n",
              "      <th>2</th>\n",
              "      <td>2010-01-03</td>\n",
              "      <td>27.0</td>\n",
              "      <td>2.0</td>\n",
              "      <td>19.0</td>\n",
              "      <td>20.0</td>\n",
              "      <td>9.0</td>\n",
              "    </tr>\n",
              "    <tr>\n",
              "      <th>3</th>\n",
              "      <td>2010-01-04</td>\n",
              "      <td>22.0</td>\n",
              "      <td>2.0</td>\n",
              "      <td>16.0</td>\n",
              "      <td>15.0</td>\n",
              "      <td>6.0</td>\n",
              "    </tr>\n",
              "    <tr>\n",
              "      <th>4</th>\n",
              "      <td>2010-01-05</td>\n",
              "      <td>25.0</td>\n",
              "      <td>2.0</td>\n",
              "      <td>17.0</td>\n",
              "      <td>15.0</td>\n",
              "      <td>8.0</td>\n",
              "    </tr>\n",
              "    <tr>\n",
              "      <th>...</th>\n",
              "      <td>...</td>\n",
              "      <td>...</td>\n",
              "      <td>...</td>\n",
              "      <td>...</td>\n",
              "      <td>...</td>\n",
              "      <td>...</td>\n",
              "    </tr>\n",
              "    <tr>\n",
              "      <th>4225</th>\n",
              "      <td>2021-07-27</td>\n",
              "      <td>82.0</td>\n",
              "      <td>56.0</td>\n",
              "      <td>13.0</td>\n",
              "      <td>41.0</td>\n",
              "      <td>35.0</td>\n",
              "    </tr>\n",
              "    <tr>\n",
              "      <th>4226</th>\n",
              "      <td>2021-07-28</td>\n",
              "      <td>82.0</td>\n",
              "      <td>53.0</td>\n",
              "      <td>18.0</td>\n",
              "      <td>40.0</td>\n",
              "      <td>45.0</td>\n",
              "    </tr>\n",
              "    <tr>\n",
              "      <th>4227</th>\n",
              "      <td>2021-07-29</td>\n",
              "      <td>78.0</td>\n",
              "      <td>52.0</td>\n",
              "      <td>18.0</td>\n",
              "      <td>53.0</td>\n",
              "      <td>39.0</td>\n",
              "    </tr>\n",
              "    <tr>\n",
              "      <th>4228</th>\n",
              "      <td>2021-07-30</td>\n",
              "      <td>90.0</td>\n",
              "      <td>54.0</td>\n",
              "      <td>15.0</td>\n",
              "      <td>81.0</td>\n",
              "      <td>35.0</td>\n",
              "    </tr>\n",
              "    <tr>\n",
              "      <th>4229</th>\n",
              "      <td>2021-07-31</td>\n",
              "      <td>63.0</td>\n",
              "      <td>50.0</td>\n",
              "      <td>18.0</td>\n",
              "      <td>65.0</td>\n",
              "      <td>29.0</td>\n",
              "    </tr>\n",
              "  </tbody>\n",
              "</table>\n",
              "<p>4230 rows × 6 columns</p>\n",
              "</div>"
            ],
            "text/plain": [
              "         tanggal  pm10   so2    co    o3   no2\n",
              "0     2010-01-01  60.0   4.0  73.0  27.0  14.0\n",
              "1     2010-01-02  32.0   2.0  16.0  33.0   9.0\n",
              "2     2010-01-03  27.0   2.0  19.0  20.0   9.0\n",
              "3     2010-01-04  22.0   2.0  16.0  15.0   6.0\n",
              "4     2010-01-05  25.0   2.0  17.0  15.0   8.0\n",
              "...          ...   ...   ...   ...   ...   ...\n",
              "4225  2021-07-27  82.0  56.0  13.0  41.0  35.0\n",
              "4226  2021-07-28  82.0  53.0  18.0  40.0  45.0\n",
              "4227  2021-07-29  78.0  52.0  18.0  53.0  39.0\n",
              "4228  2021-07-30  90.0  54.0  15.0  81.0  35.0\n",
              "4229  2021-07-31  63.0  50.0  18.0  65.0  29.0\n",
              "\n",
              "[4230 rows x 6 columns]"
            ]
          },
          "metadata": {},
          "execution_count": 4
        }
      ]
    },
    {
      "cell_type": "code",
      "metadata": {
        "colab": {
          "base_uri": "https://localhost:8080/"
        },
        "id": "iMU6AJ7z7Wu-",
        "outputId": "1f848624-3da9-4b6d-fdab-fc6251e778e6"
      },
      "source": [
        "df.info()"
      ],
      "execution_count": 5,
      "outputs": [
        {
          "output_type": "stream",
          "name": "stdout",
          "text": [
            "<class 'pandas.core.frame.DataFrame'>\n",
            "RangeIndex: 4230 entries, 0 to 4229\n",
            "Data columns (total 6 columns):\n",
            " #   Column   Non-Null Count  Dtype  \n",
            "---  ------   --------------  -----  \n",
            " 0   tanggal  4230 non-null   object \n",
            " 1   pm10     4230 non-null   float64\n",
            " 2   so2      4230 non-null   float64\n",
            " 3   co       4230 non-null   float64\n",
            " 4   o3       4230 non-null   float64\n",
            " 5   no2      4230 non-null   float64\n",
            "dtypes: float64(5), object(1)\n",
            "memory usage: 198.4+ KB\n"
          ]
        }
      ]
    },
    {
      "cell_type": "code",
      "metadata": {
        "id": "Y9O-oUnh9jLi"
      },
      "source": [
        "df.tanggal = pd.to_datetime(df.tanggal)"
      ],
      "execution_count": 6,
      "outputs": []
    },
    {
      "cell_type": "code",
      "metadata": {
        "colab": {
          "base_uri": "https://localhost:8080/"
        },
        "id": "4z99FXtI9k8n",
        "outputId": "adda2d76-011b-4e1e-c2c8-e6d52613c9d6"
      },
      "source": [
        "df.info()"
      ],
      "execution_count": 7,
      "outputs": [
        {
          "output_type": "stream",
          "name": "stdout",
          "text": [
            "<class 'pandas.core.frame.DataFrame'>\n",
            "RangeIndex: 4230 entries, 0 to 4229\n",
            "Data columns (total 6 columns):\n",
            " #   Column   Non-Null Count  Dtype         \n",
            "---  ------   --------------  -----         \n",
            " 0   tanggal  4230 non-null   datetime64[ns]\n",
            " 1   pm10     4230 non-null   float64       \n",
            " 2   so2      4230 non-null   float64       \n",
            " 3   co       4230 non-null   float64       \n",
            " 4   o3       4230 non-null   float64       \n",
            " 5   no2      4230 non-null   float64       \n",
            "dtypes: datetime64[ns](1), float64(5)\n",
            "memory usage: 198.4 KB\n"
          ]
        }
      ]
    },
    {
      "cell_type": "code",
      "metadata": {
        "colab": {
          "base_uri": "https://localhost:8080/",
          "height": 290
        },
        "id": "sv469rRk7nbn",
        "outputId": "b0ba4b61-5bdc-42f4-de10-9fdc77e5ebc0"
      },
      "source": [
        "df.describe()"
      ],
      "execution_count": 8,
      "outputs": [
        {
          "output_type": "execute_result",
          "data": {
            "text/html": [
              "<div>\n",
              "<style scoped>\n",
              "    .dataframe tbody tr th:only-of-type {\n",
              "        vertical-align: middle;\n",
              "    }\n",
              "\n",
              "    .dataframe tbody tr th {\n",
              "        vertical-align: top;\n",
              "    }\n",
              "\n",
              "    .dataframe thead th {\n",
              "        text-align: right;\n",
              "    }\n",
              "</style>\n",
              "<table border=\"1\" class=\"dataframe\">\n",
              "  <thead>\n",
              "    <tr style=\"text-align: right;\">\n",
              "      <th></th>\n",
              "      <th>pm10</th>\n",
              "      <th>so2</th>\n",
              "      <th>co</th>\n",
              "      <th>o3</th>\n",
              "      <th>no2</th>\n",
              "    </tr>\n",
              "  </thead>\n",
              "  <tbody>\n",
              "    <tr>\n",
              "      <th>count</th>\n",
              "      <td>4230.000000</td>\n",
              "      <td>4230.000000</td>\n",
              "      <td>4230.000000</td>\n",
              "      <td>4230.000000</td>\n",
              "      <td>4230.000000</td>\n",
              "    </tr>\n",
              "    <tr>\n",
              "      <th>mean</th>\n",
              "      <td>65.613841</td>\n",
              "      <td>27.801089</td>\n",
              "      <td>32.123599</td>\n",
              "      <td>93.409482</td>\n",
              "      <td>19.446529</td>\n",
              "    </tr>\n",
              "    <tr>\n",
              "      <th>std</th>\n",
              "      <td>18.922869</td>\n",
              "      <td>15.554703</td>\n",
              "      <td>13.044231</td>\n",
              "      <td>47.957399</td>\n",
              "      <td>13.216514</td>\n",
              "    </tr>\n",
              "    <tr>\n",
              "      <th>min</th>\n",
              "      <td>19.000000</td>\n",
              "      <td>2.000000</td>\n",
              "      <td>5.000000</td>\n",
              "      <td>9.000000</td>\n",
              "      <td>3.000000</td>\n",
              "    </tr>\n",
              "    <tr>\n",
              "      <th>25%</th>\n",
              "      <td>55.000000</td>\n",
              "      <td>17.000000</td>\n",
              "      <td>23.000000</td>\n",
              "      <td>60.000000</td>\n",
              "      <td>13.000000</td>\n",
              "    </tr>\n",
              "    <tr>\n",
              "      <th>50%</th>\n",
              "      <td>65.000000</td>\n",
              "      <td>26.000000</td>\n",
              "      <td>30.000000</td>\n",
              "      <td>84.000000</td>\n",
              "      <td>17.000000</td>\n",
              "    </tr>\n",
              "    <tr>\n",
              "      <th>75%</th>\n",
              "      <td>75.000000</td>\n",
              "      <td>33.000000</td>\n",
              "      <td>38.000000</td>\n",
              "      <td>116.000000</td>\n",
              "      <td>21.000000</td>\n",
              "    </tr>\n",
              "    <tr>\n",
              "      <th>max</th>\n",
              "      <td>178.000000</td>\n",
              "      <td>126.000000</td>\n",
              "      <td>134.000000</td>\n",
              "      <td>314.000000</td>\n",
              "      <td>148.000000</td>\n",
              "    </tr>\n",
              "  </tbody>\n",
              "</table>\n",
              "</div>"
            ],
            "text/plain": [
              "              pm10          so2           co           o3          no2\n",
              "count  4230.000000  4230.000000  4230.000000  4230.000000  4230.000000\n",
              "mean     65.613841    27.801089    32.123599    93.409482    19.446529\n",
              "std      18.922869    15.554703    13.044231    47.957399    13.216514\n",
              "min      19.000000     2.000000     5.000000     9.000000     3.000000\n",
              "25%      55.000000    17.000000    23.000000    60.000000    13.000000\n",
              "50%      65.000000    26.000000    30.000000    84.000000    17.000000\n",
              "75%      75.000000    33.000000    38.000000   116.000000    21.000000\n",
              "max     178.000000   126.000000   134.000000   314.000000   148.000000"
            ]
          },
          "metadata": {},
          "execution_count": 8
        }
      ]
    },
    {
      "cell_type": "code",
      "metadata": {
        "colab": {
          "base_uri": "https://localhost:8080/",
          "height": 393
        },
        "id": "6qcAHVga786o",
        "outputId": "89dfc672-4c1d-4263-c82c-0ea3c3187eb3"
      },
      "source": [
        "plt.figure(figsize=(8,6))\n",
        "\n",
        "sns.heatmap(df.corr(), annot=True)"
      ],
      "execution_count": 9,
      "outputs": [
        {
          "output_type": "execute_result",
          "data": {
            "text/plain": [
              "<matplotlib.axes._subplots.AxesSubplot at 0x7ff1eb74dd50>"
            ]
          },
          "metadata": {},
          "execution_count": 9
        },
        {
          "output_type": "display_data",
          "data": {
            "image/png": "[encoded data removed]",
            "text/plain": [
              "<Figure size 576x432 with 2 Axes>"
            ]
          },
          "metadata": {
            "needs_background": "light"
          }
        }
      ]
    },
    {
      "cell_type": "code",
      "metadata": {
        "colab": {
          "base_uri": "https://localhost:8080/",
          "height": 1000
        },
        "id": "MvBJJaZg8yoQ",
        "outputId": "96dc5707-f547-4d8f-dd5e-f5040dcb3c04"
      },
      "source": [
        "df_resample = (df.set_index('tanggal')).resample('D').mean().reset_index()\n",
        "\n",
        "df_resample.plot(x='tanggal', y='pm10', kind='line', color='red', figsize=(15,5))\n",
        "df_resample.plot(x='tanggal', y='so2', kind='line', color='green', figsize=(15,5))\n",
        "df_resample.plot(x='tanggal', y='co', kind='line', color='magenta', figsize=(15,5))\n",
        "df_resample.plot(x='tanggal', y='o3', kind='line', color='black', figsize=(15,5))\n",
        "df_resample.plot(x='tanggal', y='no2', kind='line', color='blue', figsize=(15,5))"
      ],
      "execution_count": 10,
      "outputs": [
        {
          "output_type": "execute_result",
          "data": {
            "text/plain": [
              "<matplotlib.axes._subplots.AxesSubplot at 0x7ff1c2a0efd0>"
            ]
          },
          "metadata": {},
          "execution_count": 10
        },
        {
          "output_type": "display_data",
          "data": {
            "image/png": "[encoded data removed]",
            "text/plain": [
              "<Figure size 1080x360 with 1 Axes>"
            ]
          },
          "metadata": {
            "needs_background": "light"
          }
        },
        {
          "output_type": "display_data",
          "data": {
            "image/png": "[encoded data removed]",
            "text/plain": [
              "<Figure size 1080x360 with 1 Axes>"
            ]
          },
          "metadata": {
            "needs_background": "light"
          }
        },
        {
          "output_type": "display_data",
          "data": {
            "image/png": "[encoded data removed]",
            "text/plain": [
              "<Figure size 1080x360 with 1 Axes>"
            ]
          },
          "metadata": {
            "needs_background": "light"
          }
        },
        {
          "output_type": "display_data",
          "data": {
            "image/png": "[encoded data removed]",
            "text/plain": [
              "<Figure size 1080x360 with 1 Axes>"
            ]
          },
          "metadata": {
            "needs_background": "light"
          }
        },
        {
          "output_type": "display_data",
          "data": {
            "image/png": "[encoded data removed]",
            "text/plain": [
              "<Figure size 1080x360 with 1 Axes>"
            ]
          },
          "metadata": {
            "needs_background": "light"
          }
        }
      ]
    },
    {
      "cell_type": "code",
      "metadata": {
        "id": "9aVaTr8r0Jgy"
      },
      "source": [
        "# Normalization\n",
        "from sklearn import preprocessing\n",
        "min_max_scaler = preprocessing.MinMaxScaler()"
      ],
      "execution_count": 11,
      "outputs": []
    },
    {
      "cell_type": "code",
      "metadata": {
        "id": "1Ct8hM5uLlKq"
      },
      "source": [
        "window_size = 30\n",
        "batch_size = 8\n",
        "shuffle_buffer_size = 1000"
      ],
      "execution_count": 12,
      "outputs": []
    },
    {
      "cell_type": "code",
      "metadata": {
        "id": "nFv-OGsNTbAc"
      },
      "source": [
        "def windowed_dataset(series, window_size, batch_size, shuffle_buffer):\n",
        "    series = tf.expand_dims(series, axis=-1)\n",
        "    ds = tf.data.Dataset.from_tensor_slices(series)\n",
        "    ds = ds.window(window_size + 1, shift=1, drop_remainder=True)\n",
        "    ds = ds.flat_map(lambda w: w.batch(window_size + 1))\n",
        "    ds = ds.shuffle(shuffle_buffer)\n",
        "    ds = ds.map(lambda w: (w[:-1], w[-1:]))\n",
        "    return ds.batch(batch_size).prefetch(1)"
      ],
      "execution_count": 13,
      "outputs": []
    },
    {
      "cell_type": "code",
      "metadata": {
        "id": "Ryp5ViZogX3D"
      },
      "source": [
        "def model_forecast(model, series, batch_size, window_size):\n",
        "    ds = tf.data.Dataset.from_tensor_slices(series)\n",
        "    ds = ds.window(window_size, shift=1, drop_remainder=True)\n",
        "    ds = ds.flat_map(lambda w: w.batch(window_size))\n",
        "    ds = ds.batch(batch_size).prefetch(1)\n",
        "    forecast = model.predict(ds)\n",
        "    return forecast"
      ],
      "execution_count": 14,
      "outputs": []
    },
    {
      "cell_type": "markdown",
      "metadata": {
        "id": "bPodSrqsgqw9"
      },
      "source": [
        "#Variabel pm10"
      ]
    },
    {
      "cell_type": "code",
      "metadata": {
        "id": "2V4_GU9qW18S"
      },
      "source": [
        "pm10 = df['pm10'].values.reshape(-1, 1)\n",
        "pm10 = min_max_scaler.fit_transform(pm10)\n",
        "time = df.index.values + 1"
      ],
      "execution_count": 15,
      "outputs": []
    },
    {
      "cell_type": "code",
      "metadata": {
        "id": "U2dd9KLbqfkl",
        "colab": {
          "base_uri": "https://localhost:8080/"
        },
        "outputId": "f268a051-af19-4fdc-ba3d-eb55a0182341"
      },
      "source": [
        "minMAE = (pm10.max() - pm10.min()) * 0.1\n",
        "minMAE"
      ],
      "execution_count": 16,
      "outputs": [
        {
          "output_type": "execute_result",
          "data": {
            "text/plain": [
              "0.1"
            ]
          },
          "metadata": {},
          "execution_count": 16
        }
      ]
    },
    {
      "cell_type": "code",
      "metadata": {
        "id": "rFt_ZlNfirsQ"
      },
      "source": [
        "split_time = int(0.9 * len(pm10))\n",
        "time_train = time[:split_time]\n",
        "x_train = pm10[:split_time]\n",
        "time_valid = time[split_time:]\n",
        "x_valid = pm10[split_time:]"
      ],
      "execution_count": 17,
      "outputs": []
    },
    {
      "cell_type": "code",
      "metadata": {
        "colab": {
          "base_uri": "https://localhost:8080/"
        },
        "id": "ShWhbaWwKfb1",
        "outputId": "b786b366-b596-498c-aafb-0c031a36b7d3"
      },
      "source": [
        "train_set = windowed_dataset(x_train, window_size, batch_size, shuffle_buffer_size)\n",
        "print(train_set)\n",
        "print(x_train.shape)"
      ],
      "execution_count": 18,
      "outputs": [
        {
          "output_type": "stream",
          "name": "stdout",
          "text": [
            "<PrefetchDataset shapes: ((None, None, 1, 1), (None, None, 1, 1)), types: (tf.float64, tf.float64)>\n",
            "(3807, 1)\n"
          ]
        }
      ]
    },
    {
      "cell_type": "code",
      "metadata": {
        "colab": {
          "base_uri": "https://localhost:8080/"
        },
        "id": "NguPiNjnKkXn",
        "outputId": "3d29b323-b39a-4907-9ad2-9a26e1b7ba76"
      },
      "source": [
        "val_set = windowed_dataset(x_valid, window_size, batch_size, shuffle_buffer_size)\n",
        "print(val_set)\n",
        "print(x_valid.shape)"
      ],
      "execution_count": 19,
      "outputs": [
        {
          "output_type": "stream",
          "name": "stdout",
          "text": [
            "<PrefetchDataset shapes: ((None, None, 1, 1), (None, None, 1, 1)), types: (tf.float64, tf.float64)>\n",
            "(423, 1)\n"
          ]
        }
      ]
    },
    {
      "cell_type": "code",
      "metadata": {
        "id": "vt7w1ixLFoiB"
      },
      "source": [
        "model_pm10 = tf.keras.models.Sequential([\n",
        "  tf.keras.layers.Dense(128, activation=\"relu\"),\n",
        "  tf.keras.layers.Dense(64, activation=\"relu\"),\n",
        "  tf.keras.layers.Dense(1),\n",
        "])"
      ],
      "execution_count": 20,
      "outputs": []
    },
    {
      "cell_type": "code",
      "metadata": {
        "colab": {
          "base_uri": "https://localhost:8080/"
        },
        "id": "TUxzE0T-FzRo",
        "outputId": "9c116b24-68b3-4e92-83d8-7e567f21ed6f"
      },
      "source": [
        "optimizer = tf.keras.optimizers.SGD(learning_rate=1.0000e-04, momentum=0.9)\n",
        "model_pm10.compile(loss=tf.keras.losses.Huber(),\n",
        "              optimizer=optimizer,\n",
        "              metrics=[\"mse\", \"mae\"])\n",
        "history = model_pm10.fit(train_set, validation_data=(val_set), epochs=100)"
      ],
      "execution_count": 21,
      "outputs": [
        {
          "output_type": "stream",
          "name": "stdout",
          "text": [
            "Epoch 1/100\n",
            "473/473 [==============================] - 6s 8ms/step - loss: 0.0366 - mse: 0.0731 - mae: 0.2290 - val_loss: 0.0101 - val_mse: 0.0202 - val_mae: 0.1246\n",
            "Epoch 2/100\n",
            "473/473 [==============================] - 3s 7ms/step - loss: 0.0118 - mse: 0.0237 - mae: 0.1153 - val_loss: 0.0048 - val_mse: 0.0097 - val_mae: 0.0807\n",
            "Epoch 3/100\n",
            "473/473 [==============================] - 3s 7ms/step - loss: 0.0081 - mse: 0.0162 - mae: 0.0926 - val_loss: 0.0044 - val_mse: 0.0088 - val_mae: 0.0728\n",
            "Epoch 4/100\n",
            "473/473 [==============================] - 4s 7ms/step - loss: 0.0073 - mse: 0.0147 - mae: 0.0888 - val_loss: 0.0045 - val_mse: 0.0089 - val_mae: 0.0720\n",
            "Epoch 5/100\n",
            "473/473 [==============================] - 4s 7ms/step - loss: 0.0071 - mse: 0.0142 - mae: 0.0880 - val_loss: 0.0045 - val_mse: 0.0090 - val_mae: 0.0719\n",
            "Epoch 6/100\n",
            "473/473 [==============================] - 3s 7ms/step - loss: 0.0070 - mse: 0.0140 - mae: 0.0876 - val_loss: 0.0045 - val_mse: 0.0090 - val_mae: 0.0719\n",
            "Epoch 7/100\n",
            "473/473 [==============================] - 3s 7ms/step - loss: 0.0069 - mse: 0.0138 - mae: 0.0871 - val_loss: 0.0045 - val_mse: 0.0090 - val_mae: 0.0718\n",
            "Epoch 8/100\n",
            "473/473 [==============================] - 4s 7ms/step - loss: 0.0068 - mse: 0.0137 - mae: 0.0868 - val_loss: 0.0045 - val_mse: 0.0090 - val_mae: 0.0716\n",
            "Epoch 9/100\n",
            "473/473 [==============================] - 4s 7ms/step - loss: 0.0068 - mse: 0.0136 - mae: 0.0864 - val_loss: 0.0045 - val_mse: 0.0089 - val_mae: 0.0714\n",
            "Epoch 10/100\n",
            "473/473 [==============================] - 3s 7ms/step - loss: 0.0067 - mse: 0.0135 - mae: 0.0861 - val_loss: 0.0044 - val_mse: 0.0089 - val_mae: 0.0712\n",
            "Epoch 11/100\n",
            "473/473 [==============================] - 4s 7ms/step - loss: 0.0067 - mse: 0.0134 - mae: 0.0857 - val_loss: 0.0044 - val_mse: 0.0088 - val_mae: 0.0711\n",
            "Epoch 12/100\n",
            "473/473 [==============================] - 4s 7ms/step - loss: 0.0066 - mse: 0.0133 - mae: 0.0854 - val_loss: 0.0044 - val_mse: 0.0088 - val_mae: 0.0709\n",
            "Epoch 13/100\n",
            "473/473 [==============================] - 3s 7ms/step - loss: 0.0066 - mse: 0.0132 - mae: 0.0852 - val_loss: 0.0044 - val_mse: 0.0087 - val_mae: 0.0708\n",
            "Epoch 14/100\n",
            "473/473 [==============================] - 3s 7ms/step - loss: 0.0066 - mse: 0.0131 - mae: 0.0849 - val_loss: 0.0043 - val_mse: 0.0087 - val_mae: 0.0707\n",
            "Epoch 15/100\n",
            "473/473 [==============================] - 4s 7ms/step - loss: 0.0065 - mse: 0.0131 - mae: 0.0847 - val_loss: 0.0043 - val_mse: 0.0087 - val_mae: 0.0706\n",
            "Epoch 16/100\n",
            "473/473 [==============================] - 3s 7ms/step - loss: 0.0065 - mse: 0.0130 - mae: 0.0845 - val_loss: 0.0043 - val_mse: 0.0086 - val_mae: 0.0706\n",
            "Epoch 17/100\n",
            "473/473 [==============================] - 4s 7ms/step - loss: 0.0065 - mse: 0.0129 - mae: 0.0843 - val_loss: 0.0043 - val_mse: 0.0086 - val_mae: 0.0705\n",
            "Epoch 18/100\n",
            "473/473 [==============================] - 4s 7ms/step - loss: 0.0064 - mse: 0.0129 - mae: 0.0841 - val_loss: 0.0043 - val_mse: 0.0086 - val_mae: 0.0704\n",
            "Epoch 19/100\n",
            "473/473 [==============================] - 3s 7ms/step - loss: 0.0064 - mse: 0.0128 - mae: 0.0840 - val_loss: 0.0043 - val_mse: 0.0086 - val_mae: 0.0703\n",
            "Epoch 20/100\n",
            "473/473 [==============================] - 4s 7ms/step - loss: 0.0064 - mse: 0.0128 - mae: 0.0839 - val_loss: 0.0043 - val_mse: 0.0085 - val_mae: 0.0702\n",
            "Epoch 21/100\n",
            "473/473 [==============================] - 4s 7ms/step - loss: 0.0064 - mse: 0.0127 - mae: 0.0837 - val_loss: 0.0043 - val_mse: 0.0085 - val_mae: 0.0701\n",
            "Epoch 22/100\n",
            "473/473 [==============================] - 4s 7ms/step - loss: 0.0063 - mse: 0.0127 - mae: 0.0835 - val_loss: 0.0042 - val_mse: 0.0085 - val_mae: 0.0701\n",
            "Epoch 23/100\n",
            "473/473 [==============================] - 4s 7ms/step - loss: 0.0063 - mse: 0.0126 - mae: 0.0833 - val_loss: 0.0042 - val_mse: 0.0084 - val_mae: 0.0700\n",
            "Epoch 24/100\n",
            "473/473 [==============================] - 4s 7ms/step - loss: 0.0063 - mse: 0.0126 - mae: 0.0832 - val_loss: 0.0042 - val_mse: 0.0084 - val_mae: 0.0700\n",
            "Epoch 25/100\n",
            "473/473 [==============================] - 4s 7ms/step - loss: 0.0063 - mse: 0.0126 - mae: 0.0831 - val_loss: 0.0042 - val_mse: 0.0084 - val_mae: 0.0699\n",
            "Epoch 26/100\n",
            "473/473 [==============================] - 3s 7ms/step - loss: 0.0063 - mse: 0.0125 - mae: 0.0830 - val_loss: 0.0042 - val_mse: 0.0084 - val_mae: 0.0699\n",
            "Epoch 27/100\n",
            "473/473 [==============================] - 3s 7ms/step - loss: 0.0062 - mse: 0.0125 - mae: 0.0829 - val_loss: 0.0042 - val_mse: 0.0084 - val_mae: 0.0698\n",
            "Epoch 28/100\n",
            "473/473 [==============================] - 4s 7ms/step - loss: 0.0062 - mse: 0.0125 - mae: 0.0828 - val_loss: 0.0042 - val_mse: 0.0084 - val_mae: 0.0698\n",
            "Epoch 29/100\n",
            "473/473 [==============================] - 4s 7ms/step - loss: 0.0062 - mse: 0.0124 - mae: 0.0827 - val_loss: 0.0042 - val_mse: 0.0084 - val_mae: 0.0698\n",
            "Epoch 30/100\n",
            "473/473 [==============================] - 4s 7ms/step - loss: 0.0062 - mse: 0.0124 - mae: 0.0826 - val_loss: 0.0042 - val_mse: 0.0083 - val_mae: 0.0697\n",
            "Epoch 31/100\n",
            "473/473 [==============================] - 4s 7ms/step - loss: 0.0062 - mse: 0.0124 - mae: 0.0825 - val_loss: 0.0042 - val_mse: 0.0083 - val_mae: 0.0696\n",
            "Epoch 32/100\n",
            "473/473 [==============================] - 4s 7ms/step - loss: 0.0062 - mse: 0.0124 - mae: 0.0825 - val_loss: 0.0042 - val_mse: 0.0083 - val_mae: 0.0696\n",
            "Epoch 33/100\n",
            "473/473 [==============================] - 4s 7ms/step - loss: 0.0062 - mse: 0.0123 - mae: 0.0823 - val_loss: 0.0042 - val_mse: 0.0083 - val_mae: 0.0696\n",
            "Epoch 34/100\n",
            "473/473 [==============================] - 4s 7ms/step - loss: 0.0061 - mse: 0.0123 - mae: 0.0823 - val_loss: 0.0041 - val_mse: 0.0083 - val_mae: 0.0695\n",
            "Epoch 35/100\n",
            "473/473 [==============================] - 3s 7ms/step - loss: 0.0061 - mse: 0.0123 - mae: 0.0822 - val_loss: 0.0041 - val_mse: 0.0083 - val_mae: 0.0695\n",
            "Epoch 36/100\n",
            "473/473 [==============================] - 4s 7ms/step - loss: 0.0061 - mse: 0.0122 - mae: 0.0821 - val_loss: 0.0041 - val_mse: 0.0083 - val_mae: 0.0695\n",
            "Epoch 37/100\n",
            "473/473 [==============================] - 4s 7ms/step - loss: 0.0061 - mse: 0.0122 - mae: 0.0820 - val_loss: 0.0041 - val_mse: 0.0083 - val_mae: 0.0694\n",
            "Epoch 38/100\n",
            "473/473 [==============================] - 3s 7ms/step - loss: 0.0061 - mse: 0.0122 - mae: 0.0820 - val_loss: 0.0041 - val_mse: 0.0082 - val_mae: 0.0693\n",
            "Epoch 39/100\n",
            "473/473 [==============================] - 4s 7ms/step - loss: 0.0061 - mse: 0.0122 - mae: 0.0819 - val_loss: 0.0041 - val_mse: 0.0082 - val_mae: 0.0693\n",
            "Epoch 40/100\n",
            "473/473 [==============================] - 4s 7ms/step - loss: 0.0061 - mse: 0.0121 - mae: 0.0818 - val_loss: 0.0041 - val_mse: 0.0082 - val_mae: 0.0694\n",
            "Epoch 41/100\n",
            "473/473 [==============================] - 4s 7ms/step - loss: 0.0060 - mse: 0.0121 - mae: 0.0817 - val_loss: 0.0041 - val_mse: 0.0082 - val_mae: 0.0693\n",
            "Epoch 42/100\n",
            "473/473 [==============================] - 4s 7ms/step - loss: 0.0060 - mse: 0.0121 - mae: 0.0816 - val_loss: 0.0041 - val_mse: 0.0082 - val_mae: 0.0693\n",
            "Epoch 43/100\n",
            "473/473 [==============================] - 4s 7ms/step - loss: 0.0060 - mse: 0.0121 - mae: 0.0815 - val_loss: 0.0041 - val_mse: 0.0082 - val_mae: 0.0693\n",
            "Epoch 44/100\n",
            "473/473 [==============================] - 4s 7ms/step - loss: 0.0060 - mse: 0.0120 - mae: 0.0815 - val_loss: 0.0041 - val_mse: 0.0082 - val_mae: 0.0693\n",
            "Epoch 45/100\n",
            "473/473 [==============================] - 4s 7ms/step - loss: 0.0060 - mse: 0.0120 - mae: 0.0814 - val_loss: 0.0041 - val_mse: 0.0082 - val_mae: 0.0693\n",
            "Epoch 46/100\n",
            "473/473 [==============================] - 4s 7ms/step - loss: 0.0060 - mse: 0.0120 - mae: 0.0814 - val_loss: 0.0041 - val_mse: 0.0082 - val_mae: 0.0692\n",
            "Epoch 47/100\n",
            "473/473 [==============================] - 4s 7ms/step - loss: 0.0060 - mse: 0.0120 - mae: 0.0813 - val_loss: 0.0041 - val_mse: 0.0082 - val_mae: 0.0693\n",
            "Epoch 48/100\n",
            "473/473 [==============================] - 4s 7ms/step - loss: 0.0060 - mse: 0.0120 - mae: 0.0813 - val_loss: 0.0041 - val_mse: 0.0082 - val_mae: 0.0692\n",
            "Epoch 49/100\n",
            "473/473 [==============================] - 4s 7ms/step - loss: 0.0060 - mse: 0.0119 - mae: 0.0812 - val_loss: 0.0041 - val_mse: 0.0082 - val_mae: 0.0692\n",
            "Epoch 50/100\n",
            "473/473 [==============================] - 4s 7ms/step - loss: 0.0060 - mse: 0.0119 - mae: 0.0812 - val_loss: 0.0041 - val_mse: 0.0082 - val_mae: 0.0692\n",
            "Epoch 51/100\n",
            "473/473 [==============================] - 4s 7ms/step - loss: 0.0060 - mse: 0.0119 - mae: 0.0811 - val_loss: 0.0041 - val_mse: 0.0081 - val_mae: 0.0692\n",
            "Epoch 52/100\n",
            "473/473 [==============================] - 4s 7ms/step - loss: 0.0059 - mse: 0.0119 - mae: 0.0811 - val_loss: 0.0041 - val_mse: 0.0081 - val_mae: 0.0692\n",
            "Epoch 53/100\n",
            "473/473 [==============================] - 3s 7ms/step - loss: 0.0059 - mse: 0.0119 - mae: 0.0811 - val_loss: 0.0041 - val_mse: 0.0081 - val_mae: 0.0692\n",
            "Epoch 54/100\n",
            "473/473 [==============================] - 4s 7ms/step - loss: 0.0059 - mse: 0.0119 - mae: 0.0811 - val_loss: 0.0041 - val_mse: 0.0081 - val_mae: 0.0691\n",
            "Epoch 55/100\n",
            "473/473 [==============================] - 4s 7ms/step - loss: 0.0059 - mse: 0.0119 - mae: 0.0810 - val_loss: 0.0041 - val_mse: 0.0081 - val_mae: 0.0691\n",
            "Epoch 56/100\n",
            "473/473 [==============================] - 4s 7ms/step - loss: 0.0059 - mse: 0.0118 - mae: 0.0810 - val_loss: 0.0041 - val_mse: 0.0081 - val_mae: 0.0691\n",
            "Epoch 57/100\n",
            "473/473 [==============================] - 4s 7ms/step - loss: 0.0059 - mse: 0.0118 - mae: 0.0809 - val_loss: 0.0041 - val_mse: 0.0081 - val_mae: 0.0691\n",
            "Epoch 58/100\n",
            "473/473 [==============================] - 4s 7ms/step - loss: 0.0059 - mse: 0.0118 - mae: 0.0809 - val_loss: 0.0040 - val_mse: 0.0081 - val_mae: 0.0691\n",
            "Epoch 59/100\n",
            "473/473 [==============================] - 4s 7ms/step - loss: 0.0059 - mse: 0.0118 - mae: 0.0809 - val_loss: 0.0041 - val_mse: 0.0081 - val_mae: 0.0691\n",
            "Epoch 60/100\n",
            "473/473 [==============================] - 4s 7ms/step - loss: 0.0059 - mse: 0.0118 - mae: 0.0808 - val_loss: 0.0041 - val_mse: 0.0081 - val_mae: 0.0691\n",
            "Epoch 61/100\n",
            "473/473 [==============================] - 4s 7ms/step - loss: 0.0059 - mse: 0.0118 - mae: 0.0809 - val_loss: 0.0040 - val_mse: 0.0081 - val_mae: 0.0691\n",
            "Epoch 62/100\n",
            "473/473 [==============================] - 4s 7ms/step - loss: 0.0059 - mse: 0.0118 - mae: 0.0808 - val_loss: 0.0041 - val_mse: 0.0081 - val_mae: 0.0691\n",
            "Epoch 63/100\n",
            "473/473 [==============================] - 4s 7ms/step - loss: 0.0059 - mse: 0.0118 - mae: 0.0808 - val_loss: 0.0040 - val_mse: 0.0081 - val_mae: 0.0691\n",
            "Epoch 64/100\n",
            "473/473 [==============================] - 4s 7ms/step - loss: 0.0059 - mse: 0.0118 - mae: 0.0808 - val_loss: 0.0040 - val_mse: 0.0081 - val_mae: 0.0690\n",
            "Epoch 65/100\n",
            "473/473 [==============================] - 4s 7ms/step - loss: 0.0059 - mse: 0.0118 - mae: 0.0807 - val_loss: 0.0040 - val_mse: 0.0081 - val_mae: 0.0691\n",
            "Epoch 66/100\n",
            "473/473 [==============================] - 4s 7ms/step - loss: 0.0059 - mse: 0.0117 - mae: 0.0807 - val_loss: 0.0040 - val_mse: 0.0081 - val_mae: 0.0690\n",
            "Epoch 67/100\n",
            "473/473 [==============================] - 4s 7ms/step - loss: 0.0059 - mse: 0.0117 - mae: 0.0807 - val_loss: 0.0040 - val_mse: 0.0081 - val_mae: 0.0690\n",
            "Epoch 68/100\n",
            "473/473 [==============================] - 4s 7ms/step - loss: 0.0059 - mse: 0.0117 - mae: 0.0807 - val_loss: 0.0040 - val_mse: 0.0081 - val_mae: 0.0690\n",
            "Epoch 69/100\n",
            "473/473 [==============================] - 4s 7ms/step - loss: 0.0059 - mse: 0.0117 - mae: 0.0807 - val_loss: 0.0040 - val_mse: 0.0081 - val_mae: 0.0690\n",
            "Epoch 70/100\n",
            "473/473 [==============================] - 4s 7ms/step - loss: 0.0059 - mse: 0.0117 - mae: 0.0806 - val_loss: 0.0040 - val_mse: 0.0081 - val_mae: 0.0690\n",
            "Epoch 71/100\n",
            "473/473 [==============================] - 4s 7ms/step - loss: 0.0059 - mse: 0.0117 - mae: 0.0806 - val_loss: 0.0040 - val_mse: 0.0080 - val_mae: 0.0690\n",
            "Epoch 72/100\n",
            "473/473 [==============================] - 4s 7ms/step - loss: 0.0059 - mse: 0.0117 - mae: 0.0806 - val_loss: 0.0040 - val_mse: 0.0080 - val_mae: 0.0690\n",
            "Epoch 73/100\n",
            "473/473 [==============================] - 4s 7ms/step - loss: 0.0058 - mse: 0.0117 - mae: 0.0806 - val_loss: 0.0040 - val_mse: 0.0081 - val_mae: 0.0690\n",
            "Epoch 74/100\n",
            "473/473 [==============================] - 4s 7ms/step - loss: 0.0058 - mse: 0.0117 - mae: 0.0806 - val_loss: 0.0040 - val_mse: 0.0081 - val_mae: 0.0690\n",
            "Epoch 75/100\n",
            "473/473 [==============================] - 4s 7ms/step - loss: 0.0058 - mse: 0.0117 - mae: 0.0806 - val_loss: 0.0040 - val_mse: 0.0081 - val_mae: 0.0690\n",
            "Epoch 76/100\n",
            "473/473 [==============================] - 4s 7ms/step - loss: 0.0058 - mse: 0.0117 - mae: 0.0806 - val_loss: 0.0040 - val_mse: 0.0080 - val_mae: 0.0690\n",
            "Epoch 77/100\n",
            "473/473 [==============================] - 4s 7ms/step - loss: 0.0058 - mse: 0.0117 - mae: 0.0805 - val_loss: 0.0040 - val_mse: 0.0080 - val_mae: 0.0690\n",
            "Epoch 78/100\n",
            "473/473 [==============================] - 4s 7ms/step - loss: 0.0058 - mse: 0.0117 - mae: 0.0805 - val_loss: 0.0040 - val_mse: 0.0080 - val_mae: 0.0690\n",
            "Epoch 79/100\n",
            "473/473 [==============================] - 4s 7ms/step - loss: 0.0058 - mse: 0.0117 - mae: 0.0805 - val_loss: 0.0040 - val_mse: 0.0080 - val_mae: 0.0690\n",
            "Epoch 80/100\n",
            "473/473 [==============================] - 4s 7ms/step - loss: 0.0058 - mse: 0.0117 - mae: 0.0805 - val_loss: 0.0040 - val_mse: 0.0080 - val_mae: 0.0690\n",
            "Epoch 81/100\n",
            "473/473 [==============================] - 4s 7ms/step - loss: 0.0058 - mse: 0.0116 - mae: 0.0805 - val_loss: 0.0040 - val_mse: 0.0080 - val_mae: 0.0690\n",
            "Epoch 82/100\n",
            "473/473 [==============================] - 3s 7ms/step - loss: 0.0058 - mse: 0.0116 - mae: 0.0805 - val_loss: 0.0040 - val_mse: 0.0080 - val_mae: 0.0690\n",
            "Epoch 83/100\n",
            "473/473 [==============================] - 4s 7ms/step - loss: 0.0058 - mse: 0.0116 - mae: 0.0805 - val_loss: 0.0040 - val_mse: 0.0080 - val_mae: 0.0689\n",
            "Epoch 84/100\n",
            "473/473 [==============================] - 4s 7ms/step - loss: 0.0058 - mse: 0.0116 - mae: 0.0804 - val_loss: 0.0040 - val_mse: 0.0080 - val_mae: 0.0689\n",
            "Epoch 85/100\n",
            "473/473 [==============================] - 4s 7ms/step - loss: 0.0058 - mse: 0.0116 - mae: 0.0804 - val_loss: 0.0040 - val_mse: 0.0080 - val_mae: 0.0690\n",
            "Epoch 86/100\n",
            "473/473 [==============================] - 4s 7ms/step - loss: 0.0058 - mse: 0.0116 - mae: 0.0804 - val_loss: 0.0040 - val_mse: 0.0080 - val_mae: 0.0690\n",
            "Epoch 87/100\n",
            "473/473 [==============================] - 4s 7ms/step - loss: 0.0058 - mse: 0.0116 - mae: 0.0804 - val_loss: 0.0040 - val_mse: 0.0080 - val_mae: 0.0690\n",
            "Epoch 88/100\n",
            "473/473 [==============================] - 4s 7ms/step - loss: 0.0058 - mse: 0.0116 - mae: 0.0804 - val_loss: 0.0040 - val_mse: 0.0080 - val_mae: 0.0689\n",
            "Epoch 89/100\n",
            "473/473 [==============================] - 4s 7ms/step - loss: 0.0058 - mse: 0.0116 - mae: 0.0804 - val_loss: 0.0040 - val_mse: 0.0080 - val_mae: 0.0690\n",
            "Epoch 90/100\n",
            "473/473 [==============================] - 4s 7ms/step - loss: 0.0058 - mse: 0.0116 - mae: 0.0804 - val_loss: 0.0040 - val_mse: 0.0080 - val_mae: 0.0689\n",
            "Epoch 91/100\n",
            "473/473 [==============================] - 4s 7ms/step - loss: 0.0058 - mse: 0.0116 - mae: 0.0804 - val_loss: 0.0040 - val_mse: 0.0080 - val_mae: 0.0689\n",
            "Epoch 92/100\n",
            "473/473 [==============================] - 4s 7ms/step - loss: 0.0058 - mse: 0.0116 - mae: 0.0803 - val_loss: 0.0040 - val_mse: 0.0080 - val_mae: 0.0689\n",
            "Epoch 93/100\n",
            "473/473 [==============================] - 4s 7ms/step - loss: 0.0058 - mse: 0.0116 - mae: 0.0803 - val_loss: 0.0040 - val_mse: 0.0080 - val_mae: 0.0690\n",
            "Epoch 94/100\n",
            "473/473 [==============================] - 4s 7ms/step - loss: 0.0058 - mse: 0.0116 - mae: 0.0803 - val_loss: 0.0040 - val_mse: 0.0080 - val_mae: 0.0689\n",
            "Epoch 95/100\n",
            "473/473 [==============================] - 4s 7ms/step - loss: 0.0058 - mse: 0.0116 - mae: 0.0803 - val_loss: 0.0040 - val_mse: 0.0080 - val_mae: 0.0689\n",
            "Epoch 96/100\n",
            "473/473 [==============================] - 4s 7ms/step - loss: 0.0058 - mse: 0.0116 - mae: 0.0803 - val_loss: 0.0040 - val_mse: 0.0080 - val_mae: 0.0689\n",
            "Epoch 97/100\n",
            "473/473 [==============================] - 4s 7ms/step - loss: 0.0058 - mse: 0.0116 - mae: 0.0803 - val_loss: 0.0040 - val_mse: 0.0080 - val_mae: 0.0689\n",
            "Epoch 98/100\n",
            "473/473 [==============================] - 4s 7ms/step - loss: 0.0058 - mse: 0.0116 - mae: 0.0803 - val_loss: 0.0040 - val_mse: 0.0080 - val_mae: 0.0689\n",
            "Epoch 99/100\n",
            "473/473 [==============================] - 4s 7ms/step - loss: 0.0058 - mse: 0.0116 - mae: 0.0803 - val_loss: 0.0040 - val_mse: 0.0080 - val_mae: 0.0689\n",
            "Epoch 100/100\n",
            "473/473 [==============================] - 4s 7ms/step - loss: 0.0058 - mse: 0.0116 - mae: 0.0803 - val_loss: 0.0040 - val_mse: 0.0080 - val_mae: 0.0689\n"
          ]
        }
      ]
    },
    {
      "cell_type": "code",
      "metadata": {
        "colab": {
          "base_uri": "https://localhost:8080/",
          "height": 298
        },
        "id": "JfRQdSfYW_dn",
        "outputId": "452dca37-827a-4d1d-d214-9e719bde952d"
      },
      "source": [
        "import matplotlib.pyplot as plt\n",
        "import numpy as np\n",
        "\n",
        "plt.style.use(\"ggplot\")\n",
        "plt.figure()\n",
        "plt.plot(np.arange(0, 100), history.history[\"loss\"], label=\"train_loss\")\n",
        "plt.plot(np.arange(0, 100), history.history[\"val_loss\"], label=\"val_loss\")\n",
        "plt.title(\"Loss Plot\")\n",
        "plt.xlabel(\"Epoch #\")\n",
        "plt.ylabel(\"Loss\")\n",
        "plt.legend()\n",
        "plt.show()"
      ],
      "execution_count": 22,
      "outputs": [
        {
          "output_type": "display_data",
          "data": {
            "image/png": "[encoded data removed]",
            "text/plain": [
              "<Figure size 432x288 with 1 Axes>"
            ]
          },
          "metadata": {}
        }
      ]
    },
    {
      "cell_type": "code",
      "metadata": {
        "colab": {
          "base_uri": "https://localhost:8080/",
          "height": 298
        },
        "id": "2LCufoHSXJpC",
        "outputId": "3c4cda86-097d-406c-9c1d-e3f017be015f"
      },
      "source": [
        "plt.style.use(\"ggplot\")\n",
        "plt.figure()\n",
        "plt.plot(np.arange(0, 100), history.history[\"mae\"], label=\"train_mae\")\n",
        "plt.plot(np.arange(0, 100), history.history[\"val_mae\"], label=\"val_mae\")\n",
        "plt.title(\"mae Plot\")\n",
        "plt.xlabel(\"Epoch #\")\n",
        "plt.ylabel(\"Loss\")\n",
        "plt.legend()\n",
        "plt.show()"
      ],
      "execution_count": 23,
      "outputs": [
        {
          "output_type": "display_data",
          "data": {
            "image/png": "[encoded data removed]",
            "text/plain": [
              "<Figure size 432x288 with 1 Axes>"
            ]
          },
          "metadata": {}
        }
      ]
    },
    {
      "cell_type": "code",
      "metadata": {
        "colab": {
          "base_uri": "https://localhost:8080/",
          "height": 298
        },
        "id": "TWtNHyXjXSof",
        "outputId": "381a775e-3ceb-4475-ac9e-51674ba40162"
      },
      "source": [
        "plt.style.use(\"ggplot\")\n",
        "plt.figure()\n",
        "plt.plot(np.arange(0, 100), history.history[\"mse\"], label=\"train_mse\")\n",
        "plt.plot(np.arange(0, 100), history.history[\"val_mse\"], label=\"val_mse\")\n",
        "plt.title(\"mse Plot\")\n",
        "plt.xlabel(\"Epoch #\")\n",
        "plt.ylabel(\"Loss\")\n",
        "plt.legend()\n",
        "plt.show()"
      ],
      "execution_count": 24,
      "outputs": [
        {
          "output_type": "display_data",
          "data": {
            "image/png": "[encoded data removed]",
            "text/plain": [
              "<Figure size 432x288 with 1 Axes>"
            ]
          },
          "metadata": {}
        }
      ]
    },
    {
      "cell_type": "code",
      "metadata": {
        "colab": {
          "base_uri": "https://localhost:8080/"
        },
        "id": "gdoUWCSVtTsA",
        "outputId": "f87958fe-24a1-4a6b-8e2b-4970a880ebaf"
      },
      "source": [
        "pm10.shape"
      ],
      "execution_count": 25,
      "outputs": [
        {
          "output_type": "execute_result",
          "data": {
            "text/plain": [
              "(4230, 1)"
            ]
          },
          "metadata": {},
          "execution_count": 25
        }
      ]
    },
    {
      "cell_type": "markdown",
      "metadata": {
        "id": "5ryoyQHnhsm1"
      },
      "source": [
        "#Variabel so2"
      ]
    },
    {
      "cell_type": "code",
      "metadata": {
        "id": "oTkLbGPkhsm_"
      },
      "source": [
        "# so2 = df['so2'].values\n",
        "so2 = df['so2'].values.reshape(-1, 1)\n",
        "so2 = min_max_scaler.fit_transform(so2)"
      ],
      "execution_count": 26,
      "outputs": []
    },
    {
      "cell_type": "code",
      "metadata": {
        "id": "uGpx-dERhsm_",
        "colab": {
          "base_uri": "https://localhost:8080/"
        },
        "outputId": "43c8aeed-e208-45e1-ce5b-2760113b45a2"
      },
      "source": [
        "minMAE = (so2.max() - so2.min()) * 0.1\n",
        "minMAE"
      ],
      "execution_count": 27,
      "outputs": [
        {
          "output_type": "execute_result",
          "data": {
            "text/plain": [
              "0.1"
            ]
          },
          "metadata": {},
          "execution_count": 27
        }
      ]
    },
    {
      "cell_type": "code",
      "metadata": {
        "id": "nWWuF8eITImn"
      },
      "source": [
        "split_time = int(0.9 * len(so2))\n",
        "time_train = time[:split_time]\n",
        "x_train = so2[:split_time]\n",
        "time_valid = time[split_time:]\n",
        "x_valid = so2[split_time:]"
      ],
      "execution_count": 28,
      "outputs": []
    },
    {
      "cell_type": "code",
      "metadata": {
        "colab": {
          "base_uri": "https://localhost:8080/"
        },
        "id": "v8XIi5R_TImo",
        "outputId": "144bec40-bb68-4ba5-95d6-849b7c02132d"
      },
      "source": [
        "train_set = windowed_dataset(x_train, window_size, batch_size, shuffle_buffer_size)\n",
        "print(train_set)\n",
        "print(x_train.shape)"
      ],
      "execution_count": 29,
      "outputs": [
        {
          "output_type": "stream",
          "name": "stdout",
          "text": [
            "<PrefetchDataset shapes: ((None, None, 1, 1), (None, None, 1, 1)), types: (tf.float64, tf.float64)>\n",
            "(3807, 1)\n"
          ]
        }
      ]
    },
    {
      "cell_type": "code",
      "metadata": {
        "colab": {
          "base_uri": "https://localhost:8080/"
        },
        "id": "NaDUrjxITImo",
        "outputId": "9f1b15f9-ca0a-4f70-e4f3-37a4d8b7228d"
      },
      "source": [
        "val_set = windowed_dataset(x_valid, window_size, batch_size, shuffle_buffer_size)\n",
        "print(val_set)\n",
        "print(x_valid.shape)"
      ],
      "execution_count": 30,
      "outputs": [
        {
          "output_type": "stream",
          "name": "stdout",
          "text": [
            "<PrefetchDataset shapes: ((None, None, 1, 1), (None, None, 1, 1)), types: (tf.float64, tf.float64)>\n",
            "(423, 1)\n"
          ]
        }
      ]
    },
    {
      "cell_type": "code",
      "metadata": {
        "id": "mbJQzUQxhsnB"
      },
      "source": [
        "model_so2 = tf.keras.models.Sequential([\n",
        "  tf.keras.layers.Dense(128, activation=\"relu\"),\n",
        "  tf.keras.layers.Dense(64, activation=\"relu\"),\n",
        "  tf.keras.layers.Dense(1),\n",
        "])"
      ],
      "execution_count": 31,
      "outputs": []
    },
    {
      "cell_type": "code",
      "metadata": {
        "id": "NYX1wrGWhsnB",
        "colab": {
          "base_uri": "https://localhost:8080/"
        },
        "outputId": "fa9efcfc-a8c0-40ef-8022-64a218a8d48c"
      },
      "source": [
        "optimizer = tf.keras.optimizers.SGD(learning_rate=1.0000e-04, momentum=0.9)\n",
        "model_so2.compile(loss=tf.keras.losses.Huber(),\n",
        "              optimizer=optimizer,\n",
        "              metrics=[\"mse\", \"mae\"])\n",
        "history = model_so2.fit(train_set, validation_data=(val_set), epochs=100)"
      ],
      "execution_count": 32,
      "outputs": [
        {
          "output_type": "stream",
          "name": "stdout",
          "text": [
            "Epoch 1/100\n",
            "473/473 [==============================] - 5s 8ms/step - loss: 0.0085 - mse: 0.0169 - mae: 0.1082 - val_loss: 0.0490 - val_mse: 0.0980 - val_mae: 0.2663\n",
            "Epoch 2/100\n",
            "473/473 [==============================] - 3s 7ms/step - loss: 0.0033 - mse: 0.0066 - mae: 0.0607 - val_loss: 0.0383 - val_mse: 0.0765 - val_mae: 0.2246\n",
            "Epoch 3/100\n",
            "473/473 [==============================] - 3s 7ms/step - loss: 0.0028 - mse: 0.0056 - mae: 0.0571 - val_loss: 0.0344 - val_mse: 0.0687 - val_mae: 0.2089\n",
            "Epoch 4/100\n",
            "473/473 [==============================] - 3s 7ms/step - loss: 0.0027 - mse: 0.0054 - mae: 0.0564 - val_loss: 0.0326 - val_mse: 0.0653 - val_mae: 0.2018\n",
            "Epoch 5/100\n",
            "473/473 [==============================] - 3s 7ms/step - loss: 0.0026 - mse: 0.0052 - mae: 0.0559 - val_loss: 0.0317 - val_mse: 0.0634 - val_mae: 0.1977\n",
            "Epoch 6/100\n",
            "473/473 [==============================] - 3s 7ms/step - loss: 0.0026 - mse: 0.0051 - mae: 0.0554 - val_loss: 0.0310 - val_mse: 0.0619 - val_mae: 0.1946\n",
            "Epoch 7/100\n",
            "473/473 [==============================] - 3s 7ms/step - loss: 0.0025 - mse: 0.0050 - mae: 0.0548 - val_loss: 0.0304 - val_mse: 0.0607 - val_mae: 0.1920\n",
            "Epoch 8/100\n",
            "473/473 [==============================] - 3s 7ms/step - loss: 0.0025 - mse: 0.0049 - mae: 0.0543 - val_loss: 0.0298 - val_mse: 0.0595 - val_mae: 0.1894\n",
            "Epoch 9/100\n",
            "473/473 [==============================] - 3s 7ms/step - loss: 0.0024 - mse: 0.0049 - mae: 0.0538 - val_loss: 0.0293 - val_mse: 0.0587 - val_mae: 0.1875\n",
            "Epoch 10/100\n",
            "473/473 [==============================] - 4s 7ms/step - loss: 0.0024 - mse: 0.0048 - mae: 0.0534 - val_loss: 0.0288 - val_mse: 0.0577 - val_mae: 0.1853\n",
            "Epoch 11/100\n",
            "473/473 [==============================] - 3s 7ms/step - loss: 0.0024 - mse: 0.0047 - mae: 0.0530 - val_loss: 0.0285 - val_mse: 0.0570 - val_mae: 0.1838\n",
            "Epoch 12/100\n",
            "473/473 [==============================] - 4s 7ms/step - loss: 0.0023 - mse: 0.0047 - mae: 0.0527 - val_loss: 0.0282 - val_mse: 0.0563 - val_mae: 0.1824\n",
            "Epoch 13/100\n",
            "473/473 [==============================] - 3s 7ms/step - loss: 0.0023 - mse: 0.0046 - mae: 0.0524 - val_loss: 0.0278 - val_mse: 0.0556 - val_mae: 0.1809\n",
            "Epoch 14/100\n",
            "473/473 [==============================] - 4s 7ms/step - loss: 0.0023 - mse: 0.0046 - mae: 0.0522 - val_loss: 0.0274 - val_mse: 0.0549 - val_mae: 0.1792\n",
            "Epoch 15/100\n",
            "473/473 [==============================] - 3s 7ms/step - loss: 0.0023 - mse: 0.0045 - mae: 0.0520 - val_loss: 0.0271 - val_mse: 0.0543 - val_mae: 0.1779\n",
            "Epoch 16/100\n",
            "473/473 [==============================] - 4s 7ms/step - loss: 0.0023 - mse: 0.0045 - mae: 0.0519 - val_loss: 0.0269 - val_mse: 0.0538 - val_mae: 0.1769\n",
            "Epoch 17/100\n",
            "473/473 [==============================] - 3s 7ms/step - loss: 0.0022 - mse: 0.0045 - mae: 0.0516 - val_loss: 0.0266 - val_mse: 0.0533 - val_mae: 0.1757\n",
            "Epoch 18/100\n",
            "473/473 [==============================] - 4s 7ms/step - loss: 0.0022 - mse: 0.0045 - mae: 0.0515 - val_loss: 0.0265 - val_mse: 0.0529 - val_mae: 0.1750\n",
            "Epoch 19/100\n",
            "473/473 [==============================] - 4s 7ms/step - loss: 0.0022 - mse: 0.0044 - mae: 0.0513 - val_loss: 0.0262 - val_mse: 0.0525 - val_mae: 0.1740\n",
            "Epoch 20/100\n",
            "473/473 [==============================] - 4s 7ms/step - loss: 0.0022 - mse: 0.0044 - mae: 0.0512 - val_loss: 0.0260 - val_mse: 0.0521 - val_mae: 0.1730\n",
            "Epoch 21/100\n",
            "473/473 [==============================] - 3s 7ms/step - loss: 0.0022 - mse: 0.0044 - mae: 0.0509 - val_loss: 0.0258 - val_mse: 0.0516 - val_mae: 0.1721\n",
            "Epoch 22/100\n",
            "473/473 [==============================] - 4s 7ms/step - loss: 0.0022 - mse: 0.0044 - mae: 0.0508 - val_loss: 0.0256 - val_mse: 0.0511 - val_mae: 0.1710\n",
            "Epoch 23/100\n",
            "473/473 [==============================] - 3s 7ms/step - loss: 0.0022 - mse: 0.0043 - mae: 0.0507 - val_loss: 0.0254 - val_mse: 0.0508 - val_mae: 0.1702\n",
            "Epoch 24/100\n",
            "473/473 [==============================] - 3s 7ms/step - loss: 0.0022 - mse: 0.0043 - mae: 0.0505 - val_loss: 0.0252 - val_mse: 0.0504 - val_mae: 0.1694\n",
            "Epoch 25/100\n",
            "473/473 [==============================] - 4s 7ms/step - loss: 0.0021 - mse: 0.0043 - mae: 0.0504 - val_loss: 0.0250 - val_mse: 0.0500 - val_mae: 0.1685\n",
            "Epoch 26/100\n",
            "473/473 [==============================] - 4s 7ms/step - loss: 0.0021 - mse: 0.0043 - mae: 0.0503 - val_loss: 0.0249 - val_mse: 0.0497 - val_mae: 0.1679\n",
            "Epoch 27/100\n",
            "473/473 [==============================] - 4s 7ms/step - loss: 0.0021 - mse: 0.0042 - mae: 0.0501 - val_loss: 0.0247 - val_mse: 0.0494 - val_mae: 0.1672\n",
            "Epoch 28/100\n",
            "473/473 [==============================] - 4s 7ms/step - loss: 0.0021 - mse: 0.0042 - mae: 0.0499 - val_loss: 0.0246 - val_mse: 0.0491 - val_mae: 0.1665\n",
            "Epoch 29/100\n",
            "473/473 [==============================] - 4s 7ms/step - loss: 0.0021 - mse: 0.0042 - mae: 0.0498 - val_loss: 0.0244 - val_mse: 0.0488 - val_mae: 0.1659\n",
            "Epoch 30/100\n",
            "473/473 [==============================] - 4s 7ms/step - loss: 0.0021 - mse: 0.0042 - mae: 0.0497 - val_loss: 0.0242 - val_mse: 0.0484 - val_mae: 0.1650\n",
            "Epoch 31/100\n",
            "473/473 [==============================] - 4s 7ms/step - loss: 0.0021 - mse: 0.0041 - mae: 0.0495 - val_loss: 0.0241 - val_mse: 0.0482 - val_mae: 0.1646\n",
            "Epoch 32/100\n",
            "473/473 [==============================] - 4s 7ms/step - loss: 0.0021 - mse: 0.0041 - mae: 0.0493 - val_loss: 0.0240 - val_mse: 0.0479 - val_mae: 0.1640\n",
            "Epoch 33/100\n",
            "473/473 [==============================] - 4s 7ms/step - loss: 0.0021 - mse: 0.0041 - mae: 0.0492 - val_loss: 0.0238 - val_mse: 0.0476 - val_mae: 0.1632\n",
            "Epoch 34/100\n",
            "473/473 [==============================] - 4s 7ms/step - loss: 0.0020 - mse: 0.0041 - mae: 0.0491 - val_loss: 0.0237 - val_mse: 0.0474 - val_mae: 0.1627\n",
            "Epoch 35/100\n",
            "473/473 [==============================] - 4s 7ms/step - loss: 0.0020 - mse: 0.0041 - mae: 0.0488 - val_loss: 0.0235 - val_mse: 0.0471 - val_mae: 0.1620\n",
            "Epoch 36/100\n",
            "473/473 [==============================] - 4s 7ms/step - loss: 0.0020 - mse: 0.0040 - mae: 0.0486 - val_loss: 0.0234 - val_mse: 0.0469 - val_mae: 0.1615\n",
            "Epoch 37/100\n",
            "473/473 [==============================] - 4s 7ms/step - loss: 0.0020 - mse: 0.0040 - mae: 0.0483 - val_loss: 0.0233 - val_mse: 0.0465 - val_mae: 0.1607\n",
            "Epoch 38/100\n",
            "473/473 [==============================] - 4s 7ms/step - loss: 0.0020 - mse: 0.0040 - mae: 0.0480 - val_loss: 0.0231 - val_mse: 0.0462 - val_mae: 0.1599\n",
            "Epoch 39/100\n",
            "473/473 [==============================] - 4s 7ms/step - loss: 0.0020 - mse: 0.0039 - mae: 0.0479 - val_loss: 0.0229 - val_mse: 0.0459 - val_mae: 0.1592\n",
            "Epoch 40/100\n",
            "473/473 [==============================] - 4s 7ms/step - loss: 0.0020 - mse: 0.0039 - mae: 0.0477 - val_loss: 0.0228 - val_mse: 0.0455 - val_mae: 0.1583\n",
            "Epoch 41/100\n",
            "473/473 [==============================] - 4s 7ms/step - loss: 0.0020 - mse: 0.0039 - mae: 0.0476 - val_loss: 0.0226 - val_mse: 0.0452 - val_mae: 0.1576\n",
            "Epoch 42/100\n",
            "473/473 [==============================] - 4s 7ms/step - loss: 0.0019 - mse: 0.0039 - mae: 0.0475 - val_loss: 0.0225 - val_mse: 0.0450 - val_mae: 0.1570\n",
            "Epoch 43/100\n",
            "473/473 [==============================] - 4s 7ms/step - loss: 0.0019 - mse: 0.0039 - mae: 0.0474 - val_loss: 0.0223 - val_mse: 0.0447 - val_mae: 0.1563\n",
            "Epoch 44/100\n",
            "473/473 [==============================] - 4s 7ms/step - loss: 0.0019 - mse: 0.0039 - mae: 0.0473 - val_loss: 0.0222 - val_mse: 0.0444 - val_mae: 0.1556\n",
            "Epoch 45/100\n",
            "473/473 [==============================] - 4s 7ms/step - loss: 0.0019 - mse: 0.0038 - mae: 0.0472 - val_loss: 0.0221 - val_mse: 0.0442 - val_mae: 0.1551\n",
            "Epoch 46/100\n",
            "473/473 [==============================] - 4s 7ms/step - loss: 0.0019 - mse: 0.0038 - mae: 0.0470 - val_loss: 0.0220 - val_mse: 0.0439 - val_mae: 0.1545\n",
            "Epoch 47/100\n",
            "473/473 [==============================] - 4s 7ms/step - loss: 0.0019 - mse: 0.0038 - mae: 0.0469 - val_loss: 0.0219 - val_mse: 0.0437 - val_mae: 0.1540\n",
            "Epoch 48/100\n",
            "473/473 [==============================] - 4s 7ms/step - loss: 0.0019 - mse: 0.0038 - mae: 0.0468 - val_loss: 0.0217 - val_mse: 0.0434 - val_mae: 0.1532\n",
            "Epoch 49/100\n",
            "473/473 [==============================] - 4s 7ms/step - loss: 0.0019 - mse: 0.0038 - mae: 0.0468 - val_loss: 0.0216 - val_mse: 0.0432 - val_mae: 0.1527\n",
            "Epoch 50/100\n",
            "473/473 [==============================] - 4s 7ms/step - loss: 0.0019 - mse: 0.0038 - mae: 0.0467 - val_loss: 0.0215 - val_mse: 0.0430 - val_mae: 0.1522\n",
            "Epoch 51/100\n",
            "473/473 [==============================] - 4s 7ms/step - loss: 0.0019 - mse: 0.0038 - mae: 0.0466 - val_loss: 0.0214 - val_mse: 0.0428 - val_mae: 0.1518\n",
            "Epoch 52/100\n",
            "473/473 [==============================] - 4s 7ms/step - loss: 0.0019 - mse: 0.0038 - mae: 0.0464 - val_loss: 0.0213 - val_mse: 0.0427 - val_mae: 0.1514\n",
            "Epoch 53/100\n",
            "473/473 [==============================] - 4s 7ms/step - loss: 0.0019 - mse: 0.0037 - mae: 0.0464 - val_loss: 0.0212 - val_mse: 0.0425 - val_mae: 0.1510\n",
            "Epoch 54/100\n",
            "473/473 [==============================] - 4s 7ms/step - loss: 0.0019 - mse: 0.0037 - mae: 0.0462 - val_loss: 0.0211 - val_mse: 0.0422 - val_mae: 0.1505\n",
            "Epoch 55/100\n",
            "473/473 [==============================] - 4s 7ms/step - loss: 0.0019 - mse: 0.0037 - mae: 0.0462 - val_loss: 0.0210 - val_mse: 0.0420 - val_mae: 0.1499\n",
            "Epoch 56/100\n",
            "473/473 [==============================] - 4s 7ms/step - loss: 0.0019 - mse: 0.0037 - mae: 0.0460 - val_loss: 0.0209 - val_mse: 0.0419 - val_mae: 0.1496\n",
            "Epoch 57/100\n",
            "473/473 [==============================] - 4s 7ms/step - loss: 0.0018 - mse: 0.0037 - mae: 0.0459 - val_loss: 0.0208 - val_mse: 0.0417 - val_mae: 0.1491\n",
            "Epoch 58/100\n",
            "473/473 [==============================] - 4s 7ms/step - loss: 0.0018 - mse: 0.0037 - mae: 0.0459 - val_loss: 0.0208 - val_mse: 0.0415 - val_mae: 0.1487\n",
            "Epoch 59/100\n",
            "473/473 [==============================] - 4s 7ms/step - loss: 0.0018 - mse: 0.0037 - mae: 0.0458 - val_loss: 0.0207 - val_mse: 0.0414 - val_mae: 0.1483\n",
            "Epoch 60/100\n",
            "473/473 [==============================] - 4s 7ms/step - loss: 0.0018 - mse: 0.0037 - mae: 0.0457 - val_loss: 0.0205 - val_mse: 0.0411 - val_mae: 0.1477\n",
            "Epoch 61/100\n",
            "473/473 [==============================] - 4s 7ms/step - loss: 0.0018 - mse: 0.0037 - mae: 0.0456 - val_loss: 0.0205 - val_mse: 0.0410 - val_mae: 0.1473\n",
            "Epoch 62/100\n",
            "473/473 [==============================] - 4s 7ms/step - loss: 0.0018 - mse: 0.0037 - mae: 0.0456 - val_loss: 0.0204 - val_mse: 0.0409 - val_mae: 0.1472\n",
            "Epoch 63/100\n",
            "473/473 [==============================] - 4s 7ms/step - loss: 0.0018 - mse: 0.0036 - mae: 0.0455 - val_loss: 0.0203 - val_mse: 0.0406 - val_mae: 0.1465\n",
            "Epoch 64/100\n",
            "473/473 [==============================] - 4s 7ms/step - loss: 0.0018 - mse: 0.0036 - mae: 0.0454 - val_loss: 0.0203 - val_mse: 0.0405 - val_mae: 0.1462\n",
            "Epoch 65/100\n",
            "473/473 [==============================] - 4s 7ms/step - loss: 0.0018 - mse: 0.0036 - mae: 0.0453 - val_loss: 0.0202 - val_mse: 0.0403 - val_mae: 0.1458\n",
            "Epoch 66/100\n",
            "473/473 [==============================] - 4s 7ms/step - loss: 0.0018 - mse: 0.0036 - mae: 0.0452 - val_loss: 0.0201 - val_mse: 0.0402 - val_mae: 0.1454\n",
            "Epoch 67/100\n",
            "473/473 [==============================] - 4s 7ms/step - loss: 0.0018 - mse: 0.0036 - mae: 0.0452 - val_loss: 0.0200 - val_mse: 0.0400 - val_mae: 0.1450\n",
            "Epoch 68/100\n",
            "473/473 [==============================] - 3s 7ms/step - loss: 0.0018 - mse: 0.0036 - mae: 0.0451 - val_loss: 0.0199 - val_mse: 0.0399 - val_mae: 0.1447\n",
            "Epoch 69/100\n",
            "473/473 [==============================] - 4s 7ms/step - loss: 0.0018 - mse: 0.0036 - mae: 0.0450 - val_loss: 0.0198 - val_mse: 0.0397 - val_mae: 0.1441\n",
            "Epoch 70/100\n",
            "473/473 [==============================] - 4s 7ms/step - loss: 0.0018 - mse: 0.0036 - mae: 0.0449 - val_loss: 0.0198 - val_mse: 0.0396 - val_mae: 0.1438\n",
            "Epoch 71/100\n",
            "473/473 [==============================] - 4s 7ms/step - loss: 0.0018 - mse: 0.0036 - mae: 0.0448 - val_loss: 0.0197 - val_mse: 0.0395 - val_mae: 0.1436\n",
            "Epoch 72/100\n",
            "473/473 [==============================] - 4s 7ms/step - loss: 0.0018 - mse: 0.0036 - mae: 0.0447 - val_loss: 0.0196 - val_mse: 0.0393 - val_mae: 0.1432\n",
            "Epoch 73/100\n",
            "473/473 [==============================] - 4s 7ms/step - loss: 0.0018 - mse: 0.0036 - mae: 0.0447 - val_loss: 0.0196 - val_mse: 0.0391 - val_mae: 0.1427\n",
            "Epoch 74/100\n",
            "473/473 [==============================] - 4s 7ms/step - loss: 0.0018 - mse: 0.0035 - mae: 0.0446 - val_loss: 0.0195 - val_mse: 0.0389 - val_mae: 0.1423\n",
            "Epoch 75/100\n",
            "473/473 [==============================] - 4s 7ms/step - loss: 0.0018 - mse: 0.0035 - mae: 0.0445 - val_loss: 0.0194 - val_mse: 0.0388 - val_mae: 0.1420\n",
            "Epoch 76/100\n",
            "473/473 [==============================] - 4s 7ms/step - loss: 0.0018 - mse: 0.0035 - mae: 0.0445 - val_loss: 0.0194 - val_mse: 0.0387 - val_mae: 0.1418\n",
            "Epoch 77/100\n",
            "473/473 [==============================] - 4s 7ms/step - loss: 0.0018 - mse: 0.0035 - mae: 0.0444 - val_loss: 0.0193 - val_mse: 0.0386 - val_mae: 0.1414\n",
            "Epoch 78/100\n",
            "473/473 [==============================] - 4s 7ms/step - loss: 0.0018 - mse: 0.0035 - mae: 0.0443 - val_loss: 0.0192 - val_mse: 0.0384 - val_mae: 0.1410\n",
            "Epoch 79/100\n",
            "473/473 [==============================] - 4s 7ms/step - loss: 0.0018 - mse: 0.0035 - mae: 0.0442 - val_loss: 0.0192 - val_mse: 0.0384 - val_mae: 0.1409\n",
            "Epoch 80/100\n",
            "473/473 [==============================] - 4s 7ms/step - loss: 0.0018 - mse: 0.0035 - mae: 0.0442 - val_loss: 0.0192 - val_mse: 0.0383 - val_mae: 0.1407\n",
            "Epoch 81/100\n",
            "473/473 [==============================] - 4s 7ms/step - loss: 0.0017 - mse: 0.0035 - mae: 0.0441 - val_loss: 0.0190 - val_mse: 0.0381 - val_mae: 0.1401\n",
            "Epoch 82/100\n",
            "473/473 [==============================] - 4s 7ms/step - loss: 0.0017 - mse: 0.0035 - mae: 0.0440 - val_loss: 0.0190 - val_mse: 0.0380 - val_mae: 0.1399\n",
            "Epoch 83/100\n",
            "473/473 [==============================] - 3s 7ms/step - loss: 0.0017 - mse: 0.0035 - mae: 0.0440 - val_loss: 0.0189 - val_mse: 0.0378 - val_mae: 0.1394\n",
            "Epoch 84/100\n",
            "473/473 [==============================] - 4s 7ms/step - loss: 0.0017 - mse: 0.0035 - mae: 0.0439 - val_loss: 0.0189 - val_mse: 0.0378 - val_mae: 0.1393\n",
            "Epoch 85/100\n",
            "473/473 [==============================] - 4s 7ms/step - loss: 0.0017 - mse: 0.0035 - mae: 0.0439 - val_loss: 0.0188 - val_mse: 0.0376 - val_mae: 0.1389\n",
            "Epoch 86/100\n",
            "473/473 [==============================] - 4s 7ms/step - loss: 0.0017 - mse: 0.0035 - mae: 0.0437 - val_loss: 0.0188 - val_mse: 0.0375 - val_mae: 0.1386\n",
            "Epoch 87/100\n",
            "473/473 [==============================] - 4s 7ms/step - loss: 0.0017 - mse: 0.0035 - mae: 0.0437 - val_loss: 0.0187 - val_mse: 0.0374 - val_mae: 0.1383\n",
            "Epoch 88/100\n",
            "473/473 [==============================] - 4s 7ms/step - loss: 0.0017 - mse: 0.0034 - mae: 0.0436 - val_loss: 0.0186 - val_mse: 0.0372 - val_mae: 0.1377\n",
            "Epoch 89/100\n",
            "473/473 [==============================] - 4s 7ms/step - loss: 0.0017 - mse: 0.0034 - mae: 0.0436 - val_loss: 0.0186 - val_mse: 0.0372 - val_mae: 0.1378\n",
            "Epoch 90/100\n",
            "473/473 [==============================] - 4s 7ms/step - loss: 0.0017 - mse: 0.0034 - mae: 0.0435 - val_loss: 0.0185 - val_mse: 0.0371 - val_mae: 0.1376\n",
            "Epoch 91/100\n",
            "473/473 [==============================] - 4s 7ms/step - loss: 0.0017 - mse: 0.0034 - mae: 0.0434 - val_loss: 0.0185 - val_mse: 0.0370 - val_mae: 0.1373\n",
            "Epoch 92/100\n",
            "473/473 [==============================] - 4s 7ms/step - loss: 0.0017 - mse: 0.0034 - mae: 0.0434 - val_loss: 0.0184 - val_mse: 0.0369 - val_mae: 0.1369\n",
            "Epoch 93/100\n",
            "473/473 [==============================] - 4s 7ms/step - loss: 0.0017 - mse: 0.0034 - mae: 0.0433 - val_loss: 0.0184 - val_mse: 0.0367 - val_mae: 0.1366\n",
            "Epoch 94/100\n",
            "473/473 [==============================] - 4s 7ms/step - loss: 0.0017 - mse: 0.0034 - mae: 0.0432 - val_loss: 0.0183 - val_mse: 0.0366 - val_mae: 0.1362\n",
            "Epoch 95/100\n",
            "473/473 [==============================] - 4s 7ms/step - loss: 0.0017 - mse: 0.0034 - mae: 0.0432 - val_loss: 0.0183 - val_mse: 0.0365 - val_mae: 0.1360\n",
            "Epoch 96/100\n",
            "473/473 [==============================] - 4s 7ms/step - loss: 0.0017 - mse: 0.0034 - mae: 0.0432 - val_loss: 0.0182 - val_mse: 0.0364 - val_mae: 0.1358\n",
            "Epoch 97/100\n",
            "473/473 [==============================] - 4s 7ms/step - loss: 0.0017 - mse: 0.0034 - mae: 0.0431 - val_loss: 0.0182 - val_mse: 0.0363 - val_mae: 0.1355\n",
            "Epoch 98/100\n",
            "473/473 [==============================] - 4s 7ms/step - loss: 0.0017 - mse: 0.0034 - mae: 0.0430 - val_loss: 0.0181 - val_mse: 0.0362 - val_mae: 0.1352\n",
            "Epoch 99/100\n",
            "473/473 [==============================] - 4s 7ms/step - loss: 0.0017 - mse: 0.0034 - mae: 0.0430 - val_loss: 0.0180 - val_mse: 0.0361 - val_mae: 0.1349\n",
            "Epoch 100/100\n",
            "473/473 [==============================] - 4s 7ms/step - loss: 0.0017 - mse: 0.0034 - mae: 0.0430 - val_loss: 0.0180 - val_mse: 0.0360 - val_mae: 0.1348\n"
          ]
        }
      ]
    },
    {
      "cell_type": "code",
      "metadata": {
        "id": "hoihtgHjhsnB",
        "colab": {
          "base_uri": "https://localhost:8080/",
          "height": 298
        },
        "outputId": "b0128506-b610-4b68-cdf7-2191212883ea"
      },
      "source": [
        "import matplotlib.pyplot as plt\n",
        "import numpy as np\n",
        "\n",
        "plt.style.use(\"ggplot\")\n",
        "plt.figure()\n",
        "plt.plot(np.arange(0, 100), history.history[\"loss\"], label=\"train_loss\")\n",
        "plt.plot(np.arange(0, 100), history.history[\"val_loss\"], label=\"val_loss\")\n",
        "plt.title(\"Loss Plot\")\n",
        "plt.xlabel(\"Epoch #\")\n",
        "plt.ylabel(\"Loss\")\n",
        "plt.legend()\n",
        "plt.show()"
      ],
      "execution_count": 33,
      "outputs": [
        {
          "output_type": "display_data",
          "data": {
            "image/png": "[encoded data removed]",
            "text/plain": [
              "<Figure size 432x288 with 1 Axes>"
            ]
          },
          "metadata": {}
        }
      ]
    },
    {
      "cell_type": "code",
      "metadata": {
        "id": "DeWAbqLAhsnB",
        "colab": {
          "base_uri": "https://localhost:8080/",
          "height": 298
        },
        "outputId": "ebf77ff6-3fac-440b-cee7-5d5148b45db9"
      },
      "source": [
        "plt.style.use(\"ggplot\")\n",
        "plt.figure()\n",
        "plt.plot(np.arange(0, 100), history.history[\"mae\"], label=\"train_mae\")\n",
        "plt.plot(np.arange(0, 100), history.history[\"val_mae\"], label=\"val_mae\")\n",
        "plt.title(\"mae Plot\")\n",
        "plt.xlabel(\"Epoch #\")\n",
        "plt.ylabel(\"Loss\")\n",
        "plt.legend()\n",
        "plt.show()"
      ],
      "execution_count": 34,
      "outputs": [
        {
          "output_type": "display_data",
          "data": {
            "image/png": "[encoded data removed]",
            "text/plain": [
              "<Figure size 432x288 with 1 Axes>"
            ]
          },
          "metadata": {}
        }
      ]
    },
    {
      "cell_type": "code",
      "metadata": {
        "id": "hsFkWcHGhsnB",
        "colab": {
          "base_uri": "https://localhost:8080/",
          "height": 298
        },
        "outputId": "7215b7cc-4196-4dd0-d371-ae49bff93bb7"
      },
      "source": [
        "plt.style.use(\"ggplot\")\n",
        "plt.figure()\n",
        "plt.plot(np.arange(0, 100), history.history[\"mse\"], label=\"train_mse\")\n",
        "plt.plot(np.arange(0, 100), history.history[\"val_mse\"], label=\"val_mse\")\n",
        "plt.title(\"mse Plot\")\n",
        "plt.xlabel(\"Epoch #\")\n",
        "plt.ylabel(\"Loss\")\n",
        "plt.legend()\n",
        "plt.show()"
      ],
      "execution_count": 35,
      "outputs": [
        {
          "output_type": "display_data",
          "data": {
            "image/png": "[encoded data removed]",
            "text/plain": [
              "<Figure size 432x288 with 1 Axes>"
            ]
          },
          "metadata": {}
        }
      ]
    },
    {
      "cell_type": "markdown",
      "metadata": {
        "id": "-U8mi2zmj-cW"
      },
      "source": [
        "#Variabel co"
      ]
    },
    {
      "cell_type": "code",
      "metadata": {
        "id": "9dvuDaO0j-cl"
      },
      "source": [
        "# co = df['co'].values\n",
        "co = df['co'].values.reshape(-1, 1)\n",
        "co = min_max_scaler.fit_transform(co)"
      ],
      "execution_count": 36,
      "outputs": []
    },
    {
      "cell_type": "code",
      "metadata": {
        "id": "BctlfKJ9j-cm",
        "colab": {
          "base_uri": "https://localhost:8080/"
        },
        "outputId": "6dcf9efb-1125-4c7f-dbf5-9fe7e0f54b79"
      },
      "source": [
        "minMAE = (co.max() - co.min()) * 0.1\n",
        "minMAE"
      ],
      "execution_count": 37,
      "outputs": [
        {
          "output_type": "execute_result",
          "data": {
            "text/plain": [
              "0.1"
            ]
          },
          "metadata": {},
          "execution_count": 37
        }
      ]
    },
    {
      "cell_type": "code",
      "metadata": {
        "id": "GJ7vXKAdVlxL"
      },
      "source": [
        "split_time = int(0.9 * len(co))\n",
        "time_train = time[:split_time]\n",
        "x_train = co[:split_time]\n",
        "time_valid = time[split_time:]\n",
        "x_valid = co[split_time:]"
      ],
      "execution_count": 38,
      "outputs": []
    },
    {
      "cell_type": "code",
      "metadata": {
        "colab": {
          "base_uri": "https://localhost:8080/"
        },
        "id": "qniKuDf-VlxM",
        "outputId": "46b6aac1-6ea5-4a56-c29d-e79ccde2d077"
      },
      "source": [
        "train_set = windowed_dataset(x_train, window_size, batch_size, shuffle_buffer_size)\n",
        "print(train_set)\n",
        "print(x_train.shape)"
      ],
      "execution_count": 39,
      "outputs": [
        {
          "output_type": "stream",
          "name": "stdout",
          "text": [
            "<PrefetchDataset shapes: ((None, None, 1, 1), (None, None, 1, 1)), types: (tf.float64, tf.float64)>\n",
            "(3807, 1)\n"
          ]
        }
      ]
    },
    {
      "cell_type": "code",
      "metadata": {
        "colab": {
          "base_uri": "https://localhost:8080/"
        },
        "id": "BjYz0mZnVlxM",
        "outputId": "3457e04d-8f50-42aa-cdd2-704cf25468cf"
      },
      "source": [
        "val_set = windowed_dataset(x_valid, window_size, batch_size, shuffle_buffer_size)\n",
        "print(val_set)\n",
        "print(x_valid.shape)"
      ],
      "execution_count": 40,
      "outputs": [
        {
          "output_type": "stream",
          "name": "stdout",
          "text": [
            "<PrefetchDataset shapes: ((None, None, 1, 1), (None, None, 1, 1)), types: (tf.float64, tf.float64)>\n",
            "(423, 1)\n"
          ]
        }
      ]
    },
    {
      "cell_type": "code",
      "metadata": {
        "id": "YvpV1fDhj-co"
      },
      "source": [
        "model_co = tf.keras.models.Sequential([\n",
        "  tf.keras.layers.Dense(128, activation=\"relu\"),\n",
        "  tf.keras.layers.Dense(64, activation=\"relu\"),\n",
        "  tf.keras.layers.Dense(1),\n",
        "])"
      ],
      "execution_count": 41,
      "outputs": []
    },
    {
      "cell_type": "code",
      "metadata": {
        "id": "wHCdj6Nwj-cp",
        "colab": {
          "base_uri": "https://localhost:8080/"
        },
        "outputId": "bb4d3577-6e79-4c36-cfd5-2e42fe8ccd0b"
      },
      "source": [
        "optimizer = tf.keras.optimizers.SGD(learning_rate=1.0000e-04, momentum=0.9)\n",
        "model_co.compile(loss=tf.keras.losses.Huber(),\n",
        "              optimizer=optimizer,\n",
        "              metrics=[\"mse\", \"mae\"])\n",
        "history = model_co.fit(train_set, validation_data=(val_set), epochs=100)"
      ],
      "execution_count": 42,
      "outputs": [
        {
          "output_type": "stream",
          "name": "stdout",
          "text": [
            "Epoch 1/100\n",
            "473/473 [==============================] - 5s 8ms/step - loss: 0.0121 - mse: 0.0243 - mae: 0.1210 - val_loss: 0.0027 - val_mse: 0.0054 - val_mae: 0.0611\n",
            "Epoch 2/100\n",
            "473/473 [==============================] - 3s 7ms/step - loss: 0.0053 - mse: 0.0106 - mae: 0.0727 - val_loss: 0.0035 - val_mse: 0.0070 - val_mae: 0.0740\n",
            "Epoch 3/100\n",
            "473/473 [==============================] - 3s 7ms/step - loss: 0.0046 - mse: 0.0092 - mae: 0.0688 - val_loss: 0.0040 - val_mse: 0.0080 - val_mae: 0.0794\n",
            "Epoch 4/100\n",
            "473/473 [==============================] - 3s 7ms/step - loss: 0.0045 - mse: 0.0090 - mae: 0.0691 - val_loss: 0.0041 - val_mse: 0.0082 - val_mae: 0.0804\n",
            "Epoch 5/100\n",
            "473/473 [==============================] - 3s 7ms/step - loss: 0.0045 - mse: 0.0089 - mae: 0.0693 - val_loss: 0.0042 - val_mse: 0.0083 - val_mae: 0.0808\n",
            "Epoch 6/100\n",
            "473/473 [==============================] - 4s 7ms/step - loss: 0.0045 - mse: 0.0089 - mae: 0.0693 - val_loss: 0.0041 - val_mse: 0.0082 - val_mae: 0.0802\n",
            "Epoch 7/100\n",
            "473/473 [==============================] - 3s 7ms/step - loss: 0.0044 - mse: 0.0089 - mae: 0.0692 - val_loss: 0.0041 - val_mse: 0.0082 - val_mae: 0.0800\n",
            "Epoch 8/100\n",
            "473/473 [==============================] - 3s 7ms/step - loss: 0.0044 - mse: 0.0089 - mae: 0.0691 - val_loss: 0.0041 - val_mse: 0.0082 - val_mae: 0.0798\n",
            "Epoch 9/100\n",
            "473/473 [==============================] - 3s 7ms/step - loss: 0.0044 - mse: 0.0089 - mae: 0.0691 - val_loss: 0.0040 - val_mse: 0.0081 - val_mae: 0.0794\n",
            "Epoch 10/100\n",
            "473/473 [==============================] - 3s 7ms/step - loss: 0.0044 - mse: 0.0089 - mae: 0.0691 - val_loss: 0.0040 - val_mse: 0.0080 - val_mae: 0.0791\n",
            "Epoch 11/100\n",
            "473/473 [==============================] - 3s 7ms/step - loss: 0.0044 - mse: 0.0089 - mae: 0.0691 - val_loss: 0.0040 - val_mse: 0.0080 - val_mae: 0.0789\n",
            "Epoch 12/100\n",
            "473/473 [==============================] - 3s 7ms/step - loss: 0.0044 - mse: 0.0089 - mae: 0.0690 - val_loss: 0.0040 - val_mse: 0.0080 - val_mae: 0.0788\n",
            "Epoch 13/100\n",
            "473/473 [==============================] - 4s 7ms/step - loss: 0.0044 - mse: 0.0088 - mae: 0.0691 - val_loss: 0.0039 - val_mse: 0.0079 - val_mae: 0.0783\n",
            "Epoch 14/100\n",
            "473/473 [==============================] - 4s 7ms/step - loss: 0.0044 - mse: 0.0088 - mae: 0.0689 - val_loss: 0.0039 - val_mse: 0.0079 - val_mae: 0.0782\n",
            "Epoch 15/100\n",
            "473/473 [==============================] - 4s 7ms/step - loss: 0.0044 - mse: 0.0088 - mae: 0.0688 - val_loss: 0.0039 - val_mse: 0.0079 - val_mae: 0.0782\n",
            "Epoch 16/100\n",
            "473/473 [==============================] - 3s 7ms/step - loss: 0.0044 - mse: 0.0088 - mae: 0.0689 - val_loss: 0.0039 - val_mse: 0.0079 - val_mae: 0.0783\n",
            "Epoch 17/100\n",
            "473/473 [==============================] - 3s 7ms/step - loss: 0.0044 - mse: 0.0088 - mae: 0.0689 - val_loss: 0.0039 - val_mse: 0.0078 - val_mae: 0.0779\n",
            "Epoch 18/100\n",
            "473/473 [==============================] - 3s 7ms/step - loss: 0.0044 - mse: 0.0088 - mae: 0.0689 - val_loss: 0.0039 - val_mse: 0.0078 - val_mae: 0.0778\n",
            "Epoch 19/100\n",
            "473/473 [==============================] - 4s 7ms/step - loss: 0.0044 - mse: 0.0088 - mae: 0.0688 - val_loss: 0.0039 - val_mse: 0.0077 - val_mae: 0.0774\n",
            "Epoch 20/100\n",
            "473/473 [==============================] - 3s 7ms/step - loss: 0.0044 - mse: 0.0088 - mae: 0.0688 - val_loss: 0.0039 - val_mse: 0.0077 - val_mae: 0.0774\n",
            "Epoch 21/100\n",
            "473/473 [==============================] - 4s 7ms/step - loss: 0.0044 - mse: 0.0088 - mae: 0.0688 - val_loss: 0.0038 - val_mse: 0.0077 - val_mae: 0.0771\n",
            "Epoch 22/100\n",
            "473/473 [==============================] - 4s 7ms/step - loss: 0.0044 - mse: 0.0088 - mae: 0.0688 - val_loss: 0.0038 - val_mse: 0.0076 - val_mae: 0.0769\n",
            "Epoch 23/100\n",
            "473/473 [==============================] - 4s 7ms/step - loss: 0.0044 - mse: 0.0088 - mae: 0.0688 - val_loss: 0.0038 - val_mse: 0.0076 - val_mae: 0.0768\n",
            "Epoch 24/100\n",
            "473/473 [==============================] - 3s 7ms/step - loss: 0.0044 - mse: 0.0088 - mae: 0.0688 - val_loss: 0.0038 - val_mse: 0.0076 - val_mae: 0.0767\n",
            "Epoch 25/100\n",
            "473/473 [==============================] - 3s 7ms/step - loss: 0.0044 - mse: 0.0088 - mae: 0.0687 - val_loss: 0.0038 - val_mse: 0.0076 - val_mae: 0.0767\n",
            "Epoch 26/100\n",
            "473/473 [==============================] - 3s 7ms/step - loss: 0.0044 - mse: 0.0088 - mae: 0.0688 - val_loss: 0.0038 - val_mse: 0.0076 - val_mae: 0.0765\n",
            "Epoch 27/100\n",
            "473/473 [==============================] - 4s 7ms/step - loss: 0.0044 - mse: 0.0088 - mae: 0.0687 - val_loss: 0.0038 - val_mse: 0.0076 - val_mae: 0.0764\n",
            "Epoch 28/100\n",
            "473/473 [==============================] - 3s 7ms/step - loss: 0.0044 - mse: 0.0088 - mae: 0.0687 - val_loss: 0.0038 - val_mse: 0.0076 - val_mae: 0.0764\n",
            "Epoch 29/100\n",
            "473/473 [==============================] - 3s 7ms/step - loss: 0.0044 - mse: 0.0088 - mae: 0.0687 - val_loss: 0.0038 - val_mse: 0.0075 - val_mae: 0.0761\n",
            "Epoch 30/100\n",
            "473/473 [==============================] - 4s 7ms/step - loss: 0.0044 - mse: 0.0088 - mae: 0.0687 - val_loss: 0.0037 - val_mse: 0.0075 - val_mae: 0.0760\n",
            "Epoch 31/100\n",
            "473/473 [==============================] - 4s 7ms/step - loss: 0.0044 - mse: 0.0088 - mae: 0.0687 - val_loss: 0.0037 - val_mse: 0.0075 - val_mae: 0.0760\n",
            "Epoch 32/100\n",
            "473/473 [==============================] - 3s 7ms/step - loss: 0.0044 - mse: 0.0088 - mae: 0.0687 - val_loss: 0.0037 - val_mse: 0.0074 - val_mae: 0.0756\n",
            "Epoch 33/100\n",
            "473/473 [==============================] - 4s 7ms/step - loss: 0.0044 - mse: 0.0088 - mae: 0.0686 - val_loss: 0.0037 - val_mse: 0.0074 - val_mae: 0.0756\n",
            "Epoch 34/100\n",
            "473/473 [==============================] - 3s 7ms/step - loss: 0.0044 - mse: 0.0088 - mae: 0.0687 - val_loss: 0.0037 - val_mse: 0.0074 - val_mae: 0.0755\n",
            "Epoch 35/100\n",
            "473/473 [==============================] - 4s 7ms/step - loss: 0.0044 - mse: 0.0088 - mae: 0.0686 - val_loss: 0.0037 - val_mse: 0.0074 - val_mae: 0.0754\n",
            "Epoch 36/100\n",
            "473/473 [==============================] - 4s 7ms/step - loss: 0.0044 - mse: 0.0088 - mae: 0.0686 - val_loss: 0.0037 - val_mse: 0.0074 - val_mae: 0.0755\n",
            "Epoch 37/100\n",
            "473/473 [==============================] - 4s 7ms/step - loss: 0.0044 - mse: 0.0088 - mae: 0.0686 - val_loss: 0.0037 - val_mse: 0.0074 - val_mae: 0.0754\n",
            "Epoch 38/100\n",
            "473/473 [==============================] - 3s 7ms/step - loss: 0.0044 - mse: 0.0088 - mae: 0.0686 - val_loss: 0.0037 - val_mse: 0.0073 - val_mae: 0.0751\n",
            "Epoch 39/100\n",
            "473/473 [==============================] - 3s 7ms/step - loss: 0.0044 - mse: 0.0088 - mae: 0.0687 - val_loss: 0.0037 - val_mse: 0.0073 - val_mae: 0.0751\n",
            "Epoch 40/100\n",
            "473/473 [==============================] - 4s 7ms/step - loss: 0.0044 - mse: 0.0088 - mae: 0.0686 - val_loss: 0.0036 - val_mse: 0.0073 - val_mae: 0.0749\n",
            "Epoch 41/100\n",
            "473/473 [==============================] - 4s 7ms/step - loss: 0.0044 - mse: 0.0088 - mae: 0.0686 - val_loss: 0.0037 - val_mse: 0.0073 - val_mae: 0.0750\n",
            "Epoch 42/100\n",
            "473/473 [==============================] - 4s 7ms/step - loss: 0.0044 - mse: 0.0088 - mae: 0.0686 - val_loss: 0.0037 - val_mse: 0.0073 - val_mae: 0.0750\n",
            "Epoch 43/100\n",
            "473/473 [==============================] - 4s 7ms/step - loss: 0.0044 - mse: 0.0088 - mae: 0.0686 - val_loss: 0.0036 - val_mse: 0.0073 - val_mae: 0.0747\n",
            "Epoch 44/100\n",
            "473/473 [==============================] - 4s 7ms/step - loss: 0.0044 - mse: 0.0088 - mae: 0.0685 - val_loss: 0.0037 - val_mse: 0.0073 - val_mae: 0.0748\n",
            "Epoch 45/100\n",
            "473/473 [==============================] - 4s 7ms/step - loss: 0.0044 - mse: 0.0088 - mae: 0.0685 - val_loss: 0.0036 - val_mse: 0.0073 - val_mae: 0.0747\n",
            "Epoch 46/100\n",
            "473/473 [==============================] - 3s 7ms/step - loss: 0.0044 - mse: 0.0088 - mae: 0.0686 - val_loss: 0.0036 - val_mse: 0.0072 - val_mae: 0.0745\n",
            "Epoch 47/100\n",
            "473/473 [==============================] - 4s 7ms/step - loss: 0.0044 - mse: 0.0088 - mae: 0.0686 - val_loss: 0.0036 - val_mse: 0.0072 - val_mae: 0.0745\n",
            "Epoch 48/100\n",
            "473/473 [==============================] - 3s 7ms/step - loss: 0.0044 - mse: 0.0088 - mae: 0.0685 - val_loss: 0.0036 - val_mse: 0.0072 - val_mae: 0.0745\n",
            "Epoch 49/100\n",
            "473/473 [==============================] - 4s 7ms/step - loss: 0.0044 - mse: 0.0088 - mae: 0.0686 - val_loss: 0.0036 - val_mse: 0.0072 - val_mae: 0.0742\n",
            "Epoch 50/100\n",
            "473/473 [==============================] - 4s 7ms/step - loss: 0.0044 - mse: 0.0088 - mae: 0.0685 - val_loss: 0.0036 - val_mse: 0.0072 - val_mae: 0.0741\n",
            "Epoch 51/100\n",
            "473/473 [==============================] - 4s 7ms/step - loss: 0.0044 - mse: 0.0088 - mae: 0.0686 - val_loss: 0.0036 - val_mse: 0.0072 - val_mae: 0.0740\n",
            "Epoch 52/100\n",
            "473/473 [==============================] - 3s 7ms/step - loss: 0.0044 - mse: 0.0088 - mae: 0.0685 - val_loss: 0.0036 - val_mse: 0.0071 - val_mae: 0.0739\n",
            "Epoch 53/100\n",
            "473/473 [==============================] - 4s 7ms/step - loss: 0.0044 - mse: 0.0088 - mae: 0.0685 - val_loss: 0.0036 - val_mse: 0.0072 - val_mae: 0.0741\n",
            "Epoch 54/100\n",
            "473/473 [==============================] - 4s 7ms/step - loss: 0.0044 - mse: 0.0088 - mae: 0.0685 - val_loss: 0.0036 - val_mse: 0.0072 - val_mae: 0.0741\n",
            "Epoch 55/100\n",
            "473/473 [==============================] - 4s 7ms/step - loss: 0.0044 - mse: 0.0088 - mae: 0.0685 - val_loss: 0.0036 - val_mse: 0.0071 - val_mae: 0.0738\n",
            "Epoch 56/100\n",
            "473/473 [==============================] - 4s 7ms/step - loss: 0.0044 - mse: 0.0088 - mae: 0.0685 - val_loss: 0.0036 - val_mse: 0.0071 - val_mae: 0.0739\n",
            "Epoch 57/100\n",
            "473/473 [==============================] - 3s 7ms/step - loss: 0.0044 - mse: 0.0088 - mae: 0.0685 - val_loss: 0.0036 - val_mse: 0.0071 - val_mae: 0.0738\n",
            "Epoch 58/100\n",
            "473/473 [==============================] - 4s 7ms/step - loss: 0.0044 - mse: 0.0088 - mae: 0.0686 - val_loss: 0.0036 - val_mse: 0.0071 - val_mae: 0.0737\n",
            "Epoch 59/100\n",
            "473/473 [==============================] - 4s 7ms/step - loss: 0.0044 - mse: 0.0088 - mae: 0.0685 - val_loss: 0.0036 - val_mse: 0.0071 - val_mae: 0.0737\n",
            "Epoch 60/100\n",
            "473/473 [==============================] - 3s 7ms/step - loss: 0.0044 - mse: 0.0088 - mae: 0.0685 - val_loss: 0.0035 - val_mse: 0.0071 - val_mae: 0.0736\n",
            "Epoch 61/100\n",
            "473/473 [==============================] - 4s 7ms/step - loss: 0.0044 - mse: 0.0088 - mae: 0.0684 - val_loss: 0.0036 - val_mse: 0.0071 - val_mae: 0.0738\n",
            "Epoch 62/100\n",
            "473/473 [==============================] - 4s 7ms/step - loss: 0.0044 - mse: 0.0088 - mae: 0.0685 - val_loss: 0.0036 - val_mse: 0.0071 - val_mae: 0.0737\n",
            "Epoch 63/100\n",
            "473/473 [==============================] - 4s 7ms/step - loss: 0.0044 - mse: 0.0088 - mae: 0.0684 - val_loss: 0.0036 - val_mse: 0.0071 - val_mae: 0.0737\n",
            "Epoch 64/100\n",
            "473/473 [==============================] - 4s 7ms/step - loss: 0.0044 - mse: 0.0088 - mae: 0.0684 - val_loss: 0.0036 - val_mse: 0.0071 - val_mae: 0.0736\n",
            "Epoch 65/100\n",
            "473/473 [==============================] - 4s 7ms/step - loss: 0.0044 - mse: 0.0088 - mae: 0.0685 - val_loss: 0.0036 - val_mse: 0.0071 - val_mae: 0.0736\n",
            "Epoch 66/100\n",
            "473/473 [==============================] - 4s 7ms/step - loss: 0.0044 - mse: 0.0088 - mae: 0.0685 - val_loss: 0.0035 - val_mse: 0.0071 - val_mae: 0.0734\n",
            "Epoch 67/100\n",
            "473/473 [==============================] - 4s 7ms/step - loss: 0.0044 - mse: 0.0088 - mae: 0.0684 - val_loss: 0.0035 - val_mse: 0.0071 - val_mae: 0.0735\n",
            "Epoch 68/100\n",
            "473/473 [==============================] - 4s 7ms/step - loss: 0.0044 - mse: 0.0088 - mae: 0.0684 - val_loss: 0.0036 - val_mse: 0.0071 - val_mae: 0.0736\n",
            "Epoch 69/100\n",
            "473/473 [==============================] - 4s 7ms/step - loss: 0.0044 - mse: 0.0088 - mae: 0.0685 - val_loss: 0.0035 - val_mse: 0.0071 - val_mae: 0.0733\n",
            "Epoch 70/100\n",
            "473/473 [==============================] - 4s 7ms/step - loss: 0.0044 - mse: 0.0088 - mae: 0.0685 - val_loss: 0.0035 - val_mse: 0.0071 - val_mae: 0.0733\n",
            "Epoch 71/100\n",
            "473/473 [==============================] - 4s 7ms/step - loss: 0.0044 - mse: 0.0088 - mae: 0.0685 - val_loss: 0.0035 - val_mse: 0.0070 - val_mae: 0.0732\n",
            "Epoch 72/100\n",
            "473/473 [==============================] - 4s 7ms/step - loss: 0.0044 - mse: 0.0088 - mae: 0.0685 - val_loss: 0.0035 - val_mse: 0.0070 - val_mae: 0.0731\n",
            "Epoch 73/100\n",
            "473/473 [==============================] - 4s 7ms/step - loss: 0.0044 - mse: 0.0088 - mae: 0.0684 - val_loss: 0.0035 - val_mse: 0.0070 - val_mae: 0.0731\n",
            "Epoch 74/100\n",
            "473/473 [==============================] - 4s 7ms/step - loss: 0.0044 - mse: 0.0088 - mae: 0.0685 - val_loss: 0.0035 - val_mse: 0.0070 - val_mae: 0.0730\n",
            "Epoch 75/100\n",
            "473/473 [==============================] - 4s 7ms/step - loss: 0.0044 - mse: 0.0088 - mae: 0.0683 - val_loss: 0.0035 - val_mse: 0.0070 - val_mae: 0.0732\n",
            "Epoch 76/100\n",
            "473/473 [==============================] - 4s 7ms/step - loss: 0.0044 - mse: 0.0088 - mae: 0.0684 - val_loss: 0.0035 - val_mse: 0.0070 - val_mae: 0.0732\n",
            "Epoch 77/100\n",
            "473/473 [==============================] - 4s 7ms/step - loss: 0.0044 - mse: 0.0088 - mae: 0.0685 - val_loss: 0.0035 - val_mse: 0.0070 - val_mae: 0.0729\n",
            "Epoch 78/100\n",
            "473/473 [==============================] - 4s 7ms/step - loss: 0.0044 - mse: 0.0088 - mae: 0.0685 - val_loss: 0.0035 - val_mse: 0.0070 - val_mae: 0.0731\n",
            "Epoch 79/100\n",
            "473/473 [==============================] - 4s 7ms/step - loss: 0.0044 - mse: 0.0088 - mae: 0.0684 - val_loss: 0.0035 - val_mse: 0.0070 - val_mae: 0.0731\n",
            "Epoch 80/100\n",
            "473/473 [==============================] - 3s 7ms/step - loss: 0.0044 - mse: 0.0088 - mae: 0.0685 - val_loss: 0.0035 - val_mse: 0.0070 - val_mae: 0.0727\n",
            "Epoch 81/100\n",
            "473/473 [==============================] - 4s 7ms/step - loss: 0.0044 - mse: 0.0088 - mae: 0.0684 - val_loss: 0.0035 - val_mse: 0.0070 - val_mae: 0.0730\n",
            "Epoch 82/100\n",
            "473/473 [==============================] - 4s 7ms/step - loss: 0.0044 - mse: 0.0087 - mae: 0.0685 - val_loss: 0.0035 - val_mse: 0.0070 - val_mae: 0.0728\n",
            "Epoch 83/100\n",
            "473/473 [==============================] - 4s 7ms/step - loss: 0.0044 - mse: 0.0088 - mae: 0.0684 - val_loss: 0.0035 - val_mse: 0.0070 - val_mae: 0.0728\n",
            "Epoch 84/100\n",
            "473/473 [==============================] - 4s 7ms/step - loss: 0.0044 - mse: 0.0087 - mae: 0.0684 - val_loss: 0.0035 - val_mse: 0.0070 - val_mae: 0.0727\n",
            "Epoch 85/100\n",
            "473/473 [==============================] - 4s 7ms/step - loss: 0.0044 - mse: 0.0088 - mae: 0.0684 - val_loss: 0.0035 - val_mse: 0.0070 - val_mae: 0.0727\n",
            "Epoch 86/100\n",
            "473/473 [==============================] - 4s 7ms/step - loss: 0.0044 - mse: 0.0088 - mae: 0.0684 - val_loss: 0.0035 - val_mse: 0.0070 - val_mae: 0.0727\n",
            "Epoch 87/100\n",
            "473/473 [==============================] - 4s 7ms/step - loss: 0.0044 - mse: 0.0088 - mae: 0.0684 - val_loss: 0.0035 - val_mse: 0.0070 - val_mae: 0.0729\n",
            "Epoch 88/100\n",
            "473/473 [==============================] - 4s 7ms/step - loss: 0.0044 - mse: 0.0087 - mae: 0.0684 - val_loss: 0.0035 - val_mse: 0.0070 - val_mae: 0.0729\n",
            "Epoch 89/100\n",
            "473/473 [==============================] - 4s 7ms/step - loss: 0.0044 - mse: 0.0087 - mae: 0.0684 - val_loss: 0.0035 - val_mse: 0.0070 - val_mae: 0.0728\n",
            "Epoch 90/100\n",
            "473/473 [==============================] - 4s 7ms/step - loss: 0.0044 - mse: 0.0087 - mae: 0.0684 - val_loss: 0.0035 - val_mse: 0.0070 - val_mae: 0.0727\n",
            "Epoch 91/100\n",
            "473/473 [==============================] - 4s 7ms/step - loss: 0.0044 - mse: 0.0087 - mae: 0.0684 - val_loss: 0.0035 - val_mse: 0.0069 - val_mae: 0.0725\n",
            "Epoch 92/100\n",
            "473/473 [==============================] - 4s 7ms/step - loss: 0.0044 - mse: 0.0087 - mae: 0.0684 - val_loss: 0.0035 - val_mse: 0.0069 - val_mae: 0.0726\n",
            "Epoch 93/100\n",
            "473/473 [==============================] - 4s 7ms/step - loss: 0.0044 - mse: 0.0087 - mae: 0.0684 - val_loss: 0.0034 - val_mse: 0.0069 - val_mae: 0.0724\n",
            "Epoch 94/100\n",
            "473/473 [==============================] - 4s 7ms/step - loss: 0.0044 - mse: 0.0087 - mae: 0.0684 - val_loss: 0.0035 - val_mse: 0.0069 - val_mae: 0.0726\n",
            "Epoch 95/100\n",
            "473/473 [==============================] - 4s 7ms/step - loss: 0.0044 - mse: 0.0088 - mae: 0.0683 - val_loss: 0.0035 - val_mse: 0.0070 - val_mae: 0.0726\n",
            "Epoch 96/100\n",
            "473/473 [==============================] - 3s 7ms/step - loss: 0.0044 - mse: 0.0087 - mae: 0.0684 - val_loss: 0.0035 - val_mse: 0.0070 - val_mae: 0.0727\n",
            "Epoch 97/100\n",
            "473/473 [==============================] - 4s 7ms/step - loss: 0.0044 - mse: 0.0087 - mae: 0.0685 - val_loss: 0.0035 - val_mse: 0.0069 - val_mae: 0.0726\n",
            "Epoch 98/100\n",
            "473/473 [==============================] - 4s 7ms/step - loss: 0.0044 - mse: 0.0087 - mae: 0.0684 - val_loss: 0.0035 - val_mse: 0.0069 - val_mae: 0.0726\n",
            "Epoch 99/100\n",
            "473/473 [==============================] - 4s 7ms/step - loss: 0.0044 - mse: 0.0087 - mae: 0.0684 - val_loss: 0.0035 - val_mse: 0.0070 - val_mae: 0.0727\n",
            "Epoch 100/100\n",
            "473/473 [==============================] - 4s 7ms/step - loss: 0.0044 - mse: 0.0087 - mae: 0.0684 - val_loss: 0.0035 - val_mse: 0.0069 - val_mae: 0.0725\n"
          ]
        }
      ]
    },
    {
      "cell_type": "code",
      "metadata": {
        "id": "pZ_44i0Uj-cq",
        "colab": {
          "base_uri": "https://localhost:8080/",
          "height": 298
        },
        "outputId": "376459b8-ab3b-4ff2-dec9-d0249fa936c1"
      },
      "source": [
        "import matplotlib.pyplot as plt\n",
        "import numpy as np\n",
        "\n",
        "plt.style.use(\"ggplot\")\n",
        "plt.figure()\n",
        "plt.plot(np.arange(0, 100), history.history[\"loss\"], label=\"train_loss\")\n",
        "plt.plot(np.arange(0, 100), history.history[\"val_loss\"], label=\"val_loss\")\n",
        "plt.title(\"Loss Plot\")\n",
        "plt.xlabel(\"Epoch #\")\n",
        "plt.ylabel(\"Loss\")\n",
        "plt.legend()\n",
        "plt.show()"
      ],
      "execution_count": 43,
      "outputs": [
        {
          "output_type": "display_data",
          "data": {
            "image/png": "[encoded data removed]",
            "text/plain": [
              "<Figure size 432x288 with 1 Axes>"
            ]
          },
          "metadata": {}
        }
      ]
    },
    {
      "cell_type": "code",
      "metadata": {
        "id": "RIl5LNB7j-cq",
        "colab": {
          "base_uri": "https://localhost:8080/",
          "height": 298
        },
        "outputId": "7ff7c8f8-9037-4b8c-a88d-113c4e8cb04d"
      },
      "source": [
        "plt.style.use(\"ggplot\")\n",
        "plt.figure()\n",
        "plt.plot(np.arange(0, 100), history.history[\"mae\"], label=\"train_mae\")\n",
        "plt.plot(np.arange(0, 100), history.history[\"val_mae\"], label=\"val_mae\")\n",
        "plt.title(\"mae Plot\")\n",
        "plt.xlabel(\"Epoch #\")\n",
        "plt.ylabel(\"Loss\")\n",
        "plt.legend()\n",
        "plt.show()"
      ],
      "execution_count": 44,
      "outputs": [
        {
          "output_type": "display_data",
          "data": {
            "image/png": "[encoded data removed]",
            "text/plain": [
              "<Figure size 432x288 with 1 Axes>"
            ]
          },
          "metadata": {}
        }
      ]
    },
    {
      "cell_type": "code",
      "metadata": {
        "id": "TjTQGyk3j-cq",
        "colab": {
          "base_uri": "https://localhost:8080/",
          "height": 298
        },
        "outputId": "106c1951-0515-4073-e0da-06a0d44836c9"
      },
      "source": [
        "plt.style.use(\"ggplot\")\n",
        "plt.figure()\n",
        "plt.plot(np.arange(0, 100), history.history[\"mse\"], label=\"train_mse\")\n",
        "plt.plot(np.arange(0, 100), history.history[\"val_mse\"], label=\"val_mse\")\n",
        "plt.title(\"mse Plot\")\n",
        "plt.xlabel(\"Epoch #\")\n",
        "plt.ylabel(\"Loss\")\n",
        "plt.legend()\n",
        "plt.show()"
      ],
      "execution_count": 45,
      "outputs": [
        {
          "output_type": "display_data",
          "data": {
            "image/png": "[encoded data removed]",
            "text/plain": [
              "<Figure size 432x288 with 1 Axes>"
            ]
          },
          "metadata": {}
        }
      ]
    },
    {
      "cell_type": "markdown",
      "metadata": {
        "id": "YRZSOEJtkPI6"
      },
      "source": [
        "#Variabel o3"
      ]
    },
    {
      "cell_type": "code",
      "metadata": {
        "id": "ztdOVHGMkPI8"
      },
      "source": [
        "# o3 = df['o3'].values\n",
        "o3 = df['o3'].values.reshape(-1, 1)\n",
        "o3 = min_max_scaler.fit_transform(o3)"
      ],
      "execution_count": 46,
      "outputs": []
    },
    {
      "cell_type": "code",
      "metadata": {
        "id": "3JT3jqwAkPI8",
        "colab": {
          "base_uri": "https://localhost:8080/"
        },
        "outputId": "0e9e01ff-e24d-4132-ff63-8b8df75ea878"
      },
      "source": [
        "minMAE = (o3.max() - o3.min()) * 0.1\n",
        "minMAE"
      ],
      "execution_count": 47,
      "outputs": [
        {
          "output_type": "execute_result",
          "data": {
            "text/plain": [
              "0.1"
            ]
          },
          "metadata": {},
          "execution_count": 47
        }
      ]
    },
    {
      "cell_type": "code",
      "metadata": {
        "id": "C9yktC88V3Bf"
      },
      "source": [
        "split_time = int(0.9 * len(o3))\n",
        "time_train = time[:split_time]\n",
        "x_train = o3[:split_time]\n",
        "time_valid = time[split_time:]\n",
        "x_valid = o3[split_time:]"
      ],
      "execution_count": 48,
      "outputs": []
    },
    {
      "cell_type": "code",
      "metadata": {
        "colab": {
          "base_uri": "https://localhost:8080/"
        },
        "id": "kH8SDO8BV3Bg",
        "outputId": "a578c1a3-2df8-4ce7-d32d-b2c249ef864b"
      },
      "source": [
        "train_set = windowed_dataset(x_train, window_size, batch_size, shuffle_buffer_size)\n",
        "print(train_set)\n",
        "print(x_train.shape)"
      ],
      "execution_count": 49,
      "outputs": [
        {
          "output_type": "stream",
          "name": "stdout",
          "text": [
            "<PrefetchDataset shapes: ((None, None, 1, 1), (None, None, 1, 1)), types: (tf.float64, tf.float64)>\n",
            "(3807, 1)\n"
          ]
        }
      ]
    },
    {
      "cell_type": "code",
      "metadata": {
        "colab": {
          "base_uri": "https://localhost:8080/"
        },
        "id": "kJE-ws1UV3Bg",
        "outputId": "547204c1-aba0-44a2-91da-707497dbe87a"
      },
      "source": [
        "val_set = windowed_dataset(x_valid, window_size, batch_size, shuffle_buffer_size)\n",
        "print(val_set)\n",
        "print(x_valid.shape)"
      ],
      "execution_count": 50,
      "outputs": [
        {
          "output_type": "stream",
          "name": "stdout",
          "text": [
            "<PrefetchDataset shapes: ((None, None, 1, 1), (None, None, 1, 1)), types: (tf.float64, tf.float64)>\n",
            "(423, 1)\n"
          ]
        }
      ]
    },
    {
      "cell_type": "code",
      "metadata": {
        "id": "vxooYJ45kPI-"
      },
      "source": [
        "model_o3 = tf.keras.models.Sequential([\n",
        "  tf.keras.layers.Dense(128, activation=\"relu\"),\n",
        "  tf.keras.layers.Dense(64, activation=\"relu\"),\n",
        "  tf.keras.layers.Dense(1),\n",
        "])"
      ],
      "execution_count": 51,
      "outputs": []
    },
    {
      "cell_type": "code",
      "metadata": {
        "id": "8C-8M6dqkPI-",
        "colab": {
          "base_uri": "https://localhost:8080/"
        },
        "outputId": "2ed054ba-0fab-42b7-882f-67fc0721315a"
      },
      "source": [
        "optimizer = tf.keras.optimizers.SGD(learning_rate=1.0000e-04, momentum=0.9)\n",
        "model_o3.compile(loss=tf.keras.losses.Huber(),\n",
        "              optimizer=optimizer,\n",
        "              metrics=[\"mse\", \"mae\"])\n",
        "history = model_o3.fit(train_set, validation_data=(val_set), epochs=100)"
      ],
      "execution_count": 52,
      "outputs": [
        {
          "output_type": "stream",
          "name": "stdout",
          "text": [
            "Epoch 1/100\n",
            "473/473 [==============================] - 4s 7ms/step - loss: 0.0290 - mse: 0.0580 - mae: 0.1793 - val_loss: 0.0035 - val_mse: 0.0069 - val_mae: 0.0641\n",
            "Epoch 2/100\n",
            "473/473 [==============================] - 3s 7ms/step - loss: 0.0128 - mse: 0.0255 - mae: 0.1118 - val_loss: 0.0053 - val_mse: 0.0105 - val_mae: 0.0908\n",
            "Epoch 3/100\n",
            "473/473 [==============================] - 3s 7ms/step - loss: 0.0110 - mse: 0.0220 - mae: 0.1098 - val_loss: 0.0065 - val_mse: 0.0129 - val_mae: 0.1022\n",
            "Epoch 4/100\n",
            "473/473 [==============================] - 3s 7ms/step - loss: 0.0107 - mse: 0.0213 - mae: 0.1110 - val_loss: 0.0068 - val_mse: 0.0136 - val_mae: 0.1050\n",
            "Epoch 5/100\n",
            "473/473 [==============================] - 3s 7ms/step - loss: 0.0105 - mse: 0.0210 - mae: 0.1110 - val_loss: 0.0068 - val_mse: 0.0136 - val_mae: 0.1051\n",
            "Epoch 6/100\n",
            "473/473 [==============================] - 3s 7ms/step - loss: 0.0104 - mse: 0.0208 - mae: 0.1107 - val_loss: 0.0067 - val_mse: 0.0134 - val_mae: 0.1042\n",
            "Epoch 7/100\n",
            "473/473 [==============================] - 3s 7ms/step - loss: 0.0103 - mse: 0.0206 - mae: 0.1103 - val_loss: 0.0066 - val_mse: 0.0132 - val_mae: 0.1035\n",
            "Epoch 8/100\n",
            "473/473 [==============================] - 3s 7ms/step - loss: 0.0102 - mse: 0.0205 - mae: 0.1098 - val_loss: 0.0066 - val_mse: 0.0131 - val_mae: 0.1029\n",
            "Epoch 9/100\n",
            "473/473 [==============================] - 3s 7ms/step - loss: 0.0102 - mse: 0.0203 - mae: 0.1096 - val_loss: 0.0064 - val_mse: 0.0129 - val_mae: 0.1019\n",
            "Epoch 10/100\n",
            "473/473 [==============================] - 3s 7ms/step - loss: 0.0101 - mse: 0.0202 - mae: 0.1092 - val_loss: 0.0064 - val_mse: 0.0127 - val_mae: 0.1013\n",
            "Epoch 11/100\n",
            "473/473 [==============================] - 3s 7ms/step - loss: 0.0100 - mse: 0.0201 - mae: 0.1089 - val_loss: 0.0063 - val_mse: 0.0125 - val_mae: 0.1003\n",
            "Epoch 12/100\n",
            "473/473 [==============================] - 3s 7ms/step - loss: 0.0100 - mse: 0.0200 - mae: 0.1085 - val_loss: 0.0062 - val_mse: 0.0124 - val_mae: 0.0997\n",
            "Epoch 13/100\n",
            "473/473 [==============================] - 3s 7ms/step - loss: 0.0100 - mse: 0.0199 - mae: 0.1084 - val_loss: 0.0061 - val_mse: 0.0123 - val_mae: 0.0991\n",
            "Epoch 14/100\n",
            "473/473 [==============================] - 4s 7ms/step - loss: 0.0099 - mse: 0.0198 - mae: 0.1080 - val_loss: 0.0061 - val_mse: 0.0123 - val_mae: 0.0991\n",
            "Epoch 15/100\n",
            "473/473 [==============================] - 4s 7ms/step - loss: 0.0099 - mse: 0.0197 - mae: 0.1080 - val_loss: 0.0060 - val_mse: 0.0121 - val_mae: 0.0981\n",
            "Epoch 16/100\n",
            "473/473 [==============================] - 3s 7ms/step - loss: 0.0098 - mse: 0.0197 - mae: 0.1078 - val_loss: 0.0059 - val_mse: 0.0119 - val_mae: 0.0973\n",
            "Epoch 17/100\n",
            "473/473 [==============================] - 3s 7ms/step - loss: 0.0098 - mse: 0.0196 - mae: 0.1075 - val_loss: 0.0059 - val_mse: 0.0117 - val_mae: 0.0965\n",
            "Epoch 18/100\n",
            "473/473 [==============================] - 3s 7ms/step - loss: 0.0098 - mse: 0.0196 - mae: 0.1072 - val_loss: 0.0059 - val_mse: 0.0117 - val_mae: 0.0963\n",
            "Epoch 19/100\n",
            "473/473 [==============================] - 3s 7ms/step - loss: 0.0097 - mse: 0.0195 - mae: 0.1072 - val_loss: 0.0058 - val_mse: 0.0116 - val_mae: 0.0957\n",
            "Epoch 20/100\n",
            "473/473 [==============================] - 3s 7ms/step - loss: 0.0097 - mse: 0.0194 - mae: 0.1070 - val_loss: 0.0058 - val_mse: 0.0115 - val_mae: 0.0953\n",
            "Epoch 21/100\n",
            "473/473 [==============================] - 3s 7ms/step - loss: 0.0097 - mse: 0.0194 - mae: 0.1068 - val_loss: 0.0058 - val_mse: 0.0115 - val_mae: 0.0955\n",
            "Epoch 22/100\n",
            "473/473 [==============================] - 3s 7ms/step - loss: 0.0097 - mse: 0.0193 - mae: 0.1068 - val_loss: 0.0056 - val_mse: 0.0113 - val_mae: 0.0942\n",
            "Epoch 23/100\n",
            "473/473 [==============================] - 4s 7ms/step - loss: 0.0096 - mse: 0.0193 - mae: 0.1065 - val_loss: 0.0057 - val_mse: 0.0113 - val_mae: 0.0944\n",
            "Epoch 24/100\n",
            "473/473 [==============================] - 3s 7ms/step - loss: 0.0096 - mse: 0.0192 - mae: 0.1065 - val_loss: 0.0056 - val_mse: 0.0111 - val_mae: 0.0934\n",
            "Epoch 25/100\n",
            "473/473 [==============================] - 3s 7ms/step - loss: 0.0096 - mse: 0.0192 - mae: 0.1061 - val_loss: 0.0056 - val_mse: 0.0111 - val_mae: 0.0932\n",
            "Epoch 26/100\n",
            "473/473 [==============================] - 3s 7ms/step - loss: 0.0096 - mse: 0.0192 - mae: 0.1062 - val_loss: 0.0055 - val_mse: 0.0110 - val_mae: 0.0929\n",
            "Epoch 27/100\n",
            "473/473 [==============================] - 3s 7ms/step - loss: 0.0096 - mse: 0.0191 - mae: 0.1058 - val_loss: 0.0055 - val_mse: 0.0109 - val_mae: 0.0923\n",
            "Epoch 28/100\n",
            "473/473 [==============================] - 3s 7ms/step - loss: 0.0095 - mse: 0.0191 - mae: 0.1060 - val_loss: 0.0054 - val_mse: 0.0108 - val_mae: 0.0917\n",
            "Epoch 29/100\n",
            "473/473 [==============================] - 3s 7ms/step - loss: 0.0095 - mse: 0.0191 - mae: 0.1057 - val_loss: 0.0054 - val_mse: 0.0108 - val_mae: 0.0915\n",
            "Epoch 30/100\n",
            "473/473 [==============================] - 3s 7ms/step - loss: 0.0095 - mse: 0.0190 - mae: 0.1055 - val_loss: 0.0053 - val_mse: 0.0107 - val_mae: 0.0910\n",
            "Epoch 31/100\n",
            "473/473 [==============================] - 3s 7ms/step - loss: 0.0095 - mse: 0.0190 - mae: 0.1055 - val_loss: 0.0053 - val_mse: 0.0106 - val_mae: 0.0907\n",
            "Epoch 32/100\n",
            "473/473 [==============================] - 3s 7ms/step - loss: 0.0095 - mse: 0.0190 - mae: 0.1053 - val_loss: 0.0053 - val_mse: 0.0107 - val_mae: 0.0908\n",
            "Epoch 33/100\n",
            "473/473 [==============================] - 3s 7ms/step - loss: 0.0095 - mse: 0.0189 - mae: 0.1055 - val_loss: 0.0053 - val_mse: 0.0105 - val_mae: 0.0899\n",
            "Epoch 34/100\n",
            "473/473 [==============================] - 3s 7ms/step - loss: 0.0094 - mse: 0.0189 - mae: 0.1051 - val_loss: 0.0052 - val_mse: 0.0104 - val_mae: 0.0896\n",
            "Epoch 35/100\n",
            "473/473 [==============================] - 4s 7ms/step - loss: 0.0094 - mse: 0.0189 - mae: 0.1051 - val_loss: 0.0052 - val_mse: 0.0104 - val_mae: 0.0892\n",
            "Epoch 36/100\n",
            "473/473 [==============================] - 3s 7ms/step - loss: 0.0094 - mse: 0.0188 - mae: 0.1050 - val_loss: 0.0052 - val_mse: 0.0103 - val_mae: 0.0889\n",
            "Epoch 37/100\n",
            "473/473 [==============================] - 4s 7ms/step - loss: 0.0094 - mse: 0.0188 - mae: 0.1050 - val_loss: 0.0051 - val_mse: 0.0102 - val_mae: 0.0882\n",
            "Epoch 38/100\n",
            "473/473 [==============================] - 3s 7ms/step - loss: 0.0094 - mse: 0.0188 - mae: 0.1049 - val_loss: 0.0051 - val_mse: 0.0102 - val_mae: 0.0882\n",
            "Epoch 39/100\n",
            "473/473 [==============================] - 3s 7ms/step - loss: 0.0094 - mse: 0.0188 - mae: 0.1049 - val_loss: 0.0051 - val_mse: 0.0101 - val_mae: 0.0876\n",
            "Epoch 40/100\n",
            "473/473 [==============================] - 3s 7ms/step - loss: 0.0094 - mse: 0.0188 - mae: 0.1047 - val_loss: 0.0050 - val_mse: 0.0100 - val_mae: 0.0873\n",
            "Epoch 41/100\n",
            "473/473 [==============================] - 4s 7ms/step - loss: 0.0094 - mse: 0.0187 - mae: 0.1046 - val_loss: 0.0050 - val_mse: 0.0101 - val_mae: 0.0874\n",
            "Epoch 42/100\n",
            "473/473 [==============================] - 3s 7ms/step - loss: 0.0094 - mse: 0.0187 - mae: 0.1046 - val_loss: 0.0050 - val_mse: 0.0100 - val_mae: 0.0872\n",
            "Epoch 43/100\n",
            "473/473 [==============================] - 3s 7ms/step - loss: 0.0094 - mse: 0.0187 - mae: 0.1045 - val_loss: 0.0050 - val_mse: 0.0100 - val_mae: 0.0868\n",
            "Epoch 44/100\n",
            "473/473 [==============================] - 4s 7ms/step - loss: 0.0093 - mse: 0.0187 - mae: 0.1045 - val_loss: 0.0049 - val_mse: 0.0099 - val_mae: 0.0862\n",
            "Epoch 45/100\n",
            "473/473 [==============================] - 3s 7ms/step - loss: 0.0093 - mse: 0.0187 - mae: 0.1042 - val_loss: 0.0049 - val_mse: 0.0099 - val_mae: 0.0863\n",
            "Epoch 46/100\n",
            "473/473 [==============================] - 3s 7ms/step - loss: 0.0093 - mse: 0.0187 - mae: 0.1044 - val_loss: 0.0049 - val_mse: 0.0099 - val_mae: 0.0861\n",
            "Epoch 47/100\n",
            "473/473 [==============================] - 4s 7ms/step - loss: 0.0093 - mse: 0.0187 - mae: 0.1043 - val_loss: 0.0049 - val_mse: 0.0097 - val_mae: 0.0854\n",
            "Epoch 48/100\n",
            "473/473 [==============================] - 4s 7ms/step - loss: 0.0093 - mse: 0.0186 - mae: 0.1042 - val_loss: 0.0049 - val_mse: 0.0098 - val_mae: 0.0855\n",
            "Epoch 49/100\n",
            "473/473 [==============================] - 3s 7ms/step - loss: 0.0093 - mse: 0.0186 - mae: 0.1042 - val_loss: 0.0049 - val_mse: 0.0097 - val_mae: 0.0852\n",
            "Epoch 50/100\n",
            "473/473 [==============================] - 3s 7ms/step - loss: 0.0093 - mse: 0.0186 - mae: 0.1041 - val_loss: 0.0048 - val_mse: 0.0097 - val_mae: 0.0849\n",
            "Epoch 51/100\n",
            "473/473 [==============================] - 3s 7ms/step - loss: 0.0093 - mse: 0.0186 - mae: 0.1042 - val_loss: 0.0048 - val_mse: 0.0096 - val_mae: 0.0843\n",
            "Epoch 52/100\n",
            "473/473 [==============================] - 3s 7ms/step - loss: 0.0093 - mse: 0.0186 - mae: 0.1040 - val_loss: 0.0048 - val_mse: 0.0096 - val_mae: 0.0844\n",
            "Epoch 53/100\n",
            "473/473 [==============================] - 3s 7ms/step - loss: 0.0093 - mse: 0.0186 - mae: 0.1039 - val_loss: 0.0048 - val_mse: 0.0096 - val_mae: 0.0843\n",
            "Epoch 54/100\n",
            "473/473 [==============================] - 3s 7ms/step - loss: 0.0093 - mse: 0.0186 - mae: 0.1039 - val_loss: 0.0048 - val_mse: 0.0096 - val_mae: 0.0842\n",
            "Epoch 55/100\n",
            "473/473 [==============================] - 3s 7ms/step - loss: 0.0093 - mse: 0.0186 - mae: 0.1039 - val_loss: 0.0048 - val_mse: 0.0095 - val_mae: 0.0839\n",
            "Epoch 56/100\n",
            "473/473 [==============================] - 3s 7ms/step - loss: 0.0093 - mse: 0.0186 - mae: 0.1038 - val_loss: 0.0048 - val_mse: 0.0096 - val_mae: 0.0844\n",
            "Epoch 57/100\n",
            "473/473 [==============================] - 4s 7ms/step - loss: 0.0093 - mse: 0.0186 - mae: 0.1039 - val_loss: 0.0048 - val_mse: 0.0095 - val_mae: 0.0841\n",
            "Epoch 58/100\n",
            "473/473 [==============================] - 4s 7ms/step - loss: 0.0093 - mse: 0.0185 - mae: 0.1038 - val_loss: 0.0047 - val_mse: 0.0095 - val_mae: 0.0838\n",
            "Epoch 59/100\n",
            "473/473 [==============================] - 4s 7ms/step - loss: 0.0093 - mse: 0.0185 - mae: 0.1038 - val_loss: 0.0047 - val_mse: 0.0094 - val_mae: 0.0834\n",
            "Epoch 60/100\n",
            "473/473 [==============================] - 4s 7ms/step - loss: 0.0093 - mse: 0.0185 - mae: 0.1037 - val_loss: 0.0047 - val_mse: 0.0095 - val_mae: 0.0837\n",
            "Epoch 61/100\n",
            "473/473 [==============================] - 3s 7ms/step - loss: 0.0093 - mse: 0.0185 - mae: 0.1039 - val_loss: 0.0047 - val_mse: 0.0093 - val_mae: 0.0829\n",
            "Epoch 62/100\n",
            "473/473 [==============================] - 4s 7ms/step - loss: 0.0093 - mse: 0.0185 - mae: 0.1037 - val_loss: 0.0047 - val_mse: 0.0093 - val_mae: 0.0828\n",
            "Epoch 63/100\n",
            "473/473 [==============================] - 4s 7ms/step - loss: 0.0093 - mse: 0.0185 - mae: 0.1037 - val_loss: 0.0047 - val_mse: 0.0093 - val_mae: 0.0826\n",
            "Epoch 64/100\n",
            "473/473 [==============================] - 4s 7ms/step - loss: 0.0093 - mse: 0.0185 - mae: 0.1036 - val_loss: 0.0047 - val_mse: 0.0094 - val_mae: 0.0829\n",
            "Epoch 65/100\n",
            "473/473 [==============================] - 4s 7ms/step - loss: 0.0093 - mse: 0.0185 - mae: 0.1036 - val_loss: 0.0047 - val_mse: 0.0094 - val_mae: 0.0828\n",
            "Epoch 66/100\n",
            "473/473 [==============================] - 4s 7ms/step - loss: 0.0093 - mse: 0.0185 - mae: 0.1036 - val_loss: 0.0047 - val_mse: 0.0094 - val_mae: 0.0829\n",
            "Epoch 67/100\n",
            "473/473 [==============================] - 4s 7ms/step - loss: 0.0092 - mse: 0.0185 - mae: 0.1036 - val_loss: 0.0047 - val_mse: 0.0093 - val_mae: 0.0827\n",
            "Epoch 68/100\n",
            "473/473 [==============================] - 4s 7ms/step - loss: 0.0092 - mse: 0.0185 - mae: 0.1036 - val_loss: 0.0046 - val_mse: 0.0093 - val_mae: 0.0825\n",
            "Epoch 69/100\n",
            "473/473 [==============================] - 4s 7ms/step - loss: 0.0092 - mse: 0.0185 - mae: 0.1036 - val_loss: 0.0046 - val_mse: 0.0093 - val_mae: 0.0822\n",
            "Epoch 70/100\n",
            "473/473 [==============================] - 4s 7ms/step - loss: 0.0092 - mse: 0.0185 - mae: 0.1035 - val_loss: 0.0046 - val_mse: 0.0092 - val_mae: 0.0820\n",
            "Epoch 71/100\n",
            "473/473 [==============================] - 3s 7ms/step - loss: 0.0092 - mse: 0.0185 - mae: 0.1035 - val_loss: 0.0046 - val_mse: 0.0093 - val_mae: 0.0822\n",
            "Epoch 72/100\n",
            "473/473 [==============================] - 4s 7ms/step - loss: 0.0092 - mse: 0.0185 - mae: 0.1035 - val_loss: 0.0046 - val_mse: 0.0092 - val_mae: 0.0820\n",
            "Epoch 73/100\n",
            "473/473 [==============================] - 4s 7ms/step - loss: 0.0092 - mse: 0.0185 - mae: 0.1034 - val_loss: 0.0046 - val_mse: 0.0092 - val_mae: 0.0820\n",
            "Epoch 74/100\n",
            "473/473 [==============================] - 4s 7ms/step - loss: 0.0092 - mse: 0.0185 - mae: 0.1036 - val_loss: 0.0046 - val_mse: 0.0091 - val_mae: 0.0815\n",
            "Epoch 75/100\n",
            "473/473 [==============================] - 4s 7ms/step - loss: 0.0092 - mse: 0.0185 - mae: 0.1033 - val_loss: 0.0046 - val_mse: 0.0092 - val_mae: 0.0816\n",
            "Epoch 76/100\n",
            "473/473 [==============================] - 3s 7ms/step - loss: 0.0092 - mse: 0.0185 - mae: 0.1034 - val_loss: 0.0046 - val_mse: 0.0091 - val_mae: 0.0814\n",
            "Epoch 77/100\n",
            "473/473 [==============================] - 4s 7ms/step - loss: 0.0092 - mse: 0.0185 - mae: 0.1033 - val_loss: 0.0046 - val_mse: 0.0091 - val_mae: 0.0814\n",
            "Epoch 78/100\n",
            "473/473 [==============================] - 4s 7ms/step - loss: 0.0092 - mse: 0.0185 - mae: 0.1034 - val_loss: 0.0046 - val_mse: 0.0091 - val_mae: 0.0813\n",
            "Epoch 79/100\n",
            "473/473 [==============================] - 4s 7ms/step - loss: 0.0092 - mse: 0.0185 - mae: 0.1032 - val_loss: 0.0046 - val_mse: 0.0091 - val_mae: 0.0812\n",
            "Epoch 80/100\n",
            "473/473 [==============================] - 4s 7ms/step - loss: 0.0092 - mse: 0.0185 - mae: 0.1033 - val_loss: 0.0046 - val_mse: 0.0092 - val_mae: 0.0815\n",
            "Epoch 81/100\n",
            "473/473 [==============================] - 4s 7ms/step - loss: 0.0092 - mse: 0.0185 - mae: 0.1034 - val_loss: 0.0046 - val_mse: 0.0091 - val_mae: 0.0812\n",
            "Epoch 82/100\n",
            "473/473 [==============================] - 4s 7ms/step - loss: 0.0092 - mse: 0.0185 - mae: 0.1034 - val_loss: 0.0045 - val_mse: 0.0091 - val_mae: 0.0809\n",
            "Epoch 83/100\n",
            "473/473 [==============================] - 4s 7ms/step - loss: 0.0092 - mse: 0.0184 - mae: 0.1033 - val_loss: 0.0045 - val_mse: 0.0091 - val_mae: 0.0808\n",
            "Epoch 84/100\n",
            "473/473 [==============================] - 4s 7ms/step - loss: 0.0092 - mse: 0.0184 - mae: 0.1033 - val_loss: 0.0045 - val_mse: 0.0091 - val_mae: 0.0809\n",
            "Epoch 85/100\n",
            "473/473 [==============================] - 4s 7ms/step - loss: 0.0092 - mse: 0.0184 - mae: 0.1033 - val_loss: 0.0045 - val_mse: 0.0090 - val_mae: 0.0808\n",
            "Epoch 86/100\n",
            "473/473 [==============================] - 4s 7ms/step - loss: 0.0092 - mse: 0.0184 - mae: 0.1033 - val_loss: 0.0045 - val_mse: 0.0091 - val_mae: 0.0809\n",
            "Epoch 87/100\n",
            "473/473 [==============================] - 4s 7ms/step - loss: 0.0092 - mse: 0.0184 - mae: 0.1033 - val_loss: 0.0045 - val_mse: 0.0090 - val_mae: 0.0804\n",
            "Epoch 88/100\n",
            "473/473 [==============================] - 4s 7ms/step - loss: 0.0092 - mse: 0.0184 - mae: 0.1032 - val_loss: 0.0045 - val_mse: 0.0090 - val_mae: 0.0803\n",
            "Epoch 89/100\n",
            "473/473 [==============================] - 4s 7ms/step - loss: 0.0092 - mse: 0.0184 - mae: 0.1032 - val_loss: 0.0045 - val_mse: 0.0090 - val_mae: 0.0807\n",
            "Epoch 90/100\n",
            "473/473 [==============================] - 4s 7ms/step - loss: 0.0092 - mse: 0.0184 - mae: 0.1032 - val_loss: 0.0045 - val_mse: 0.0090 - val_mae: 0.0806\n",
            "Epoch 91/100\n",
            "473/473 [==============================] - 4s 7ms/step - loss: 0.0092 - mse: 0.0184 - mae: 0.1033 - val_loss: 0.0045 - val_mse: 0.0090 - val_mae: 0.0802\n",
            "Epoch 92/100\n",
            "473/473 [==============================] - 4s 7ms/step - loss: 0.0092 - mse: 0.0184 - mae: 0.1031 - val_loss: 0.0045 - val_mse: 0.0090 - val_mae: 0.0801\n",
            "Epoch 93/100\n",
            "473/473 [==============================] - 4s 7ms/step - loss: 0.0092 - mse: 0.0184 - mae: 0.1031 - val_loss: 0.0045 - val_mse: 0.0090 - val_mae: 0.0804\n",
            "Epoch 94/100\n",
            "473/473 [==============================] - 4s 7ms/step - loss: 0.0092 - mse: 0.0184 - mae: 0.1031 - val_loss: 0.0045 - val_mse: 0.0090 - val_mae: 0.0806\n",
            "Epoch 95/100\n",
            "473/473 [==============================] - 4s 7ms/step - loss: 0.0092 - mse: 0.0184 - mae: 0.1032 - val_loss: 0.0045 - val_mse: 0.0090 - val_mae: 0.0807\n",
            "Epoch 96/100\n",
            "473/473 [==============================] - 4s 7ms/step - loss: 0.0092 - mse: 0.0184 - mae: 0.1032 - val_loss: 0.0045 - val_mse: 0.0090 - val_mae: 0.0803\n",
            "Epoch 97/100\n",
            "473/473 [==============================] - 4s 7ms/step - loss: 0.0092 - mse: 0.0184 - mae: 0.1031 - val_loss: 0.0045 - val_mse: 0.0090 - val_mae: 0.0805\n",
            "Epoch 98/100\n",
            "473/473 [==============================] - 4s 7ms/step - loss: 0.0092 - mse: 0.0184 - mae: 0.1033 - val_loss: 0.0045 - val_mse: 0.0090 - val_mae: 0.0805\n",
            "Epoch 99/100\n",
            "473/473 [==============================] - 4s 7ms/step - loss: 0.0092 - mse: 0.0184 - mae: 0.1032 - val_loss: 0.0045 - val_mse: 0.0090 - val_mae: 0.0803\n",
            "Epoch 100/100\n",
            "473/473 [==============================] - 4s 7ms/step - loss: 0.0092 - mse: 0.0184 - mae: 0.1032 - val_loss: 0.0045 - val_mse: 0.0090 - val_mae: 0.0801\n"
          ]
        }
      ]
    },
    {
      "cell_type": "code",
      "metadata": {
        "id": "3MtHLkitkPI-",
        "colab": {
          "base_uri": "https://localhost:8080/",
          "height": 298
        },
        "outputId": "211cb37e-1596-4431-ce1f-64cccfeea92b"
      },
      "source": [
        "import matplotlib.pyplot as plt\n",
        "import numpy as np\n",
        "\n",
        "plt.style.use(\"ggplot\")\n",
        "plt.figure()\n",
        "plt.plot(np.arange(0, 100), history.history[\"loss\"], label=\"train_loss\")\n",
        "plt.plot(np.arange(0, 100), history.history[\"val_loss\"], label=\"val_loss\")\n",
        "plt.title(\"Loss Plot\")\n",
        "plt.xlabel(\"Epoch #\")\n",
        "plt.ylabel(\"Loss\")\n",
        "plt.legend()\n",
        "plt.show()"
      ],
      "execution_count": 53,
      "outputs": [
        {
          "output_type": "display_data",
          "data": {
            "image/png": "[encoded data removed]",
            "text/plain": [
              "<Figure size 432x288 with 1 Axes>"
            ]
          },
          "metadata": {}
        }
      ]
    },
    {
      "cell_type": "code",
      "metadata": {
        "id": "0ycvcLrSkPI-",
        "colab": {
          "base_uri": "https://localhost:8080/",
          "height": 298
        },
        "outputId": "1181a937-f823-4965-e901-1c27ea66fc0a"
      },
      "source": [
        "plt.style.use(\"ggplot\")\n",
        "plt.figure()\n",
        "plt.plot(np.arange(0, 100), history.history[\"mae\"], label=\"train_mae\")\n",
        "plt.plot(np.arange(0, 100), history.history[\"val_mae\"], label=\"val_mae\")\n",
        "plt.title(\"mae Plot\")\n",
        "plt.xlabel(\"Epoch #\")\n",
        "plt.ylabel(\"Loss\")\n",
        "plt.legend()\n",
        "plt.show()"
      ],
      "execution_count": 54,
      "outputs": [
        {
          "output_type": "display_data",
          "data": {
            "image/png": "[encoded data removed]",
            "text/plain": [
              "<Figure size 432x288 with 1 Axes>"
            ]
          },
          "metadata": {}
        }
      ]
    },
    {
      "cell_type": "code",
      "metadata": {
        "id": "cqKI-VwXkPI_",
        "colab": {
          "base_uri": "https://localhost:8080/",
          "height": 298
        },
        "outputId": "26535cd1-369b-4089-f6ab-4ea58fb4f057"
      },
      "source": [
        "plt.style.use(\"ggplot\")\n",
        "plt.figure()\n",
        "plt.plot(np.arange(0, 100), history.history[\"mse\"], label=\"train_mse\")\n",
        "plt.plot(np.arange(0, 100), history.history[\"val_mse\"], label=\"val_mse\")\n",
        "plt.title(\"mse Plot\")\n",
        "plt.xlabel(\"Epoch #\")\n",
        "plt.ylabel(\"Loss\")\n",
        "plt.legend()\n",
        "plt.show()"
      ],
      "execution_count": 55,
      "outputs": [
        {
          "output_type": "display_data",
          "data": {
            "image/png": "[encoded data removed]",
            "text/plain": [
              "<Figure size 432x288 with 1 Axes>"
            ]
          },
          "metadata": {}
        }
      ]
    },
    {
      "cell_type": "markdown",
      "metadata": {
        "id": "9kYHJC36kfRZ"
      },
      "source": [
        "#Variabel no2"
      ]
    },
    {
      "cell_type": "code",
      "metadata": {
        "id": "Q2627iChkfRa"
      },
      "source": [
        "# no2 = df['no2'].values\n",
        "no2 = df['no2'].values.reshape(-1, 1)\n",
        "no2 = min_max_scaler.fit_transform(no2)"
      ],
      "execution_count": 56,
      "outputs": []
    },
    {
      "cell_type": "code",
      "metadata": {
        "id": "rtSIOGFVkfRa",
        "colab": {
          "base_uri": "https://localhost:8080/"
        },
        "outputId": "9f51182e-1b9f-463b-ded2-0e832b3a582d"
      },
      "source": [
        "minMAE = (no2.max() - no2.min()) * 0.1\n",
        "minMAE"
      ],
      "execution_count": 57,
      "outputs": [
        {
          "output_type": "execute_result",
          "data": {
            "text/plain": [
              "0.1"
            ]
          },
          "metadata": {},
          "execution_count": 57
        }
      ]
    },
    {
      "cell_type": "code",
      "metadata": {
        "id": "CYXWRP-DWJlA"
      },
      "source": [
        "split_time = int(0.9 * len(no2))\n",
        "time_train = time[:split_time]\n",
        "x_train = no2[:split_time]\n",
        "time_valid = time[split_time:]\n",
        "x_valid = no2[split_time:]"
      ],
      "execution_count": 58,
      "outputs": []
    },
    {
      "cell_type": "code",
      "metadata": {
        "colab": {
          "base_uri": "https://localhost:8080/"
        },
        "id": "PUc2doEWWJlB",
        "outputId": "20de1d88-8cfd-4532-a2fb-01cd532c3f41"
      },
      "source": [
        "train_set = windowed_dataset(x_train, window_size, batch_size, shuffle_buffer_size)\n",
        "print(train_set)\n",
        "print(x_train.shape)"
      ],
      "execution_count": 59,
      "outputs": [
        {
          "output_type": "stream",
          "name": "stdout",
          "text": [
            "<PrefetchDataset shapes: ((None, None, 1, 1), (None, None, 1, 1)), types: (tf.float64, tf.float64)>\n",
            "(3807, 1)\n"
          ]
        }
      ]
    },
    {
      "cell_type": "code",
      "metadata": {
        "colab": {
          "base_uri": "https://localhost:8080/"
        },
        "id": "pdmOUI0TWJlB",
        "outputId": "7423982b-a5a6-487d-891a-04b091dae79b"
      },
      "source": [
        "val_set = windowed_dataset(x_valid, window_size, batch_size, shuffle_buffer_size)\n",
        "print(val_set)\n",
        "print(x_valid.shape)"
      ],
      "execution_count": 60,
      "outputs": [
        {
          "output_type": "stream",
          "name": "stdout",
          "text": [
            "<PrefetchDataset shapes: ((None, None, 1, 1), (None, None, 1, 1)), types: (tf.float64, tf.float64)>\n",
            "(423, 1)\n"
          ]
        }
      ]
    },
    {
      "cell_type": "code",
      "metadata": {
        "id": "m05Yf406kfRb"
      },
      "source": [
        "model_no2 = tf.keras.models.Sequential([\n",
        "  tf.keras.layers.Dense(128, activation=\"relu\"),\n",
        "  tf.keras.layers.Dense(64, activation=\"relu\"),\n",
        "  tf.keras.layers.Dense(1),\n",
        "])"
      ],
      "execution_count": 61,
      "outputs": []
    },
    {
      "cell_type": "code",
      "metadata": {
        "id": "sOo-jif0kfRc",
        "colab": {
          "base_uri": "https://localhost:8080/"
        },
        "outputId": "fbf1aafc-bf33-442d-f2b2-ec06e4e15fca"
      },
      "source": [
        "optimizer = tf.keras.optimizers.SGD(learning_rate=1.0000e-04, momentum=0.9)\n",
        "model_no2.compile(loss=tf.keras.losses.Huber(),\n",
        "              optimizer=optimizer,\n",
        "              metrics=[\"mse\", \"mae\"])\n",
        "history = model_no2.fit(train_set, validation_data=(val_set), epochs=100)"
      ],
      "execution_count": 62,
      "outputs": [
        {
          "output_type": "stream",
          "name": "stdout",
          "text": [
            "Epoch 1/100\n",
            "473/473 [==============================] - 5s 8ms/step - loss: 0.0032 - mse: 0.0064 - mae: 0.0664 - val_loss: 0.0586 - val_mse: 0.1173 - val_mae: 0.2595\n",
            "Epoch 2/100\n",
            "473/473 [==============================] - 3s 7ms/step - loss: 0.0010 - mse: 0.0020 - mae: 0.0349 - val_loss: 0.0526 - val_mse: 0.1053 - val_mae: 0.2388\n",
            "Epoch 3/100\n",
            "473/473 [==============================] - 3s 7ms/step - loss: 7.7033e-04 - mse: 0.0015 - mae: 0.0305 - val_loss: 0.0506 - val_mse: 0.1011 - val_mae: 0.2319\n",
            "Epoch 4/100\n",
            "473/473 [==============================] - 3s 7ms/step - loss: 7.3076e-04 - mse: 0.0015 - mae: 0.0299 - val_loss: 0.0498 - val_mse: 0.0996 - val_mae: 0.2294\n",
            "Epoch 5/100\n",
            "473/473 [==============================] - 3s 7ms/step - loss: 7.2154e-04 - mse: 0.0014 - mae: 0.0298 - val_loss: 0.0494 - val_mse: 0.0988 - val_mae: 0.2281\n",
            "Epoch 6/100\n",
            "473/473 [==============================] - 4s 7ms/step - loss: 7.1807e-04 - mse: 0.0014 - mae: 0.0297 - val_loss: 0.0492 - val_mse: 0.0984 - val_mae: 0.2274\n",
            "Epoch 7/100\n",
            "473/473 [==============================] - 3s 7ms/step - loss: 7.1534e-04 - mse: 0.0014 - mae: 0.0297 - val_loss: 0.0491 - val_mse: 0.0982 - val_mae: 0.2270\n",
            "Epoch 8/100\n",
            "473/473 [==============================] - 3s 7ms/step - loss: 7.1361e-04 - mse: 0.0014 - mae: 0.0297 - val_loss: 0.0489 - val_mse: 0.0979 - val_mae: 0.2265\n",
            "Epoch 9/100\n",
            "473/473 [==============================] - 3s 7ms/step - loss: 7.1165e-04 - mse: 0.0014 - mae: 0.0296 - val_loss: 0.0488 - val_mse: 0.0976 - val_mae: 0.2260\n",
            "Epoch 10/100\n",
            "473/473 [==============================] - 3s 7ms/step - loss: 7.1007e-04 - mse: 0.0014 - mae: 0.0295 - val_loss: 0.0487 - val_mse: 0.0974 - val_mae: 0.2256\n",
            "Epoch 11/100\n",
            "473/473 [==============================] - 3s 7ms/step - loss: 7.0848e-04 - mse: 0.0014 - mae: 0.0295 - val_loss: 0.0486 - val_mse: 0.0972 - val_mae: 0.2252\n",
            "Epoch 12/100\n",
            "473/473 [==============================] - 3s 7ms/step - loss: 7.0728e-04 - mse: 0.0014 - mae: 0.0295 - val_loss: 0.0485 - val_mse: 0.0970 - val_mae: 0.2249\n",
            "Epoch 13/100\n",
            "473/473 [==============================] - 3s 7ms/step - loss: 7.0617e-04 - mse: 0.0014 - mae: 0.0294 - val_loss: 0.0484 - val_mse: 0.0968 - val_mae: 0.2244\n",
            "Epoch 14/100\n",
            "473/473 [==============================] - 3s 7ms/step - loss: 7.0505e-04 - mse: 0.0014 - mae: 0.0294 - val_loss: 0.0483 - val_mse: 0.0965 - val_mae: 0.2240\n",
            "Epoch 15/100\n",
            "473/473 [==============================] - 4s 7ms/step - loss: 7.0384e-04 - mse: 0.0014 - mae: 0.0294 - val_loss: 0.0482 - val_mse: 0.0964 - val_mae: 0.2237\n",
            "Epoch 16/100\n",
            "473/473 [==============================] - 3s 7ms/step - loss: 7.0246e-04 - mse: 0.0014 - mae: 0.0294 - val_loss: 0.0481 - val_mse: 0.0962 - val_mae: 0.2234\n",
            "Epoch 17/100\n",
            "473/473 [==============================] - 3s 7ms/step - loss: 7.0197e-04 - mse: 0.0014 - mae: 0.0293 - val_loss: 0.0480 - val_mse: 0.0960 - val_mae: 0.2231\n",
            "Epoch 18/100\n",
            "473/473 [==============================] - 3s 7ms/step - loss: 7.0158e-04 - mse: 0.0014 - mae: 0.0293 - val_loss: 0.0479 - val_mse: 0.0958 - val_mae: 0.2226\n",
            "Epoch 19/100\n",
            "473/473 [==============================] - 3s 7ms/step - loss: 7.0043e-04 - mse: 0.0014 - mae: 0.0293 - val_loss: 0.0478 - val_mse: 0.0956 - val_mae: 0.2223\n",
            "Epoch 20/100\n",
            "473/473 [==============================] - 4s 7ms/step - loss: 6.9967e-04 - mse: 0.0014 - mae: 0.0293 - val_loss: 0.0477 - val_mse: 0.0954 - val_mae: 0.2220\n",
            "Epoch 21/100\n",
            "473/473 [==============================] - 3s 7ms/step - loss: 6.9916e-04 - mse: 0.0014 - mae: 0.0293 - val_loss: 0.0477 - val_mse: 0.0953 - val_mae: 0.2218\n",
            "Epoch 22/100\n",
            "473/473 [==============================] - 3s 7ms/step - loss: 6.9894e-04 - mse: 0.0014 - mae: 0.0293 - val_loss: 0.0476 - val_mse: 0.0952 - val_mae: 0.2216\n",
            "Epoch 23/100\n",
            "473/473 [==============================] - 4s 7ms/step - loss: 6.9842e-04 - mse: 0.0014 - mae: 0.0292 - val_loss: 0.0475 - val_mse: 0.0950 - val_mae: 0.2213\n",
            "Epoch 24/100\n",
            "473/473 [==============================] - 3s 7ms/step - loss: 6.9783e-04 - mse: 0.0014 - mae: 0.0293 - val_loss: 0.0474 - val_mse: 0.0949 - val_mae: 0.2210\n",
            "Epoch 25/100\n",
            "473/473 [==============================] - 3s 7ms/step - loss: 6.9732e-04 - mse: 0.0014 - mae: 0.0292 - val_loss: 0.0474 - val_mse: 0.0948 - val_mae: 0.2210\n",
            "Epoch 26/100\n",
            "473/473 [==============================] - 4s 7ms/step - loss: 6.9761e-04 - mse: 0.0014 - mae: 0.0292 - val_loss: 0.0473 - val_mse: 0.0947 - val_mae: 0.2207\n",
            "Epoch 27/100\n",
            "473/473 [==============================] - 3s 7ms/step - loss: 6.9690e-04 - mse: 0.0014 - mae: 0.0292 - val_loss: 0.0472 - val_mse: 0.0945 - val_mae: 0.2203\n",
            "Epoch 28/100\n",
            "473/473 [==============================] - 4s 7ms/step - loss: 6.9590e-04 - mse: 0.0014 - mae: 0.0292 - val_loss: 0.0472 - val_mse: 0.0944 - val_mae: 0.2202\n",
            "Epoch 29/100\n",
            "473/473 [==============================] - 4s 7ms/step - loss: 6.9614e-04 - mse: 0.0014 - mae: 0.0292 - val_loss: 0.0472 - val_mse: 0.0943 - val_mae: 0.2200\n",
            "Epoch 30/100\n",
            "473/473 [==============================] - 4s 7ms/step - loss: 6.9569e-04 - mse: 0.0014 - mae: 0.0292 - val_loss: 0.0471 - val_mse: 0.0942 - val_mae: 0.2199\n",
            "Epoch 31/100\n",
            "473/473 [==============================] - 4s 7ms/step - loss: 6.9588e-04 - mse: 0.0014 - mae: 0.0292 - val_loss: 0.0470 - val_mse: 0.0941 - val_mae: 0.2196\n",
            "Epoch 32/100\n",
            "473/473 [==============================] - 4s 7ms/step - loss: 6.9534e-04 - mse: 0.0014 - mae: 0.0292 - val_loss: 0.0470 - val_mse: 0.0941 - val_mae: 0.2196\n",
            "Epoch 33/100\n",
            "473/473 [==============================] - 4s 7ms/step - loss: 6.9547e-04 - mse: 0.0014 - mae: 0.0292 - val_loss: 0.0470 - val_mse: 0.0939 - val_mae: 0.2193\n",
            "Epoch 34/100\n",
            "473/473 [==============================] - 4s 7ms/step - loss: 6.9504e-04 - mse: 0.0014 - mae: 0.0292 - val_loss: 0.0469 - val_mse: 0.0938 - val_mae: 0.2192\n",
            "Epoch 35/100\n",
            "473/473 [==============================] - 4s 7ms/step - loss: 6.9519e-04 - mse: 0.0014 - mae: 0.0291 - val_loss: 0.0469 - val_mse: 0.0937 - val_mae: 0.2190\n",
            "Epoch 36/100\n",
            "473/473 [==============================] - 3s 7ms/step - loss: 6.9469e-04 - mse: 0.0014 - mae: 0.0292 - val_loss: 0.0468 - val_mse: 0.0936 - val_mae: 0.2188\n",
            "Epoch 37/100\n",
            "473/473 [==============================] - 4s 7ms/step - loss: 6.9454e-04 - mse: 0.0014 - mae: 0.0291 - val_loss: 0.0468 - val_mse: 0.0935 - val_mae: 0.2186\n",
            "Epoch 38/100\n",
            "473/473 [==============================] - 3s 7ms/step - loss: 6.9440e-04 - mse: 0.0014 - mae: 0.0291 - val_loss: 0.0467 - val_mse: 0.0934 - val_mae: 0.2185\n",
            "Epoch 39/100\n",
            "473/473 [==============================] - 3s 7ms/step - loss: 6.9391e-04 - mse: 0.0014 - mae: 0.0291 - val_loss: 0.0467 - val_mse: 0.0934 - val_mae: 0.2184\n",
            "Epoch 40/100\n",
            "473/473 [==============================] - 3s 7ms/step - loss: 6.9406e-04 - mse: 0.0014 - mae: 0.0291 - val_loss: 0.0467 - val_mse: 0.0934 - val_mae: 0.2183\n",
            "Epoch 41/100\n",
            "473/473 [==============================] - 4s 7ms/step - loss: 6.9403e-04 - mse: 0.0014 - mae: 0.0291 - val_loss: 0.0466 - val_mse: 0.0932 - val_mae: 0.2181\n",
            "Epoch 42/100\n",
            "473/473 [==============================] - 4s 7ms/step - loss: 6.9388e-04 - mse: 0.0014 - mae: 0.0291 - val_loss: 0.0466 - val_mse: 0.0931 - val_mae: 0.2180\n",
            "Epoch 43/100\n",
            "473/473 [==============================] - 4s 7ms/step - loss: 6.9378e-04 - mse: 0.0014 - mae: 0.0291 - val_loss: 0.0465 - val_mse: 0.0931 - val_mae: 0.2179\n",
            "Epoch 44/100\n",
            "473/473 [==============================] - 4s 7ms/step - loss: 6.9330e-04 - mse: 0.0014 - mae: 0.0291 - val_loss: 0.0465 - val_mse: 0.0930 - val_mae: 0.2177\n",
            "Epoch 45/100\n",
            "473/473 [==============================] - 4s 7ms/step - loss: 6.9368e-04 - mse: 0.0014 - mae: 0.0291 - val_loss: 0.0465 - val_mse: 0.0929 - val_mae: 0.2176\n",
            "Epoch 46/100\n",
            "473/473 [==============================] - 4s 7ms/step - loss: 6.9318e-04 - mse: 0.0014 - mae: 0.0291 - val_loss: 0.0464 - val_mse: 0.0928 - val_mae: 0.2174\n",
            "Epoch 47/100\n",
            "473/473 [==============================] - 3s 7ms/step - loss: 6.9277e-04 - mse: 0.0014 - mae: 0.0291 - val_loss: 0.0464 - val_mse: 0.0929 - val_mae: 0.2175\n",
            "Epoch 48/100\n",
            "473/473 [==============================] - 4s 7ms/step - loss: 6.9322e-04 - mse: 0.0014 - mae: 0.0291 - val_loss: 0.0464 - val_mse: 0.0928 - val_mae: 0.2173\n",
            "Epoch 49/100\n",
            "473/473 [==============================] - 4s 7ms/step - loss: 6.9313e-04 - mse: 0.0014 - mae: 0.0291 - val_loss: 0.0463 - val_mse: 0.0927 - val_mae: 0.2171\n",
            "Epoch 50/100\n",
            "473/473 [==============================] - 3s 7ms/step - loss: 6.9290e-04 - mse: 0.0014 - mae: 0.0291 - val_loss: 0.0463 - val_mse: 0.0926 - val_mae: 0.2170\n",
            "Epoch 51/100\n",
            "473/473 [==============================] - 4s 7ms/step - loss: 6.9298e-04 - mse: 0.0014 - mae: 0.0291 - val_loss: 0.0463 - val_mse: 0.0925 - val_mae: 0.2169\n",
            "Epoch 52/100\n",
            "473/473 [==============================] - 4s 7ms/step - loss: 6.9255e-04 - mse: 0.0014 - mae: 0.0291 - val_loss: 0.0463 - val_mse: 0.0926 - val_mae: 0.2170\n",
            "Epoch 53/100\n",
            "473/473 [==============================] - 4s 7ms/step - loss: 6.9295e-04 - mse: 0.0014 - mae: 0.0291 - val_loss: 0.0463 - val_mse: 0.0925 - val_mae: 0.2169\n",
            "Epoch 54/100\n",
            "473/473 [==============================] - 3s 7ms/step - loss: 6.9287e-04 - mse: 0.0014 - mae: 0.0291 - val_loss: 0.0462 - val_mse: 0.0925 - val_mae: 0.2168\n",
            "Epoch 55/100\n",
            "473/473 [==============================] - 4s 7ms/step - loss: 6.9269e-04 - mse: 0.0014 - mae: 0.0291 - val_loss: 0.0462 - val_mse: 0.0924 - val_mae: 0.2166\n",
            "Epoch 56/100\n",
            "473/473 [==============================] - 4s 7ms/step - loss: 6.9274e-04 - mse: 0.0014 - mae: 0.0291 - val_loss: 0.0462 - val_mse: 0.0923 - val_mae: 0.2165\n",
            "Epoch 57/100\n",
            "473/473 [==============================] - 3s 7ms/step - loss: 6.9251e-04 - mse: 0.0014 - mae: 0.0291 - val_loss: 0.0461 - val_mse: 0.0922 - val_mae: 0.2164\n",
            "Epoch 58/100\n",
            "473/473 [==============================] - 4s 7ms/step - loss: 6.9224e-04 - mse: 0.0014 - mae: 0.0291 - val_loss: 0.0461 - val_mse: 0.0923 - val_mae: 0.2164\n",
            "Epoch 59/100\n",
            "473/473 [==============================] - 4s 7ms/step - loss: 6.9233e-04 - mse: 0.0014 - mae: 0.0291 - val_loss: 0.0461 - val_mse: 0.0921 - val_mae: 0.2162\n",
            "Epoch 60/100\n",
            "473/473 [==============================] - 4s 7ms/step - loss: 6.9220e-04 - mse: 0.0014 - mae: 0.0291 - val_loss: 0.0460 - val_mse: 0.0921 - val_mae: 0.2161\n",
            "Epoch 61/100\n",
            "473/473 [==============================] - 4s 7ms/step - loss: 6.9210e-04 - mse: 0.0014 - mae: 0.0291 - val_loss: 0.0460 - val_mse: 0.0921 - val_mae: 0.2161\n",
            "Epoch 62/100\n",
            "473/473 [==============================] - 4s 7ms/step - loss: 6.9205e-04 - mse: 0.0014 - mae: 0.0291 - val_loss: 0.0460 - val_mse: 0.0921 - val_mae: 0.2161\n",
            "Epoch 63/100\n",
            "473/473 [==============================] - 3s 7ms/step - loss: 6.9238e-04 - mse: 0.0014 - mae: 0.0291 - val_loss: 0.0460 - val_mse: 0.0920 - val_mae: 0.2160\n",
            "Epoch 64/100\n",
            "473/473 [==============================] - 4s 7ms/step - loss: 6.9217e-04 - mse: 0.0014 - mae: 0.0290 - val_loss: 0.0460 - val_mse: 0.0920 - val_mae: 0.2159\n",
            "Epoch 65/100\n",
            "473/473 [==============================] - 4s 7ms/step - loss: 6.9220e-04 - mse: 0.0014 - mae: 0.0291 - val_loss: 0.0460 - val_mse: 0.0919 - val_mae: 0.2158\n",
            "Epoch 66/100\n",
            "473/473 [==============================] - 4s 7ms/step - loss: 6.9198e-04 - mse: 0.0014 - mae: 0.0290 - val_loss: 0.0459 - val_mse: 0.0919 - val_mae: 0.2157\n",
            "Epoch 67/100\n",
            "473/473 [==============================] - 4s 7ms/step - loss: 6.9211e-04 - mse: 0.0014 - mae: 0.0291 - val_loss: 0.0459 - val_mse: 0.0918 - val_mae: 0.2157\n",
            "Epoch 68/100\n",
            "473/473 [==============================] - 4s 7ms/step - loss: 6.9199e-04 - mse: 0.0014 - mae: 0.0291 - val_loss: 0.0459 - val_mse: 0.0918 - val_mae: 0.2157\n",
            "Epoch 69/100\n",
            "473/473 [==============================] - 4s 7ms/step - loss: 6.9208e-04 - mse: 0.0014 - mae: 0.0290 - val_loss: 0.0459 - val_mse: 0.0918 - val_mae: 0.2156\n",
            "Epoch 70/100\n",
            "473/473 [==============================] - 4s 7ms/step - loss: 6.9189e-04 - mse: 0.0014 - mae: 0.0291 - val_loss: 0.0459 - val_mse: 0.0918 - val_mae: 0.2156\n",
            "Epoch 71/100\n",
            "473/473 [==============================] - 4s 7ms/step - loss: 6.9217e-04 - mse: 0.0014 - mae: 0.0290 - val_loss: 0.0458 - val_mse: 0.0917 - val_mae: 0.2154\n",
            "Epoch 72/100\n",
            "473/473 [==============================] - 4s 7ms/step - loss: 6.9165e-04 - mse: 0.0014 - mae: 0.0291 - val_loss: 0.0458 - val_mse: 0.0917 - val_mae: 0.2154\n",
            "Epoch 73/100\n",
            "473/473 [==============================] - 4s 7ms/step - loss: 6.9211e-04 - mse: 0.0014 - mae: 0.0290 - val_loss: 0.0458 - val_mse: 0.0917 - val_mae: 0.2154\n",
            "Epoch 74/100\n",
            "473/473 [==============================] - 4s 7ms/step - loss: 6.9185e-04 - mse: 0.0014 - mae: 0.0291 - val_loss: 0.0458 - val_mse: 0.0916 - val_mae: 0.2153\n",
            "Epoch 75/100\n",
            "473/473 [==============================] - 4s 7ms/step - loss: 6.9172e-04 - mse: 0.0014 - mae: 0.0291 - val_loss: 0.0458 - val_mse: 0.0915 - val_mae: 0.2152\n",
            "Epoch 76/100\n",
            "473/473 [==============================] - 3s 7ms/step - loss: 6.9203e-04 - mse: 0.0014 - mae: 0.0290 - val_loss: 0.0458 - val_mse: 0.0915 - val_mae: 0.2151\n",
            "Epoch 77/100\n",
            "473/473 [==============================] - 4s 7ms/step - loss: 6.9170e-04 - mse: 0.0014 - mae: 0.0291 - val_loss: 0.0458 - val_mse: 0.0915 - val_mae: 0.2152\n",
            "Epoch 78/100\n",
            "473/473 [==============================] - 4s 7ms/step - loss: 6.9161e-04 - mse: 0.0014 - mae: 0.0290 - val_loss: 0.0458 - val_mse: 0.0915 - val_mae: 0.2152\n",
            "Epoch 79/100\n",
            "473/473 [==============================] - 4s 7ms/step - loss: 6.9170e-04 - mse: 0.0014 - mae: 0.0290 - val_loss: 0.0458 - val_mse: 0.0915 - val_mae: 0.2151\n",
            "Epoch 80/100\n",
            "473/473 [==============================] - 4s 7ms/step - loss: 6.9196e-04 - mse: 0.0014 - mae: 0.0290 - val_loss: 0.0457 - val_mse: 0.0915 - val_mae: 0.2151\n",
            "Epoch 81/100\n",
            "473/473 [==============================] - 3s 7ms/step - loss: 6.9165e-04 - mse: 0.0014 - mae: 0.0291 - val_loss: 0.0457 - val_mse: 0.0914 - val_mae: 0.2150\n",
            "Epoch 82/100\n",
            "473/473 [==============================] - 4s 7ms/step - loss: 6.9171e-04 - mse: 0.0014 - mae: 0.0290 - val_loss: 0.0457 - val_mse: 0.0914 - val_mae: 0.2149\n",
            "Epoch 83/100\n",
            "473/473 [==============================] - 4s 7ms/step - loss: 6.9171e-04 - mse: 0.0014 - mae: 0.0291 - val_loss: 0.0457 - val_mse: 0.0913 - val_mae: 0.2149\n",
            "Epoch 84/100\n",
            "473/473 [==============================] - 4s 7ms/step - loss: 6.9132e-04 - mse: 0.0014 - mae: 0.0290 - val_loss: 0.0457 - val_mse: 0.0914 - val_mae: 0.2149\n",
            "Epoch 85/100\n",
            "473/473 [==============================] - 4s 7ms/step - loss: 6.9184e-04 - mse: 0.0014 - mae: 0.0290 - val_loss: 0.0457 - val_mse: 0.0913 - val_mae: 0.2148\n",
            "Epoch 86/100\n",
            "473/473 [==============================] - 4s 7ms/step - loss: 6.9160e-04 - mse: 0.0014 - mae: 0.0290 - val_loss: 0.0456 - val_mse: 0.0913 - val_mae: 0.2148\n",
            "Epoch 87/100\n",
            "473/473 [==============================] - 4s 7ms/step - loss: 6.9188e-04 - mse: 0.0014 - mae: 0.0290 - val_loss: 0.0457 - val_mse: 0.0913 - val_mae: 0.2148\n",
            "Epoch 88/100\n",
            "473/473 [==============================] - 4s 7ms/step - loss: 6.9188e-04 - mse: 0.0014 - mae: 0.0290 - val_loss: 0.0456 - val_mse: 0.0912 - val_mae: 0.2147\n",
            "Epoch 89/100\n",
            "473/473 [==============================] - 4s 7ms/step - loss: 6.9181e-04 - mse: 0.0014 - mae: 0.0290 - val_loss: 0.0456 - val_mse: 0.0912 - val_mae: 0.2147\n",
            "Epoch 90/100\n",
            "473/473 [==============================] - 4s 7ms/step - loss: 6.9173e-04 - mse: 0.0014 - mae: 0.0290 - val_loss: 0.0456 - val_mse: 0.0911 - val_mae: 0.2145\n",
            "Epoch 91/100\n",
            "473/473 [==============================] - 4s 7ms/step - loss: 6.9155e-04 - mse: 0.0014 - mae: 0.0290 - val_loss: 0.0456 - val_mse: 0.0912 - val_mae: 0.2146\n",
            "Epoch 92/100\n",
            "473/473 [==============================] - 4s 7ms/step - loss: 6.9161e-04 - mse: 0.0014 - mae: 0.0290 - val_loss: 0.0456 - val_mse: 0.0912 - val_mae: 0.2145\n",
            "Epoch 93/100\n",
            "473/473 [==============================] - 4s 7ms/step - loss: 6.9158e-04 - mse: 0.0014 - mae: 0.0290 - val_loss: 0.0456 - val_mse: 0.0911 - val_mae: 0.2145\n",
            "Epoch 94/100\n",
            "473/473 [==============================] - 4s 7ms/step - loss: 6.9167e-04 - mse: 0.0014 - mae: 0.0291 - val_loss: 0.0455 - val_mse: 0.0911 - val_mae: 0.2144\n",
            "Epoch 95/100\n",
            "473/473 [==============================] - 4s 7ms/step - loss: 6.9154e-04 - mse: 0.0014 - mae: 0.0290 - val_loss: 0.0456 - val_mse: 0.0911 - val_mae: 0.2144\n",
            "Epoch 96/100\n",
            "473/473 [==============================] - 4s 7ms/step - loss: 6.9173e-04 - mse: 0.0014 - mae: 0.0290 - val_loss: 0.0455 - val_mse: 0.0911 - val_mae: 0.2144\n",
            "Epoch 97/100\n",
            "473/473 [==============================] - 4s 7ms/step - loss: 6.9132e-04 - mse: 0.0014 - mae: 0.0290 - val_loss: 0.0455 - val_mse: 0.0911 - val_mae: 0.2144\n",
            "Epoch 98/100\n",
            "473/473 [==============================] - 4s 7ms/step - loss: 6.9133e-04 - mse: 0.0014 - mae: 0.0290 - val_loss: 0.0455 - val_mse: 0.0911 - val_mae: 0.2144\n",
            "Epoch 99/100\n",
            "473/473 [==============================] - 4s 7ms/step - loss: 6.9180e-04 - mse: 0.0014 - mae: 0.0290 - val_loss: 0.0455 - val_mse: 0.0910 - val_mae: 0.2143\n",
            "Epoch 100/100\n",
            "473/473 [==============================] - 4s 7ms/step - loss: 6.9134e-04 - mse: 0.0014 - mae: 0.0290 - val_loss: 0.0455 - val_mse: 0.0911 - val_mae: 0.2144\n"
          ]
        }
      ]
    },
    {
      "cell_type": "code",
      "metadata": {
        "id": "ctI2ap51kfRd",
        "colab": {
          "base_uri": "https://localhost:8080/",
          "height": 298
        },
        "outputId": "c4395f17-126b-48d3-8f2a-b83ed0ccaea1"
      },
      "source": [
        "import matplotlib.pyplot as plt\n",
        "import numpy as np\n",
        "\n",
        "plt.style.use(\"ggplot\")\n",
        "plt.figure()\n",
        "plt.plot(np.arange(0, 100), history.history[\"loss\"], label=\"train_loss\")\n",
        "plt.plot(np.arange(0, 100), history.history[\"val_loss\"], label=\"val_loss\")\n",
        "plt.title(\"Loss Plot\")\n",
        "plt.xlabel(\"Epoch #\")\n",
        "plt.ylabel(\"Loss\")\n",
        "plt.legend()\n",
        "plt.show()"
      ],
      "execution_count": 63,
      "outputs": [
        {
          "output_type": "display_data",
          "data": {
            "image/png": "[encoded data removed]",
            "text/plain": [
              "<Figure size 432x288 with 1 Axes>"
            ]
          },
          "metadata": {}
        }
      ]
    },
    {
      "cell_type": "code",
      "metadata": {
        "id": "XWfbi9V7kfRd",
        "colab": {
          "base_uri": "https://localhost:8080/",
          "height": 298
        },
        "outputId": "dc5be407-4474-4a7a-f2ec-8b26d5e52956"
      },
      "source": [
        "plt.style.use(\"ggplot\")\n",
        "plt.figure()\n",
        "plt.plot(np.arange(0, 100), history.history[\"mae\"], label=\"train_mae\")\n",
        "plt.plot(np.arange(0, 100), history.history[\"val_mae\"], label=\"val_mae\")\n",
        "plt.title(\"mae Plot\")\n",
        "plt.xlabel(\"Epoch #\")\n",
        "plt.ylabel(\"Loss\")\n",
        "plt.legend()\n",
        "plt.show()"
      ],
      "execution_count": 64,
      "outputs": [
        {
          "output_type": "display_data",
          "data": {
            "image/png": "[encoded data removed]",
            "text/plain": [
              "<Figure size 432x288 with 1 Axes>"
            ]
          },
          "metadata": {}
        }
      ]
    },
    {
      "cell_type": "code",
      "metadata": {
        "id": "Bn31TfxnkfRd",
        "colab": {
          "base_uri": "https://localhost:8080/",
          "height": 298
        },
        "outputId": "32b571da-c37c-430c-bd49-a2a34cb66bf7"
      },
      "source": [
        "plt.style.use(\"ggplot\")\n",
        "plt.figure()\n",
        "plt.plot(np.arange(0, 100), history.history[\"mse\"], label=\"train_mse\")\n",
        "plt.plot(np.arange(0, 100), history.history[\"val_mse\"], label=\"val_mse\")\n",
        "plt.title(\"mse Plot\")\n",
        "plt.xlabel(\"Epoch #\")\n",
        "plt.ylabel(\"Loss\")\n",
        "plt.legend()\n",
        "plt.show()"
      ],
      "execution_count": 65,
      "outputs": [
        {
          "output_type": "display_data",
          "data": {
            "image/png": "[encoded data removed]",
            "text/plain": [
              "<Figure size 432x288 with 1 Axes>"
            ]
          },
          "metadata": {}
        }
      ]
    },
    {
      "cell_type": "markdown",
      "metadata": {
        "id": "fSKHzKqk_XK5"
      },
      "source": [
        "#Forecasting"
      ]
    },
    {
      "cell_type": "code",
      "source": [
        "NUM_FORECASTS = 31 #1 bulan\n",
        "SEED = 1234"
      ],
      "metadata": {
        "id": "-OTscMu2eixi"
      },
      "execution_count": 407,
      "outputs": []
    },
    {
      "cell_type": "markdown",
      "source": [
        "##pm10"
      ],
      "metadata": {
        "id": "fqxRVksDr8C8"
      }
    },
    {
      "cell_type": "code",
      "source": [
        "output_data_pm10 = pd.DataFrame(columns = [\"tanggal\", \"pm10\"])\n",
        "\n",
        "time = df[\"tanggal\"].values[-1]\n",
        "x_train_pm10 = df['pm10'].values\n",
        "    \n",
        "#Buld Model\n",
        "tf.keras.backend.clear_session()\n",
        "tf.random.set_seed(SEED)\n",
        "np.random.seed(SEED)\n",
        "    \n",
        "train_set_pm10 = windowed_dataset(x_train_pm10, window_size, batch_size, shuffle_buffer_size)\n",
        "\n",
        "model = tf.keras.models.Sequential([\n",
        "  tf.keras.layers.Dense(128, activation=\"relu\"),\n",
        "  tf.keras.layers.Dense(64, activation=\"relu\"),\n",
        "  tf.keras.layers.Dense(1),\n",
        "])\n",
        "\n",
        "optimizer = tf.keras.optimizers.SGD(learning_rate=1.0000e-04, momentum=0.9)\n",
        "model.compile(loss=tf.keras.losses.Huber(),\n",
        "              optimizer=optimizer,\n",
        "              metrics=[\"mse\", \"mae\"])\n",
        "history_pm10 = model.fit(train_set_pm10, epochs=1)    "
      ],
      "metadata": {
        "colab": {
          "base_uri": "https://localhost:8080/"
        },
        "id": "WWgthqvYcpaz",
        "outputId": "804fd232-fd70-4a01-80d0-e47857a1bc09"
      },
      "execution_count": 426,
      "outputs": [
        {
          "output_type": "stream",
          "name": "stdout",
          "text": [
            "525/525 [==============================] - 4s 6ms/step - loss: 15.4623 - mse: 462.4987 - mae: 15.9547\n"
          ]
        }
      ]
    },
    {
      "cell_type": "code",
      "source": [
        "#Forecasting\n",
        "data_temp = x_train_pm10.copy()\n",
        "for j in range(NUM_FORECASTS):\n",
        "    pm10_forecast = model_forecast(model, data_temp[-window_size:, np.newaxis], batch_size, window_size)\n",
        "    pm10_forecast = pm10_forecast[:, -1, 0]\n",
        "    data_temp = np.append(data_temp, round(pm10_forecast[0]))\n",
        "    time += np.timedelta64(1,'D')\n",
        "    output_data_pm10 = output_data_pm10.append({\"tanggal\":time,\n",
        "                                \"pm10\":round(pm10_forecast[0])}, \n",
        "                                ignore_index=True)"
      ],
      "metadata": {
        "id": "Qdnva37uhrAl"
      },
      "execution_count": 427,
      "outputs": []
    },
    {
      "cell_type": "code",
      "source": [
        "output_data_pm10"
      ],
      "metadata": {
        "colab": {
          "base_uri": "https://localhost:8080/",
          "height": 986
        },
        "id": "GD-jkLKSycWU",
        "outputId": "7cb8bfa5-21a5-4e48-aeae-70c174776527"
      },
      "execution_count": 428,
      "outputs": [
        {
          "output_type": "execute_result",
          "data": {
            "text/html": [
              "<div>\n",
              "<style scoped>\n",
              "    .dataframe tbody tr th:only-of-type {\n",
              "        vertical-align: middle;\n",
              "    }\n",
              "\n",
              "    .dataframe tbody tr th {\n",
              "        vertical-align: top;\n",
              "    }\n",
              "\n",
              "    .dataframe thead th {\n",
              "        text-align: right;\n",
              "    }\n",
              "</style>\n",
              "<table border=\"1\" class=\"dataframe\">\n",
              "  <thead>\n",
              "    <tr style=\"text-align: right;\">\n",
              "      <th></th>\n",
              "      <th>tanggal</th>\n",
              "      <th>pm10</th>\n",
              "    </tr>\n",
              "  </thead>\n",
              "  <tbody>\n",
              "    <tr>\n",
              "      <th>0</th>\n",
              "      <td>2021-08-01</td>\n",
              "      <td>63</td>\n",
              "    </tr>\n",
              "    <tr>\n",
              "      <th>1</th>\n",
              "      <td>2021-08-02</td>\n",
              "      <td>63</td>\n",
              "    </tr>\n",
              "    <tr>\n",
              "      <th>2</th>\n",
              "      <td>2021-08-03</td>\n",
              "      <td>63</td>\n",
              "    </tr>\n",
              "    <tr>\n",
              "      <th>3</th>\n",
              "      <td>2021-08-04</td>\n",
              "      <td>63</td>\n",
              "    </tr>\n",
              "    <tr>\n",
              "      <th>4</th>\n",
              "      <td>2021-08-05</td>\n",
              "      <td>63</td>\n",
              "    </tr>\n",
              "    <tr>\n",
              "      <th>5</th>\n",
              "      <td>2021-08-06</td>\n",
              "      <td>63</td>\n",
              "    </tr>\n",
              "    <tr>\n",
              "      <th>6</th>\n",
              "      <td>2021-08-07</td>\n",
              "      <td>63</td>\n",
              "    </tr>\n",
              "    <tr>\n",
              "      <th>7</th>\n",
              "      <td>2021-08-08</td>\n",
              "      <td>63</td>\n",
              "    </tr>\n",
              "    <tr>\n",
              "      <th>8</th>\n",
              "      <td>2021-08-09</td>\n",
              "      <td>63</td>\n",
              "    </tr>\n",
              "    <tr>\n",
              "      <th>9</th>\n",
              "      <td>2021-08-10</td>\n",
              "      <td>63</td>\n",
              "    </tr>\n",
              "    <tr>\n",
              "      <th>10</th>\n",
              "      <td>2021-08-11</td>\n",
              "      <td>63</td>\n",
              "    </tr>\n",
              "    <tr>\n",
              "      <th>11</th>\n",
              "      <td>2021-08-12</td>\n",
              "      <td>63</td>\n",
              "    </tr>\n",
              "    <tr>\n",
              "      <th>12</th>\n",
              "      <td>2021-08-13</td>\n",
              "      <td>63</td>\n",
              "    </tr>\n",
              "    <tr>\n",
              "      <th>13</th>\n",
              "      <td>2021-08-14</td>\n",
              "      <td>63</td>\n",
              "    </tr>\n",
              "    <tr>\n",
              "      <th>14</th>\n",
              "      <td>2021-08-15</td>\n",
              "      <td>63</td>\n",
              "    </tr>\n",
              "    <tr>\n",
              "      <th>15</th>\n",
              "      <td>2021-08-16</td>\n",
              "      <td>63</td>\n",
              "    </tr>\n",
              "    <tr>\n",
              "      <th>16</th>\n",
              "      <td>2021-08-17</td>\n",
              "      <td>63</td>\n",
              "    </tr>\n",
              "    <tr>\n",
              "      <th>17</th>\n",
              "      <td>2021-08-18</td>\n",
              "      <td>63</td>\n",
              "    </tr>\n",
              "    <tr>\n",
              "      <th>18</th>\n",
              "      <td>2021-08-19</td>\n",
              "      <td>63</td>\n",
              "    </tr>\n",
              "    <tr>\n",
              "      <th>19</th>\n",
              "      <td>2021-08-20</td>\n",
              "      <td>63</td>\n",
              "    </tr>\n",
              "    <tr>\n",
              "      <th>20</th>\n",
              "      <td>2021-08-21</td>\n",
              "      <td>63</td>\n",
              "    </tr>\n",
              "    <tr>\n",
              "      <th>21</th>\n",
              "      <td>2021-08-22</td>\n",
              "      <td>63</td>\n",
              "    </tr>\n",
              "    <tr>\n",
              "      <th>22</th>\n",
              "      <td>2021-08-23</td>\n",
              "      <td>63</td>\n",
              "    </tr>\n",
              "    <tr>\n",
              "      <th>23</th>\n",
              "      <td>2021-08-24</td>\n",
              "      <td>63</td>\n",
              "    </tr>\n",
              "    <tr>\n",
              "      <th>24</th>\n",
              "      <td>2021-08-25</td>\n",
              "      <td>63</td>\n",
              "    </tr>\n",
              "    <tr>\n",
              "      <th>25</th>\n",
              "      <td>2021-08-26</td>\n",
              "      <td>63</td>\n",
              "    </tr>\n",
              "    <tr>\n",
              "      <th>26</th>\n",
              "      <td>2021-08-27</td>\n",
              "      <td>63</td>\n",
              "    </tr>\n",
              "    <tr>\n",
              "      <th>27</th>\n",
              "      <td>2021-08-28</td>\n",
              "      <td>63</td>\n",
              "    </tr>\n",
              "    <tr>\n",
              "      <th>28</th>\n",
              "      <td>2021-08-29</td>\n",
              "      <td>63</td>\n",
              "    </tr>\n",
              "    <tr>\n",
              "      <th>29</th>\n",
              "      <td>2021-08-30</td>\n",
              "      <td>63</td>\n",
              "    </tr>\n",
              "    <tr>\n",
              "      <th>30</th>\n",
              "      <td>2021-08-31</td>\n",
              "      <td>63</td>\n",
              "    </tr>\n",
              "  </tbody>\n",
              "</table>\n",
              "</div>"
            ],
            "text/plain": [
              "      tanggal pm10\n",
              "0  2021-08-01   63\n",
              "1  2021-08-02   63\n",
              "2  2021-08-03   63\n",
              "3  2021-08-04   63\n",
              "4  2021-08-05   63\n",
              "5  2021-08-06   63\n",
              "6  2021-08-07   63\n",
              "7  2021-08-08   63\n",
              "8  2021-08-09   63\n",
              "9  2021-08-10   63\n",
              "10 2021-08-11   63\n",
              "11 2021-08-12   63\n",
              "12 2021-08-13   63\n",
              "13 2021-08-14   63\n",
              "14 2021-08-15   63\n",
              "15 2021-08-16   63\n",
              "16 2021-08-17   63\n",
              "17 2021-08-18   63\n",
              "18 2021-08-19   63\n",
              "19 2021-08-20   63\n",
              "20 2021-08-21   63\n",
              "21 2021-08-22   63\n",
              "22 2021-08-23   63\n",
              "23 2021-08-24   63\n",
              "24 2021-08-25   63\n",
              "25 2021-08-26   63\n",
              "26 2021-08-27   63\n",
              "27 2021-08-28   63\n",
              "28 2021-08-29   63\n",
              "29 2021-08-30   63\n",
              "30 2021-08-31   63"
            ]
          },
          "metadata": {},
          "execution_count": 428
        }
      ]
    },
    {
      "cell_type": "markdown",
      "source": [
        "##so2"
      ],
      "metadata": {
        "id": "KgaXD3oOsGul"
      }
    },
    {
      "cell_type": "code",
      "source": [
        "# x_train_co = df['co'].values\n",
        "# x_train_o3 = df['o3'].values\n",
        "# x_train_no2 = df['no2'].values"
      ],
      "metadata": {
        "id": "H1dhoNKJsFBD"
      },
      "execution_count": 429,
      "outputs": []
    },
    {
      "cell_type": "code",
      "source": [
        "output_data_so2 = pd.DataFrame(columns = [\"so2\"])\n",
        "\n",
        "x_train_so2 = df['so2'].values\n",
        "\n",
        "train_set_so2 = windowed_dataset(x_train_so2, window_size, batch_size, shuffle_buffer_size)\n",
        "history_so2 = model.fit(train_set_so2, epochs=1)    "
      ],
      "metadata": {
        "colab": {
          "base_uri": "https://localhost:8080/"
        },
        "id": "5tnjuENusXcS",
        "outputId": "1416022c-d160-4967-e5bc-bca612db5a88"
      },
      "execution_count": 430,
      "outputs": [
        {
          "output_type": "stream",
          "name": "stdout",
          "text": [
            "525/525 [==============================] - 4s 7ms/step - loss: 4.9716 - mse: 89.4167 - mae: 5.4316\n"
          ]
        }
      ]
    },
    {
      "cell_type": "code",
      "source": [
        "#Forecasting\n",
        "data_temp_so2 = x_train_so2.copy()\n",
        "for j in range(NUM_FORECASTS):\n",
        "    so2_forecast = model_forecast(model, data_temp_so2[-window_size:, np.newaxis], batch_size, window_size)\n",
        "    so2_forecast = so2_forecast[:, -1, 0]\n",
        "    data_temp_so2 = np.append(data_temp_so2, round(so2_forecast[0]))\n",
        "    output_data_so2 = output_data_so2.append({\"so2\":round(so2_forecast[0])}, \n",
        "                                ignore_index=True)\n",
        "output_data_so2"
      ],
      "metadata": {
        "colab": {
          "base_uri": "https://localhost:8080/",
          "height": 986
        },
        "id": "1SPhGzZws2S5",
        "outputId": "59547a2b-a063-4a2d-ca42-6e87d87f6f6d"
      },
      "execution_count": 431,
      "outputs": [
        {
          "output_type": "execute_result",
          "data": {
            "text/html": [
              "<div>\n",
              "<style scoped>\n",
              "    .dataframe tbody tr th:only-of-type {\n",
              "        vertical-align: middle;\n",
              "    }\n",
              "\n",
              "    .dataframe tbody tr th {\n",
              "        vertical-align: top;\n",
              "    }\n",
              "\n",
              "    .dataframe thead th {\n",
              "        text-align: right;\n",
              "    }\n",
              "</style>\n",
              "<table border=\"1\" class=\"dataframe\">\n",
              "  <thead>\n",
              "    <tr style=\"text-align: right;\">\n",
              "      <th></th>\n",
              "      <th>so2</th>\n",
              "    </tr>\n",
              "  </thead>\n",
              "  <tbody>\n",
              "    <tr>\n",
              "      <th>0</th>\n",
              "      <td>50</td>\n",
              "    </tr>\n",
              "    <tr>\n",
              "      <th>1</th>\n",
              "      <td>50</td>\n",
              "    </tr>\n",
              "    <tr>\n",
              "      <th>2</th>\n",
              "      <td>50</td>\n",
              "    </tr>\n",
              "    <tr>\n",
              "      <th>3</th>\n",
              "      <td>50</td>\n",
              "    </tr>\n",
              "    <tr>\n",
              "      <th>4</th>\n",
              "      <td>50</td>\n",
              "    </tr>\n",
              "    <tr>\n",
              "      <th>5</th>\n",
              "      <td>50</td>\n",
              "    </tr>\n",
              "    <tr>\n",
              "      <th>6</th>\n",
              "      <td>50</td>\n",
              "    </tr>\n",
              "    <tr>\n",
              "      <th>7</th>\n",
              "      <td>50</td>\n",
              "    </tr>\n",
              "    <tr>\n",
              "      <th>8</th>\n",
              "      <td>50</td>\n",
              "    </tr>\n",
              "    <tr>\n",
              "      <th>9</th>\n",
              "      <td>50</td>\n",
              "    </tr>\n",
              "    <tr>\n",
              "      <th>10</th>\n",
              "      <td>50</td>\n",
              "    </tr>\n",
              "    <tr>\n",
              "      <th>11</th>\n",
              "      <td>50</td>\n",
              "    </tr>\n",
              "    <tr>\n",
              "      <th>12</th>\n",
              "      <td>50</td>\n",
              "    </tr>\n",
              "    <tr>\n",
              "      <th>13</th>\n",
              "      <td>50</td>\n",
              "    </tr>\n",
              "    <tr>\n",
              "      <th>14</th>\n",
              "      <td>50</td>\n",
              "    </tr>\n",
              "    <tr>\n",
              "      <th>15</th>\n",
              "      <td>50</td>\n",
              "    </tr>\n",
              "    <tr>\n",
              "      <th>16</th>\n",
              "      <td>50</td>\n",
              "    </tr>\n",
              "    <tr>\n",
              "      <th>17</th>\n",
              "      <td>50</td>\n",
              "    </tr>\n",
              "    <tr>\n",
              "      <th>18</th>\n",
              "      <td>50</td>\n",
              "    </tr>\n",
              "    <tr>\n",
              "      <th>19</th>\n",
              "      <td>50</td>\n",
              "    </tr>\n",
              "    <tr>\n",
              "      <th>20</th>\n",
              "      <td>50</td>\n",
              "    </tr>\n",
              "    <tr>\n",
              "      <th>21</th>\n",
              "      <td>50</td>\n",
              "    </tr>\n",
              "    <tr>\n",
              "      <th>22</th>\n",
              "      <td>50</td>\n",
              "    </tr>\n",
              "    <tr>\n",
              "      <th>23</th>\n",
              "      <td>50</td>\n",
              "    </tr>\n",
              "    <tr>\n",
              "      <th>24</th>\n",
              "      <td>50</td>\n",
              "    </tr>\n",
              "    <tr>\n",
              "      <th>25</th>\n",
              "      <td>50</td>\n",
              "    </tr>\n",
              "    <tr>\n",
              "      <th>26</th>\n",
              "      <td>50</td>\n",
              "    </tr>\n",
              "    <tr>\n",
              "      <th>27</th>\n",
              "      <td>50</td>\n",
              "    </tr>\n",
              "    <tr>\n",
              "      <th>28</th>\n",
              "      <td>50</td>\n",
              "    </tr>\n",
              "    <tr>\n",
              "      <th>29</th>\n",
              "      <td>50</td>\n",
              "    </tr>\n",
              "    <tr>\n",
              "      <th>30</th>\n",
              "      <td>50</td>\n",
              "    </tr>\n",
              "  </tbody>\n",
              "</table>\n",
              "</div>"
            ],
            "text/plain": [
              "   so2\n",
              "0   50\n",
              "1   50\n",
              "2   50\n",
              "3   50\n",
              "4   50\n",
              "5   50\n",
              "6   50\n",
              "7   50\n",
              "8   50\n",
              "9   50\n",
              "10  50\n",
              "11  50\n",
              "12  50\n",
              "13  50\n",
              "14  50\n",
              "15  50\n",
              "16  50\n",
              "17  50\n",
              "18  50\n",
              "19  50\n",
              "20  50\n",
              "21  50\n",
              "22  50\n",
              "23  50\n",
              "24  50\n",
              "25  50\n",
              "26  50\n",
              "27  50\n",
              "28  50\n",
              "29  50\n",
              "30  50"
            ]
          },
          "metadata": {},
          "execution_count": 431
        }
      ]
    },
    {
      "cell_type": "markdown",
      "source": [
        "##co"
      ],
      "metadata": {
        "id": "oXFL3Hpl6LRJ"
      }
    },
    {
      "cell_type": "code",
      "source": [
        "output_data_co = pd.DataFrame(columns = [\"co\"])\n",
        "\n",
        "x_train_co = df['co'].values\n",
        "\n",
        "train_set_co = windowed_dataset(x_train_co, window_size, batch_size, shuffle_buffer_size)\n",
        "history_co = model.fit(train_set_co, epochs=1)    "
      ],
      "metadata": {
        "colab": {
          "base_uri": "https://localhost:8080/"
        },
        "id": "6G5iT8_A6MKn",
        "outputId": "bdd29e06-3259-44f6-e55c-44f86bbbff99"
      },
      "execution_count": 432,
      "outputs": [
        {
          "output_type": "stream",
          "name": "stdout",
          "text": [
            "525/525 [==============================] - 4s 7ms/step - loss: 9.4969 - mse: 197.3237 - mae: 9.9835\n"
          ]
        }
      ]
    },
    {
      "cell_type": "code",
      "source": [
        "#Forecasting\n",
        "data_temp_co = x_train_co.copy()\n",
        "for j in range(NUM_FORECASTS):\n",
        "    co_forecast = model_forecast(model, data_temp_co[-window_size:, np.newaxis], batch_size, window_size)\n",
        "    co_forecast = co_forecast[:, -1, 0]\n",
        "    data_temp_co = np.append(data_temp_co, round(co_forecast[0]))\n",
        "    output_data_co = output_data_co.append({\"co\":round(co_forecast[0])}, \n",
        "                                ignore_index=True)\n",
        "output_data_co"
      ],
      "metadata": {
        "colab": {
          "base_uri": "https://localhost:8080/",
          "height": 986
        },
        "id": "3hukbp-c6YjK",
        "outputId": "f118e829-59fb-4909-bc50-be75233254ad"
      },
      "execution_count": 433,
      "outputs": [
        {
          "output_type": "execute_result",
          "data": {
            "text/html": [
              "<div>\n",
              "<style scoped>\n",
              "    .dataframe tbody tr th:only-of-type {\n",
              "        vertical-align: middle;\n",
              "    }\n",
              "\n",
              "    .dataframe tbody tr th {\n",
              "        vertical-align: top;\n",
              "    }\n",
              "\n",
              "    .dataframe thead th {\n",
              "        text-align: right;\n",
              "    }\n",
              "</style>\n",
              "<table border=\"1\" class=\"dataframe\">\n",
              "  <thead>\n",
              "    <tr style=\"text-align: right;\">\n",
              "      <th></th>\n",
              "      <th>co</th>\n",
              "    </tr>\n",
              "  </thead>\n",
              "  <tbody>\n",
              "    <tr>\n",
              "      <th>0</th>\n",
              "      <td>17</td>\n",
              "    </tr>\n",
              "    <tr>\n",
              "      <th>1</th>\n",
              "      <td>16</td>\n",
              "    </tr>\n",
              "    <tr>\n",
              "      <th>2</th>\n",
              "      <td>15</td>\n",
              "    </tr>\n",
              "    <tr>\n",
              "      <th>3</th>\n",
              "      <td>14</td>\n",
              "    </tr>\n",
              "    <tr>\n",
              "      <th>4</th>\n",
              "      <td>13</td>\n",
              "    </tr>\n",
              "    <tr>\n",
              "      <th>5</th>\n",
              "      <td>12</td>\n",
              "    </tr>\n",
              "    <tr>\n",
              "      <th>6</th>\n",
              "      <td>12</td>\n",
              "    </tr>\n",
              "    <tr>\n",
              "      <th>7</th>\n",
              "      <td>12</td>\n",
              "    </tr>\n",
              "    <tr>\n",
              "      <th>8</th>\n",
              "      <td>12</td>\n",
              "    </tr>\n",
              "    <tr>\n",
              "      <th>9</th>\n",
              "      <td>12</td>\n",
              "    </tr>\n",
              "    <tr>\n",
              "      <th>10</th>\n",
              "      <td>12</td>\n",
              "    </tr>\n",
              "    <tr>\n",
              "      <th>11</th>\n",
              "      <td>12</td>\n",
              "    </tr>\n",
              "    <tr>\n",
              "      <th>12</th>\n",
              "      <td>12</td>\n",
              "    </tr>\n",
              "    <tr>\n",
              "      <th>13</th>\n",
              "      <td>12</td>\n",
              "    </tr>\n",
              "    <tr>\n",
              "      <th>14</th>\n",
              "      <td>12</td>\n",
              "    </tr>\n",
              "    <tr>\n",
              "      <th>15</th>\n",
              "      <td>12</td>\n",
              "    </tr>\n",
              "    <tr>\n",
              "      <th>16</th>\n",
              "      <td>12</td>\n",
              "    </tr>\n",
              "    <tr>\n",
              "      <th>17</th>\n",
              "      <td>12</td>\n",
              "    </tr>\n",
              "    <tr>\n",
              "      <th>18</th>\n",
              "      <td>12</td>\n",
              "    </tr>\n",
              "    <tr>\n",
              "      <th>19</th>\n",
              "      <td>12</td>\n",
              "    </tr>\n",
              "    <tr>\n",
              "      <th>20</th>\n",
              "      <td>12</td>\n",
              "    </tr>\n",
              "    <tr>\n",
              "      <th>21</th>\n",
              "      <td>12</td>\n",
              "    </tr>\n",
              "    <tr>\n",
              "      <th>22</th>\n",
              "      <td>12</td>\n",
              "    </tr>\n",
              "    <tr>\n",
              "      <th>23</th>\n",
              "      <td>12</td>\n",
              "    </tr>\n",
              "    <tr>\n",
              "      <th>24</th>\n",
              "      <td>12</td>\n",
              "    </tr>\n",
              "    <tr>\n",
              "      <th>25</th>\n",
              "      <td>12</td>\n",
              "    </tr>\n",
              "    <tr>\n",
              "      <th>26</th>\n",
              "      <td>12</td>\n",
              "    </tr>\n",
              "    <tr>\n",
              "      <th>27</th>\n",
              "      <td>12</td>\n",
              "    </tr>\n",
              "    <tr>\n",
              "      <th>28</th>\n",
              "      <td>12</td>\n",
              "    </tr>\n",
              "    <tr>\n",
              "      <th>29</th>\n",
              "      <td>12</td>\n",
              "    </tr>\n",
              "    <tr>\n",
              "      <th>30</th>\n",
              "      <td>12</td>\n",
              "    </tr>\n",
              "  </tbody>\n",
              "</table>\n",
              "</div>"
            ],
            "text/plain": [
              "    co\n",
              "0   17\n",
              "1   16\n",
              "2   15\n",
              "3   14\n",
              "4   13\n",
              "5   12\n",
              "6   12\n",
              "7   12\n",
              "8   12\n",
              "9   12\n",
              "10  12\n",
              "11  12\n",
              "12  12\n",
              "13  12\n",
              "14  12\n",
              "15  12\n",
              "16  12\n",
              "17  12\n",
              "18  12\n",
              "19  12\n",
              "20  12\n",
              "21  12\n",
              "22  12\n",
              "23  12\n",
              "24  12\n",
              "25  12\n",
              "26  12\n",
              "27  12\n",
              "28  12\n",
              "29  12\n",
              "30  12"
            ]
          },
          "metadata": {},
          "execution_count": 433
        }
      ]
    },
    {
      "cell_type": "markdown",
      "source": [
        "##o3"
      ],
      "metadata": {
        "id": "oWIHqXHx6r9i"
      }
    },
    {
      "cell_type": "code",
      "source": [
        "output_data_o3 = pd.DataFrame(columns = [\"o3\"])\n",
        "\n",
        "x_train_o3 = df['o3'].values\n",
        "\n",
        "train_set_o3 = windowed_dataset(x_train_o3, window_size, batch_size, shuffle_buffer_size)\n",
        "history_o3 = model.fit(train_set_o3, epochs=1)    "
      ],
      "metadata": {
        "colab": {
          "base_uri": "https://localhost:8080/"
        },
        "id": "i3Gn6bhp6s8g",
        "outputId": "64020634-81da-4f4f-bec6-787130cfcd11"
      },
      "execution_count": 434,
      "outputs": [
        {
          "output_type": "stream",
          "name": "stdout",
          "text": [
            "525/525 [==============================] - 4s 7ms/step - loss: 32.2398 - mse: 2038.4353 - mae: 32.7356\n"
          ]
        }
      ]
    },
    {
      "cell_type": "code",
      "source": [
        "#Forecasting\n",
        "data_temp_o3 = x_train_o3.copy()\n",
        "for j in range(NUM_FORECASTS):\n",
        "    o3_forecast = model_forecast(model, data_temp_o3[-window_size:, np.newaxis], batch_size, window_size)\n",
        "    o3_forecast = o3_forecast[:, -1, 0]\n",
        "    data_temp_o3 = np.append(data_temp_o3, round(o3_forecast[0]))\n",
        "    output_data_o3 = output_data_o3.append({\"o3\":round(o3_forecast[0])}, \n",
        "                                ignore_index=True)\n",
        "output_data_o3"
      ],
      "metadata": {
        "colab": {
          "base_uri": "https://localhost:8080/",
          "height": 986
        },
        "id": "g47U-hub6tQn",
        "outputId": "c57674a8-6d8e-40a5-c363-75ae4c16bfcd"
      },
      "execution_count": 435,
      "outputs": [
        {
          "output_type": "execute_result",
          "data": {
            "text/html": [
              "<div>\n",
              "<style scoped>\n",
              "    .dataframe tbody tr th:only-of-type {\n",
              "        vertical-align: middle;\n",
              "    }\n",
              "\n",
              "    .dataframe tbody tr th {\n",
              "        vertical-align: top;\n",
              "    }\n",
              "\n",
              "    .dataframe thead th {\n",
              "        text-align: right;\n",
              "    }\n",
              "</style>\n",
              "<table border=\"1\" class=\"dataframe\">\n",
              "  <thead>\n",
              "    <tr style=\"text-align: right;\">\n",
              "      <th></th>\n",
              "      <th>o3</th>\n",
              "    </tr>\n",
              "  </thead>\n",
              "  <tbody>\n",
              "    <tr>\n",
              "      <th>0</th>\n",
              "      <td>66</td>\n",
              "    </tr>\n",
              "    <tr>\n",
              "      <th>1</th>\n",
              "      <td>67</td>\n",
              "    </tr>\n",
              "    <tr>\n",
              "      <th>2</th>\n",
              "      <td>68</td>\n",
              "    </tr>\n",
              "    <tr>\n",
              "      <th>3</th>\n",
              "      <td>69</td>\n",
              "    </tr>\n",
              "    <tr>\n",
              "      <th>4</th>\n",
              "      <td>70</td>\n",
              "    </tr>\n",
              "    <tr>\n",
              "      <th>5</th>\n",
              "      <td>71</td>\n",
              "    </tr>\n",
              "    <tr>\n",
              "      <th>6</th>\n",
              "      <td>72</td>\n",
              "    </tr>\n",
              "    <tr>\n",
              "      <th>7</th>\n",
              "      <td>73</td>\n",
              "    </tr>\n",
              "    <tr>\n",
              "      <th>8</th>\n",
              "      <td>74</td>\n",
              "    </tr>\n",
              "    <tr>\n",
              "      <th>9</th>\n",
              "      <td>75</td>\n",
              "    </tr>\n",
              "    <tr>\n",
              "      <th>10</th>\n",
              "      <td>76</td>\n",
              "    </tr>\n",
              "    <tr>\n",
              "      <th>11</th>\n",
              "      <td>77</td>\n",
              "    </tr>\n",
              "    <tr>\n",
              "      <th>12</th>\n",
              "      <td>78</td>\n",
              "    </tr>\n",
              "    <tr>\n",
              "      <th>13</th>\n",
              "      <td>79</td>\n",
              "    </tr>\n",
              "    <tr>\n",
              "      <th>14</th>\n",
              "      <td>80</td>\n",
              "    </tr>\n",
              "    <tr>\n",
              "      <th>15</th>\n",
              "      <td>81</td>\n",
              "    </tr>\n",
              "    <tr>\n",
              "      <th>16</th>\n",
              "      <td>82</td>\n",
              "    </tr>\n",
              "    <tr>\n",
              "      <th>17</th>\n",
              "      <td>83</td>\n",
              "    </tr>\n",
              "    <tr>\n",
              "      <th>18</th>\n",
              "      <td>84</td>\n",
              "    </tr>\n",
              "    <tr>\n",
              "      <th>19</th>\n",
              "      <td>85</td>\n",
              "    </tr>\n",
              "    <tr>\n",
              "      <th>20</th>\n",
              "      <td>86</td>\n",
              "    </tr>\n",
              "    <tr>\n",
              "      <th>21</th>\n",
              "      <td>87</td>\n",
              "    </tr>\n",
              "    <tr>\n",
              "      <th>22</th>\n",
              "      <td>88</td>\n",
              "    </tr>\n",
              "    <tr>\n",
              "      <th>23</th>\n",
              "      <td>89</td>\n",
              "    </tr>\n",
              "    <tr>\n",
              "      <th>24</th>\n",
              "      <td>90</td>\n",
              "    </tr>\n",
              "    <tr>\n",
              "      <th>25</th>\n",
              "      <td>91</td>\n",
              "    </tr>\n",
              "    <tr>\n",
              "      <th>26</th>\n",
              "      <td>92</td>\n",
              "    </tr>\n",
              "    <tr>\n",
              "      <th>27</th>\n",
              "      <td>93</td>\n",
              "    </tr>\n",
              "    <tr>\n",
              "      <th>28</th>\n",
              "      <td>94</td>\n",
              "    </tr>\n",
              "    <tr>\n",
              "      <th>29</th>\n",
              "      <td>95</td>\n",
              "    </tr>\n",
              "    <tr>\n",
              "      <th>30</th>\n",
              "      <td>96</td>\n",
              "    </tr>\n",
              "  </tbody>\n",
              "</table>\n",
              "</div>"
            ],
            "text/plain": [
              "    o3\n",
              "0   66\n",
              "1   67\n",
              "2   68\n",
              "3   69\n",
              "4   70\n",
              "5   71\n",
              "6   72\n",
              "7   73\n",
              "8   74\n",
              "9   75\n",
              "10  76\n",
              "11  77\n",
              "12  78\n",
              "13  79\n",
              "14  80\n",
              "15  81\n",
              "16  82\n",
              "17  83\n",
              "18  84\n",
              "19  85\n",
              "20  86\n",
              "21  87\n",
              "22  88\n",
              "23  89\n",
              "24  90\n",
              "25  91\n",
              "26  92\n",
              "27  93\n",
              "28  94\n",
              "29  95\n",
              "30  96"
            ]
          },
          "metadata": {},
          "execution_count": 435
        }
      ]
    },
    {
      "cell_type": "markdown",
      "source": [
        "##no2"
      ],
      "metadata": {
        "id": "Qvsyn7R87NWN"
      }
    },
    {
      "cell_type": "code",
      "source": [
        "output_data_no2 = pd.DataFrame(columns = [\"no2\"])\n",
        "\n",
        "x_train_no2 = df['no2'].values\n",
        "\n",
        "train_set_no2 = windowed_dataset(x_train_no2, window_size, batch_size, shuffle_buffer_size)\n",
        "history_no2 = model.fit(train_set_no2, epochs=1)    "
      ],
      "metadata": {
        "colab": {
          "base_uri": "https://localhost:8080/"
        },
        "id": "Gfqn01NR7Oxo",
        "outputId": "ab1b51a1-ffc1-413b-cd60-0d1779b9a97e"
      },
      "execution_count": 436,
      "outputs": [
        {
          "output_type": "stream",
          "name": "stdout",
          "text": [
            "525/525 [==============================] - 4s 7ms/step - loss: 5.7754 - mse: 105.4949 - mae: 6.2543\n"
          ]
        }
      ]
    },
    {
      "cell_type": "code",
      "source": [
        "#Forecasting\n",
        "data_temp_no2 = x_train_no2.copy()\n",
        "for j in range(NUM_FORECASTS):\n",
        "    no2_forecast = model_forecast(model, data_temp_no2[-window_size:, np.newaxis], batch_size, window_size)\n",
        "    no2_forecast = no2_forecast[:, -1, 0]\n",
        "    data_temp_no2 = np.append(data_temp_so2, round(no2_forecast[0]))\n",
        "    output_data_no2 = output_data_no2.append({\"no2\":round(no2_forecast[0])}, \n",
        "                                ignore_index=True)\n",
        "output_data_no2"
      ],
      "metadata": {
        "colab": {
          "base_uri": "https://localhost:8080/",
          "height": 986
        },
        "id": "P3pCXlgb7gcp",
        "outputId": "ee3bcea6-3c07-447b-e22e-2cc2803f7a68"
      },
      "execution_count": 437,
      "outputs": [
        {
          "output_type": "execute_result",
          "data": {
            "text/html": [
              "<div>\n",
              "<style scoped>\n",
              "    .dataframe tbody tr th:only-of-type {\n",
              "        vertical-align: middle;\n",
              "    }\n",
              "\n",
              "    .dataframe tbody tr th {\n",
              "        vertical-align: top;\n",
              "    }\n",
              "\n",
              "    .dataframe thead th {\n",
              "        text-align: right;\n",
              "    }\n",
              "</style>\n",
              "<table border=\"1\" class=\"dataframe\">\n",
              "  <thead>\n",
              "    <tr style=\"text-align: right;\">\n",
              "      <th></th>\n",
              "      <th>no2</th>\n",
              "    </tr>\n",
              "  </thead>\n",
              "  <tbody>\n",
              "    <tr>\n",
              "      <th>0</th>\n",
              "      <td>26</td>\n",
              "    </tr>\n",
              "    <tr>\n",
              "      <th>1</th>\n",
              "      <td>23</td>\n",
              "    </tr>\n",
              "    <tr>\n",
              "      <th>2</th>\n",
              "      <td>21</td>\n",
              "    </tr>\n",
              "    <tr>\n",
              "      <th>3</th>\n",
              "      <td>19</td>\n",
              "    </tr>\n",
              "    <tr>\n",
              "      <th>4</th>\n",
              "      <td>17</td>\n",
              "    </tr>\n",
              "    <tr>\n",
              "      <th>5</th>\n",
              "      <td>16</td>\n",
              "    </tr>\n",
              "    <tr>\n",
              "      <th>6</th>\n",
              "      <td>15</td>\n",
              "    </tr>\n",
              "    <tr>\n",
              "      <th>7</th>\n",
              "      <td>14</td>\n",
              "    </tr>\n",
              "    <tr>\n",
              "      <th>8</th>\n",
              "      <td>13</td>\n",
              "    </tr>\n",
              "    <tr>\n",
              "      <th>9</th>\n",
              "      <td>12</td>\n",
              "    </tr>\n",
              "    <tr>\n",
              "      <th>10</th>\n",
              "      <td>11</td>\n",
              "    </tr>\n",
              "    <tr>\n",
              "      <th>11</th>\n",
              "      <td>11</td>\n",
              "    </tr>\n",
              "    <tr>\n",
              "      <th>12</th>\n",
              "      <td>11</td>\n",
              "    </tr>\n",
              "    <tr>\n",
              "      <th>13</th>\n",
              "      <td>11</td>\n",
              "    </tr>\n",
              "    <tr>\n",
              "      <th>14</th>\n",
              "      <td>11</td>\n",
              "    </tr>\n",
              "    <tr>\n",
              "      <th>15</th>\n",
              "      <td>11</td>\n",
              "    </tr>\n",
              "    <tr>\n",
              "      <th>16</th>\n",
              "      <td>11</td>\n",
              "    </tr>\n",
              "    <tr>\n",
              "      <th>17</th>\n",
              "      <td>11</td>\n",
              "    </tr>\n",
              "    <tr>\n",
              "      <th>18</th>\n",
              "      <td>11</td>\n",
              "    </tr>\n",
              "    <tr>\n",
              "      <th>19</th>\n",
              "      <td>11</td>\n",
              "    </tr>\n",
              "    <tr>\n",
              "      <th>20</th>\n",
              "      <td>11</td>\n",
              "    </tr>\n",
              "    <tr>\n",
              "      <th>21</th>\n",
              "      <td>11</td>\n",
              "    </tr>\n",
              "    <tr>\n",
              "      <th>22</th>\n",
              "      <td>11</td>\n",
              "    </tr>\n",
              "    <tr>\n",
              "      <th>23</th>\n",
              "      <td>11</td>\n",
              "    </tr>\n",
              "    <tr>\n",
              "      <th>24</th>\n",
              "      <td>11</td>\n",
              "    </tr>\n",
              "    <tr>\n",
              "      <th>25</th>\n",
              "      <td>11</td>\n",
              "    </tr>\n",
              "    <tr>\n",
              "      <th>26</th>\n",
              "      <td>11</td>\n",
              "    </tr>\n",
              "    <tr>\n",
              "      <th>27</th>\n",
              "      <td>11</td>\n",
              "    </tr>\n",
              "    <tr>\n",
              "      <th>28</th>\n",
              "      <td>11</td>\n",
              "    </tr>\n",
              "    <tr>\n",
              "      <th>29</th>\n",
              "      <td>11</td>\n",
              "    </tr>\n",
              "    <tr>\n",
              "      <th>30</th>\n",
              "      <td>11</td>\n",
              "    </tr>\n",
              "  </tbody>\n",
              "</table>\n",
              "</div>"
            ],
            "text/plain": [
              "   no2\n",
              "0   26\n",
              "1   23\n",
              "2   21\n",
              "3   19\n",
              "4   17\n",
              "5   16\n",
              "6   15\n",
              "7   14\n",
              "8   13\n",
              "9   12\n",
              "10  11\n",
              "11  11\n",
              "12  11\n",
              "13  11\n",
              "14  11\n",
              "15  11\n",
              "16  11\n",
              "17  11\n",
              "18  11\n",
              "19  11\n",
              "20  11\n",
              "21  11\n",
              "22  11\n",
              "23  11\n",
              "24  11\n",
              "25  11\n",
              "26  11\n",
              "27  11\n",
              "28  11\n",
              "29  11\n",
              "30  11"
            ]
          },
          "metadata": {},
          "execution_count": 437
        }
      ]
    },
    {
      "cell_type": "code",
      "source": [
        "df_predict = pd.DataFrame()\n",
        "df_predict = pd.concat([output_data_pm10, output_data_so2, output_data_co, output_data_o3, output_data_no2], axis=1)\n",
        "df_predict"
      ],
      "metadata": {
        "colab": {
          "base_uri": "https://localhost:8080/",
          "height": 986
        },
        "id": "9X7PA-PT8Ebp",
        "outputId": "aed003ad-bbbc-4f16-d54f-2792ec8dadd8"
      },
      "execution_count": 438,
      "outputs": [
        {
          "output_type": "execute_result",
          "data": {
            "text/html": [
              "<div>\n",
              "<style scoped>\n",
              "    .dataframe tbody tr th:only-of-type {\n",
              "        vertical-align: middle;\n",
              "    }\n",
              "\n",
              "    .dataframe tbody tr th {\n",
              "        vertical-align: top;\n",
              "    }\n",
              "\n",
              "    .dataframe thead th {\n",
              "        text-align: right;\n",
              "    }\n",
              "</style>\n",
              "<table border=\"1\" class=\"dataframe\">\n",
              "  <thead>\n",
              "    <tr style=\"text-align: right;\">\n",
              "      <th></th>\n",
              "      <th>tanggal</th>\n",
              "      <th>pm10</th>\n",
              "      <th>so2</th>\n",
              "      <th>co</th>\n",
              "      <th>o3</th>\n",
              "      <th>no2</th>\n",
              "    </tr>\n",
              "  </thead>\n",
              "  <tbody>\n",
              "    <tr>\n",
              "      <th>0</th>\n",
              "      <td>2021-08-01</td>\n",
              "      <td>63</td>\n",
              "      <td>50</td>\n",
              "      <td>17</td>\n",
              "      <td>66</td>\n",
              "      <td>26</td>\n",
              "    </tr>\n",
              "    <tr>\n",
              "      <th>1</th>\n",
              "      <td>2021-08-02</td>\n",
              "      <td>63</td>\n",
              "      <td>50</td>\n",
              "      <td>16</td>\n",
              "      <td>67</td>\n",
              "      <td>23</td>\n",
              "    </tr>\n",
              "    <tr>\n",
              "      <th>2</th>\n",
              "      <td>2021-08-03</td>\n",
              "      <td>63</td>\n",
              "      <td>50</td>\n",
              "      <td>15</td>\n",
              "      <td>68</td>\n",
              "      <td>21</td>\n",
              "    </tr>\n",
              "    <tr>\n",
              "      <th>3</th>\n",
              "      <td>2021-08-04</td>\n",
              "      <td>63</td>\n",
              "      <td>50</td>\n",
              "      <td>14</td>\n",
              "      <td>69</td>\n",
              "      <td>19</td>\n",
              "    </tr>\n",
              "    <tr>\n",
              "      <th>4</th>\n",
              "      <td>2021-08-05</td>\n",
              "      <td>63</td>\n",
              "      <td>50</td>\n",
              "      <td>13</td>\n",
              "      <td>70</td>\n",
              "      <td>17</td>\n",
              "    </tr>\n",
              "    <tr>\n",
              "      <th>5</th>\n",
              "      <td>2021-08-06</td>\n",
              "      <td>63</td>\n",
              "      <td>50</td>\n",
              "      <td>12</td>\n",
              "      <td>71</td>\n",
              "      <td>16</td>\n",
              "    </tr>\n",
              "    <tr>\n",
              "      <th>6</th>\n",
              "      <td>2021-08-07</td>\n",
              "      <td>63</td>\n",
              "      <td>50</td>\n",
              "      <td>12</td>\n",
              "      <td>72</td>\n",
              "      <td>15</td>\n",
              "    </tr>\n",
              "    <tr>\n",
              "      <th>7</th>\n",
              "      <td>2021-08-08</td>\n",
              "      <td>63</td>\n",
              "      <td>50</td>\n",
              "      <td>12</td>\n",
              "      <td>73</td>\n",
              "      <td>14</td>\n",
              "    </tr>\n",
              "    <tr>\n",
              "      <th>8</th>\n",
              "      <td>2021-08-09</td>\n",
              "      <td>63</td>\n",
              "      <td>50</td>\n",
              "      <td>12</td>\n",
              "      <td>74</td>\n",
              "      <td>13</td>\n",
              "    </tr>\n",
              "    <tr>\n",
              "      <th>9</th>\n",
              "      <td>2021-08-10</td>\n",
              "      <td>63</td>\n",
              "      <td>50</td>\n",
              "      <td>12</td>\n",
              "      <td>75</td>\n",
              "      <td>12</td>\n",
              "    </tr>\n",
              "    <tr>\n",
              "      <th>10</th>\n",
              "      <td>2021-08-11</td>\n",
              "      <td>63</td>\n",
              "      <td>50</td>\n",
              "      <td>12</td>\n",
              "      <td>76</td>\n",
              "      <td>11</td>\n",
              "    </tr>\n",
              "    <tr>\n",
              "      <th>11</th>\n",
              "      <td>2021-08-12</td>\n",
              "      <td>63</td>\n",
              "      <td>50</td>\n",
              "      <td>12</td>\n",
              "      <td>77</td>\n",
              "      <td>11</td>\n",
              "    </tr>\n",
              "    <tr>\n",
              "      <th>12</th>\n",
              "      <td>2021-08-13</td>\n",
              "      <td>63</td>\n",
              "      <td>50</td>\n",
              "      <td>12</td>\n",
              "      <td>78</td>\n",
              "      <td>11</td>\n",
              "    </tr>\n",
              "    <tr>\n",
              "      <th>13</th>\n",
              "      <td>2021-08-14</td>\n",
              "      <td>63</td>\n",
              "      <td>50</td>\n",
              "      <td>12</td>\n",
              "      <td>79</td>\n",
              "      <td>11</td>\n",
              "    </tr>\n",
              "    <tr>\n",
              "      <th>14</th>\n",
              "      <td>2021-08-15</td>\n",
              "      <td>63</td>\n",
              "      <td>50</td>\n",
              "      <td>12</td>\n",
              "      <td>80</td>\n",
              "      <td>11</td>\n",
              "    </tr>\n",
              "    <tr>\n",
              "      <th>15</th>\n",
              "      <td>2021-08-16</td>\n",
              "      <td>63</td>\n",
              "      <td>50</td>\n",
              "      <td>12</td>\n",
              "      <td>81</td>\n",
              "      <td>11</td>\n",
              "    </tr>\n",
              "    <tr>\n",
              "      <th>16</th>\n",
              "      <td>2021-08-17</td>\n",
              "      <td>63</td>\n",
              "      <td>50</td>\n",
              "      <td>12</td>\n",
              "      <td>82</td>\n",
              "      <td>11</td>\n",
              "    </tr>\n",
              "    <tr>\n",
              "      <th>17</th>\n",
              "      <td>2021-08-18</td>\n",
              "      <td>63</td>\n",
              "      <td>50</td>\n",
              "      <td>12</td>\n",
              "      <td>83</td>\n",
              "      <td>11</td>\n",
              "    </tr>\n",
              "    <tr>\n",
              "      <th>18</th>\n",
              "      <td>2021-08-19</td>\n",
              "      <td>63</td>\n",
              "      <td>50</td>\n",
              "      <td>12</td>\n",
              "      <td>84</td>\n",
              "      <td>11</td>\n",
              "    </tr>\n",
              "    <tr>\n",
              "      <th>19</th>\n",
              "      <td>2021-08-20</td>\n",
              "      <td>63</td>\n",
              "      <td>50</td>\n",
              "      <td>12</td>\n",
              "      <td>85</td>\n",
              "      <td>11</td>\n",
              "    </tr>\n",
              "    <tr>\n",
              "      <th>20</th>\n",
              "      <td>2021-08-21</td>\n",
              "      <td>63</td>\n",
              "      <td>50</td>\n",
              "      <td>12</td>\n",
              "      <td>86</td>\n",
              "      <td>11</td>\n",
              "    </tr>\n",
              "    <tr>\n",
              "      <th>21</th>\n",
              "      <td>2021-08-22</td>\n",
              "      <td>63</td>\n",
              "      <td>50</td>\n",
              "      <td>12</td>\n",
              "      <td>87</td>\n",
              "      <td>11</td>\n",
              "    </tr>\n",
              "    <tr>\n",
              "      <th>22</th>\n",
              "      <td>2021-08-23</td>\n",
              "      <td>63</td>\n",
              "      <td>50</td>\n",
              "      <td>12</td>\n",
              "      <td>88</td>\n",
              "      <td>11</td>\n",
              "    </tr>\n",
              "    <tr>\n",
              "      <th>23</th>\n",
              "      <td>2021-08-24</td>\n",
              "      <td>63</td>\n",
              "      <td>50</td>\n",
              "      <td>12</td>\n",
              "      <td>89</td>\n",
              "      <td>11</td>\n",
              "    </tr>\n",
              "    <tr>\n",
              "      <th>24</th>\n",
              "      <td>2021-08-25</td>\n",
              "      <td>63</td>\n",
              "      <td>50</td>\n",
              "      <td>12</td>\n",
              "      <td>90</td>\n",
              "      <td>11</td>\n",
              "    </tr>\n",
              "    <tr>\n",
              "      <th>25</th>\n",
              "      <td>2021-08-26</td>\n",
              "      <td>63</td>\n",
              "      <td>50</td>\n",
              "      <td>12</td>\n",
              "      <td>91</td>\n",
              "      <td>11</td>\n",
              "    </tr>\n",
              "    <tr>\n",
              "      <th>26</th>\n",
              "      <td>2021-08-27</td>\n",
              "      <td>63</td>\n",
              "      <td>50</td>\n",
              "      <td>12</td>\n",
              "      <td>92</td>\n",
              "      <td>11</td>\n",
              "    </tr>\n",
              "    <tr>\n",
              "      <th>27</th>\n",
              "      <td>2021-08-28</td>\n",
              "      <td>63</td>\n",
              "      <td>50</td>\n",
              "      <td>12</td>\n",
              "      <td>93</td>\n",
              "      <td>11</td>\n",
              "    </tr>\n",
              "    <tr>\n",
              "      <th>28</th>\n",
              "      <td>2021-08-29</td>\n",
              "      <td>63</td>\n",
              "      <td>50</td>\n",
              "      <td>12</td>\n",
              "      <td>94</td>\n",
              "      <td>11</td>\n",
              "    </tr>\n",
              "    <tr>\n",
              "      <th>29</th>\n",
              "      <td>2021-08-30</td>\n",
              "      <td>63</td>\n",
              "      <td>50</td>\n",
              "      <td>12</td>\n",
              "      <td>95</td>\n",
              "      <td>11</td>\n",
              "    </tr>\n",
              "    <tr>\n",
              "      <th>30</th>\n",
              "      <td>2021-08-31</td>\n",
              "      <td>63</td>\n",
              "      <td>50</td>\n",
              "      <td>12</td>\n",
              "      <td>96</td>\n",
              "      <td>11</td>\n",
              "    </tr>\n",
              "  </tbody>\n",
              "</table>\n",
              "</div>"
            ],
            "text/plain": [
              "      tanggal pm10 so2  co  o3 no2\n",
              "0  2021-08-01   63  50  17  66  26\n",
              "1  2021-08-02   63  50  16  67  23\n",
              "2  2021-08-03   63  50  15  68  21\n",
              "3  2021-08-04   63  50  14  69  19\n",
              "4  2021-08-05   63  50  13  70  17\n",
              "5  2021-08-06   63  50  12  71  16\n",
              "6  2021-08-07   63  50  12  72  15\n",
              "7  2021-08-08   63  50  12  73  14\n",
              "8  2021-08-09   63  50  12  74  13\n",
              "9  2021-08-10   63  50  12  75  12\n",
              "10 2021-08-11   63  50  12  76  11\n",
              "11 2021-08-12   63  50  12  77  11\n",
              "12 2021-08-13   63  50  12  78  11\n",
              "13 2021-08-14   63  50  12  79  11\n",
              "14 2021-08-15   63  50  12  80  11\n",
              "15 2021-08-16   63  50  12  81  11\n",
              "16 2021-08-17   63  50  12  82  11\n",
              "17 2021-08-18   63  50  12  83  11\n",
              "18 2021-08-19   63  50  12  84  11\n",
              "19 2021-08-20   63  50  12  85  11\n",
              "20 2021-08-21   63  50  12  86  11\n",
              "21 2021-08-22   63  50  12  87  11\n",
              "22 2021-08-23   63  50  12  88  11\n",
              "23 2021-08-24   63  50  12  89  11\n",
              "24 2021-08-25   63  50  12  90  11\n",
              "25 2021-08-26   63  50  12  91  11\n",
              "26 2021-08-27   63  50  12  92  11\n",
              "27 2021-08-28   63  50  12  93  11\n",
              "28 2021-08-29   63  50  12  94  11\n",
              "29 2021-08-30   63  50  12  95  11\n",
              "30 2021-08-31   63  50  12  96  11"
            ]
          },
          "metadata": {},
          "execution_count": 438
        }
      ]
    },
    {
      "cell_type": "code",
      "source": [
        "df_predict.to_csv(\"air_pollution_prediction.csv\", index=False)"
      ],
      "metadata": {
        "id": "Ow3VhjwZ-ejP"
      },
      "execution_count": 443,
      "outputs": []
    }
  ]
}