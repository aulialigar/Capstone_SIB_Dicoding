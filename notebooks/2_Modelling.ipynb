{
  "nbformat": 4,
  "nbformat_minor": 0,
  "metadata": {
    "colab": {
      "name": "2_Modelling.ipynb",
      "provenance": [],
      "collapsed_sections": [
        "mrbboybnkPJB"
      ],
      "include_colab_link": true
    },
    "kernelspec": {
      "name": "python3",
      "display_name": "Python 3"
    },
    "language_info": {
      "name": "python"
    },
    "accelerator": "GPU"
  },
  "cells": [
    {
      "cell_type": "markdown",
      "metadata": {
        "id": "view-in-github",
        "colab_type": "text"
      },
      "source": [
        "<a href=\"https://colab.research.google.com/github/aulialigar/Capstone_SIB_Dicoding/blob/main/2_Modelling.ipynb\" target=\"_parent\"><img src=\"https://colab.research.google.com/assets/colab-badge.svg\" alt=\"Open In Colab\"/></a>"
      ]
    },
    {
      "cell_type": "code",
      "metadata": {
        "id": "yXKPktp76FCP"
      },
      "source": [
        "import re\n",
        "import os\n",
        "import pandas as pd\n",
        "import numpy as np\n",
        "import matplotlib.pyplot as plt\n",
        "import seaborn as sns\n",
        "import tensorflow as tf"
      ],
      "execution_count": null,
      "outputs": []
    },
    {
      "cell_type": "code",
      "metadata": {
        "colab": {
          "base_uri": "https://localhost:8080/"
        },
        "id": "jEROEEkc6Q_9",
        "outputId": "855fc6d2-b711-4f31-fe30-d82787b67b8d"
      },
      "source": [
        "from google.colab import drive\n",
        "drive.mount('/content/drive')"
      ],
      "execution_count": null,
      "outputs": [
        {
          "output_type": "stream",
          "name": "stdout",
          "text": [
            "Mounted at /content/drive\n"
          ]
        }
      ]
    },
    {
      "cell_type": "code",
      "metadata": {
        "colab": {
          "base_uri": "https://localhost:8080/"
        },
        "id": "FahyBJoa6RY3",
        "outputId": "ff789789-d4dc-4e55-c5b1-6f12f8ee664b"
      },
      "source": [
        "!unzip drive/MyDrive/data.zip -d data/"
      ],
      "execution_count": null,
      "outputs": [
        {
          "output_type": "stream",
          "name": "stdout",
          "text": [
            "Archive:  drive/MyDrive/data.zip\n",
            "  inflating: data/test_data_classification.csv  \n",
            "  inflating: data/train_data_classification.csv  \n",
            "  inflating: data/data_forecasting_final.csv  \n"
          ]
        }
      ]
    },
    {
      "cell_type": "markdown",
      "metadata": {
        "id": "Wsto5hu-58Rk"
      },
      "source": [
        "Menampilkan dataset"
      ]
    },
    {
      "cell_type": "code",
      "metadata": {
        "colab": {
          "base_uri": "https://localhost:8080/",
          "height": 408
        },
        "id": "gWjrMT_h54Zd",
        "outputId": "edb5ced2-3a1c-4495-e9d8-47e0090b054b"
      },
      "source": [
        "df = pd.read_csv(\"data/data_forecasting_final.csv\")\n",
        "df"
      ],
      "execution_count": null,
      "outputs": [
        {
          "output_type": "execute_result",
          "data": {
            "text/html": [
              "<div>\n",
              "<style scoped>\n",
              "    .dataframe tbody tr th:only-of-type {\n",
              "        vertical-align: middle;\n",
              "    }\n",
              "\n",
              "    .dataframe tbody tr th {\n",
              "        vertical-align: top;\n",
              "    }\n",
              "\n",
              "    .dataframe thead th {\n",
              "        text-align: right;\n",
              "    }\n",
              "</style>\n",
              "<table border=\"1\" class=\"dataframe\">\n",
              "  <thead>\n",
              "    <tr style=\"text-align: right;\">\n",
              "      <th></th>\n",
              "      <th>tanggal</th>\n",
              "      <th>pm10</th>\n",
              "      <th>so2</th>\n",
              "      <th>co</th>\n",
              "      <th>o3</th>\n",
              "      <th>no2</th>\n",
              "    </tr>\n",
              "  </thead>\n",
              "  <tbody>\n",
              "    <tr>\n",
              "      <th>0</th>\n",
              "      <td>2010-01-01</td>\n",
              "      <td>60.0</td>\n",
              "      <td>4.0</td>\n",
              "      <td>73.0</td>\n",
              "      <td>27.0</td>\n",
              "      <td>14.0</td>\n",
              "    </tr>\n",
              "    <tr>\n",
              "      <th>1</th>\n",
              "      <td>2010-01-02</td>\n",
              "      <td>32.0</td>\n",
              "      <td>2.0</td>\n",
              "      <td>16.0</td>\n",
              "      <td>33.0</td>\n",
              "      <td>9.0</td>\n",
              "    </tr>\n",
              "    <tr>\n",
              "      <th>2</th>\n",
              "      <td>2010-01-03</td>\n",
              "      <td>27.0</td>\n",
              "      <td>2.0</td>\n",
              "      <td>19.0</td>\n",
              "      <td>20.0</td>\n",
              "      <td>9.0</td>\n",
              "    </tr>\n",
              "    <tr>\n",
              "      <th>3</th>\n",
              "      <td>2010-01-04</td>\n",
              "      <td>22.0</td>\n",
              "      <td>2.0</td>\n",
              "      <td>16.0</td>\n",
              "      <td>15.0</td>\n",
              "      <td>6.0</td>\n",
              "    </tr>\n",
              "    <tr>\n",
              "      <th>4</th>\n",
              "      <td>2010-01-05</td>\n",
              "      <td>25.0</td>\n",
              "      <td>2.0</td>\n",
              "      <td>17.0</td>\n",
              "      <td>15.0</td>\n",
              "      <td>8.0</td>\n",
              "    </tr>\n",
              "    <tr>\n",
              "      <th>...</th>\n",
              "      <td>...</td>\n",
              "      <td>...</td>\n",
              "      <td>...</td>\n",
              "      <td>...</td>\n",
              "      <td>...</td>\n",
              "      <td>...</td>\n",
              "    </tr>\n",
              "    <tr>\n",
              "      <th>4225</th>\n",
              "      <td>2021-07-27</td>\n",
              "      <td>82.0</td>\n",
              "      <td>56.0</td>\n",
              "      <td>13.0</td>\n",
              "      <td>41.0</td>\n",
              "      <td>35.0</td>\n",
              "    </tr>\n",
              "    <tr>\n",
              "      <th>4226</th>\n",
              "      <td>2021-07-28</td>\n",
              "      <td>82.0</td>\n",
              "      <td>53.0</td>\n",
              "      <td>18.0</td>\n",
              "      <td>40.0</td>\n",
              "      <td>45.0</td>\n",
              "    </tr>\n",
              "    <tr>\n",
              "      <th>4227</th>\n",
              "      <td>2021-07-29</td>\n",
              "      <td>78.0</td>\n",
              "      <td>52.0</td>\n",
              "      <td>18.0</td>\n",
              "      <td>53.0</td>\n",
              "      <td>39.0</td>\n",
              "    </tr>\n",
              "    <tr>\n",
              "      <th>4228</th>\n",
              "      <td>2021-07-30</td>\n",
              "      <td>90.0</td>\n",
              "      <td>54.0</td>\n",
              "      <td>15.0</td>\n",
              "      <td>81.0</td>\n",
              "      <td>35.0</td>\n",
              "    </tr>\n",
              "    <tr>\n",
              "      <th>4229</th>\n",
              "      <td>2021-07-31</td>\n",
              "      <td>63.0</td>\n",
              "      <td>50.0</td>\n",
              "      <td>18.0</td>\n",
              "      <td>65.0</td>\n",
              "      <td>29.0</td>\n",
              "    </tr>\n",
              "  </tbody>\n",
              "</table>\n",
              "<p>4230 rows × 6 columns</p>\n",
              "</div>"
            ],
            "text/plain": [
              "         tanggal  pm10   so2    co    o3   no2\n",
              "0     2010-01-01  60.0   4.0  73.0  27.0  14.0\n",
              "1     2010-01-02  32.0   2.0  16.0  33.0   9.0\n",
              "2     2010-01-03  27.0   2.0  19.0  20.0   9.0\n",
              "3     2010-01-04  22.0   2.0  16.0  15.0   6.0\n",
              "4     2010-01-05  25.0   2.0  17.0  15.0   8.0\n",
              "...          ...   ...   ...   ...   ...   ...\n",
              "4225  2021-07-27  82.0  56.0  13.0  41.0  35.0\n",
              "4226  2021-07-28  82.0  53.0  18.0  40.0  45.0\n",
              "4227  2021-07-29  78.0  52.0  18.0  53.0  39.0\n",
              "4228  2021-07-30  90.0  54.0  15.0  81.0  35.0\n",
              "4229  2021-07-31  63.0  50.0  18.0  65.0  29.0\n",
              "\n",
              "[4230 rows x 6 columns]"
            ]
          },
          "metadata": {},
          "execution_count": 9
        }
      ]
    },
    {
      "cell_type": "code",
      "metadata": {
        "colab": {
          "base_uri": "https://localhost:8080/"
        },
        "id": "iMU6AJ7z7Wu-",
        "outputId": "e8e53f38-0e4f-4994-fa66-21afbcd9ce7d"
      },
      "source": [
        "df.info()"
      ],
      "execution_count": null,
      "outputs": [
        {
          "output_type": "stream",
          "name": "stdout",
          "text": [
            "<class 'pandas.core.frame.DataFrame'>\n",
            "RangeIndex: 4230 entries, 0 to 4229\n",
            "Data columns (total 6 columns):\n",
            " #   Column   Non-Null Count  Dtype  \n",
            "---  ------   --------------  -----  \n",
            " 0   tanggal  4230 non-null   object \n",
            " 1   pm10     4230 non-null   float64\n",
            " 2   so2      4230 non-null   float64\n",
            " 3   co       4230 non-null   float64\n",
            " 4   o3       4230 non-null   float64\n",
            " 5   no2      4230 non-null   float64\n",
            "dtypes: float64(5), object(1)\n",
            "memory usage: 198.4+ KB\n"
          ]
        }
      ]
    },
    {
      "cell_type": "code",
      "metadata": {
        "id": "Y9O-oUnh9jLi"
      },
      "source": [
        "df.tanggal = pd.to_datetime(df.tanggal)"
      ],
      "execution_count": null,
      "outputs": []
    },
    {
      "cell_type": "code",
      "metadata": {
        "colab": {
          "base_uri": "https://localhost:8080/"
        },
        "id": "4z99FXtI9k8n",
        "outputId": "25ee4c9e-f4a3-4801-f27e-2c917c1c8751"
      },
      "source": [
        "df.info()"
      ],
      "execution_count": null,
      "outputs": [
        {
          "output_type": "stream",
          "name": "stdout",
          "text": [
            "<class 'pandas.core.frame.DataFrame'>\n",
            "RangeIndex: 4230 entries, 0 to 4229\n",
            "Data columns (total 6 columns):\n",
            " #   Column   Non-Null Count  Dtype         \n",
            "---  ------   --------------  -----         \n",
            " 0   tanggal  4230 non-null   datetime64[ns]\n",
            " 1   pm10     4230 non-null   float64       \n",
            " 2   so2      4230 non-null   float64       \n",
            " 3   co       4230 non-null   float64       \n",
            " 4   o3       4230 non-null   float64       \n",
            " 5   no2      4230 non-null   float64       \n",
            "dtypes: datetime64[ns](1), float64(5)\n",
            "memory usage: 198.4 KB\n"
          ]
        }
      ]
    },
    {
      "cell_type": "code",
      "metadata": {
        "colab": {
          "base_uri": "https://localhost:8080/",
          "height": 290
        },
        "id": "sv469rRk7nbn",
        "outputId": "0dbf08de-6a0c-4c24-e138-311b200dd48e"
      },
      "source": [
        "df.describe()"
      ],
      "execution_count": null,
      "outputs": [
        {
          "output_type": "execute_result",
          "data": {
            "text/html": [
              "<div>\n",
              "<style scoped>\n",
              "    .dataframe tbody tr th:only-of-type {\n",
              "        vertical-align: middle;\n",
              "    }\n",
              "\n",
              "    .dataframe tbody tr th {\n",
              "        vertical-align: top;\n",
              "    }\n",
              "\n",
              "    .dataframe thead th {\n",
              "        text-align: right;\n",
              "    }\n",
              "</style>\n",
              "<table border=\"1\" class=\"dataframe\">\n",
              "  <thead>\n",
              "    <tr style=\"text-align: right;\">\n",
              "      <th></th>\n",
              "      <th>pm10</th>\n",
              "      <th>so2</th>\n",
              "      <th>co</th>\n",
              "      <th>o3</th>\n",
              "      <th>no2</th>\n",
              "    </tr>\n",
              "  </thead>\n",
              "  <tbody>\n",
              "    <tr>\n",
              "      <th>count</th>\n",
              "      <td>4230.000000</td>\n",
              "      <td>4230.000000</td>\n",
              "      <td>4230.000000</td>\n",
              "      <td>4230.000000</td>\n",
              "      <td>4230.000000</td>\n",
              "    </tr>\n",
              "    <tr>\n",
              "      <th>mean</th>\n",
              "      <td>65.613841</td>\n",
              "      <td>27.801089</td>\n",
              "      <td>32.123599</td>\n",
              "      <td>93.409482</td>\n",
              "      <td>19.446529</td>\n",
              "    </tr>\n",
              "    <tr>\n",
              "      <th>std</th>\n",
              "      <td>18.922869</td>\n",
              "      <td>15.554703</td>\n",
              "      <td>13.044231</td>\n",
              "      <td>47.957399</td>\n",
              "      <td>13.216514</td>\n",
              "    </tr>\n",
              "    <tr>\n",
              "      <th>min</th>\n",
              "      <td>19.000000</td>\n",
              "      <td>2.000000</td>\n",
              "      <td>5.000000</td>\n",
              "      <td>9.000000</td>\n",
              "      <td>3.000000</td>\n",
              "    </tr>\n",
              "    <tr>\n",
              "      <th>25%</th>\n",
              "      <td>55.000000</td>\n",
              "      <td>17.000000</td>\n",
              "      <td>23.000000</td>\n",
              "      <td>60.000000</td>\n",
              "      <td>13.000000</td>\n",
              "    </tr>\n",
              "    <tr>\n",
              "      <th>50%</th>\n",
              "      <td>65.000000</td>\n",
              "      <td>26.000000</td>\n",
              "      <td>30.000000</td>\n",
              "      <td>84.000000</td>\n",
              "      <td>17.000000</td>\n",
              "    </tr>\n",
              "    <tr>\n",
              "      <th>75%</th>\n",
              "      <td>75.000000</td>\n",
              "      <td>33.000000</td>\n",
              "      <td>38.000000</td>\n",
              "      <td>116.000000</td>\n",
              "      <td>21.000000</td>\n",
              "    </tr>\n",
              "    <tr>\n",
              "      <th>max</th>\n",
              "      <td>178.000000</td>\n",
              "      <td>126.000000</td>\n",
              "      <td>134.000000</td>\n",
              "      <td>314.000000</td>\n",
              "      <td>148.000000</td>\n",
              "    </tr>\n",
              "  </tbody>\n",
              "</table>\n",
              "</div>"
            ],
            "text/plain": [
              "              pm10          so2           co           o3          no2\n",
              "count  4230.000000  4230.000000  4230.000000  4230.000000  4230.000000\n",
              "mean     65.613841    27.801089    32.123599    93.409482    19.446529\n",
              "std      18.922869    15.554703    13.044231    47.957399    13.216514\n",
              "min      19.000000     2.000000     5.000000     9.000000     3.000000\n",
              "25%      55.000000    17.000000    23.000000    60.000000    13.000000\n",
              "50%      65.000000    26.000000    30.000000    84.000000    17.000000\n",
              "75%      75.000000    33.000000    38.000000   116.000000    21.000000\n",
              "max     178.000000   126.000000   134.000000   314.000000   148.000000"
            ]
          },
          "metadata": {},
          "execution_count": 13
        }
      ]
    },
    {
      "cell_type": "code",
      "metadata": {
        "colab": {
          "base_uri": "https://localhost:8080/",
          "height": 393
        },
        "id": "6qcAHVga786o",
        "outputId": "834a43fb-5c98-4a07-84f7-c4ccdf97960d"
      },
      "source": [
        "plt.figure(figsize=(8,6))\n",
        "\n",
        "sns.heatmap(df.corr(), annot=True)"
      ],
      "execution_count": null,
      "outputs": [
        {
          "output_type": "execute_result",
          "data": {
            "text/plain": [
              "<matplotlib.axes._subplots.AxesSubplot at 0x7f660b8452d0>"
            ]
          },
          "metadata": {},
          "execution_count": 14
        },
        {
          "output_type": "display_data",
          "data": {
            "image/png": "[encoded data removed]",
            "text/plain": [
              "<Figure size 576x432 with 2 Axes>"
            ]
          },
          "metadata": {
            "needs_background": "light"
          }
        }
      ]
    },
    {
      "cell_type": "code",
      "metadata": {
        "colab": {
          "base_uri": "https://localhost:8080/",
          "height": 1000
        },
        "id": "MvBJJaZg8yoQ",
        "outputId": "16069684-0b14-4a5e-a9e4-43ae278a0249"
      },
      "source": [
        "df_resample = (df.set_index('tanggal')).resample('D').mean().reset_index()\n",
        "\n",
        "df_resample.plot(x='tanggal', y='pm10', kind='line', color='red', figsize=(15,5))\n",
        "df_resample.plot(x='tanggal', y='so2', kind='line', color='green', figsize=(15,5))\n",
        "df_resample.plot(x='tanggal', y='co', kind='line', color='magenta', figsize=(15,5))\n",
        "df_resample.plot(x='tanggal', y='o3', kind='line', color='black', figsize=(15,5))\n",
        "df_resample.plot(x='tanggal', y='no2', kind='line', color='blue', figsize=(15,5))"
      ],
      "execution_count": null,
      "outputs": [
        {
          "output_type": "execute_result",
          "data": {
            "text/plain": [
              "<matplotlib.axes._subplots.AxesSubplot at 0x7f660178f210>"
            ]
          },
          "metadata": {},
          "execution_count": 15
        },
        {
          "output_type": "display_data",
          "data": {
            "image/png": "[encoded data removed]",
            "text/plain": [
              "<Figure size 1080x360 with 1 Axes>"
            ]
          },
          "metadata": {
            "needs_background": "light"
          }
        },
        {
          "output_type": "display_data",
          "data": {
            "image/png": "[encoded data removed]",
            "text/plain": [
              "<Figure size 1080x360 with 1 Axes>"
            ]
          },
          "metadata": {
            "needs_background": "light"
          }
        },
        {
          "output_type": "display_data",
          "data": {
            "image/png": "[encoded data removed]",
            "text/plain": [
              "<Figure size 1080x360 with 1 Axes>"
            ]
          },
          "metadata": {
            "needs_background": "light"
          }
        },
        {
          "output_type": "display_data",
          "data": {
            "image/png": "[encoded data removed]",
            "text/plain": [
              "<Figure size 1080x360 with 1 Axes>"
            ]
          },
          "metadata": {
            "needs_background": "light"
          }
        },
        {
          "output_type": "display_data",
          "data": {
            "image/png": "[encoded data removed]",
            "text/plain": [
              "<Figure size 1080x360 with 1 Axes>"
            ]
          },
          "metadata": {
            "needs_background": "light"
          }
        }
      ]
    },
    {
      "cell_type": "code",
      "metadata": {
        "id": "9aVaTr8r0Jgy"
      },
      "source": [
        "# Normalization\n",
        "from sklearn import preprocessing\n",
        "min_max_scaler = preprocessing.MinMaxScaler()"
      ],
      "execution_count": null,
      "outputs": []
    },
    {
      "cell_type": "markdown",
      "source": [
        "#Modelling"
      ],
      "metadata": {
        "id": "3TyDuGEFYqM5"
      }
    },
    {
      "cell_type": "code",
      "metadata": {
        "id": "1Ct8hM5uLlKq"
      },
      "source": [
        "window_size = 30\n",
        "batch_size = 8\n",
        "shuffle_buffer_size = 1000"
      ],
      "execution_count": null,
      "outputs": []
    },
    {
      "cell_type": "code",
      "metadata": {
        "id": "nFv-OGsNTbAc"
      },
      "source": [
        "def windowed_dataset(series, window_size, batch_size, shuffle_buffer):\n",
        "    series = tf.expand_dims(series, axis=-1)\n",
        "    ds = tf.data.Dataset.from_tensor_slices(series)\n",
        "    ds = ds.window(window_size + 1, shift=1, drop_remainder=True)\n",
        "    ds = ds.flat_map(lambda w: w.batch(window_size + 1))\n",
        "    ds = ds.shuffle(shuffle_buffer)\n",
        "    ds = ds.map(lambda w: (w[:-1], w[-1:]))\n",
        "    return ds.batch(batch_size).prefetch(1)"
      ],
      "execution_count": null,
      "outputs": []
    },
    {
      "cell_type": "code",
      "metadata": {
        "id": "Ryp5ViZogX3D"
      },
      "source": [
        "def model_forecast(model, series, batch_size, window_size):\n",
        "    ds = tf.data.Dataset.from_tensor_slices(series)\n",
        "    ds = ds.window(window_size, shift=1, drop_remainder=True)\n",
        "    ds = ds.flat_map(lambda w: w.batch(window_size))\n",
        "    ds = ds.batch(batch_size).prefetch(1)\n",
        "    forecast = model.predict(ds)\n",
        "    return forecast"
      ],
      "execution_count": null,
      "outputs": []
    },
    {
      "cell_type": "markdown",
      "metadata": {
        "id": "bPodSrqsgqw9"
      },
      "source": [
        "##pm10"
      ]
    },
    {
      "cell_type": "code",
      "metadata": {
        "id": "2V4_GU9qW18S"
      },
      "source": [
        "pm10 = df['pm10'].values.reshape(-1, 1)\n",
        "pm10 = min_max_scaler.fit_transform(pm10)\n",
        "time = df.index.values + 1"
      ],
      "execution_count": null,
      "outputs": []
    },
    {
      "cell_type": "code",
      "metadata": {
        "id": "U2dd9KLbqfkl",
        "colab": {
          "base_uri": "https://localhost:8080/"
        },
        "outputId": "9037ae8a-6417-44a7-ef79-302524adbcce"
      },
      "source": [
        "minMAE = (pm10.max() - pm10.min()) * 0.1\n",
        "minMAE"
      ],
      "execution_count": null,
      "outputs": [
        {
          "output_type": "execute_result",
          "data": {
            "text/plain": [
              "0.1"
            ]
          },
          "metadata": {},
          "execution_count": 21
        }
      ]
    },
    {
      "cell_type": "code",
      "metadata": {
        "id": "rFt_ZlNfirsQ"
      },
      "source": [
        "split_time = int(0.9 * len(pm10))\n",
        "time_train = time[:split_time]\n",
        "x_train = pm10[:split_time]\n",
        "time_valid = time[split_time:]\n",
        "x_valid = pm10[split_time:]"
      ],
      "execution_count": null,
      "outputs": []
    },
    {
      "cell_type": "code",
      "metadata": {
        "colab": {
          "base_uri": "https://localhost:8080/"
        },
        "id": "ShWhbaWwKfb1",
        "outputId": "cd1395ef-3303-4c3e-a076-cad6807939fe"
      },
      "source": [
        "train_set = windowed_dataset(x_train, window_size, batch_size, shuffle_buffer_size)\n",
        "print(train_set)\n",
        "print(x_train.shape)"
      ],
      "execution_count": null,
      "outputs": [
        {
          "output_type": "stream",
          "name": "stdout",
          "text": [
            "<PrefetchDataset shapes: ((None, None, 1, 1), (None, None, 1, 1)), types: (tf.float64, tf.float64)>\n",
            "(3807, 1)\n"
          ]
        }
      ]
    },
    {
      "cell_type": "code",
      "metadata": {
        "colab": {
          "base_uri": "https://localhost:8080/"
        },
        "id": "NguPiNjnKkXn",
        "outputId": "8cab832b-e6f3-446f-f670-2b93dc03b316"
      },
      "source": [
        "val_set = windowed_dataset(x_valid, window_size, batch_size, shuffle_buffer_size)\n",
        "print(val_set)\n",
        "print(x_valid.shape)"
      ],
      "execution_count": null,
      "outputs": [
        {
          "output_type": "stream",
          "name": "stdout",
          "text": [
            "<PrefetchDataset shapes: ((None, None, 1, 1), (None, None, 1, 1)), types: (tf.float64, tf.float64)>\n",
            "(423, 1)\n"
          ]
        }
      ]
    },
    {
      "cell_type": "code",
      "metadata": {
        "id": "vt7w1ixLFoiB"
      },
      "source": [
        "model_pm10 = tf.keras.models.Sequential([\n",
        "  tf.keras.layers.Dense(128, activation=\"relu\"),\n",
        "  tf.keras.layers.Dense(64, activation=\"relu\"),\n",
        "  tf.keras.layers.Dense(1),\n",
        "])"
      ],
      "execution_count": null,
      "outputs": []
    },
    {
      "cell_type": "code",
      "metadata": {
        "colab": {
          "base_uri": "https://localhost:8080/"
        },
        "id": "TUxzE0T-FzRo",
        "outputId": "558e9cc0-ec00-4f1c-cd80-e036a3331f10"
      },
      "source": [
        "optimizer = tf.keras.optimizers.SGD(learning_rate=1.0000e-04, momentum=0.9)\n",
        "model_pm10.compile(loss=tf.keras.losses.Huber(),\n",
        "              optimizer=optimizer,\n",
        "              metrics=[\"mse\", \"mae\"])\n",
        "history = model_pm10.fit(train_set, validation_data=(val_set), epochs=100)"
      ],
      "execution_count": null,
      "outputs": [
        {
          "output_type": "stream",
          "name": "stdout",
          "text": [
            "Epoch 1/100\n",
            "473/473 [==============================] - 7s 8ms/step - loss: 0.0252 - mse: 0.0503 - mae: 0.1875 - val_loss: 0.0075 - val_mse: 0.0151 - val_mae: 0.1068\n",
            "Epoch 2/100\n",
            "473/473 [==============================] - 4s 7ms/step - loss: 0.0090 - mse: 0.0181 - mae: 0.0997 - val_loss: 0.0043 - val_mse: 0.0086 - val_mae: 0.0745\n",
            "Epoch 3/100\n",
            "473/473 [==============================] - 4s 7ms/step - loss: 0.0068 - mse: 0.0136 - mae: 0.0855 - val_loss: 0.0041 - val_mse: 0.0082 - val_mae: 0.0702\n",
            "Epoch 4/100\n",
            "473/473 [==============================] - 4s 8ms/step - loss: 0.0065 - mse: 0.0129 - mae: 0.0838 - val_loss: 0.0042 - val_mse: 0.0084 - val_mae: 0.0700\n",
            "Epoch 5/100\n",
            "473/473 [==============================] - 4s 8ms/step - loss: 0.0064 - mse: 0.0127 - mae: 0.0835 - val_loss: 0.0042 - val_mse: 0.0085 - val_mae: 0.0700\n",
            "Epoch 6/100\n",
            "473/473 [==============================] - 4s 7ms/step - loss: 0.0063 - mse: 0.0126 - mae: 0.0835 - val_loss: 0.0042 - val_mse: 0.0085 - val_mae: 0.0700\n",
            "Epoch 7/100\n",
            "473/473 [==============================] - 4s 8ms/step - loss: 0.0063 - mse: 0.0126 - mae: 0.0833 - val_loss: 0.0042 - val_mse: 0.0084 - val_mae: 0.0699\n",
            "Epoch 8/100\n",
            "473/473 [==============================] - 4s 7ms/step - loss: 0.0063 - mse: 0.0125 - mae: 0.0831 - val_loss: 0.0042 - val_mse: 0.0084 - val_mae: 0.0698\n",
            "Epoch 9/100\n",
            "473/473 [==============================] - 4s 7ms/step - loss: 0.0062 - mse: 0.0125 - mae: 0.0829 - val_loss: 0.0042 - val_mse: 0.0084 - val_mae: 0.0697\n",
            "Epoch 10/100\n",
            "473/473 [==============================] - 4s 7ms/step - loss: 0.0062 - mse: 0.0124 - mae: 0.0828 - val_loss: 0.0042 - val_mse: 0.0084 - val_mae: 0.0696\n",
            "Epoch 11/100\n",
            "473/473 [==============================] - 4s 8ms/step - loss: 0.0062 - mse: 0.0124 - mae: 0.0826 - val_loss: 0.0042 - val_mse: 0.0083 - val_mae: 0.0696\n",
            "Epoch 12/100\n",
            "473/473 [==============================] - 4s 7ms/step - loss: 0.0062 - mse: 0.0123 - mae: 0.0824 - val_loss: 0.0042 - val_mse: 0.0083 - val_mae: 0.0695\n",
            "Epoch 13/100\n",
            "473/473 [==============================] - 4s 7ms/step - loss: 0.0061 - mse: 0.0123 - mae: 0.0823 - val_loss: 0.0041 - val_mse: 0.0083 - val_mae: 0.0695\n",
            "Epoch 14/100\n",
            "473/473 [==============================] - 4s 8ms/step - loss: 0.0061 - mse: 0.0122 - mae: 0.0822 - val_loss: 0.0041 - val_mse: 0.0083 - val_mae: 0.0694\n",
            "Epoch 15/100\n",
            "473/473 [==============================] - 4s 8ms/step - loss: 0.0061 - mse: 0.0122 - mae: 0.0820 - val_loss: 0.0041 - val_mse: 0.0083 - val_mae: 0.0694\n",
            "Epoch 16/100\n",
            "473/473 [==============================] - 4s 8ms/step - loss: 0.0061 - mse: 0.0122 - mae: 0.0819 - val_loss: 0.0041 - val_mse: 0.0082 - val_mae: 0.0693\n",
            "Epoch 17/100\n",
            "473/473 [==============================] - 4s 8ms/step - loss: 0.0061 - mse: 0.0121 - mae: 0.0818 - val_loss: 0.0041 - val_mse: 0.0082 - val_mae: 0.0693\n",
            "Epoch 18/100\n",
            "473/473 [==============================] - 4s 7ms/step - loss: 0.0061 - mse: 0.0121 - mae: 0.0817 - val_loss: 0.0041 - val_mse: 0.0082 - val_mae: 0.0693\n",
            "Epoch 19/100\n",
            "473/473 [==============================] - 4s 7ms/step - loss: 0.0060 - mse: 0.0121 - mae: 0.0817 - val_loss: 0.0041 - val_mse: 0.0082 - val_mae: 0.0693\n",
            "Epoch 20/100\n",
            "473/473 [==============================] - 4s 8ms/step - loss: 0.0060 - mse: 0.0120 - mae: 0.0815 - val_loss: 0.0041 - val_mse: 0.0082 - val_mae: 0.0692\n",
            "Epoch 21/100\n",
            "473/473 [==============================] - 4s 7ms/step - loss: 0.0060 - mse: 0.0120 - mae: 0.0815 - val_loss: 0.0041 - val_mse: 0.0082 - val_mae: 0.0692\n",
            "Epoch 22/100\n",
            "473/473 [==============================] - 4s 7ms/step - loss: 0.0060 - mse: 0.0120 - mae: 0.0814 - val_loss: 0.0041 - val_mse: 0.0082 - val_mae: 0.0692\n",
            "Epoch 23/100\n",
            "473/473 [==============================] - 4s 7ms/step - loss: 0.0060 - mse: 0.0120 - mae: 0.0814 - val_loss: 0.0041 - val_mse: 0.0082 - val_mae: 0.0692\n",
            "Epoch 24/100\n",
            "473/473 [==============================] - 4s 8ms/step - loss: 0.0060 - mse: 0.0119 - mae: 0.0813 - val_loss: 0.0041 - val_mse: 0.0081 - val_mae: 0.0691\n",
            "Epoch 25/100\n",
            "473/473 [==============================] - 4s 8ms/step - loss: 0.0060 - mse: 0.0119 - mae: 0.0812 - val_loss: 0.0041 - val_mse: 0.0081 - val_mae: 0.0691\n",
            "Epoch 26/100\n",
            "473/473 [==============================] - 4s 7ms/step - loss: 0.0059 - mse: 0.0119 - mae: 0.0811 - val_loss: 0.0041 - val_mse: 0.0081 - val_mae: 0.0691\n",
            "Epoch 27/100\n",
            "473/473 [==============================] - 4s 7ms/step - loss: 0.0059 - mse: 0.0119 - mae: 0.0811 - val_loss: 0.0041 - val_mse: 0.0081 - val_mae: 0.0691\n",
            "Epoch 28/100\n",
            "473/473 [==============================] - 4s 8ms/step - loss: 0.0059 - mse: 0.0119 - mae: 0.0810 - val_loss: 0.0041 - val_mse: 0.0081 - val_mae: 0.0690\n",
            "Epoch 29/100\n",
            "473/473 [==============================] - 4s 7ms/step - loss: 0.0059 - mse: 0.0118 - mae: 0.0810 - val_loss: 0.0040 - val_mse: 0.0081 - val_mae: 0.0690\n",
            "Epoch 30/100\n",
            "473/473 [==============================] - 4s 8ms/step - loss: 0.0059 - mse: 0.0118 - mae: 0.0809 - val_loss: 0.0040 - val_mse: 0.0081 - val_mae: 0.0690\n",
            "Epoch 31/100\n",
            "473/473 [==============================] - 4s 8ms/step - loss: 0.0059 - mse: 0.0118 - mae: 0.0809 - val_loss: 0.0040 - val_mse: 0.0081 - val_mae: 0.0690\n",
            "Epoch 32/100\n",
            "473/473 [==============================] - 4s 8ms/step - loss: 0.0059 - mse: 0.0118 - mae: 0.0809 - val_loss: 0.0040 - val_mse: 0.0081 - val_mae: 0.0690\n",
            "Epoch 33/100\n",
            "473/473 [==============================] - 4s 8ms/step - loss: 0.0059 - mse: 0.0118 - mae: 0.0808 - val_loss: 0.0040 - val_mse: 0.0081 - val_mae: 0.0690\n",
            "Epoch 34/100\n",
            "473/473 [==============================] - 4s 8ms/step - loss: 0.0059 - mse: 0.0118 - mae: 0.0808 - val_loss: 0.0040 - val_mse: 0.0081 - val_mae: 0.0690\n",
            "Epoch 35/100\n",
            "473/473 [==============================] - 4s 8ms/step - loss: 0.0059 - mse: 0.0117 - mae: 0.0807 - val_loss: 0.0040 - val_mse: 0.0081 - val_mae: 0.0690\n",
            "Epoch 36/100\n",
            "473/473 [==============================] - 4s 8ms/step - loss: 0.0059 - mse: 0.0117 - mae: 0.0807 - val_loss: 0.0040 - val_mse: 0.0081 - val_mae: 0.0690\n",
            "Epoch 37/100\n",
            "473/473 [==============================] - 4s 8ms/step - loss: 0.0059 - mse: 0.0117 - mae: 0.0807 - val_loss: 0.0040 - val_mse: 0.0081 - val_mae: 0.0690\n",
            "Epoch 38/100\n",
            "473/473 [==============================] - 4s 7ms/step - loss: 0.0059 - mse: 0.0117 - mae: 0.0806 - val_loss: 0.0040 - val_mse: 0.0081 - val_mae: 0.0690\n",
            "Epoch 39/100\n",
            "473/473 [==============================] - 4s 8ms/step - loss: 0.0059 - mse: 0.0117 - mae: 0.0806 - val_loss: 0.0040 - val_mse: 0.0081 - val_mae: 0.0690\n",
            "Epoch 40/100\n",
            "473/473 [==============================] - 4s 8ms/step - loss: 0.0058 - mse: 0.0117 - mae: 0.0806 - val_loss: 0.0040 - val_mse: 0.0081 - val_mae: 0.0689\n",
            "Epoch 41/100\n",
            "473/473 [==============================] - 4s 8ms/step - loss: 0.0058 - mse: 0.0117 - mae: 0.0806 - val_loss: 0.0040 - val_mse: 0.0081 - val_mae: 0.0690\n",
            "Epoch 42/100\n",
            "473/473 [==============================] - 4s 8ms/step - loss: 0.0058 - mse: 0.0117 - mae: 0.0806 - val_loss: 0.0040 - val_mse: 0.0080 - val_mae: 0.0689\n",
            "Epoch 43/100\n",
            "473/473 [==============================] - 4s 8ms/step - loss: 0.0058 - mse: 0.0117 - mae: 0.0806 - val_loss: 0.0040 - val_mse: 0.0080 - val_mae: 0.0689\n",
            "Epoch 44/100\n",
            "473/473 [==============================] - 4s 7ms/step - loss: 0.0058 - mse: 0.0117 - mae: 0.0806 - val_loss: 0.0040 - val_mse: 0.0080 - val_mae: 0.0689\n",
            "Epoch 45/100\n",
            "473/473 [==============================] - 4s 7ms/step - loss: 0.0058 - mse: 0.0117 - mae: 0.0805 - val_loss: 0.0040 - val_mse: 0.0080 - val_mae: 0.0689\n",
            "Epoch 46/100\n",
            "473/473 [==============================] - 4s 7ms/step - loss: 0.0058 - mse: 0.0116 - mae: 0.0805 - val_loss: 0.0040 - val_mse: 0.0080 - val_mae: 0.0689\n",
            "Epoch 47/100\n",
            "473/473 [==============================] - 4s 7ms/step - loss: 0.0058 - mse: 0.0116 - mae: 0.0805 - val_loss: 0.0040 - val_mse: 0.0080 - val_mae: 0.0689\n",
            "Epoch 48/100\n",
            "473/473 [==============================] - 4s 7ms/step - loss: 0.0058 - mse: 0.0116 - mae: 0.0805 - val_loss: 0.0040 - val_mse: 0.0080 - val_mae: 0.0689\n",
            "Epoch 49/100\n",
            "473/473 [==============================] - 4s 8ms/step - loss: 0.0058 - mse: 0.0116 - mae: 0.0804 - val_loss: 0.0040 - val_mse: 0.0080 - val_mae: 0.0689\n",
            "Epoch 50/100\n",
            "473/473 [==============================] - 4s 8ms/step - loss: 0.0058 - mse: 0.0116 - mae: 0.0804 - val_loss: 0.0040 - val_mse: 0.0080 - val_mae: 0.0689\n",
            "Epoch 51/100\n",
            "473/473 [==============================] - 4s 8ms/step - loss: 0.0058 - mse: 0.0116 - mae: 0.0804 - val_loss: 0.0040 - val_mse: 0.0080 - val_mae: 0.0689\n",
            "Epoch 52/100\n",
            "473/473 [==============================] - 4s 8ms/step - loss: 0.0058 - mse: 0.0116 - mae: 0.0804 - val_loss: 0.0040 - val_mse: 0.0080 - val_mae: 0.0689\n",
            "Epoch 53/100\n",
            "473/473 [==============================] - 4s 9ms/step - loss: 0.0058 - mse: 0.0116 - mae: 0.0804 - val_loss: 0.0040 - val_mse: 0.0080 - val_mae: 0.0689\n",
            "Epoch 54/100\n",
            "473/473 [==============================] - 4s 8ms/step - loss: 0.0058 - mse: 0.0116 - mae: 0.0803 - val_loss: 0.0040 - val_mse: 0.0080 - val_mae: 0.0689\n",
            "Epoch 55/100\n",
            "473/473 [==============================] - 4s 8ms/step - loss: 0.0058 - mse: 0.0116 - mae: 0.0803 - val_loss: 0.0040 - val_mse: 0.0080 - val_mae: 0.0689\n",
            "Epoch 56/100\n",
            "473/473 [==============================] - 4s 8ms/step - loss: 0.0058 - mse: 0.0116 - mae: 0.0803 - val_loss: 0.0040 - val_mse: 0.0080 - val_mae: 0.0689\n",
            "Epoch 57/100\n",
            "473/473 [==============================] - 4s 8ms/step - loss: 0.0058 - mse: 0.0116 - mae: 0.0803 - val_loss: 0.0040 - val_mse: 0.0080 - val_mae: 0.0689\n",
            "Epoch 58/100\n",
            "473/473 [==============================] - 4s 8ms/step - loss: 0.0058 - mse: 0.0116 - mae: 0.0804 - val_loss: 0.0040 - val_mse: 0.0080 - val_mae: 0.0689\n",
            "Epoch 59/100\n",
            "473/473 [==============================] - 4s 8ms/step - loss: 0.0058 - mse: 0.0116 - mae: 0.0803 - val_loss: 0.0040 - val_mse: 0.0080 - val_mae: 0.0689\n",
            "Epoch 60/100\n",
            "473/473 [==============================] - 4s 8ms/step - loss: 0.0058 - mse: 0.0116 - mae: 0.0803 - val_loss: 0.0040 - val_mse: 0.0080 - val_mae: 0.0689\n",
            "Epoch 61/100\n",
            "473/473 [==============================] - 4s 8ms/step - loss: 0.0058 - mse: 0.0115 - mae: 0.0803 - val_loss: 0.0040 - val_mse: 0.0080 - val_mae: 0.0689\n",
            "Epoch 62/100\n",
            "473/473 [==============================] - 4s 8ms/step - loss: 0.0058 - mse: 0.0115 - mae: 0.0803 - val_loss: 0.0040 - val_mse: 0.0080 - val_mae: 0.0689\n",
            "Epoch 63/100\n",
            "473/473 [==============================] - 4s 8ms/step - loss: 0.0058 - mse: 0.0115 - mae: 0.0802 - val_loss: 0.0040 - val_mse: 0.0080 - val_mae: 0.0689\n",
            "Epoch 64/100\n",
            "473/473 [==============================] - 4s 8ms/step - loss: 0.0058 - mse: 0.0115 - mae: 0.0802 - val_loss: 0.0040 - val_mse: 0.0080 - val_mae: 0.0689\n",
            "Epoch 65/100\n",
            "473/473 [==============================] - 4s 8ms/step - loss: 0.0058 - mse: 0.0115 - mae: 0.0802 - val_loss: 0.0040 - val_mse: 0.0080 - val_mae: 0.0689\n",
            "Epoch 66/100\n",
            "473/473 [==============================] - 4s 8ms/step - loss: 0.0058 - mse: 0.0115 - mae: 0.0802 - val_loss: 0.0040 - val_mse: 0.0080 - val_mae: 0.0689\n",
            "Epoch 67/100\n",
            "473/473 [==============================] - 4s 8ms/step - loss: 0.0058 - mse: 0.0115 - mae: 0.0802 - val_loss: 0.0040 - val_mse: 0.0080 - val_mae: 0.0689\n",
            "Epoch 68/100\n",
            "473/473 [==============================] - 4s 8ms/step - loss: 0.0058 - mse: 0.0115 - mae: 0.0802 - val_loss: 0.0040 - val_mse: 0.0080 - val_mae: 0.0689\n",
            "Epoch 69/100\n",
            "473/473 [==============================] - 4s 8ms/step - loss: 0.0058 - mse: 0.0115 - mae: 0.0802 - val_loss: 0.0040 - val_mse: 0.0080 - val_mae: 0.0689\n",
            "Epoch 70/100\n",
            "473/473 [==============================] - 4s 8ms/step - loss: 0.0058 - mse: 0.0115 - mae: 0.0802 - val_loss: 0.0040 - val_mse: 0.0080 - val_mae: 0.0690\n",
            "Epoch 71/100\n",
            "473/473 [==============================] - 4s 8ms/step - loss: 0.0058 - mse: 0.0115 - mae: 0.0802 - val_loss: 0.0040 - val_mse: 0.0080 - val_mae: 0.0689\n",
            "Epoch 72/100\n",
            "473/473 [==============================] - 4s 8ms/step - loss: 0.0058 - mse: 0.0115 - mae: 0.0802 - val_loss: 0.0040 - val_mse: 0.0080 - val_mae: 0.0689\n",
            "Epoch 73/100\n",
            "473/473 [==============================] - 4s 8ms/step - loss: 0.0058 - mse: 0.0115 - mae: 0.0801 - val_loss: 0.0040 - val_mse: 0.0080 - val_mae: 0.0689\n",
            "Epoch 74/100\n",
            "473/473 [==============================] - 4s 8ms/step - loss: 0.0057 - mse: 0.0115 - mae: 0.0801 - val_loss: 0.0040 - val_mse: 0.0080 - val_mae: 0.0689\n",
            "Epoch 75/100\n",
            "473/473 [==============================] - 4s 8ms/step - loss: 0.0057 - mse: 0.0115 - mae: 0.0801 - val_loss: 0.0040 - val_mse: 0.0080 - val_mae: 0.0689\n",
            "Epoch 76/100\n",
            "473/473 [==============================] - 4s 8ms/step - loss: 0.0057 - mse: 0.0115 - mae: 0.0801 - val_loss: 0.0040 - val_mse: 0.0080 - val_mae: 0.0689\n",
            "Epoch 77/100\n",
            "473/473 [==============================] - 4s 8ms/step - loss: 0.0057 - mse: 0.0115 - mae: 0.0801 - val_loss: 0.0040 - val_mse: 0.0080 - val_mae: 0.0689\n",
            "Epoch 78/100\n",
            "473/473 [==============================] - 4s 8ms/step - loss: 0.0057 - mse: 0.0115 - mae: 0.0801 - val_loss: 0.0040 - val_mse: 0.0080 - val_mae: 0.0689\n",
            "Epoch 79/100\n",
            "473/473 [==============================] - 4s 8ms/step - loss: 0.0057 - mse: 0.0115 - mae: 0.0801 - val_loss: 0.0040 - val_mse: 0.0080 - val_mae: 0.0689\n",
            "Epoch 80/100\n",
            "473/473 [==============================] - 4s 8ms/step - loss: 0.0057 - mse: 0.0115 - mae: 0.0801 - val_loss: 0.0040 - val_mse: 0.0080 - val_mae: 0.0689\n",
            "Epoch 81/100\n",
            "473/473 [==============================] - 4s 8ms/step - loss: 0.0057 - mse: 0.0115 - mae: 0.0801 - val_loss: 0.0040 - val_mse: 0.0080 - val_mae: 0.0689\n",
            "Epoch 82/100\n",
            "473/473 [==============================] - 4s 8ms/step - loss: 0.0057 - mse: 0.0115 - mae: 0.0801 - val_loss: 0.0040 - val_mse: 0.0080 - val_mae: 0.0689\n",
            "Epoch 83/100\n",
            "473/473 [==============================] - 4s 7ms/step - loss: 0.0057 - mse: 0.0115 - mae: 0.0801 - val_loss: 0.0040 - val_mse: 0.0080 - val_mae: 0.0689\n",
            "Epoch 84/100\n",
            "473/473 [==============================] - 4s 8ms/step - loss: 0.0057 - mse: 0.0115 - mae: 0.0801 - val_loss: 0.0040 - val_mse: 0.0080 - val_mae: 0.0689\n",
            "Epoch 85/100\n",
            "473/473 [==============================] - 4s 8ms/step - loss: 0.0057 - mse: 0.0115 - mae: 0.0801 - val_loss: 0.0040 - val_mse: 0.0080 - val_mae: 0.0689\n",
            "Epoch 86/100\n",
            "473/473 [==============================] - 4s 8ms/step - loss: 0.0057 - mse: 0.0115 - mae: 0.0801 - val_loss: 0.0040 - val_mse: 0.0080 - val_mae: 0.0689\n",
            "Epoch 87/100\n",
            "473/473 [==============================] - 4s 7ms/step - loss: 0.0057 - mse: 0.0115 - mae: 0.0801 - val_loss: 0.0040 - val_mse: 0.0080 - val_mae: 0.0689\n",
            "Epoch 88/100\n",
            "473/473 [==============================] - 4s 8ms/step - loss: 0.0057 - mse: 0.0115 - mae: 0.0801 - val_loss: 0.0040 - val_mse: 0.0080 - val_mae: 0.0690\n",
            "Epoch 89/100\n",
            "473/473 [==============================] - 4s 7ms/step - loss: 0.0057 - mse: 0.0115 - mae: 0.0801 - val_loss: 0.0040 - val_mse: 0.0080 - val_mae: 0.0689\n",
            "Epoch 90/100\n",
            "473/473 [==============================] - 4s 8ms/step - loss: 0.0057 - mse: 0.0115 - mae: 0.0801 - val_loss: 0.0040 - val_mse: 0.0080 - val_mae: 0.0690\n",
            "Epoch 91/100\n",
            "473/473 [==============================] - 4s 8ms/step - loss: 0.0057 - mse: 0.0115 - mae: 0.0801 - val_loss: 0.0040 - val_mse: 0.0080 - val_mae: 0.0689\n",
            "Epoch 92/100\n",
            "473/473 [==============================] - 4s 7ms/step - loss: 0.0057 - mse: 0.0114 - mae: 0.0801 - val_loss: 0.0040 - val_mse: 0.0080 - val_mae: 0.0690\n",
            "Epoch 93/100\n",
            "473/473 [==============================] - 4s 8ms/step - loss: 0.0057 - mse: 0.0114 - mae: 0.0801 - val_loss: 0.0040 - val_mse: 0.0080 - val_mae: 0.0689\n",
            "Epoch 94/100\n",
            "473/473 [==============================] - 4s 7ms/step - loss: 0.0057 - mse: 0.0114 - mae: 0.0801 - val_loss: 0.0040 - val_mse: 0.0080 - val_mae: 0.0690\n",
            "Epoch 95/100\n",
            "473/473 [==============================] - 4s 8ms/step - loss: 0.0057 - mse: 0.0114 - mae: 0.0801 - val_loss: 0.0040 - val_mse: 0.0080 - val_mae: 0.0689\n",
            "Epoch 96/100\n",
            "473/473 [==============================] - 4s 7ms/step - loss: 0.0057 - mse: 0.0114 - mae: 0.0801 - val_loss: 0.0040 - val_mse: 0.0080 - val_mae: 0.0690\n",
            "Epoch 97/100\n",
            "473/473 [==============================] - 4s 7ms/step - loss: 0.0057 - mse: 0.0114 - mae: 0.0801 - val_loss: 0.0040 - val_mse: 0.0080 - val_mae: 0.0690\n",
            "Epoch 98/100\n",
            "473/473 [==============================] - 4s 8ms/step - loss: 0.0057 - mse: 0.0114 - mae: 0.0801 - val_loss: 0.0040 - val_mse: 0.0080 - val_mae: 0.0689\n",
            "Epoch 99/100\n",
            "473/473 [==============================] - 4s 7ms/step - loss: 0.0057 - mse: 0.0114 - mae: 0.0801 - val_loss: 0.0040 - val_mse: 0.0080 - val_mae: 0.0690\n",
            "Epoch 100/100\n",
            "473/473 [==============================] - 4s 8ms/step - loss: 0.0057 - mse: 0.0114 - mae: 0.0801 - val_loss: 0.0040 - val_mse: 0.0080 - val_mae: 0.0690\n"
          ]
        }
      ]
    },
    {
      "cell_type": "code",
      "metadata": {
        "colab": {
          "base_uri": "https://localhost:8080/",
          "height": 298
        },
        "id": "JfRQdSfYW_dn",
        "outputId": "3fce16f2-c014-4284-ecdb-1e2392457e22"
      },
      "source": [
        "import matplotlib.pyplot as plt\n",
        "import numpy as np\n",
        "\n",
        "plt.style.use(\"ggplot\")\n",
        "plt.figure()\n",
        "plt.plot(np.arange(0, 100), history.history[\"loss\"], label=\"train_loss\")\n",
        "plt.plot(np.arange(0, 100), history.history[\"val_loss\"], label=\"val_loss\")\n",
        "plt.title(\"Loss Plot\")\n",
        "plt.xlabel(\"Epoch #\")\n",
        "plt.ylabel(\"Loss\")\n",
        "plt.legend()\n",
        "plt.show()"
      ],
      "execution_count": null,
      "outputs": [
        {
          "output_type": "display_data",
          "data": {
            "image/png": "[encoded data removed]",
            "text/plain": [
              "<Figure size 432x288 with 1 Axes>"
            ]
          },
          "metadata": {}
        }
      ]
    },
    {
      "cell_type": "code",
      "metadata": {
        "colab": {
          "base_uri": "https://localhost:8080/",
          "height": 298
        },
        "id": "2LCufoHSXJpC",
        "outputId": "bafd1767-a44b-47c7-c9c1-13d25ba9e43a"
      },
      "source": [
        "plt.style.use(\"ggplot\")\n",
        "plt.figure()\n",
        "plt.plot(np.arange(0, 100), history.history[\"mae\"], label=\"train_mae\")\n",
        "plt.plot(np.arange(0, 100), history.history[\"val_mae\"], label=\"val_mae\")\n",
        "plt.title(\"mae Plot\")\n",
        "plt.xlabel(\"Epoch #\")\n",
        "plt.ylabel(\"Loss\")\n",
        "plt.legend()\n",
        "plt.show()"
      ],
      "execution_count": null,
      "outputs": [
        {
          "output_type": "display_data",
          "data": {
            "image/png": "[encoded data removed]",
            "text/plain": [
              "<Figure size 432x288 with 1 Axes>"
            ]
          },
          "metadata": {}
        }
      ]
    },
    {
      "cell_type": "code",
      "metadata": {
        "colab": {
          "base_uri": "https://localhost:8080/",
          "height": 298
        },
        "id": "TWtNHyXjXSof",
        "outputId": "0ed6dfc7-4066-4fe0-8bbc-f3e8d24a7584"
      },
      "source": [
        "plt.style.use(\"ggplot\")\n",
        "plt.figure()\n",
        "plt.plot(np.arange(0, 100), history.history[\"mse\"], label=\"train_mse\")\n",
        "plt.plot(np.arange(0, 100), history.history[\"val_mse\"], label=\"val_mse\")\n",
        "plt.title(\"mse Plot\")\n",
        "plt.xlabel(\"Epoch #\")\n",
        "plt.ylabel(\"Loss\")\n",
        "plt.legend()\n",
        "plt.show()"
      ],
      "execution_count": null,
      "outputs": [
        {
          "output_type": "display_data",
          "data": {
            "image/png": "[encoded data removed]",
            "text/plain": [
              "<Figure size 432x288 with 1 Axes>"
            ]
          },
          "metadata": {}
        }
      ]
    },
    {
      "cell_type": "code",
      "metadata": {
        "colab": {
          "base_uri": "https://localhost:8080/"
        },
        "id": "gdoUWCSVtTsA",
        "outputId": "427f1bb9-38c8-4478-ce4d-0f844ca96a18"
      },
      "source": [
        "pm10.shape"
      ],
      "execution_count": null,
      "outputs": [
        {
          "output_type": "execute_result",
          "data": {
            "text/plain": [
              "(4230, 1)"
            ]
          },
          "metadata": {},
          "execution_count": 30
        }
      ]
    },
    {
      "cell_type": "markdown",
      "metadata": {
        "id": "5ryoyQHnhsm1"
      },
      "source": [
        "##so2"
      ]
    },
    {
      "cell_type": "code",
      "metadata": {
        "id": "oTkLbGPkhsm_"
      },
      "source": [
        "# so2 = df['so2'].values\n",
        "so2 = df['so2'].values.reshape(-1, 1)\n",
        "so2 = min_max_scaler.fit_transform(so2)"
      ],
      "execution_count": null,
      "outputs": []
    },
    {
      "cell_type": "code",
      "metadata": {
        "id": "uGpx-dERhsm_",
        "colab": {
          "base_uri": "https://localhost:8080/"
        },
        "outputId": "a20b79bf-061a-4919-8ea4-229b6476153d"
      },
      "source": [
        "minMAE = (so2.max() - so2.min()) * 0.1\n",
        "minMAE"
      ],
      "execution_count": null,
      "outputs": [
        {
          "output_type": "execute_result",
          "data": {
            "text/plain": [
              "0.1"
            ]
          },
          "metadata": {},
          "execution_count": 32
        }
      ]
    },
    {
      "cell_type": "code",
      "metadata": {
        "id": "nWWuF8eITImn"
      },
      "source": [
        "split_time = int(0.9 * len(so2))\n",
        "time_train = time[:split_time]\n",
        "x_train = so2[:split_time]\n",
        "time_valid = time[split_time:]\n",
        "x_valid = so2[split_time:]"
      ],
      "execution_count": null,
      "outputs": []
    },
    {
      "cell_type": "code",
      "metadata": {
        "colab": {
          "base_uri": "https://localhost:8080/"
        },
        "id": "v8XIi5R_TImo",
        "outputId": "5545a718-2b72-4095-f9fb-7bd11f5a1257"
      },
      "source": [
        "train_set = windowed_dataset(x_train, window_size, batch_size, shuffle_buffer_size)\n",
        "print(train_set)\n",
        "print(x_train.shape)"
      ],
      "execution_count": null,
      "outputs": [
        {
          "output_type": "stream",
          "name": "stdout",
          "text": [
            "<PrefetchDataset shapes: ((None, None, 1, 1), (None, None, 1, 1)), types: (tf.float64, tf.float64)>\n",
            "(3807, 1)\n"
          ]
        }
      ]
    },
    {
      "cell_type": "code",
      "metadata": {
        "colab": {
          "base_uri": "https://localhost:8080/"
        },
        "id": "NaDUrjxITImo",
        "outputId": "88b7af72-5978-466a-bb73-b0456daab166"
      },
      "source": [
        "val_set = windowed_dataset(x_valid, window_size, batch_size, shuffle_buffer_size)\n",
        "print(val_set)\n",
        "print(x_valid.shape)"
      ],
      "execution_count": null,
      "outputs": [
        {
          "output_type": "stream",
          "name": "stdout",
          "text": [
            "<PrefetchDataset shapes: ((None, None, 1, 1), (None, None, 1, 1)), types: (tf.float64, tf.float64)>\n",
            "(423, 1)\n"
          ]
        }
      ]
    },
    {
      "cell_type": "code",
      "metadata": {
        "id": "mbJQzUQxhsnB"
      },
      "source": [
        "model_so2 = tf.keras.models.Sequential([\n",
        "  tf.keras.layers.Dense(128, activation=\"relu\"),\n",
        "  tf.keras.layers.Dense(64, activation=\"relu\"),\n",
        "  tf.keras.layers.Dense(1),\n",
        "])"
      ],
      "execution_count": null,
      "outputs": []
    },
    {
      "cell_type": "code",
      "metadata": {
        "id": "NYX1wrGWhsnB",
        "colab": {
          "base_uri": "https://localhost:8080/"
        },
        "outputId": "3133cb54-8e0e-4820-da17-b05656d895a0"
      },
      "source": [
        "optimizer = tf.keras.optimizers.SGD(learning_rate=1.0000e-04, momentum=0.9)\n",
        "model_so2.compile(loss=tf.keras.losses.Huber(),\n",
        "              optimizer=optimizer,\n",
        "              metrics=[\"mse\", \"mae\"])\n",
        "history = model_so2.fit(train_set, validation_data=(val_set), epochs=100)"
      ],
      "execution_count": null,
      "outputs": [
        {
          "output_type": "stream",
          "name": "stdout",
          "text": [
            "Epoch 1/100\n",
            "473/473 [==============================] - 5s 8ms/step - loss: 0.0101 - mse: 0.0201 - mae: 0.1187 - val_loss: 0.0580 - val_mse: 0.1160 - val_mae: 0.2937\n",
            "Epoch 2/100\n",
            "473/473 [==============================] - 4s 7ms/step - loss: 0.0039 - mse: 0.0077 - mae: 0.0655 - val_loss: 0.0451 - val_mse: 0.0901 - val_mae: 0.2477\n",
            "Epoch 3/100\n",
            "473/473 [==============================] - 4s 7ms/step - loss: 0.0032 - mse: 0.0065 - mae: 0.0619 - val_loss: 0.0406 - val_mse: 0.0811 - val_mae: 0.2312\n",
            "Epoch 4/100\n",
            "473/473 [==============================] - 4s 7ms/step - loss: 0.0031 - mse: 0.0063 - mae: 0.0614 - val_loss: 0.0386 - val_mse: 0.0771 - val_mae: 0.2238\n",
            "Epoch 5/100\n",
            "473/473 [==============================] - 4s 7ms/step - loss: 0.0031 - mse: 0.0061 - mae: 0.0610 - val_loss: 0.0375 - val_mse: 0.0749 - val_mae: 0.2197\n",
            "Epoch 6/100\n",
            "473/473 [==============================] - 4s 7ms/step - loss: 0.0030 - mse: 0.0060 - mae: 0.0604 - val_loss: 0.0367 - val_mse: 0.0734 - val_mae: 0.2168\n",
            "Epoch 7/100\n",
            "473/473 [==============================] - 4s 8ms/step - loss: 0.0029 - mse: 0.0059 - mae: 0.0597 - val_loss: 0.0361 - val_mse: 0.0722 - val_mae: 0.2145\n",
            "Epoch 8/100\n",
            "473/473 [==============================] - 4s 8ms/step - loss: 0.0029 - mse: 0.0058 - mae: 0.0590 - val_loss: 0.0357 - val_mse: 0.0714 - val_mae: 0.2129\n",
            "Epoch 9/100\n",
            "473/473 [==============================] - 4s 7ms/step - loss: 0.0028 - mse: 0.0057 - mae: 0.0586 - val_loss: 0.0352 - val_mse: 0.0705 - val_mae: 0.2111\n",
            "Epoch 10/100\n",
            "473/473 [==============================] - 4s 8ms/step - loss: 0.0028 - mse: 0.0056 - mae: 0.0582 - val_loss: 0.0349 - val_mse: 0.0697 - val_mae: 0.2095\n",
            "Epoch 11/100\n",
            "473/473 [==============================] - 4s 8ms/step - loss: 0.0028 - mse: 0.0056 - mae: 0.0578 - val_loss: 0.0344 - val_mse: 0.0688 - val_mae: 0.2077\n",
            "Epoch 12/100\n",
            "473/473 [==============================] - 4s 8ms/step - loss: 0.0028 - mse: 0.0055 - mae: 0.0576 - val_loss: 0.0341 - val_mse: 0.0681 - val_mae: 0.2063\n",
            "Epoch 13/100\n",
            "473/473 [==============================] - 4s 7ms/step - loss: 0.0027 - mse: 0.0055 - mae: 0.0573 - val_loss: 0.0337 - val_mse: 0.0674 - val_mae: 0.2049\n",
            "Epoch 14/100\n",
            "473/473 [==============================] - 4s 7ms/step - loss: 0.0027 - mse: 0.0054 - mae: 0.0571 - val_loss: 0.0334 - val_mse: 0.0667 - val_mae: 0.2034\n",
            "Epoch 15/100\n",
            "473/473 [==============================] - 4s 7ms/step - loss: 0.0027 - mse: 0.0054 - mae: 0.0569 - val_loss: 0.0330 - val_mse: 0.0661 - val_mae: 0.2022\n",
            "Epoch 16/100\n",
            "473/473 [==============================] - 4s 7ms/step - loss: 0.0027 - mse: 0.0053 - mae: 0.0567 - val_loss: 0.0328 - val_mse: 0.0656 - val_mae: 0.2011\n",
            "Epoch 17/100\n",
            "473/473 [==============================] - 4s 7ms/step - loss: 0.0026 - mse: 0.0053 - mae: 0.0565 - val_loss: 0.0325 - val_mse: 0.0650 - val_mae: 0.1999\n",
            "Epoch 18/100\n",
            "473/473 [==============================] - 4s 7ms/step - loss: 0.0026 - mse: 0.0053 - mae: 0.0563 - val_loss: 0.0323 - val_mse: 0.0646 - val_mae: 0.1991\n",
            "Epoch 19/100\n",
            "473/473 [==============================] - 4s 7ms/step - loss: 0.0026 - mse: 0.0052 - mae: 0.0561 - val_loss: 0.0320 - val_mse: 0.0641 - val_mae: 0.1980\n",
            "Epoch 20/100\n",
            "473/473 [==============================] - 4s 7ms/step - loss: 0.0026 - mse: 0.0052 - mae: 0.0560 - val_loss: 0.0318 - val_mse: 0.0636 - val_mae: 0.1970\n",
            "Epoch 21/100\n",
            "473/473 [==============================] - 4s 7ms/step - loss: 0.0026 - mse: 0.0052 - mae: 0.0558 - val_loss: 0.0315 - val_mse: 0.0631 - val_mae: 0.1959\n",
            "Epoch 22/100\n",
            "473/473 [==============================] - 4s 7ms/step - loss: 0.0026 - mse: 0.0051 - mae: 0.0556 - val_loss: 0.0313 - val_mse: 0.0626 - val_mae: 0.1950\n",
            "Epoch 23/100\n",
            "473/473 [==============================] - 4s 8ms/step - loss: 0.0025 - mse: 0.0051 - mae: 0.0555 - val_loss: 0.0311 - val_mse: 0.0622 - val_mae: 0.1941\n",
            "Epoch 24/100\n",
            "473/473 [==============================] - 4s 8ms/step - loss: 0.0025 - mse: 0.0051 - mae: 0.0554 - val_loss: 0.0309 - val_mse: 0.0617 - val_mae: 0.1931\n",
            "Epoch 25/100\n",
            "473/473 [==============================] - 4s 8ms/step - loss: 0.0025 - mse: 0.0050 - mae: 0.0552 - val_loss: 0.0307 - val_mse: 0.0614 - val_mae: 0.1926\n",
            "Epoch 26/100\n",
            "473/473 [==============================] - 4s 8ms/step - loss: 0.0025 - mse: 0.0050 - mae: 0.0550 - val_loss: 0.0305 - val_mse: 0.0611 - val_mae: 0.1918\n",
            "Epoch 27/100\n",
            "473/473 [==============================] - 4s 8ms/step - loss: 0.0025 - mse: 0.0050 - mae: 0.0549 - val_loss: 0.0303 - val_mse: 0.0607 - val_mae: 0.1909\n",
            "Epoch 28/100\n",
            "473/473 [==============================] - 4s 7ms/step - loss: 0.0025 - mse: 0.0050 - mae: 0.0547 - val_loss: 0.0301 - val_mse: 0.0603 - val_mae: 0.1901\n",
            "Epoch 29/100\n",
            "473/473 [==============================] - 4s 7ms/step - loss: 0.0025 - mse: 0.0049 - mae: 0.0546 - val_loss: 0.0300 - val_mse: 0.0599 - val_mae: 0.1894\n",
            "Epoch 30/100\n",
            "473/473 [==============================] - 4s 7ms/step - loss: 0.0025 - mse: 0.0049 - mae: 0.0544 - val_loss: 0.0298 - val_mse: 0.0596 - val_mae: 0.1887\n",
            "Epoch 31/100\n",
            "473/473 [==============================] - 4s 7ms/step - loss: 0.0024 - mse: 0.0049 - mae: 0.0543 - val_loss: 0.0296 - val_mse: 0.0593 - val_mae: 0.1881\n",
            "Epoch 32/100\n",
            "473/473 [==============================] - 4s 7ms/step - loss: 0.0024 - mse: 0.0049 - mae: 0.0541 - val_loss: 0.0295 - val_mse: 0.0589 - val_mae: 0.1873\n",
            "Epoch 33/100\n",
            "473/473 [==============================] - 4s 8ms/step - loss: 0.0024 - mse: 0.0048 - mae: 0.0539 - val_loss: 0.0293 - val_mse: 0.0585 - val_mae: 0.1865\n",
            "Epoch 34/100\n",
            "473/473 [==============================] - 4s 8ms/step - loss: 0.0024 - mse: 0.0048 - mae: 0.0539 - val_loss: 0.0291 - val_mse: 0.0582 - val_mae: 0.1858\n",
            "Epoch 35/100\n",
            "473/473 [==============================] - 4s 7ms/step - loss: 0.0024 - mse: 0.0048 - mae: 0.0538 - val_loss: 0.0290 - val_mse: 0.0579 - val_mae: 0.1852\n",
            "Epoch 36/100\n",
            "473/473 [==============================] - 4s 8ms/step - loss: 0.0024 - mse: 0.0048 - mae: 0.0536 - val_loss: 0.0288 - val_mse: 0.0576 - val_mae: 0.1846\n",
            "Epoch 37/100\n",
            "473/473 [==============================] - 4s 7ms/step - loss: 0.0024 - mse: 0.0048 - mae: 0.0535 - val_loss: 0.0287 - val_mse: 0.0573 - val_mae: 0.1840\n",
            "Epoch 38/100\n",
            "473/473 [==============================] - 4s 8ms/step - loss: 0.0024 - mse: 0.0047 - mae: 0.0534 - val_loss: 0.0285 - val_mse: 0.0571 - val_mae: 0.1834\n",
            "Epoch 39/100\n",
            "473/473 [==============================] - 4s 8ms/step - loss: 0.0024 - mse: 0.0047 - mae: 0.0533 - val_loss: 0.0283 - val_mse: 0.0567 - val_mae: 0.1826\n",
            "Epoch 40/100\n",
            "473/473 [==============================] - 4s 7ms/step - loss: 0.0024 - mse: 0.0047 - mae: 0.0532 - val_loss: 0.0283 - val_mse: 0.0565 - val_mae: 0.1823\n",
            "Epoch 41/100\n",
            "473/473 [==============================] - 4s 7ms/step - loss: 0.0023 - mse: 0.0047 - mae: 0.0530 - val_loss: 0.0281 - val_mse: 0.0562 - val_mae: 0.1815\n",
            "Epoch 42/100\n",
            "473/473 [==============================] - 4s 8ms/step - loss: 0.0023 - mse: 0.0047 - mae: 0.0530 - val_loss: 0.0280 - val_mse: 0.0561 - val_mae: 0.1814\n",
            "Epoch 43/100\n",
            "473/473 [==============================] - 4s 8ms/step - loss: 0.0023 - mse: 0.0047 - mae: 0.0528 - val_loss: 0.0279 - val_mse: 0.0558 - val_mae: 0.1808\n",
            "Epoch 44/100\n",
            "473/473 [==============================] - 4s 7ms/step - loss: 0.0023 - mse: 0.0046 - mae: 0.0527 - val_loss: 0.0278 - val_mse: 0.0555 - val_mae: 0.1803\n",
            "Epoch 45/100\n",
            "473/473 [==============================] - 4s 7ms/step - loss: 0.0023 - mse: 0.0046 - mae: 0.0526 - val_loss: 0.0277 - val_mse: 0.0554 - val_mae: 0.1800\n",
            "Epoch 46/100\n",
            "473/473 [==============================] - 4s 8ms/step - loss: 0.0023 - mse: 0.0046 - mae: 0.0525 - val_loss: 0.0276 - val_mse: 0.0552 - val_mae: 0.1796\n",
            "Epoch 47/100\n",
            "473/473 [==============================] - 4s 8ms/step - loss: 0.0023 - mse: 0.0046 - mae: 0.0523 - val_loss: 0.0274 - val_mse: 0.0549 - val_mae: 0.1788\n",
            "Epoch 48/100\n",
            "473/473 [==============================] - 4s 7ms/step - loss: 0.0023 - mse: 0.0046 - mae: 0.0523 - val_loss: 0.0273 - val_mse: 0.0547 - val_mae: 0.1784\n",
            "Epoch 49/100\n",
            "473/473 [==============================] - 4s 7ms/step - loss: 0.0023 - mse: 0.0046 - mae: 0.0522 - val_loss: 0.0273 - val_mse: 0.0545 - val_mae: 0.1781\n",
            "Epoch 50/100\n",
            "473/473 [==============================] - 4s 8ms/step - loss: 0.0023 - mse: 0.0045 - mae: 0.0520 - val_loss: 0.0271 - val_mse: 0.0542 - val_mae: 0.1775\n",
            "Epoch 51/100\n",
            "473/473 [==============================] - 4s 8ms/step - loss: 0.0023 - mse: 0.0045 - mae: 0.0520 - val_loss: 0.0270 - val_mse: 0.0539 - val_mae: 0.1769\n",
            "Epoch 52/100\n",
            "473/473 [==============================] - 4s 8ms/step - loss: 0.0023 - mse: 0.0045 - mae: 0.0519 - val_loss: 0.0268 - val_mse: 0.0537 - val_mae: 0.1764\n",
            "Epoch 53/100\n",
            "473/473 [==============================] - 4s 8ms/step - loss: 0.0022 - mse: 0.0045 - mae: 0.0518 - val_loss: 0.0267 - val_mse: 0.0533 - val_mae: 0.1756\n",
            "Epoch 54/100\n",
            "473/473 [==============================] - 4s 8ms/step - loss: 0.0022 - mse: 0.0045 - mae: 0.0516 - val_loss: 0.0266 - val_mse: 0.0532 - val_mae: 0.1754\n",
            "Epoch 55/100\n",
            "473/473 [==============================] - 4s 8ms/step - loss: 0.0022 - mse: 0.0045 - mae: 0.0515 - val_loss: 0.0265 - val_mse: 0.0530 - val_mae: 0.1750\n",
            "Epoch 56/100\n",
            "473/473 [==============================] - 4s 8ms/step - loss: 0.0022 - mse: 0.0044 - mae: 0.0514 - val_loss: 0.0264 - val_mse: 0.0528 - val_mae: 0.1744\n",
            "Epoch 57/100\n",
            "473/473 [==============================] - 4s 8ms/step - loss: 0.0022 - mse: 0.0044 - mae: 0.0514 - val_loss: 0.0262 - val_mse: 0.0525 - val_mae: 0.1738\n",
            "Epoch 58/100\n",
            "473/473 [==============================] - 4s 7ms/step - loss: 0.0022 - mse: 0.0044 - mae: 0.0512 - val_loss: 0.0262 - val_mse: 0.0524 - val_mae: 0.1735\n",
            "Epoch 59/100\n",
            "473/473 [==============================] - 4s 7ms/step - loss: 0.0022 - mse: 0.0044 - mae: 0.0511 - val_loss: 0.0260 - val_mse: 0.0521 - val_mae: 0.1729\n",
            "Epoch 60/100\n",
            "473/473 [==============================] - 4s 7ms/step - loss: 0.0022 - mse: 0.0044 - mae: 0.0510 - val_loss: 0.0260 - val_mse: 0.0519 - val_mae: 0.1727\n",
            "Epoch 61/100\n",
            "473/473 [==============================] - 4s 7ms/step - loss: 0.0022 - mse: 0.0044 - mae: 0.0509 - val_loss: 0.0258 - val_mse: 0.0517 - val_mae: 0.1721\n",
            "Epoch 62/100\n",
            "473/473 [==============================] - 4s 8ms/step - loss: 0.0022 - mse: 0.0044 - mae: 0.0508 - val_loss: 0.0258 - val_mse: 0.0515 - val_mae: 0.1718\n",
            "Epoch 63/100\n",
            "473/473 [==============================] - 4s 8ms/step - loss: 0.0022 - mse: 0.0043 - mae: 0.0507 - val_loss: 0.0256 - val_mse: 0.0512 - val_mae: 0.1711\n",
            "Epoch 64/100\n",
            "473/473 [==============================] - 4s 7ms/step - loss: 0.0022 - mse: 0.0043 - mae: 0.0506 - val_loss: 0.0255 - val_mse: 0.0510 - val_mae: 0.1706\n",
            "Epoch 65/100\n",
            "473/473 [==============================] - 4s 7ms/step - loss: 0.0022 - mse: 0.0043 - mae: 0.0506 - val_loss: 0.0254 - val_mse: 0.0508 - val_mae: 0.1702\n",
            "Epoch 66/100\n",
            "473/473 [==============================] - 4s 8ms/step - loss: 0.0021 - mse: 0.0043 - mae: 0.0505 - val_loss: 0.0253 - val_mse: 0.0505 - val_mae: 0.1696\n",
            "Epoch 67/100\n",
            "473/473 [==============================] - 4s 8ms/step - loss: 0.0021 - mse: 0.0043 - mae: 0.0503 - val_loss: 0.0252 - val_mse: 0.0504 - val_mae: 0.1692\n",
            "Epoch 68/100\n",
            "473/473 [==============================] - 4s 8ms/step - loss: 0.0021 - mse: 0.0043 - mae: 0.0503 - val_loss: 0.0251 - val_mse: 0.0502 - val_mae: 0.1688\n",
            "Epoch 69/100\n",
            "473/473 [==============================] - 4s 8ms/step - loss: 0.0021 - mse: 0.0043 - mae: 0.0501 - val_loss: 0.0250 - val_mse: 0.0501 - val_mae: 0.1686\n",
            "Epoch 70/100\n",
            "473/473 [==============================] - 4s 7ms/step - loss: 0.0021 - mse: 0.0042 - mae: 0.0500 - val_loss: 0.0249 - val_mse: 0.0499 - val_mae: 0.1682\n",
            "Epoch 71/100\n",
            "473/473 [==============================] - 4s 8ms/step - loss: 0.0021 - mse: 0.0042 - mae: 0.0500 - val_loss: 0.0248 - val_mse: 0.0497 - val_mae: 0.1677\n",
            "Epoch 72/100\n",
            "473/473 [==============================] - 4s 8ms/step - loss: 0.0021 - mse: 0.0042 - mae: 0.0499 - val_loss: 0.0247 - val_mse: 0.0495 - val_mae: 0.1673\n",
            "Epoch 73/100\n",
            "473/473 [==============================] - 4s 7ms/step - loss: 0.0021 - mse: 0.0042 - mae: 0.0498 - val_loss: 0.0246 - val_mse: 0.0492 - val_mae: 0.1667\n",
            "Epoch 74/100\n",
            "473/473 [==============================] - 4s 8ms/step - loss: 0.0021 - mse: 0.0042 - mae: 0.0497 - val_loss: 0.0246 - val_mse: 0.0491 - val_mae: 0.1665\n",
            "Epoch 75/100\n",
            "473/473 [==============================] - 4s 8ms/step - loss: 0.0021 - mse: 0.0042 - mae: 0.0496 - val_loss: 0.0244 - val_mse: 0.0489 - val_mae: 0.1660\n",
            "Epoch 76/100\n",
            "473/473 [==============================] - 4s 8ms/step - loss: 0.0021 - mse: 0.0042 - mae: 0.0496 - val_loss: 0.0244 - val_mse: 0.0488 - val_mae: 0.1657\n",
            "Epoch 77/100\n",
            "473/473 [==============================] - 4s 8ms/step - loss: 0.0021 - mse: 0.0042 - mae: 0.0494 - val_loss: 0.0243 - val_mse: 0.0485 - val_mae: 0.1652\n",
            "Epoch 78/100\n",
            "473/473 [==============================] - 4s 8ms/step - loss: 0.0021 - mse: 0.0041 - mae: 0.0493 - val_loss: 0.0241 - val_mse: 0.0483 - val_mae: 0.1647\n",
            "Epoch 79/100\n",
            "473/473 [==============================] - 4s 8ms/step - loss: 0.0021 - mse: 0.0041 - mae: 0.0493 - val_loss: 0.0241 - val_mse: 0.0482 - val_mae: 0.1644\n",
            "Epoch 80/100\n",
            "473/473 [==============================] - 4s 8ms/step - loss: 0.0021 - mse: 0.0041 - mae: 0.0492 - val_loss: 0.0240 - val_mse: 0.0480 - val_mae: 0.1640\n",
            "Epoch 81/100\n",
            "473/473 [==============================] - 4s 8ms/step - loss: 0.0021 - mse: 0.0041 - mae: 0.0492 - val_loss: 0.0238 - val_mse: 0.0477 - val_mae: 0.1633\n",
            "Epoch 82/100\n",
            "473/473 [==============================] - 4s 7ms/step - loss: 0.0021 - mse: 0.0041 - mae: 0.0491 - val_loss: 0.0238 - val_mse: 0.0476 - val_mae: 0.1632\n",
            "Epoch 83/100\n",
            "473/473 [==============================] - 4s 8ms/step - loss: 0.0020 - mse: 0.0041 - mae: 0.0490 - val_loss: 0.0237 - val_mse: 0.0475 - val_mae: 0.1628\n",
            "Epoch 84/100\n",
            "473/473 [==============================] - 4s 8ms/step - loss: 0.0020 - mse: 0.0041 - mae: 0.0489 - val_loss: 0.0236 - val_mse: 0.0472 - val_mae: 0.1621\n",
            "Epoch 85/100\n",
            "473/473 [==============================] - 4s 8ms/step - loss: 0.0020 - mse: 0.0041 - mae: 0.0488 - val_loss: 0.0235 - val_mse: 0.0471 - val_mae: 0.1619\n",
            "Epoch 86/100\n",
            "473/473 [==============================] - 4s 7ms/step - loss: 0.0020 - mse: 0.0041 - mae: 0.0487 - val_loss: 0.0234 - val_mse: 0.0469 - val_mae: 0.1615\n",
            "Epoch 87/100\n",
            "473/473 [==============================] - 4s 7ms/step - loss: 0.0020 - mse: 0.0040 - mae: 0.0487 - val_loss: 0.0234 - val_mse: 0.0467 - val_mae: 0.1611\n",
            "Epoch 88/100\n",
            "473/473 [==============================] - 4s 8ms/step - loss: 0.0020 - mse: 0.0040 - mae: 0.0486 - val_loss: 0.0233 - val_mse: 0.0466 - val_mae: 0.1609\n",
            "Epoch 89/100\n",
            "473/473 [==============================] - 4s 7ms/step - loss: 0.0020 - mse: 0.0040 - mae: 0.0485 - val_loss: 0.0232 - val_mse: 0.0464 - val_mae: 0.1604\n",
            "Epoch 90/100\n",
            "473/473 [==============================] - 4s 7ms/step - loss: 0.0020 - mse: 0.0040 - mae: 0.0484 - val_loss: 0.0232 - val_mse: 0.0463 - val_mae: 0.1602\n",
            "Epoch 91/100\n",
            "473/473 [==============================] - 4s 8ms/step - loss: 0.0020 - mse: 0.0040 - mae: 0.0483 - val_loss: 0.0230 - val_mse: 0.0461 - val_mae: 0.1596\n",
            "Epoch 92/100\n",
            "473/473 [==============================] - 4s 8ms/step - loss: 0.0020 - mse: 0.0040 - mae: 0.0483 - val_loss: 0.0230 - val_mse: 0.0459 - val_mae: 0.1594\n",
            "Epoch 93/100\n",
            "473/473 [==============================] - 4s 8ms/step - loss: 0.0020 - mse: 0.0040 - mae: 0.0482 - val_loss: 0.0229 - val_mse: 0.0458 - val_mae: 0.1590\n",
            "Epoch 94/100\n",
            "473/473 [==============================] - 4s 8ms/step - loss: 0.0020 - mse: 0.0040 - mae: 0.0481 - val_loss: 0.0228 - val_mse: 0.0456 - val_mae: 0.1586\n",
            "Epoch 95/100\n",
            "473/473 [==============================] - 4s 8ms/step - loss: 0.0020 - mse: 0.0040 - mae: 0.0481 - val_loss: 0.0227 - val_mse: 0.0455 - val_mae: 0.1583\n",
            "Epoch 96/100\n",
            "473/473 [==============================] - 4s 8ms/step - loss: 0.0020 - mse: 0.0039 - mae: 0.0480 - val_loss: 0.0226 - val_mse: 0.0453 - val_mae: 0.1579\n",
            "Epoch 97/100\n",
            "473/473 [==============================] - 4s 8ms/step - loss: 0.0020 - mse: 0.0039 - mae: 0.0480 - val_loss: 0.0225 - val_mse: 0.0451 - val_mae: 0.1574\n",
            "Epoch 98/100\n",
            "473/473 [==============================] - 4s 8ms/step - loss: 0.0020 - mse: 0.0039 - mae: 0.0479 - val_loss: 0.0225 - val_mse: 0.0450 - val_mae: 0.1572\n",
            "Epoch 99/100\n",
            "473/473 [==============================] - 4s 8ms/step - loss: 0.0020 - mse: 0.0039 - mae: 0.0477 - val_loss: 0.0224 - val_mse: 0.0449 - val_mae: 0.1570\n",
            "Epoch 100/100\n",
            "473/473 [==============================] - 4s 8ms/step - loss: 0.0020 - mse: 0.0039 - mae: 0.0477 - val_loss: 0.0224 - val_mse: 0.0447 - val_mae: 0.1565\n"
          ]
        }
      ]
    },
    {
      "cell_type": "code",
      "metadata": {
        "id": "hoihtgHjhsnB",
        "colab": {
          "base_uri": "https://localhost:8080/",
          "height": 298
        },
        "outputId": "af793616-0f9e-414f-e260-d42cc7b666d5"
      },
      "source": [
        "import matplotlib.pyplot as plt\n",
        "import numpy as np\n",
        "\n",
        "plt.style.use(\"ggplot\")\n",
        "plt.figure()\n",
        "plt.plot(np.arange(0, 100), history.history[\"loss\"], label=\"train_loss\")\n",
        "plt.plot(np.arange(0, 100), history.history[\"val_loss\"], label=\"val_loss\")\n",
        "plt.title(\"Loss Plot\")\n",
        "plt.xlabel(\"Epoch #\")\n",
        "plt.ylabel(\"Loss\")\n",
        "plt.legend()\n",
        "plt.show()"
      ],
      "execution_count": null,
      "outputs": [
        {
          "output_type": "display_data",
          "data": {
            "image/png": "[encoded data removed]",
            "text/plain": [
              "<Figure size 432x288 with 1 Axes>"
            ]
          },
          "metadata": {}
        }
      ]
    },
    {
      "cell_type": "code",
      "metadata": {
        "id": "DeWAbqLAhsnB",
        "colab": {
          "base_uri": "https://localhost:8080/",
          "height": 298
        },
        "outputId": "f7d89c77-2ce7-45f0-e42d-5c05b0915165"
      },
      "source": [
        "plt.style.use(\"ggplot\")\n",
        "plt.figure()\n",
        "plt.plot(np.arange(0, 100), history.history[\"mae\"], label=\"train_mae\")\n",
        "plt.plot(np.arange(0, 100), history.history[\"val_mae\"], label=\"val_mae\")\n",
        "plt.title(\"mae Plot\")\n",
        "plt.xlabel(\"Epoch #\")\n",
        "plt.ylabel(\"Loss\")\n",
        "plt.legend()\n",
        "plt.show()"
      ],
      "execution_count": null,
      "outputs": [
        {
          "output_type": "display_data",
          "data": {
            "image/png": "[encoded data removed]",
            "text/plain": [
              "<Figure size 432x288 with 1 Axes>"
            ]
          },
          "metadata": {}
        }
      ]
    },
    {
      "cell_type": "code",
      "metadata": {
        "id": "hsFkWcHGhsnB",
        "colab": {
          "base_uri": "https://localhost:8080/",
          "height": 298
        },
        "outputId": "7db554bc-5848-49bb-c6bf-be979657e4e1"
      },
      "source": [
        "plt.style.use(\"ggplot\")\n",
        "plt.figure()\n",
        "plt.plot(np.arange(0, 100), history.history[\"mse\"], label=\"train_mse\")\n",
        "plt.plot(np.arange(0, 100), history.history[\"val_mse\"], label=\"val_mse\")\n",
        "plt.title(\"mse Plot\")\n",
        "plt.xlabel(\"Epoch #\")\n",
        "plt.ylabel(\"Loss\")\n",
        "plt.legend()\n",
        "plt.show()"
      ],
      "execution_count": null,
      "outputs": [
        {
          "output_type": "display_data",
          "data": {
            "image/png": "[encoded data removed]",
            "text/plain": [
              "<Figure size 432x288 with 1 Axes>"
            ]
          },
          "metadata": {}
        }
      ]
    },
    {
      "cell_type": "markdown",
      "metadata": {
        "id": "-U8mi2zmj-cW"
      },
      "source": [
        "##co"
      ]
    },
    {
      "cell_type": "code",
      "metadata": {
        "id": "9dvuDaO0j-cl"
      },
      "source": [
        "# co = df['co'].values\n",
        "co = df['co'].values.reshape(-1, 1)\n",
        "co = min_max_scaler.fit_transform(co)"
      ],
      "execution_count": null,
      "outputs": []
    },
    {
      "cell_type": "code",
      "metadata": {
        "id": "BctlfKJ9j-cm",
        "colab": {
          "base_uri": "https://localhost:8080/"
        },
        "outputId": "ce474147-2f7c-4829-9e45-86fa5dd228be"
      },
      "source": [
        "minMAE = (co.max() - co.min()) * 0.1\n",
        "minMAE"
      ],
      "execution_count": null,
      "outputs": [
        {
          "output_type": "execute_result",
          "data": {
            "text/plain": [
              "0.1"
            ]
          },
          "metadata": {},
          "execution_count": 42
        }
      ]
    },
    {
      "cell_type": "code",
      "metadata": {
        "id": "GJ7vXKAdVlxL"
      },
      "source": [
        "split_time = int(0.9 * len(co))\n",
        "time_train = time[:split_time]\n",
        "x_train = co[:split_time]\n",
        "time_valid = time[split_time:]\n",
        "x_valid = co[split_time:]"
      ],
      "execution_count": null,
      "outputs": []
    },
    {
      "cell_type": "code",
      "metadata": {
        "colab": {
          "base_uri": "https://localhost:8080/"
        },
        "id": "qniKuDf-VlxM",
        "outputId": "e4ee3c1c-c866-42d5-8e7c-544031380214"
      },
      "source": [
        "train_set = windowed_dataset(x_train, window_size, batch_size, shuffle_buffer_size)\n",
        "print(train_set)\n",
        "print(x_train.shape)"
      ],
      "execution_count": null,
      "outputs": [
        {
          "output_type": "stream",
          "name": "stdout",
          "text": [
            "<PrefetchDataset shapes: ((None, None, 1, 1), (None, None, 1, 1)), types: (tf.float64, tf.float64)>\n",
            "(3807, 1)\n"
          ]
        }
      ]
    },
    {
      "cell_type": "code",
      "metadata": {
        "colab": {
          "base_uri": "https://localhost:8080/"
        },
        "id": "BjYz0mZnVlxM",
        "outputId": "203ed08c-1fa5-4307-dd13-3b05703cde3e"
      },
      "source": [
        "val_set = windowed_dataset(x_valid, window_size, batch_size, shuffle_buffer_size)\n",
        "print(val_set)\n",
        "print(x_valid.shape)"
      ],
      "execution_count": null,
      "outputs": [
        {
          "output_type": "stream",
          "name": "stdout",
          "text": [
            "<PrefetchDataset shapes: ((None, None, 1, 1), (None, None, 1, 1)), types: (tf.float64, tf.float64)>\n",
            "(423, 1)\n"
          ]
        }
      ]
    },
    {
      "cell_type": "code",
      "metadata": {
        "id": "YvpV1fDhj-co"
      },
      "source": [
        "model_co = tf.keras.models.Sequential([\n",
        "  tf.keras.layers.Dense(128, activation=\"relu\"),\n",
        "  tf.keras.layers.Dense(64, activation=\"relu\"),\n",
        "  tf.keras.layers.Dense(1),\n",
        "])"
      ],
      "execution_count": null,
      "outputs": []
    },
    {
      "cell_type": "code",
      "metadata": {
        "id": "wHCdj6Nwj-cp",
        "colab": {
          "base_uri": "https://localhost:8080/"
        },
        "outputId": "88b41415-7841-4374-8c7c-d71144bcaba3"
      },
      "source": [
        "optimizer = tf.keras.optimizers.SGD(learning_rate=1.0000e-04, momentum=0.9)\n",
        "model_co.compile(loss=tf.keras.losses.Huber(),\n",
        "              optimizer=optimizer,\n",
        "              metrics=[\"mse\", \"mae\"])\n",
        "history = model_co.fit(train_set, validation_data=(val_set), epochs=100)"
      ],
      "execution_count": null,
      "outputs": [
        {
          "output_type": "stream",
          "name": "stdout",
          "text": [
            "Epoch 1/100\n",
            "473/473 [==============================] - 5s 8ms/step - loss: 0.0148 - mse: 0.0296 - mae: 0.1378 - val_loss: 0.0029 - val_mse: 0.0059 - val_mae: 0.0614\n",
            "Epoch 2/100\n",
            "473/473 [==============================] - 4s 8ms/step - loss: 0.0061 - mse: 0.0121 - mae: 0.0782 - val_loss: 0.0035 - val_mse: 0.0070 - val_mae: 0.0742\n",
            "Epoch 3/100\n",
            "473/473 [==============================] - 4s 8ms/step - loss: 0.0048 - mse: 0.0097 - mae: 0.0701 - val_loss: 0.0042 - val_mse: 0.0084 - val_mae: 0.0821\n",
            "Epoch 4/100\n",
            "473/473 [==============================] - 4s 8ms/step - loss: 0.0046 - mse: 0.0092 - mae: 0.0697 - val_loss: 0.0046 - val_mse: 0.0091 - val_mae: 0.0853\n",
            "Epoch 5/100\n",
            "473/473 [==============================] - 4s 7ms/step - loss: 0.0046 - mse: 0.0091 - mae: 0.0699 - val_loss: 0.0046 - val_mse: 0.0093 - val_mae: 0.0859\n",
            "Epoch 6/100\n",
            "473/473 [==============================] - 4s 7ms/step - loss: 0.0046 - mse: 0.0091 - mae: 0.0700 - val_loss: 0.0047 - val_mse: 0.0093 - val_mae: 0.0861\n",
            "Epoch 7/100\n",
            "473/473 [==============================] - 4s 8ms/step - loss: 0.0045 - mse: 0.0091 - mae: 0.0699 - val_loss: 0.0047 - val_mse: 0.0094 - val_mae: 0.0864\n",
            "Epoch 8/100\n",
            "473/473 [==============================] - 4s 7ms/step - loss: 0.0045 - mse: 0.0091 - mae: 0.0699 - val_loss: 0.0047 - val_mse: 0.0094 - val_mae: 0.0862\n",
            "Epoch 9/100\n",
            "473/473 [==============================] - 4s 7ms/step - loss: 0.0045 - mse: 0.0091 - mae: 0.0700 - val_loss: 0.0046 - val_mse: 0.0093 - val_mae: 0.0859\n",
            "Epoch 10/100\n",
            "473/473 [==============================] - 4s 7ms/step - loss: 0.0045 - mse: 0.0090 - mae: 0.0699 - val_loss: 0.0046 - val_mse: 0.0093 - val_mae: 0.0858\n",
            "Epoch 11/100\n",
            "473/473 [==============================] - 4s 7ms/step - loss: 0.0045 - mse: 0.0090 - mae: 0.0699 - val_loss: 0.0046 - val_mse: 0.0092 - val_mae: 0.0856\n",
            "Epoch 12/100\n",
            "473/473 [==============================] - 4s 7ms/step - loss: 0.0045 - mse: 0.0090 - mae: 0.0698 - val_loss: 0.0046 - val_mse: 0.0092 - val_mae: 0.0853\n",
            "Epoch 13/100\n",
            "473/473 [==============================] - 4s 7ms/step - loss: 0.0045 - mse: 0.0090 - mae: 0.0698 - val_loss: 0.0046 - val_mse: 0.0092 - val_mae: 0.0852\n",
            "Epoch 14/100\n",
            "473/473 [==============================] - 4s 7ms/step - loss: 0.0045 - mse: 0.0090 - mae: 0.0698 - val_loss: 0.0046 - val_mse: 0.0091 - val_mae: 0.0850\n",
            "Epoch 15/100\n",
            "473/473 [==============================] - 4s 8ms/step - loss: 0.0045 - mse: 0.0090 - mae: 0.0697 - val_loss: 0.0046 - val_mse: 0.0091 - val_mae: 0.0849\n",
            "Epoch 16/100\n",
            "473/473 [==============================] - 4s 8ms/step - loss: 0.0045 - mse: 0.0090 - mae: 0.0697 - val_loss: 0.0045 - val_mse: 0.0091 - val_mae: 0.0846\n",
            "Epoch 17/100\n",
            "473/473 [==============================] - 4s 8ms/step - loss: 0.0045 - mse: 0.0090 - mae: 0.0697 - val_loss: 0.0045 - val_mse: 0.0090 - val_mae: 0.0845\n",
            "Epoch 18/100\n",
            "473/473 [==============================] - 4s 7ms/step - loss: 0.0045 - mse: 0.0090 - mae: 0.0697 - val_loss: 0.0045 - val_mse: 0.0090 - val_mae: 0.0844\n",
            "Epoch 19/100\n",
            "473/473 [==============================] - 4s 8ms/step - loss: 0.0045 - mse: 0.0090 - mae: 0.0696 - val_loss: 0.0045 - val_mse: 0.0090 - val_mae: 0.0842\n",
            "Epoch 20/100\n",
            "473/473 [==============================] - 4s 7ms/step - loss: 0.0045 - mse: 0.0090 - mae: 0.0697 - val_loss: 0.0044 - val_mse: 0.0089 - val_mae: 0.0838\n",
            "Epoch 21/100\n",
            "473/473 [==============================] - 4s 7ms/step - loss: 0.0045 - mse: 0.0090 - mae: 0.0695 - val_loss: 0.0044 - val_mse: 0.0089 - val_mae: 0.0838\n",
            "Epoch 22/100\n",
            "473/473 [==============================] - 4s 8ms/step - loss: 0.0045 - mse: 0.0090 - mae: 0.0695 - val_loss: 0.0044 - val_mse: 0.0089 - val_mae: 0.0837\n",
            "Epoch 23/100\n",
            "473/473 [==============================] - 4s 7ms/step - loss: 0.0045 - mse: 0.0090 - mae: 0.0695 - val_loss: 0.0044 - val_mse: 0.0089 - val_mae: 0.0836\n",
            "Epoch 24/100\n",
            "473/473 [==============================] - 4s 7ms/step - loss: 0.0045 - mse: 0.0090 - mae: 0.0696 - val_loss: 0.0044 - val_mse: 0.0088 - val_mae: 0.0835\n",
            "Epoch 25/100\n",
            "473/473 [==============================] - 4s 7ms/step - loss: 0.0045 - mse: 0.0090 - mae: 0.0695 - val_loss: 0.0044 - val_mse: 0.0088 - val_mae: 0.0833\n",
            "Epoch 26/100\n",
            "473/473 [==============================] - 4s 7ms/step - loss: 0.0045 - mse: 0.0089 - mae: 0.0695 - val_loss: 0.0044 - val_mse: 0.0087 - val_mae: 0.0830\n",
            "Epoch 27/100\n",
            "473/473 [==============================] - 4s 7ms/step - loss: 0.0045 - mse: 0.0089 - mae: 0.0694 - val_loss: 0.0044 - val_mse: 0.0087 - val_mae: 0.0830\n",
            "Epoch 28/100\n",
            "473/473 [==============================] - 4s 7ms/step - loss: 0.0045 - mse: 0.0089 - mae: 0.0694 - val_loss: 0.0044 - val_mse: 0.0087 - val_mae: 0.0829\n",
            "Epoch 29/100\n",
            "473/473 [==============================] - 4s 8ms/step - loss: 0.0045 - mse: 0.0089 - mae: 0.0694 - val_loss: 0.0043 - val_mse: 0.0087 - val_mae: 0.0827\n",
            "Epoch 30/100\n",
            "473/473 [==============================] - 4s 7ms/step - loss: 0.0045 - mse: 0.0089 - mae: 0.0694 - val_loss: 0.0043 - val_mse: 0.0086 - val_mae: 0.0824\n",
            "Epoch 31/100\n",
            "473/473 [==============================] - 4s 7ms/step - loss: 0.0045 - mse: 0.0089 - mae: 0.0693 - val_loss: 0.0043 - val_mse: 0.0086 - val_mae: 0.0824\n",
            "Epoch 32/100\n",
            "473/473 [==============================] - 4s 7ms/step - loss: 0.0045 - mse: 0.0089 - mae: 0.0694 - val_loss: 0.0043 - val_mse: 0.0086 - val_mae: 0.0823\n",
            "Epoch 33/100\n",
            "473/473 [==============================] - 4s 7ms/step - loss: 0.0045 - mse: 0.0089 - mae: 0.0693 - val_loss: 0.0043 - val_mse: 0.0086 - val_mae: 0.0823\n",
            "Epoch 34/100\n",
            "473/473 [==============================] - 4s 8ms/step - loss: 0.0045 - mse: 0.0089 - mae: 0.0693 - val_loss: 0.0043 - val_mse: 0.0086 - val_mae: 0.0821\n",
            "Epoch 35/100\n",
            "473/473 [==============================] - 4s 7ms/step - loss: 0.0045 - mse: 0.0089 - mae: 0.0693 - val_loss: 0.0043 - val_mse: 0.0085 - val_mae: 0.0820\n",
            "Epoch 36/100\n",
            "473/473 [==============================] - 4s 8ms/step - loss: 0.0045 - mse: 0.0089 - mae: 0.0693 - val_loss: 0.0043 - val_mse: 0.0086 - val_mae: 0.0820\n",
            "Epoch 37/100\n",
            "473/473 [==============================] - 4s 7ms/step - loss: 0.0045 - mse: 0.0089 - mae: 0.0693 - val_loss: 0.0043 - val_mse: 0.0085 - val_mae: 0.0818\n",
            "Epoch 38/100\n",
            "473/473 [==============================] - 4s 8ms/step - loss: 0.0045 - mse: 0.0089 - mae: 0.0692 - val_loss: 0.0043 - val_mse: 0.0085 - val_mae: 0.0817\n",
            "Epoch 39/100\n",
            "473/473 [==============================] - 4s 7ms/step - loss: 0.0045 - mse: 0.0089 - mae: 0.0692 - val_loss: 0.0042 - val_mse: 0.0085 - val_mae: 0.0816\n",
            "Epoch 40/100\n",
            "473/473 [==============================] - 4s 8ms/step - loss: 0.0045 - mse: 0.0089 - mae: 0.0692 - val_loss: 0.0042 - val_mse: 0.0085 - val_mae: 0.0816\n",
            "Epoch 41/100\n",
            "473/473 [==============================] - 4s 8ms/step - loss: 0.0044 - mse: 0.0089 - mae: 0.0692 - val_loss: 0.0042 - val_mse: 0.0085 - val_mae: 0.0815\n",
            "Epoch 42/100\n",
            "473/473 [==============================] - 4s 8ms/step - loss: 0.0044 - mse: 0.0089 - mae: 0.0693 - val_loss: 0.0042 - val_mse: 0.0085 - val_mae: 0.0815\n",
            "Epoch 43/100\n",
            "473/473 [==============================] - 4s 7ms/step - loss: 0.0044 - mse: 0.0089 - mae: 0.0692 - val_loss: 0.0042 - val_mse: 0.0084 - val_mae: 0.0813\n",
            "Epoch 44/100\n",
            "473/473 [==============================] - 4s 8ms/step - loss: 0.0044 - mse: 0.0089 - mae: 0.0692 - val_loss: 0.0042 - val_mse: 0.0084 - val_mae: 0.0810\n",
            "Epoch 45/100\n",
            "473/473 [==============================] - 4s 8ms/step - loss: 0.0044 - mse: 0.0089 - mae: 0.0692 - val_loss: 0.0042 - val_mse: 0.0084 - val_mae: 0.0810\n",
            "Epoch 46/100\n",
            "473/473 [==============================] - 4s 7ms/step - loss: 0.0044 - mse: 0.0089 - mae: 0.0691 - val_loss: 0.0042 - val_mse: 0.0083 - val_mae: 0.0808\n",
            "Epoch 47/100\n",
            "473/473 [==============================] - 4s 7ms/step - loss: 0.0044 - mse: 0.0089 - mae: 0.0691 - val_loss: 0.0042 - val_mse: 0.0083 - val_mae: 0.0807\n",
            "Epoch 48/100\n",
            "473/473 [==============================] - 4s 8ms/step - loss: 0.0044 - mse: 0.0089 - mae: 0.0691 - val_loss: 0.0041 - val_mse: 0.0083 - val_mae: 0.0806\n",
            "Epoch 49/100\n",
            "473/473 [==============================] - 4s 8ms/step - loss: 0.0044 - mse: 0.0089 - mae: 0.0691 - val_loss: 0.0041 - val_mse: 0.0083 - val_mae: 0.0805\n",
            "Epoch 50/100\n",
            "473/473 [==============================] - 4s 8ms/step - loss: 0.0044 - mse: 0.0089 - mae: 0.0691 - val_loss: 0.0041 - val_mse: 0.0083 - val_mae: 0.0805\n",
            "Epoch 51/100\n",
            "473/473 [==============================] - 4s 8ms/step - loss: 0.0044 - mse: 0.0089 - mae: 0.0691 - val_loss: 0.0041 - val_mse: 0.0083 - val_mae: 0.0804\n",
            "Epoch 52/100\n",
            "473/473 [==============================] - 4s 8ms/step - loss: 0.0044 - mse: 0.0089 - mae: 0.0691 - val_loss: 0.0041 - val_mse: 0.0083 - val_mae: 0.0804\n",
            "Epoch 53/100\n",
            "473/473 [==============================] - 4s 8ms/step - loss: 0.0044 - mse: 0.0089 - mae: 0.0691 - val_loss: 0.0041 - val_mse: 0.0082 - val_mae: 0.0803\n",
            "Epoch 54/100\n",
            "473/473 [==============================] - 4s 8ms/step - loss: 0.0044 - mse: 0.0089 - mae: 0.0691 - val_loss: 0.0041 - val_mse: 0.0082 - val_mae: 0.0801\n",
            "Epoch 55/100\n",
            "473/473 [==============================] - 4s 7ms/step - loss: 0.0044 - mse: 0.0089 - mae: 0.0690 - val_loss: 0.0041 - val_mse: 0.0082 - val_mae: 0.0802\n",
            "Epoch 56/100\n",
            "473/473 [==============================] - 4s 8ms/step - loss: 0.0044 - mse: 0.0089 - mae: 0.0690 - val_loss: 0.0041 - val_mse: 0.0082 - val_mae: 0.0802\n",
            "Epoch 57/100\n",
            "473/473 [==============================] - 4s 8ms/step - loss: 0.0044 - mse: 0.0089 - mae: 0.0690 - val_loss: 0.0041 - val_mse: 0.0082 - val_mae: 0.0800\n",
            "Epoch 58/100\n",
            "473/473 [==============================] - 4s 8ms/step - loss: 0.0044 - mse: 0.0089 - mae: 0.0690 - val_loss: 0.0041 - val_mse: 0.0082 - val_mae: 0.0799\n",
            "Epoch 59/100\n",
            "473/473 [==============================] - 4s 8ms/step - loss: 0.0044 - mse: 0.0089 - mae: 0.0690 - val_loss: 0.0041 - val_mse: 0.0081 - val_mae: 0.0797\n",
            "Epoch 60/100\n",
            "473/473 [==============================] - 4s 8ms/step - loss: 0.0044 - mse: 0.0089 - mae: 0.0690 - val_loss: 0.0041 - val_mse: 0.0081 - val_mae: 0.0797\n",
            "Epoch 61/100\n",
            "473/473 [==============================] - 4s 8ms/step - loss: 0.0044 - mse: 0.0089 - mae: 0.0690 - val_loss: 0.0041 - val_mse: 0.0081 - val_mae: 0.0797\n",
            "Epoch 62/100\n",
            "473/473 [==============================] - 4s 8ms/step - loss: 0.0044 - mse: 0.0089 - mae: 0.0690 - val_loss: 0.0040 - val_mse: 0.0081 - val_mae: 0.0795\n",
            "Epoch 63/100\n",
            "473/473 [==============================] - 4s 8ms/step - loss: 0.0044 - mse: 0.0088 - mae: 0.0690 - val_loss: 0.0041 - val_mse: 0.0081 - val_mae: 0.0795\n",
            "Epoch 64/100\n",
            "473/473 [==============================] - 4s 8ms/step - loss: 0.0044 - mse: 0.0088 - mae: 0.0690 - val_loss: 0.0040 - val_mse: 0.0081 - val_mae: 0.0795\n",
            "Epoch 65/100\n",
            "473/473 [==============================] - 4s 8ms/step - loss: 0.0044 - mse: 0.0088 - mae: 0.0690 - val_loss: 0.0040 - val_mse: 0.0081 - val_mae: 0.0794\n",
            "Epoch 66/100\n",
            "473/473 [==============================] - 4s 8ms/step - loss: 0.0044 - mse: 0.0088 - mae: 0.0689 - val_loss: 0.0040 - val_mse: 0.0081 - val_mae: 0.0793\n",
            "Epoch 67/100\n",
            "473/473 [==============================] - 4s 8ms/step - loss: 0.0044 - mse: 0.0088 - mae: 0.0689 - val_loss: 0.0040 - val_mse: 0.0081 - val_mae: 0.0794\n",
            "Epoch 68/100\n",
            "473/473 [==============================] - 4s 8ms/step - loss: 0.0044 - mse: 0.0088 - mae: 0.0690 - val_loss: 0.0040 - val_mse: 0.0080 - val_mae: 0.0791\n",
            "Epoch 69/100\n",
            "473/473 [==============================] - 4s 8ms/step - loss: 0.0044 - mse: 0.0088 - mae: 0.0689 - val_loss: 0.0040 - val_mse: 0.0080 - val_mae: 0.0789\n",
            "Epoch 70/100\n",
            "473/473 [==============================] - 4s 8ms/step - loss: 0.0044 - mse: 0.0088 - mae: 0.0689 - val_loss: 0.0040 - val_mse: 0.0080 - val_mae: 0.0788\n",
            "Epoch 71/100\n",
            "473/473 [==============================] - 4s 8ms/step - loss: 0.0044 - mse: 0.0088 - mae: 0.0689 - val_loss: 0.0040 - val_mse: 0.0080 - val_mae: 0.0789\n",
            "Epoch 72/100\n",
            "473/473 [==============================] - 4s 8ms/step - loss: 0.0044 - mse: 0.0088 - mae: 0.0690 - val_loss: 0.0040 - val_mse: 0.0080 - val_mae: 0.0788\n",
            "Epoch 73/100\n",
            "473/473 [==============================] - 4s 8ms/step - loss: 0.0044 - mse: 0.0088 - mae: 0.0689 - val_loss: 0.0040 - val_mse: 0.0080 - val_mae: 0.0788\n",
            "Epoch 74/100\n",
            "473/473 [==============================] - 4s 8ms/step - loss: 0.0044 - mse: 0.0088 - mae: 0.0689 - val_loss: 0.0040 - val_mse: 0.0080 - val_mae: 0.0789\n",
            "Epoch 75/100\n",
            "473/473 [==============================] - 4s 8ms/step - loss: 0.0044 - mse: 0.0088 - mae: 0.0689 - val_loss: 0.0040 - val_mse: 0.0079 - val_mae: 0.0786\n",
            "Epoch 76/100\n",
            "473/473 [==============================] - 4s 8ms/step - loss: 0.0044 - mse: 0.0088 - mae: 0.0689 - val_loss: 0.0040 - val_mse: 0.0079 - val_mae: 0.0785\n",
            "Epoch 77/100\n",
            "473/473 [==============================] - 4s 8ms/step - loss: 0.0044 - mse: 0.0088 - mae: 0.0689 - val_loss: 0.0040 - val_mse: 0.0080 - val_mae: 0.0787\n",
            "Epoch 78/100\n",
            "473/473 [==============================] - 4s 8ms/step - loss: 0.0044 - mse: 0.0088 - mae: 0.0689 - val_loss: 0.0040 - val_mse: 0.0079 - val_mae: 0.0786\n",
            "Epoch 79/100\n",
            "473/473 [==============================] - 4s 8ms/step - loss: 0.0044 - mse: 0.0088 - mae: 0.0688 - val_loss: 0.0040 - val_mse: 0.0079 - val_mae: 0.0785\n",
            "Epoch 80/100\n",
            "473/473 [==============================] - 4s 8ms/step - loss: 0.0044 - mse: 0.0088 - mae: 0.0689 - val_loss: 0.0040 - val_mse: 0.0079 - val_mae: 0.0784\n",
            "Epoch 81/100\n",
            "473/473 [==============================] - 4s 8ms/step - loss: 0.0044 - mse: 0.0088 - mae: 0.0688 - val_loss: 0.0039 - val_mse: 0.0079 - val_mae: 0.0783\n",
            "Epoch 82/100\n",
            "473/473 [==============================] - 4s 8ms/step - loss: 0.0044 - mse: 0.0088 - mae: 0.0689 - val_loss: 0.0039 - val_mse: 0.0079 - val_mae: 0.0782\n",
            "Epoch 83/100\n",
            "473/473 [==============================] - 4s 8ms/step - loss: 0.0044 - mse: 0.0088 - mae: 0.0688 - val_loss: 0.0039 - val_mse: 0.0079 - val_mae: 0.0783\n",
            "Epoch 84/100\n",
            "473/473 [==============================] - 4s 8ms/step - loss: 0.0044 - mse: 0.0088 - mae: 0.0688 - val_loss: 0.0040 - val_mse: 0.0079 - val_mae: 0.0784\n",
            "Epoch 85/100\n",
            "473/473 [==============================] - 4s 8ms/step - loss: 0.0044 - mse: 0.0088 - mae: 0.0689 - val_loss: 0.0039 - val_mse: 0.0079 - val_mae: 0.0781\n",
            "Epoch 86/100\n",
            "473/473 [==============================] - 4s 8ms/step - loss: 0.0044 - mse: 0.0088 - mae: 0.0688 - val_loss: 0.0039 - val_mse: 0.0078 - val_mae: 0.0780\n",
            "Epoch 87/100\n",
            "473/473 [==============================] - 4s 8ms/step - loss: 0.0044 - mse: 0.0088 - mae: 0.0688 - val_loss: 0.0039 - val_mse: 0.0078 - val_mae: 0.0779\n",
            "Epoch 88/100\n",
            "473/473 [==============================] - 4s 8ms/step - loss: 0.0044 - mse: 0.0088 - mae: 0.0688 - val_loss: 0.0039 - val_mse: 0.0078 - val_mae: 0.0780\n",
            "Epoch 89/100\n",
            "473/473 [==============================] - 4s 8ms/step - loss: 0.0044 - mse: 0.0088 - mae: 0.0688 - val_loss: 0.0039 - val_mse: 0.0078 - val_mae: 0.0778\n",
            "Epoch 90/100\n",
            "473/473 [==============================] - 4s 8ms/step - loss: 0.0044 - mse: 0.0088 - mae: 0.0688 - val_loss: 0.0039 - val_mse: 0.0078 - val_mae: 0.0778\n",
            "Epoch 91/100\n",
            "473/473 [==============================] - 4s 8ms/step - loss: 0.0044 - mse: 0.0088 - mae: 0.0688 - val_loss: 0.0039 - val_mse: 0.0078 - val_mae: 0.0776\n",
            "Epoch 92/100\n",
            "473/473 [==============================] - 4s 8ms/step - loss: 0.0044 - mse: 0.0088 - mae: 0.0688 - val_loss: 0.0039 - val_mse: 0.0078 - val_mae: 0.0778\n",
            "Epoch 93/100\n",
            "473/473 [==============================] - 4s 8ms/step - loss: 0.0044 - mse: 0.0088 - mae: 0.0688 - val_loss: 0.0039 - val_mse: 0.0078 - val_mae: 0.0776\n",
            "Epoch 94/100\n",
            "473/473 [==============================] - 5s 9ms/step - loss: 0.0044 - mse: 0.0088 - mae: 0.0687 - val_loss: 0.0039 - val_mse: 0.0078 - val_mae: 0.0777\n",
            "Epoch 95/100\n",
            "473/473 [==============================] - 4s 8ms/step - loss: 0.0044 - mse: 0.0088 - mae: 0.0688 - val_loss: 0.0039 - val_mse: 0.0078 - val_mae: 0.0776\n",
            "Epoch 96/100\n",
            "473/473 [==============================] - 4s 8ms/step - loss: 0.0044 - mse: 0.0088 - mae: 0.0688 - val_loss: 0.0039 - val_mse: 0.0078 - val_mae: 0.0775\n",
            "Epoch 97/100\n",
            "473/473 [==============================] - 4s 8ms/step - loss: 0.0044 - mse: 0.0088 - mae: 0.0688 - val_loss: 0.0039 - val_mse: 0.0078 - val_mae: 0.0775\n",
            "Epoch 98/100\n",
            "473/473 [==============================] - 4s 8ms/step - loss: 0.0044 - mse: 0.0088 - mae: 0.0688 - val_loss: 0.0039 - val_mse: 0.0078 - val_mae: 0.0775\n",
            "Epoch 99/100\n",
            "473/473 [==============================] - 4s 8ms/step - loss: 0.0044 - mse: 0.0088 - mae: 0.0688 - val_loss: 0.0039 - val_mse: 0.0078 - val_mae: 0.0775\n",
            "Epoch 100/100\n",
            "473/473 [==============================] - 4s 8ms/step - loss: 0.0044 - mse: 0.0088 - mae: 0.0688 - val_loss: 0.0039 - val_mse: 0.0077 - val_mae: 0.0772\n"
          ]
        }
      ]
    },
    {
      "cell_type": "code",
      "metadata": {
        "id": "pZ_44i0Uj-cq",
        "colab": {
          "base_uri": "https://localhost:8080/",
          "height": 298
        },
        "outputId": "b3fccbd7-c75e-495b-e0a6-b5e7ca325904"
      },
      "source": [
        "import matplotlib.pyplot as plt\n",
        "import numpy as np\n",
        "\n",
        "plt.style.use(\"ggplot\")\n",
        "plt.figure()\n",
        "plt.plot(np.arange(0, 100), history.history[\"loss\"], label=\"train_loss\")\n",
        "plt.plot(np.arange(0, 100), history.history[\"val_loss\"], label=\"val_loss\")\n",
        "plt.title(\"Loss Plot\")\n",
        "plt.xlabel(\"Epoch #\")\n",
        "plt.ylabel(\"Loss\")\n",
        "plt.legend()\n",
        "plt.show()"
      ],
      "execution_count": null,
      "outputs": [
        {
          "output_type": "display_data",
          "data": {
            "image/png": "[encoded data removed]",
            "text/plain": [
              "<Figure size 432x288 with 1 Axes>"
            ]
          },
          "metadata": {}
        }
      ]
    },
    {
      "cell_type": "code",
      "metadata": {
        "id": "RIl5LNB7j-cq",
        "colab": {
          "base_uri": "https://localhost:8080/",
          "height": 298
        },
        "outputId": "f47aba9f-8f88-4f64-a3e6-6759ffaf1dd7"
      },
      "source": [
        "plt.style.use(\"ggplot\")\n",
        "plt.figure()\n",
        "plt.plot(np.arange(0, 100), history.history[\"mae\"], label=\"train_mae\")\n",
        "plt.plot(np.arange(0, 100), history.history[\"val_mae\"], label=\"val_mae\")\n",
        "plt.title(\"mae Plot\")\n",
        "plt.xlabel(\"Epoch #\")\n",
        "plt.ylabel(\"Loss\")\n",
        "plt.legend()\n",
        "plt.show()"
      ],
      "execution_count": null,
      "outputs": [
        {
          "output_type": "display_data",
          "data": {
            "image/png": "[encoded data removed]",
            "text/plain": [
              "<Figure size 432x288 with 1 Axes>"
            ]
          },
          "metadata": {}
        }
      ]
    },
    {
      "cell_type": "code",
      "metadata": {
        "id": "TjTQGyk3j-cq",
        "colab": {
          "base_uri": "https://localhost:8080/",
          "height": 298
        },
        "outputId": "8245e9a4-309c-4cbb-ad5b-237fdf5435fd"
      },
      "source": [
        "plt.style.use(\"ggplot\")\n",
        "plt.figure()\n",
        "plt.plot(np.arange(0, 100), history.history[\"mse\"], label=\"train_mse\")\n",
        "plt.plot(np.arange(0, 100), history.history[\"val_mse\"], label=\"val_mse\")\n",
        "plt.title(\"mse Plot\")\n",
        "plt.xlabel(\"Epoch #\")\n",
        "plt.ylabel(\"Loss\")\n",
        "plt.legend()\n",
        "plt.show()"
      ],
      "execution_count": null,
      "outputs": [
        {
          "output_type": "display_data",
          "data": {
            "image/png": "[encoded data removed]",
            "text/plain": [
              "<Figure size 432x288 with 1 Axes>"
            ]
          },
          "metadata": {}
        }
      ]
    },
    {
      "cell_type": "markdown",
      "metadata": {
        "id": "YRZSOEJtkPI6"
      },
      "source": [
        "##o3"
      ]
    },
    {
      "cell_type": "code",
      "metadata": {
        "id": "ztdOVHGMkPI8"
      },
      "source": [
        "# o3 = df['o3'].values\n",
        "o3 = df['o3'].values.reshape(-1, 1)\n",
        "o3 = min_max_scaler.fit_transform(o3)"
      ],
      "execution_count": null,
      "outputs": []
    },
    {
      "cell_type": "code",
      "metadata": {
        "id": "3JT3jqwAkPI8",
        "colab": {
          "base_uri": "https://localhost:8080/"
        },
        "outputId": "5e698742-9268-433f-bd13-2d9f9aeac972"
      },
      "source": [
        "minMAE = (o3.max() - o3.min()) * 0.1\n",
        "minMAE"
      ],
      "execution_count": null,
      "outputs": [
        {
          "output_type": "execute_result",
          "data": {
            "text/plain": [
              "0.1"
            ]
          },
          "metadata": {},
          "execution_count": 52
        }
      ]
    },
    {
      "cell_type": "code",
      "metadata": {
        "id": "C9yktC88V3Bf"
      },
      "source": [
        "split_time = int(0.9 * len(o3))\n",
        "time_train = time[:split_time]\n",
        "x_train = o3[:split_time]\n",
        "time_valid = time[split_time:]\n",
        "x_valid = o3[split_time:]"
      ],
      "execution_count": null,
      "outputs": []
    },
    {
      "cell_type": "code",
      "metadata": {
        "colab": {
          "base_uri": "https://localhost:8080/"
        },
        "id": "kH8SDO8BV3Bg",
        "outputId": "1ca0f04b-63c2-4c3c-914d-27c7ac4eb5ff"
      },
      "source": [
        "train_set = windowed_dataset(x_train, window_size, batch_size, shuffle_buffer_size)\n",
        "print(train_set)\n",
        "print(x_train.shape)"
      ],
      "execution_count": null,
      "outputs": [
        {
          "output_type": "stream",
          "name": "stdout",
          "text": [
            "<PrefetchDataset shapes: ((None, None, 1, 1), (None, None, 1, 1)), types: (tf.float64, tf.float64)>\n",
            "(3807, 1)\n"
          ]
        }
      ]
    },
    {
      "cell_type": "code",
      "metadata": {
        "colab": {
          "base_uri": "https://localhost:8080/"
        },
        "id": "kJE-ws1UV3Bg",
        "outputId": "7d6b8bf3-0af4-4a8a-cdb5-73c11fb701aa"
      },
      "source": [
        "val_set = windowed_dataset(x_valid, window_size, batch_size, shuffle_buffer_size)\n",
        "print(val_set)\n",
        "print(x_valid.shape)"
      ],
      "execution_count": null,
      "outputs": [
        {
          "output_type": "stream",
          "name": "stdout",
          "text": [
            "<PrefetchDataset shapes: ((None, None, 1, 1), (None, None, 1, 1)), types: (tf.float64, tf.float64)>\n",
            "(423, 1)\n"
          ]
        }
      ]
    },
    {
      "cell_type": "code",
      "metadata": {
        "id": "vxooYJ45kPI-"
      },
      "source": [
        "model_o3 = tf.keras.models.Sequential([\n",
        "  tf.keras.layers.Dense(128, activation=\"relu\"),\n",
        "  tf.keras.layers.Dense(64, activation=\"relu\"),\n",
        "  tf.keras.layers.Dense(1),\n",
        "])"
      ],
      "execution_count": null,
      "outputs": []
    },
    {
      "cell_type": "code",
      "metadata": {
        "id": "8C-8M6dqkPI-",
        "colab": {
          "base_uri": "https://localhost:8080/"
        },
        "outputId": "9d122f31-8228-4468-869d-a2f7e2307a11"
      },
      "source": [
        "optimizer = tf.keras.optimizers.SGD(learning_rate=1.0000e-04, momentum=0.9)\n",
        "model_o3.compile(loss=tf.keras.losses.Huber(),\n",
        "              optimizer=optimizer,\n",
        "              metrics=[\"mse\", \"mae\"])\n",
        "history = model_o3.fit(train_set, validation_data=(val_set), epochs=100)"
      ],
      "execution_count": null,
      "outputs": [
        {
          "output_type": "stream",
          "name": "stdout",
          "text": [
            "Epoch 1/100\n",
            "473/473 [==============================] - 5s 8ms/step - loss: 0.0229 - mse: 0.0459 - mae: 0.1570 - val_loss: 0.0033 - val_mse: 0.0065 - val_mae: 0.0618\n",
            "Epoch 2/100\n",
            "473/473 [==============================] - 4s 8ms/step - loss: 0.0113 - mse: 0.0227 - mae: 0.1070 - val_loss: 0.0048 - val_mse: 0.0096 - val_mae: 0.0858\n",
            "Epoch 3/100\n",
            "473/473 [==============================] - 4s 8ms/step - loss: 0.0102 - mse: 0.0204 - mae: 0.1067 - val_loss: 0.0057 - val_mse: 0.0114 - val_mae: 0.0951\n",
            "Epoch 4/100\n",
            "473/473 [==============================] - 4s 7ms/step - loss: 0.0100 - mse: 0.0200 - mae: 0.1075 - val_loss: 0.0059 - val_mse: 0.0119 - val_mae: 0.0974\n",
            "Epoch 5/100\n",
            "473/473 [==============================] - 4s 8ms/step - loss: 0.0099 - mse: 0.0198 - mae: 0.1078 - val_loss: 0.0060 - val_mse: 0.0120 - val_mae: 0.0979\n",
            "Epoch 6/100\n",
            "473/473 [==============================] - 4s 8ms/step - loss: 0.0098 - mse: 0.0197 - mae: 0.1076 - val_loss: 0.0060 - val_mse: 0.0120 - val_mae: 0.0978\n",
            "Epoch 7/100\n",
            "473/473 [==============================] - 4s 8ms/step - loss: 0.0098 - mse: 0.0196 - mae: 0.1074 - val_loss: 0.0059 - val_mse: 0.0119 - val_mae: 0.0971\n",
            "Epoch 8/100\n",
            "473/473 [==============================] - 4s 8ms/step - loss: 0.0098 - mse: 0.0195 - mae: 0.1073 - val_loss: 0.0059 - val_mse: 0.0117 - val_mae: 0.0965\n",
            "Epoch 9/100\n",
            "473/473 [==============================] - 4s 8ms/step - loss: 0.0097 - mse: 0.0194 - mae: 0.1070 - val_loss: 0.0058 - val_mse: 0.0116 - val_mae: 0.0956\n",
            "Epoch 10/100\n",
            "473/473 [==============================] - 4s 8ms/step - loss: 0.0097 - mse: 0.0194 - mae: 0.1067 - val_loss: 0.0058 - val_mse: 0.0116 - val_mae: 0.0957\n",
            "Epoch 11/100\n",
            "473/473 [==============================] - 4s 8ms/step - loss: 0.0097 - mse: 0.0193 - mae: 0.1066 - val_loss: 0.0057 - val_mse: 0.0115 - val_mae: 0.0951\n",
            "Epoch 12/100\n",
            "473/473 [==============================] - 4s 8ms/step - loss: 0.0096 - mse: 0.0193 - mae: 0.1064 - val_loss: 0.0057 - val_mse: 0.0114 - val_mae: 0.0946\n",
            "Epoch 13/100\n",
            "473/473 [==============================] - 4s 8ms/step - loss: 0.0096 - mse: 0.0192 - mae: 0.1063 - val_loss: 0.0057 - val_mse: 0.0113 - val_mae: 0.0944\n",
            "Epoch 14/100\n",
            "473/473 [==============================] - 4s 8ms/step - loss: 0.0096 - mse: 0.0192 - mae: 0.1060 - val_loss: 0.0057 - val_mse: 0.0113 - val_mae: 0.0943\n",
            "Epoch 15/100\n",
            "473/473 [==============================] - 4s 8ms/step - loss: 0.0096 - mse: 0.0191 - mae: 0.1060 - val_loss: 0.0056 - val_mse: 0.0112 - val_mae: 0.0937\n",
            "Epoch 16/100\n",
            "473/473 [==============================] - 4s 8ms/step - loss: 0.0095 - mse: 0.0191 - mae: 0.1059 - val_loss: 0.0055 - val_mse: 0.0110 - val_mae: 0.0928\n",
            "Epoch 17/100\n",
            "473/473 [==============================] - 4s 8ms/step - loss: 0.0095 - mse: 0.0190 - mae: 0.1058 - val_loss: 0.0055 - val_mse: 0.0109 - val_mae: 0.0923\n",
            "Epoch 18/100\n",
            "473/473 [==============================] - 4s 8ms/step - loss: 0.0095 - mse: 0.0190 - mae: 0.1056 - val_loss: 0.0054 - val_mse: 0.0108 - val_mae: 0.0919\n",
            "Epoch 19/100\n",
            "473/473 [==============================] - 4s 8ms/step - loss: 0.0095 - mse: 0.0190 - mae: 0.1055 - val_loss: 0.0054 - val_mse: 0.0108 - val_mae: 0.0919\n",
            "Epoch 20/100\n",
            "473/473 [==============================] - 4s 8ms/step - loss: 0.0095 - mse: 0.0189 - mae: 0.1054 - val_loss: 0.0054 - val_mse: 0.0107 - val_mae: 0.0913\n",
            "Epoch 21/100\n",
            "473/473 [==============================] - 4s 8ms/step - loss: 0.0095 - mse: 0.0189 - mae: 0.1054 - val_loss: 0.0053 - val_mse: 0.0107 - val_mae: 0.0909\n",
            "Epoch 22/100\n",
            "473/473 [==============================] - 4s 8ms/step - loss: 0.0094 - mse: 0.0189 - mae: 0.1051 - val_loss: 0.0053 - val_mse: 0.0106 - val_mae: 0.0907\n",
            "Epoch 23/100\n",
            "473/473 [==============================] - 4s 8ms/step - loss: 0.0094 - mse: 0.0189 - mae: 0.1052 - val_loss: 0.0053 - val_mse: 0.0106 - val_mae: 0.0905\n",
            "Epoch 24/100\n",
            "473/473 [==============================] - 4s 8ms/step - loss: 0.0094 - mse: 0.0188 - mae: 0.1050 - val_loss: 0.0053 - val_mse: 0.0106 - val_mae: 0.0903\n",
            "Epoch 25/100\n",
            "473/473 [==============================] - 4s 9ms/step - loss: 0.0094 - mse: 0.0188 - mae: 0.1051 - val_loss: 0.0052 - val_mse: 0.0104 - val_mae: 0.0895\n",
            "Epoch 26/100\n",
            "473/473 [==============================] - 4s 7ms/step - loss: 0.0094 - mse: 0.0188 - mae: 0.1047 - val_loss: 0.0052 - val_mse: 0.0104 - val_mae: 0.0896\n",
            "Epoch 27/100\n",
            "473/473 [==============================] - 4s 8ms/step - loss: 0.0094 - mse: 0.0188 - mae: 0.1048 - val_loss: 0.0052 - val_mse: 0.0103 - val_mae: 0.0891\n",
            "Epoch 28/100\n",
            "473/473 [==============================] - 4s 8ms/step - loss: 0.0094 - mse: 0.0187 - mae: 0.1047 - val_loss: 0.0052 - val_mse: 0.0104 - val_mae: 0.0895\n",
            "Epoch 29/100\n",
            "473/473 [==============================] - 4s 8ms/step - loss: 0.0094 - mse: 0.0187 - mae: 0.1046 - val_loss: 0.0052 - val_mse: 0.0103 - val_mae: 0.0891\n",
            "Epoch 30/100\n",
            "473/473 [==============================] - 4s 8ms/step - loss: 0.0094 - mse: 0.0187 - mae: 0.1046 - val_loss: 0.0052 - val_mse: 0.0103 - val_mae: 0.0889\n",
            "Epoch 31/100\n",
            "473/473 [==============================] - 4s 8ms/step - loss: 0.0093 - mse: 0.0187 - mae: 0.1046 - val_loss: 0.0051 - val_mse: 0.0103 - val_mae: 0.0885\n",
            "Epoch 32/100\n",
            "473/473 [==============================] - 4s 8ms/step - loss: 0.0093 - mse: 0.0187 - mae: 0.1044 - val_loss: 0.0051 - val_mse: 0.0102 - val_mae: 0.0884\n",
            "Epoch 33/100\n",
            "473/473 [==============================] - 4s 8ms/step - loss: 0.0093 - mse: 0.0187 - mae: 0.1044 - val_loss: 0.0051 - val_mse: 0.0102 - val_mae: 0.0882\n",
            "Epoch 34/100\n",
            "473/473 [==============================] - 4s 8ms/step - loss: 0.0093 - mse: 0.0187 - mae: 0.1043 - val_loss: 0.0051 - val_mse: 0.0102 - val_mae: 0.0881\n",
            "Epoch 35/100\n",
            "473/473 [==============================] - 4s 8ms/step - loss: 0.0093 - mse: 0.0186 - mae: 0.1044 - val_loss: 0.0051 - val_mse: 0.0101 - val_mae: 0.0879\n",
            "Epoch 36/100\n",
            "473/473 [==============================] - 4s 8ms/step - loss: 0.0093 - mse: 0.0186 - mae: 0.1043 - val_loss: 0.0050 - val_mse: 0.0101 - val_mae: 0.0876\n",
            "Epoch 37/100\n",
            "473/473 [==============================] - 4s 8ms/step - loss: 0.0093 - mse: 0.0186 - mae: 0.1042 - val_loss: 0.0050 - val_mse: 0.0100 - val_mae: 0.0873\n",
            "Epoch 38/100\n",
            "473/473 [==============================] - 4s 8ms/step - loss: 0.0093 - mse: 0.0186 - mae: 0.1042 - val_loss: 0.0050 - val_mse: 0.0100 - val_mae: 0.0870\n",
            "Epoch 39/100\n",
            "473/473 [==============================] - 4s 8ms/step - loss: 0.0093 - mse: 0.0186 - mae: 0.1041 - val_loss: 0.0050 - val_mse: 0.0099 - val_mae: 0.0865\n",
            "Epoch 40/100\n",
            "473/473 [==============================] - 4s 8ms/step - loss: 0.0093 - mse: 0.0186 - mae: 0.1040 - val_loss: 0.0050 - val_mse: 0.0099 - val_mae: 0.0867\n",
            "Epoch 41/100\n",
            "473/473 [==============================] - 4s 8ms/step - loss: 0.0093 - mse: 0.0186 - mae: 0.1041 - val_loss: 0.0050 - val_mse: 0.0099 - val_mae: 0.0865\n",
            "Epoch 42/100\n",
            "473/473 [==============================] - 4s 8ms/step - loss: 0.0093 - mse: 0.0186 - mae: 0.1039 - val_loss: 0.0050 - val_mse: 0.0099 - val_mae: 0.0865\n",
            "Epoch 43/100\n",
            "473/473 [==============================] - 4s 8ms/step - loss: 0.0093 - mse: 0.0186 - mae: 0.1041 - val_loss: 0.0049 - val_mse: 0.0098 - val_mae: 0.0860\n",
            "Epoch 44/100\n",
            "473/473 [==============================] - 4s 8ms/step - loss: 0.0093 - mse: 0.0186 - mae: 0.1039 - val_loss: 0.0049 - val_mse: 0.0098 - val_mae: 0.0859\n",
            "Epoch 45/100\n",
            "473/473 [==============================] - 4s 8ms/step - loss: 0.0093 - mse: 0.0185 - mae: 0.1038 - val_loss: 0.0049 - val_mse: 0.0098 - val_mae: 0.0858\n",
            "Epoch 46/100\n",
            "473/473 [==============================] - 4s 8ms/step - loss: 0.0093 - mse: 0.0185 - mae: 0.1039 - val_loss: 0.0049 - val_mse: 0.0098 - val_mae: 0.0856\n",
            "Epoch 47/100\n",
            "473/473 [==============================] - 4s 8ms/step - loss: 0.0093 - mse: 0.0185 - mae: 0.1038 - val_loss: 0.0049 - val_mse: 0.0097 - val_mae: 0.0853\n",
            "Epoch 48/100\n",
            "473/473 [==============================] - 4s 8ms/step - loss: 0.0093 - mse: 0.0185 - mae: 0.1037 - val_loss: 0.0048 - val_mse: 0.0097 - val_mae: 0.0851\n",
            "Epoch 49/100\n",
            "473/473 [==============================] - 4s 8ms/step - loss: 0.0093 - mse: 0.0185 - mae: 0.1038 - val_loss: 0.0048 - val_mse: 0.0096 - val_mae: 0.0846\n",
            "Epoch 50/100\n",
            "473/473 [==============================] - 4s 8ms/step - loss: 0.0093 - mse: 0.0185 - mae: 0.1037 - val_loss: 0.0048 - val_mse: 0.0096 - val_mae: 0.0844\n",
            "Epoch 51/100\n",
            "473/473 [==============================] - 4s 8ms/step - loss: 0.0093 - mse: 0.0185 - mae: 0.1037 - val_loss: 0.0048 - val_mse: 0.0096 - val_mae: 0.0844\n",
            "Epoch 52/100\n",
            "473/473 [==============================] - 4s 8ms/step - loss: 0.0092 - mse: 0.0185 - mae: 0.1037 - val_loss: 0.0048 - val_mse: 0.0095 - val_mae: 0.0842\n",
            "Epoch 53/100\n",
            "473/473 [==============================] - 4s 8ms/step - loss: 0.0092 - mse: 0.0185 - mae: 0.1036 - val_loss: 0.0048 - val_mse: 0.0096 - val_mae: 0.0844\n",
            "Epoch 54/100\n",
            "473/473 [==============================] - 4s 8ms/step - loss: 0.0092 - mse: 0.0185 - mae: 0.1036 - val_loss: 0.0048 - val_mse: 0.0095 - val_mae: 0.0841\n",
            "Epoch 55/100\n",
            "473/473 [==============================] - 4s 8ms/step - loss: 0.0092 - mse: 0.0185 - mae: 0.1035 - val_loss: 0.0048 - val_mse: 0.0095 - val_mae: 0.0841\n",
            "Epoch 56/100\n",
            "473/473 [==============================] - 4s 8ms/step - loss: 0.0092 - mse: 0.0185 - mae: 0.1036 - val_loss: 0.0048 - val_mse: 0.0095 - val_mae: 0.0842\n",
            "Epoch 57/100\n",
            "473/473 [==============================] - 4s 8ms/step - loss: 0.0092 - mse: 0.0185 - mae: 0.1035 - val_loss: 0.0048 - val_mse: 0.0095 - val_mae: 0.0841\n",
            "Epoch 58/100\n",
            "473/473 [==============================] - 4s 8ms/step - loss: 0.0092 - mse: 0.0185 - mae: 0.1036 - val_loss: 0.0047 - val_mse: 0.0094 - val_mae: 0.0835\n",
            "Epoch 59/100\n",
            "473/473 [==============================] - 4s 8ms/step - loss: 0.0092 - mse: 0.0185 - mae: 0.1034 - val_loss: 0.0047 - val_mse: 0.0095 - val_mae: 0.0836\n",
            "Epoch 60/100\n",
            "473/473 [==============================] - 4s 8ms/step - loss: 0.0092 - mse: 0.0185 - mae: 0.1034 - val_loss: 0.0047 - val_mse: 0.0094 - val_mae: 0.0835\n",
            "Epoch 61/100\n",
            "473/473 [==============================] - 4s 8ms/step - loss: 0.0092 - mse: 0.0185 - mae: 0.1033 - val_loss: 0.0048 - val_mse: 0.0095 - val_mae: 0.0840\n",
            "Epoch 62/100\n",
            "473/473 [==============================] - 4s 8ms/step - loss: 0.0092 - mse: 0.0185 - mae: 0.1034 - val_loss: 0.0047 - val_mse: 0.0095 - val_mae: 0.0836\n",
            "Epoch 63/100\n",
            "473/473 [==============================] - 4s 8ms/step - loss: 0.0092 - mse: 0.0184 - mae: 0.1034 - val_loss: 0.0047 - val_mse: 0.0094 - val_mae: 0.0834\n",
            "Epoch 64/100\n",
            "473/473 [==============================] - 4s 8ms/step - loss: 0.0092 - mse: 0.0184 - mae: 0.1034 - val_loss: 0.0047 - val_mse: 0.0094 - val_mae: 0.0830\n",
            "Epoch 65/100\n",
            "473/473 [==============================] - 4s 8ms/step - loss: 0.0092 - mse: 0.0184 - mae: 0.1033 - val_loss: 0.0047 - val_mse: 0.0093 - val_mae: 0.0827\n",
            "Epoch 66/100\n",
            "473/473 [==============================] - 4s 8ms/step - loss: 0.0092 - mse: 0.0184 - mae: 0.1033 - val_loss: 0.0047 - val_mse: 0.0093 - val_mae: 0.0828\n",
            "Epoch 67/100\n",
            "473/473 [==============================] - 4s 8ms/step - loss: 0.0092 - mse: 0.0184 - mae: 0.1035 - val_loss: 0.0046 - val_mse: 0.0093 - val_mae: 0.0826\n",
            "Epoch 68/100\n",
            "473/473 [==============================] - 4s 8ms/step - loss: 0.0092 - mse: 0.0184 - mae: 0.1032 - val_loss: 0.0047 - val_mse: 0.0093 - val_mae: 0.0828\n",
            "Epoch 69/100\n",
            "473/473 [==============================] - 4s 7ms/step - loss: 0.0092 - mse: 0.0184 - mae: 0.1033 - val_loss: 0.0046 - val_mse: 0.0093 - val_mae: 0.0823\n",
            "Epoch 70/100\n",
            "473/473 [==============================] - 4s 8ms/step - loss: 0.0092 - mse: 0.0184 - mae: 0.1032 - val_loss: 0.0046 - val_mse: 0.0093 - val_mae: 0.0825\n",
            "Epoch 71/100\n",
            "473/473 [==============================] - 4s 8ms/step - loss: 0.0092 - mse: 0.0184 - mae: 0.1032 - val_loss: 0.0046 - val_mse: 0.0093 - val_mae: 0.0826\n",
            "Epoch 72/100\n",
            "473/473 [==============================] - 4s 8ms/step - loss: 0.0092 - mse: 0.0184 - mae: 0.1033 - val_loss: 0.0046 - val_mse: 0.0093 - val_mae: 0.0824\n",
            "Epoch 73/100\n",
            "473/473 [==============================] - 4s 8ms/step - loss: 0.0092 - mse: 0.0184 - mae: 0.1031 - val_loss: 0.0046 - val_mse: 0.0093 - val_mae: 0.0823\n",
            "Epoch 74/100\n",
            "473/473 [==============================] - 4s 8ms/step - loss: 0.0092 - mse: 0.0184 - mae: 0.1032 - val_loss: 0.0046 - val_mse: 0.0092 - val_mae: 0.0822\n",
            "Epoch 75/100\n",
            "473/473 [==============================] - 4s 8ms/step - loss: 0.0092 - mse: 0.0184 - mae: 0.1032 - val_loss: 0.0046 - val_mse: 0.0093 - val_mae: 0.0824\n",
            "Epoch 76/100\n",
            "473/473 [==============================] - 4s 8ms/step - loss: 0.0092 - mse: 0.0184 - mae: 0.1032 - val_loss: 0.0046 - val_mse: 0.0092 - val_mae: 0.0820\n",
            "Epoch 77/100\n",
            "473/473 [==============================] - 4s 8ms/step - loss: 0.0092 - mse: 0.0184 - mae: 0.1032 - val_loss: 0.0046 - val_mse: 0.0092 - val_mae: 0.0818\n",
            "Epoch 78/100\n",
            "473/473 [==============================] - 4s 8ms/step - loss: 0.0092 - mse: 0.0184 - mae: 0.1031 - val_loss: 0.0046 - val_mse: 0.0091 - val_mae: 0.0816\n",
            "Epoch 79/100\n",
            "473/473 [==============================] - 4s 8ms/step - loss: 0.0092 - mse: 0.0184 - mae: 0.1030 - val_loss: 0.0046 - val_mse: 0.0092 - val_mae: 0.0819\n",
            "Epoch 80/100\n",
            "473/473 [==============================] - 4s 8ms/step - loss: 0.0092 - mse: 0.0184 - mae: 0.1032 - val_loss: 0.0046 - val_mse: 0.0092 - val_mae: 0.0817\n",
            "Epoch 81/100\n",
            "473/473 [==============================] - 4s 8ms/step - loss: 0.0092 - mse: 0.0184 - mae: 0.1030 - val_loss: 0.0046 - val_mse: 0.0092 - val_mae: 0.0820\n",
            "Epoch 82/100\n",
            "473/473 [==============================] - 4s 8ms/step - loss: 0.0092 - mse: 0.0184 - mae: 0.1031 - val_loss: 0.0046 - val_mse: 0.0092 - val_mae: 0.0816\n",
            "Epoch 83/100\n",
            "473/473 [==============================] - 4s 8ms/step - loss: 0.0092 - mse: 0.0184 - mae: 0.1031 - val_loss: 0.0046 - val_mse: 0.0092 - val_mae: 0.0817\n",
            "Epoch 84/100\n",
            "473/473 [==============================] - 4s 8ms/step - loss: 0.0092 - mse: 0.0184 - mae: 0.1030 - val_loss: 0.0046 - val_mse: 0.0092 - val_mae: 0.0817\n",
            "Epoch 85/100\n",
            "473/473 [==============================] - 4s 8ms/step - loss: 0.0092 - mse: 0.0184 - mae: 0.1031 - val_loss: 0.0045 - val_mse: 0.0091 - val_mae: 0.0812\n",
            "Epoch 86/100\n",
            "473/473 [==============================] - 4s 8ms/step - loss: 0.0092 - mse: 0.0184 - mae: 0.1030 - val_loss: 0.0045 - val_mse: 0.0091 - val_mae: 0.0811\n",
            "Epoch 87/100\n",
            "473/473 [==============================] - 4s 8ms/step - loss: 0.0092 - mse: 0.0184 - mae: 0.1029 - val_loss: 0.0045 - val_mse: 0.0091 - val_mae: 0.0811\n",
            "Epoch 88/100\n",
            "473/473 [==============================] - 4s 8ms/step - loss: 0.0092 - mse: 0.0184 - mae: 0.1030 - val_loss: 0.0045 - val_mse: 0.0091 - val_mae: 0.0811\n",
            "Epoch 89/100\n",
            "473/473 [==============================] - 4s 8ms/step - loss: 0.0092 - mse: 0.0184 - mae: 0.1030 - val_loss: 0.0045 - val_mse: 0.0091 - val_mae: 0.0811\n",
            "Epoch 90/100\n",
            "473/473 [==============================] - 4s 8ms/step - loss: 0.0092 - mse: 0.0184 - mae: 0.1030 - val_loss: 0.0045 - val_mse: 0.0091 - val_mae: 0.0811\n",
            "Epoch 91/100\n",
            "473/473 [==============================] - 4s 8ms/step - loss: 0.0092 - mse: 0.0184 - mae: 0.1030 - val_loss: 0.0045 - val_mse: 0.0090 - val_mae: 0.0807\n",
            "Epoch 92/100\n",
            "473/473 [==============================] - 4s 8ms/step - loss: 0.0092 - mse: 0.0184 - mae: 0.1029 - val_loss: 0.0045 - val_mse: 0.0091 - val_mae: 0.0809\n",
            "Epoch 93/100\n",
            "473/473 [==============================] - 4s 8ms/step - loss: 0.0092 - mse: 0.0184 - mae: 0.1030 - val_loss: 0.0045 - val_mse: 0.0091 - val_mae: 0.0812\n",
            "Epoch 94/100\n",
            "473/473 [==============================] - 4s 8ms/step - loss: 0.0092 - mse: 0.0184 - mae: 0.1030 - val_loss: 0.0045 - val_mse: 0.0090 - val_mae: 0.0805\n",
            "Epoch 95/100\n",
            "473/473 [==============================] - 4s 8ms/step - loss: 0.0092 - mse: 0.0184 - mae: 0.1028 - val_loss: 0.0045 - val_mse: 0.0091 - val_mae: 0.0811\n",
            "Epoch 96/100\n",
            "473/473 [==============================] - 4s 8ms/step - loss: 0.0092 - mse: 0.0184 - mae: 0.1030 - val_loss: 0.0045 - val_mse: 0.0091 - val_mae: 0.0810\n",
            "Epoch 97/100\n",
            "473/473 [==============================] - 4s 8ms/step - loss: 0.0092 - mse: 0.0184 - mae: 0.1029 - val_loss: 0.0045 - val_mse: 0.0091 - val_mae: 0.0810\n",
            "Epoch 98/100\n",
            "473/473 [==============================] - 4s 8ms/step - loss: 0.0092 - mse: 0.0184 - mae: 0.1030 - val_loss: 0.0045 - val_mse: 0.0090 - val_mae: 0.0806\n",
            "Epoch 99/100\n",
            "473/473 [==============================] - 4s 8ms/step - loss: 0.0092 - mse: 0.0184 - mae: 0.1028 - val_loss: 0.0045 - val_mse: 0.0091 - val_mae: 0.0809\n",
            "Epoch 100/100\n",
            "473/473 [==============================] - 4s 8ms/step - loss: 0.0092 - mse: 0.0184 - mae: 0.1030 - val_loss: 0.0045 - val_mse: 0.0090 - val_mae: 0.0804\n"
          ]
        }
      ]
    },
    {
      "cell_type": "code",
      "metadata": {
        "id": "3MtHLkitkPI-",
        "colab": {
          "base_uri": "https://localhost:8080/",
          "height": 298
        },
        "outputId": "6356bd45-734f-4f0c-fca1-8d5bf6f078dd"
      },
      "source": [
        "import matplotlib.pyplot as plt\n",
        "import numpy as np\n",
        "\n",
        "plt.style.use(\"ggplot\")\n",
        "plt.figure()\n",
        "plt.plot(np.arange(0, 100), history.history[\"loss\"], label=\"train_loss\")\n",
        "plt.plot(np.arange(0, 100), history.history[\"val_loss\"], label=\"val_loss\")\n",
        "plt.title(\"Loss Plot\")\n",
        "plt.xlabel(\"Epoch #\")\n",
        "plt.ylabel(\"Loss\")\n",
        "plt.legend()\n",
        "plt.show()"
      ],
      "execution_count": null,
      "outputs": [
        {
          "output_type": "display_data",
          "data": {
            "image/png": "[encoded data removed]",
            "text/plain": [
              "<Figure size 432x288 with 1 Axes>"
            ]
          },
          "metadata": {}
        }
      ]
    },
    {
      "cell_type": "code",
      "metadata": {
        "id": "0ycvcLrSkPI-",
        "colab": {
          "base_uri": "https://localhost:8080/",
          "height": 298
        },
        "outputId": "781db2f1-39c6-48b8-d56d-aedfd6efafd7"
      },
      "source": [
        "plt.style.use(\"ggplot\")\n",
        "plt.figure()\n",
        "plt.plot(np.arange(0, 100), history.history[\"mae\"], label=\"train_mae\")\n",
        "plt.plot(np.arange(0, 100), history.history[\"val_mae\"], label=\"val_mae\")\n",
        "plt.title(\"mae Plot\")\n",
        "plt.xlabel(\"Epoch #\")\n",
        "plt.ylabel(\"Loss\")\n",
        "plt.legend()\n",
        "plt.show()"
      ],
      "execution_count": null,
      "outputs": [
        {
          "output_type": "display_data",
          "data": {
            "image/png": "[encoded data removed]",
            "text/plain": [
              "<Figure size 432x288 with 1 Axes>"
            ]
          },
          "metadata": {}
        }
      ]
    },
    {
      "cell_type": "code",
      "metadata": {
        "id": "cqKI-VwXkPI_",
        "colab": {
          "base_uri": "https://localhost:8080/",
          "height": 298
        },
        "outputId": "32ad40b5-3f27-4707-80e3-7505876c8f73"
      },
      "source": [
        "plt.style.use(\"ggplot\")\n",
        "plt.figure()\n",
        "plt.plot(np.arange(0, 100), history.history[\"mse\"], label=\"train_mse\")\n",
        "plt.plot(np.arange(0, 100), history.history[\"val_mse\"], label=\"val_mse\")\n",
        "plt.title(\"mse Plot\")\n",
        "plt.xlabel(\"Epoch #\")\n",
        "plt.ylabel(\"Loss\")\n",
        "plt.legend()\n",
        "plt.show()"
      ],
      "execution_count": null,
      "outputs": [
        {
          "output_type": "display_data",
          "data": {
            "image/png": "[encoded data removed]",
            "text/plain": [
              "<Figure size 432x288 with 1 Axes>"
            ]
          },
          "metadata": {}
        }
      ]
    },
    {
      "cell_type": "markdown",
      "metadata": {
        "id": "9kYHJC36kfRZ"
      },
      "source": [
        "##no2"
      ]
    },
    {
      "cell_type": "code",
      "metadata": {
        "id": "Q2627iChkfRa"
      },
      "source": [
        "# no2 = df['no2'].values\n",
        "no2 = df['no2'].values.reshape(-1, 1)\n",
        "no2 = min_max_scaler.fit_transform(no2)"
      ],
      "execution_count": null,
      "outputs": []
    },
    {
      "cell_type": "code",
      "metadata": {
        "id": "rtSIOGFVkfRa",
        "colab": {
          "base_uri": "https://localhost:8080/"
        },
        "outputId": "cd56d180-4820-4fca-e7ac-c4f24b3a2d4d"
      },
      "source": [
        "minMAE = (no2.max() - no2.min()) * 0.1\n",
        "minMAE"
      ],
      "execution_count": null,
      "outputs": [
        {
          "output_type": "execute_result",
          "data": {
            "text/plain": [
              "0.1"
            ]
          },
          "metadata": {},
          "execution_count": 62
        }
      ]
    },
    {
      "cell_type": "code",
      "metadata": {
        "id": "CYXWRP-DWJlA"
      },
      "source": [
        "split_time = int(0.9 * len(no2))\n",
        "time_train = time[:split_time]\n",
        "x_train = no2[:split_time]\n",
        "time_valid = time[split_time:]\n",
        "x_valid = no2[split_time:]"
      ],
      "execution_count": null,
      "outputs": []
    },
    {
      "cell_type": "code",
      "metadata": {
        "colab": {
          "base_uri": "https://localhost:8080/"
        },
        "id": "PUc2doEWWJlB",
        "outputId": "e3192034-67d1-4b39-c45c-b1508b959e28"
      },
      "source": [
        "train_set = windowed_dataset(x_train, window_size, batch_size, shuffle_buffer_size)\n",
        "print(train_set)\n",
        "print(x_train.shape)"
      ],
      "execution_count": null,
      "outputs": [
        {
          "output_type": "stream",
          "name": "stdout",
          "text": [
            "<PrefetchDataset shapes: ((None, None, 1, 1), (None, None, 1, 1)), types: (tf.float64, tf.float64)>\n",
            "(3807, 1)\n"
          ]
        }
      ]
    },
    {
      "cell_type": "code",
      "metadata": {
        "colab": {
          "base_uri": "https://localhost:8080/"
        },
        "id": "pdmOUI0TWJlB",
        "outputId": "da8a8aef-70a6-4e12-ca25-83089ce90e7a"
      },
      "source": [
        "val_set = windowed_dataset(x_valid, window_size, batch_size, shuffle_buffer_size)\n",
        "print(val_set)\n",
        "print(x_valid.shape)"
      ],
      "execution_count": null,
      "outputs": [
        {
          "output_type": "stream",
          "name": "stdout",
          "text": [
            "<PrefetchDataset shapes: ((None, None, 1, 1), (None, None, 1, 1)), types: (tf.float64, tf.float64)>\n",
            "(423, 1)\n"
          ]
        }
      ]
    },
    {
      "cell_type": "code",
      "metadata": {
        "id": "m05Yf406kfRb"
      },
      "source": [
        "model_no2 = tf.keras.models.Sequential([\n",
        "  tf.keras.layers.Dense(128, activation=\"relu\"),\n",
        "  tf.keras.layers.Dense(64, activation=\"relu\"),\n",
        "  tf.keras.layers.Dense(1),\n",
        "])"
      ],
      "execution_count": null,
      "outputs": []
    },
    {
      "cell_type": "code",
      "metadata": {
        "id": "sOo-jif0kfRc",
        "colab": {
          "base_uri": "https://localhost:8080/"
        },
        "outputId": "c030c2f1-27ee-4a2b-95db-fddf02d1e782"
      },
      "source": [
        "optimizer = tf.keras.optimizers.SGD(learning_rate=1.0000e-04, momentum=0.9)\n",
        "model_no2.compile(loss=tf.keras.losses.Huber(),\n",
        "              optimizer=optimizer,\n",
        "              metrics=[\"mse\", \"mae\"])\n",
        "history = model_no2.fit(train_set, validation_data=(val_set), epochs=100)"
      ],
      "execution_count": null,
      "outputs": [
        {
          "output_type": "stream",
          "name": "stdout",
          "text": [
            "Epoch 1/100\n",
            "473/473 [==============================] - 5s 9ms/step - loss: 0.0025 - mse: 0.0051 - mae: 0.0586 - val_loss: 0.0442 - val_mse: 0.0884 - val_mae: 0.2209\n",
            "Epoch 2/100\n",
            "473/473 [==============================] - 4s 8ms/step - loss: 9.2585e-04 - mse: 0.0019 - mae: 0.0332 - val_loss: 0.0398 - val_mse: 0.0796 - val_mae: 0.2035\n",
            "Epoch 3/100\n",
            "473/473 [==============================] - 4s 8ms/step - loss: 7.3585e-04 - mse: 0.0015 - mae: 0.0298 - val_loss: 0.0384 - val_mse: 0.0767 - val_mae: 0.1982\n",
            "Epoch 4/100\n",
            "473/473 [==============================] - 4s 8ms/step - loss: 7.0753e-04 - mse: 0.0014 - mae: 0.0294 - val_loss: 0.0379 - val_mse: 0.0758 - val_mae: 0.1965\n",
            "Epoch 5/100\n",
            "473/473 [==============================] - 4s 8ms/step - loss: 7.0134e-04 - mse: 0.0014 - mae: 0.0293 - val_loss: 0.0377 - val_mse: 0.0753 - val_mae: 0.1957\n",
            "Epoch 6/100\n",
            "473/473 [==============================] - 4s 8ms/step - loss: 6.9958e-04 - mse: 0.0014 - mae: 0.0293 - val_loss: 0.0375 - val_mse: 0.0751 - val_mae: 0.1952\n",
            "Epoch 7/100\n",
            "473/473 [==============================] - 4s 8ms/step - loss: 6.9866e-04 - mse: 0.0014 - mae: 0.0293 - val_loss: 0.0374 - val_mse: 0.0749 - val_mae: 0.1949\n",
            "Epoch 8/100\n",
            "473/473 [==============================] - 4s 8ms/step - loss: 6.9743e-04 - mse: 0.0014 - mae: 0.0293 - val_loss: 0.0374 - val_mse: 0.0748 - val_mae: 0.1947\n",
            "Epoch 9/100\n",
            "473/473 [==============================] - 4s 8ms/step - loss: 6.9738e-04 - mse: 0.0014 - mae: 0.0292 - val_loss: 0.0374 - val_mse: 0.0747 - val_mae: 0.1945\n",
            "Epoch 10/100\n",
            "473/473 [==============================] - 4s 8ms/step - loss: 6.9656e-04 - mse: 0.0014 - mae: 0.0292 - val_loss: 0.0374 - val_mse: 0.0747 - val_mae: 0.1945\n",
            "Epoch 11/100\n",
            "473/473 [==============================] - 4s 8ms/step - loss: 6.9660e-04 - mse: 0.0014 - mae: 0.0292 - val_loss: 0.0373 - val_mse: 0.0747 - val_mae: 0.1944\n",
            "Epoch 12/100\n",
            "473/473 [==============================] - 4s 8ms/step - loss: 6.9622e-04 - mse: 0.0014 - mae: 0.0292 - val_loss: 0.0373 - val_mse: 0.0746 - val_mae: 0.1942\n",
            "Epoch 13/100\n",
            "473/473 [==============================] - 4s 8ms/step - loss: 6.9587e-04 - mse: 0.0014 - mae: 0.0292 - val_loss: 0.0372 - val_mse: 0.0745 - val_mae: 0.1940\n",
            "Epoch 14/100\n",
            "473/473 [==============================] - 4s 8ms/step - loss: 6.9542e-04 - mse: 0.0014 - mae: 0.0292 - val_loss: 0.0372 - val_mse: 0.0744 - val_mae: 0.1939\n",
            "Epoch 15/100\n",
            "473/473 [==============================] - 4s 8ms/step - loss: 6.9515e-04 - mse: 0.0014 - mae: 0.0292 - val_loss: 0.0372 - val_mse: 0.0743 - val_mae: 0.1937\n",
            "Epoch 16/100\n",
            "473/473 [==============================] - 4s 8ms/step - loss: 6.9508e-04 - mse: 0.0014 - mae: 0.0292 - val_loss: 0.0372 - val_mse: 0.0743 - val_mae: 0.1937\n",
            "Epoch 17/100\n",
            "473/473 [==============================] - 4s 8ms/step - loss: 6.9474e-04 - mse: 0.0014 - mae: 0.0292 - val_loss: 0.0371 - val_mse: 0.0742 - val_mae: 0.1935\n",
            "Epoch 18/100\n",
            "473/473 [==============================] - 4s 8ms/step - loss: 6.9437e-04 - mse: 0.0014 - mae: 0.0292 - val_loss: 0.0371 - val_mse: 0.0742 - val_mae: 0.1934\n",
            "Epoch 19/100\n",
            "473/473 [==============================] - 4s 9ms/step - loss: 6.9421e-04 - mse: 0.0014 - mae: 0.0292 - val_loss: 0.0371 - val_mse: 0.0742 - val_mae: 0.1934\n",
            "Epoch 20/100\n",
            "473/473 [==============================] - 4s 8ms/step - loss: 6.9427e-04 - mse: 0.0014 - mae: 0.0291 - val_loss: 0.0370 - val_mse: 0.0741 - val_mae: 0.1932\n",
            "Epoch 21/100\n",
            "473/473 [==============================] - 4s 8ms/step - loss: 6.9394e-04 - mse: 0.0014 - mae: 0.0291 - val_loss: 0.0370 - val_mse: 0.0741 - val_mae: 0.1931\n",
            "Epoch 22/100\n",
            "473/473 [==============================] - 4s 8ms/step - loss: 6.9374e-04 - mse: 0.0014 - mae: 0.0291 - val_loss: 0.0370 - val_mse: 0.0741 - val_mae: 0.1931\n",
            "Epoch 23/100\n",
            "473/473 [==============================] - 4s 8ms/step - loss: 6.9378e-04 - mse: 0.0014 - mae: 0.0291 - val_loss: 0.0370 - val_mse: 0.0740 - val_mae: 0.1930\n",
            "Epoch 24/100\n",
            "473/473 [==============================] - 4s 7ms/step - loss: 6.9381e-04 - mse: 0.0014 - mae: 0.0291 - val_loss: 0.0369 - val_mse: 0.0739 - val_mae: 0.1928\n",
            "Epoch 25/100\n",
            "473/473 [==============================] - 4s 8ms/step - loss: 6.9300e-04 - mse: 0.0014 - mae: 0.0291 - val_loss: 0.0369 - val_mse: 0.0739 - val_mae: 0.1927\n",
            "Epoch 26/100\n",
            "473/473 [==============================] - 4s 8ms/step - loss: 6.9342e-04 - mse: 0.0014 - mae: 0.0291 - val_loss: 0.0369 - val_mse: 0.0738 - val_mae: 0.1927\n",
            "Epoch 27/100\n",
            "473/473 [==============================] - 4s 8ms/step - loss: 6.9325e-04 - mse: 0.0014 - mae: 0.0291 - val_loss: 0.0369 - val_mse: 0.0738 - val_mae: 0.1926\n",
            "Epoch 28/100\n",
            "473/473 [==============================] - 4s 8ms/step - loss: 6.9285e-04 - mse: 0.0014 - mae: 0.0291 - val_loss: 0.0369 - val_mse: 0.0737 - val_mae: 0.1925\n",
            "Epoch 29/100\n",
            "473/473 [==============================] - 4s 8ms/step - loss: 6.9285e-04 - mse: 0.0014 - mae: 0.0291 - val_loss: 0.0369 - val_mse: 0.0737 - val_mae: 0.1925\n",
            "Epoch 30/100\n",
            "473/473 [==============================] - 4s 8ms/step - loss: 6.9313e-04 - mse: 0.0014 - mae: 0.0291 - val_loss: 0.0368 - val_mse: 0.0737 - val_mae: 0.1924\n",
            "Epoch 31/100\n",
            "473/473 [==============================] - 4s 7ms/step - loss: 6.9299e-04 - mse: 0.0014 - mae: 0.0291 - val_loss: 0.0368 - val_mse: 0.0736 - val_mae: 0.1923\n",
            "Epoch 32/100\n",
            "473/473 [==============================] - 4s 8ms/step - loss: 6.9268e-04 - mse: 0.0014 - mae: 0.0291 - val_loss: 0.0368 - val_mse: 0.0736 - val_mae: 0.1922\n",
            "Epoch 33/100\n",
            "473/473 [==============================] - 4s 8ms/step - loss: 6.9286e-04 - mse: 0.0014 - mae: 0.0291 - val_loss: 0.0368 - val_mse: 0.0735 - val_mae: 0.1921\n",
            "Epoch 34/100\n",
            "473/473 [==============================] - 4s 8ms/step - loss: 6.9265e-04 - mse: 0.0014 - mae: 0.0291 - val_loss: 0.0367 - val_mse: 0.0735 - val_mae: 0.1920\n",
            "Epoch 35/100\n",
            "473/473 [==============================] - 4s 8ms/step - loss: 6.9246e-04 - mse: 0.0014 - mae: 0.0291 - val_loss: 0.0367 - val_mse: 0.0735 - val_mae: 0.1919\n",
            "Epoch 36/100\n",
            "473/473 [==============================] - 4s 8ms/step - loss: 6.9256e-04 - mse: 0.0014 - mae: 0.0291 - val_loss: 0.0367 - val_mse: 0.0734 - val_mae: 0.1919\n",
            "Epoch 37/100\n",
            "473/473 [==============================] - 4s 8ms/step - loss: 6.9250e-04 - mse: 0.0014 - mae: 0.0291 - val_loss: 0.0367 - val_mse: 0.0734 - val_mae: 0.1919\n",
            "Epoch 38/100\n",
            "473/473 [==============================] - 4s 7ms/step - loss: 6.9262e-04 - mse: 0.0014 - mae: 0.0291 - val_loss: 0.0367 - val_mse: 0.0734 - val_mae: 0.1918\n",
            "Epoch 39/100\n",
            "473/473 [==============================] - 4s 8ms/step - loss: 6.9218e-04 - mse: 0.0014 - mae: 0.0291 - val_loss: 0.0367 - val_mse: 0.0733 - val_mae: 0.1917\n",
            "Epoch 40/100\n",
            "473/473 [==============================] - 4s 8ms/step - loss: 6.9223e-04 - mse: 0.0014 - mae: 0.0291 - val_loss: 0.0367 - val_mse: 0.0734 - val_mae: 0.1918\n",
            "Epoch 41/100\n",
            "473/473 [==============================] - 4s 8ms/step - loss: 6.9254e-04 - mse: 0.0014 - mae: 0.0291 - val_loss: 0.0366 - val_mse: 0.0733 - val_mae: 0.1916\n",
            "Epoch 42/100\n",
            "473/473 [==============================] - 4s 8ms/step - loss: 6.9234e-04 - mse: 0.0014 - mae: 0.0291 - val_loss: 0.0366 - val_mse: 0.0733 - val_mae: 0.1916\n",
            "Epoch 43/100\n",
            "473/473 [==============================] - 4s 8ms/step - loss: 6.9243e-04 - mse: 0.0014 - mae: 0.0291 - val_loss: 0.0366 - val_mse: 0.0732 - val_mae: 0.1915\n",
            "Epoch 44/100\n",
            "473/473 [==============================] - 4s 8ms/step - loss: 6.9202e-04 - mse: 0.0014 - mae: 0.0291 - val_loss: 0.0366 - val_mse: 0.0732 - val_mae: 0.1915\n",
            "Epoch 45/100\n",
            "473/473 [==============================] - 4s 8ms/step - loss: 6.9224e-04 - mse: 0.0014 - mae: 0.0291 - val_loss: 0.0366 - val_mse: 0.0732 - val_mae: 0.1914\n",
            "Epoch 46/100\n",
            "473/473 [==============================] - 4s 7ms/step - loss: 6.9207e-04 - mse: 0.0014 - mae: 0.0291 - val_loss: 0.0366 - val_mse: 0.0732 - val_mae: 0.1914\n",
            "Epoch 47/100\n",
            "473/473 [==============================] - 4s 8ms/step - loss: 6.9209e-04 - mse: 0.0014 - mae: 0.0291 - val_loss: 0.0365 - val_mse: 0.0731 - val_mae: 0.1913\n",
            "Epoch 48/100\n",
            "473/473 [==============================] - 4s 7ms/step - loss: 6.9202e-04 - mse: 0.0014 - mae: 0.0291 - val_loss: 0.0366 - val_mse: 0.0731 - val_mae: 0.1913\n",
            "Epoch 49/100\n",
            "473/473 [==============================] - 4s 8ms/step - loss: 6.9211e-04 - mse: 0.0014 - mae: 0.0291 - val_loss: 0.0365 - val_mse: 0.0730 - val_mae: 0.1911\n",
            "Epoch 50/100\n",
            "473/473 [==============================] - 4s 8ms/step - loss: 6.9177e-04 - mse: 0.0014 - mae: 0.0291 - val_loss: 0.0365 - val_mse: 0.0730 - val_mae: 0.1912\n",
            "Epoch 51/100\n",
            "473/473 [==============================] - 4s 8ms/step - loss: 6.9187e-04 - mse: 0.0014 - mae: 0.0291 - val_loss: 0.0365 - val_mse: 0.0731 - val_mae: 0.1912\n",
            "Epoch 52/100\n",
            "473/473 [==============================] - 4s 8ms/step - loss: 6.9209e-04 - mse: 0.0014 - mae: 0.0291 - val_loss: 0.0365 - val_mse: 0.0730 - val_mae: 0.1912\n",
            "Epoch 53/100\n",
            "473/473 [==============================] - 4s 8ms/step - loss: 6.9176e-04 - mse: 0.0014 - mae: 0.0291 - val_loss: 0.0365 - val_mse: 0.0730 - val_mae: 0.1911\n",
            "Epoch 54/100\n",
            "473/473 [==============================] - 4s 8ms/step - loss: 6.9201e-04 - mse: 0.0014 - mae: 0.0291 - val_loss: 0.0365 - val_mse: 0.0730 - val_mae: 0.1911\n",
            "Epoch 55/100\n",
            "473/473 [==============================] - 4s 8ms/step - loss: 6.9206e-04 - mse: 0.0014 - mae: 0.0291 - val_loss: 0.0365 - val_mse: 0.0730 - val_mae: 0.1910\n",
            "Epoch 56/100\n",
            "473/473 [==============================] - 4s 8ms/step - loss: 6.9182e-04 - mse: 0.0014 - mae: 0.0291 - val_loss: 0.0365 - val_mse: 0.0730 - val_mae: 0.1910\n",
            "Epoch 57/100\n",
            "473/473 [==============================] - 4s 8ms/step - loss: 6.9174e-04 - mse: 0.0014 - mae: 0.0291 - val_loss: 0.0365 - val_mse: 0.0730 - val_mae: 0.1910\n",
            "Epoch 58/100\n",
            "473/473 [==============================] - 4s 8ms/step - loss: 6.9166e-04 - mse: 0.0014 - mae: 0.0291 - val_loss: 0.0365 - val_mse: 0.0730 - val_mae: 0.1911\n",
            "Epoch 59/100\n",
            "473/473 [==============================] - 4s 8ms/step - loss: 6.9209e-04 - mse: 0.0014 - mae: 0.0291 - val_loss: 0.0365 - val_mse: 0.0729 - val_mae: 0.1909\n",
            "Epoch 60/100\n",
            "473/473 [==============================] - 4s 8ms/step - loss: 6.9178e-04 - mse: 0.0014 - mae: 0.0291 - val_loss: 0.0365 - val_mse: 0.0729 - val_mae: 0.1909\n",
            "Epoch 61/100\n",
            "473/473 [==============================] - 4s 8ms/step - loss: 6.9168e-04 - mse: 0.0014 - mae: 0.0291 - val_loss: 0.0365 - val_mse: 0.0729 - val_mae: 0.1910\n",
            "Epoch 62/100\n",
            "473/473 [==============================] - 4s 8ms/step - loss: 6.9191e-04 - mse: 0.0014 - mae: 0.0291 - val_loss: 0.0365 - val_mse: 0.0729 - val_mae: 0.1909\n",
            "Epoch 63/100\n",
            "473/473 [==============================] - 4s 8ms/step - loss: 6.9175e-04 - mse: 0.0014 - mae: 0.0291 - val_loss: 0.0365 - val_mse: 0.0729 - val_mae: 0.1909\n",
            "Epoch 64/100\n",
            "473/473 [==============================] - 4s 8ms/step - loss: 6.9182e-04 - mse: 0.0014 - mae: 0.0291 - val_loss: 0.0365 - val_mse: 0.0729 - val_mae: 0.1909\n",
            "Epoch 65/100\n",
            "473/473 [==============================] - 4s 8ms/step - loss: 6.9196e-04 - mse: 0.0014 - mae: 0.0291 - val_loss: 0.0364 - val_mse: 0.0728 - val_mae: 0.1908\n",
            "Epoch 66/100\n",
            "473/473 [==============================] - 4s 8ms/step - loss: 6.9180e-04 - mse: 0.0014 - mae: 0.0290 - val_loss: 0.0364 - val_mse: 0.0729 - val_mae: 0.1908\n",
            "Epoch 67/100\n",
            "473/473 [==============================] - 4s 8ms/step - loss: 6.9184e-04 - mse: 0.0014 - mae: 0.0291 - val_loss: 0.0364 - val_mse: 0.0728 - val_mae: 0.1907\n",
            "Epoch 68/100\n",
            "473/473 [==============================] - 4s 8ms/step - loss: 6.9190e-04 - mse: 0.0014 - mae: 0.0290 - val_loss: 0.0364 - val_mse: 0.0727 - val_mae: 0.1906\n",
            "Epoch 69/100\n",
            "473/473 [==============================] - 4s 8ms/step - loss: 6.9177e-04 - mse: 0.0014 - mae: 0.0290 - val_loss: 0.0364 - val_mse: 0.0727 - val_mae: 0.1906\n",
            "Epoch 70/100\n",
            "473/473 [==============================] - 4s 8ms/step - loss: 6.9161e-04 - mse: 0.0014 - mae: 0.0291 - val_loss: 0.0364 - val_mse: 0.0728 - val_mae: 0.1907\n",
            "Epoch 71/100\n",
            "473/473 [==============================] - 4s 8ms/step - loss: 6.9186e-04 - mse: 0.0014 - mae: 0.0290 - val_loss: 0.0364 - val_mse: 0.0728 - val_mae: 0.1906\n",
            "Epoch 72/100\n",
            "473/473 [==============================] - 4s 8ms/step - loss: 6.9165e-04 - mse: 0.0014 - mae: 0.0291 - val_loss: 0.0364 - val_mse: 0.0727 - val_mae: 0.1906\n",
            "Epoch 73/100\n",
            "473/473 [==============================] - 4s 8ms/step - loss: 6.9178e-04 - mse: 0.0014 - mae: 0.0290 - val_loss: 0.0364 - val_mse: 0.0727 - val_mae: 0.1906\n",
            "Epoch 74/100\n",
            "473/473 [==============================] - 4s 8ms/step - loss: 6.9179e-04 - mse: 0.0014 - mae: 0.0290 - val_loss: 0.0364 - val_mse: 0.0727 - val_mae: 0.1906\n",
            "Epoch 75/100\n",
            "473/473 [==============================] - 4s 8ms/step - loss: 6.9152e-04 - mse: 0.0014 - mae: 0.0290 - val_loss: 0.0364 - val_mse: 0.0727 - val_mae: 0.1906\n",
            "Epoch 76/100\n",
            "473/473 [==============================] - 4s 8ms/step - loss: 6.9147e-04 - mse: 0.0014 - mae: 0.0290 - val_loss: 0.0364 - val_mse: 0.0727 - val_mae: 0.1906\n",
            "Epoch 77/100\n",
            "473/473 [==============================] - 4s 8ms/step - loss: 6.9182e-04 - mse: 0.0014 - mae: 0.0291 - val_loss: 0.0364 - val_mse: 0.0727 - val_mae: 0.1905\n",
            "Epoch 78/100\n",
            "473/473 [==============================] - 4s 8ms/step - loss: 6.9141e-04 - mse: 0.0014 - mae: 0.0291 - val_loss: 0.0364 - val_mse: 0.0727 - val_mae: 0.1906\n",
            "Epoch 79/100\n",
            "473/473 [==============================] - 4s 8ms/step - loss: 6.9167e-04 - mse: 0.0014 - mae: 0.0291 - val_loss: 0.0363 - val_mse: 0.0727 - val_mae: 0.1905\n",
            "Epoch 80/100\n",
            "473/473 [==============================] - 4s 8ms/step - loss: 6.9153e-04 - mse: 0.0014 - mae: 0.0290 - val_loss: 0.0363 - val_mse: 0.0727 - val_mae: 0.1905\n",
            "Epoch 81/100\n",
            "473/473 [==============================] - 4s 8ms/step - loss: 6.9155e-04 - mse: 0.0014 - mae: 0.0290 - val_loss: 0.0363 - val_mse: 0.0727 - val_mae: 0.1905\n",
            "Epoch 82/100\n",
            "473/473 [==============================] - 4s 8ms/step - loss: 6.9166e-04 - mse: 0.0014 - mae: 0.0291 - val_loss: 0.0363 - val_mse: 0.0727 - val_mae: 0.1905\n",
            "Epoch 83/100\n",
            "473/473 [==============================] - 4s 8ms/step - loss: 6.9132e-04 - mse: 0.0014 - mae: 0.0291 - val_loss: 0.0364 - val_mse: 0.0727 - val_mae: 0.1905\n",
            "Epoch 84/100\n",
            "473/473 [==============================] - 4s 8ms/step - loss: 6.9153e-04 - mse: 0.0014 - mae: 0.0290 - val_loss: 0.0363 - val_mse: 0.0727 - val_mae: 0.1905\n",
            "Epoch 85/100\n",
            "473/473 [==============================] - 4s 8ms/step - loss: 6.9152e-04 - mse: 0.0014 - mae: 0.0290 - val_loss: 0.0363 - val_mse: 0.0727 - val_mae: 0.1905\n",
            "Epoch 86/100\n",
            "473/473 [==============================] - 4s 8ms/step - loss: 6.9178e-04 - mse: 0.0014 - mae: 0.0290 - val_loss: 0.0363 - val_mse: 0.0727 - val_mae: 0.1904\n",
            "Epoch 87/100\n",
            "473/473 [==============================] - 4s 8ms/step - loss: 6.9178e-04 - mse: 0.0014 - mae: 0.0290 - val_loss: 0.0363 - val_mse: 0.0726 - val_mae: 0.1903\n",
            "Epoch 88/100\n",
            "473/473 [==============================] - 4s 8ms/step - loss: 6.9145e-04 - mse: 0.0014 - mae: 0.0290 - val_loss: 0.0363 - val_mse: 0.0727 - val_mae: 0.1904\n",
            "Epoch 89/100\n",
            "473/473 [==============================] - 4s 8ms/step - loss: 6.9154e-04 - mse: 0.0014 - mae: 0.0290 - val_loss: 0.0363 - val_mse: 0.0727 - val_mae: 0.1905\n",
            "Epoch 90/100\n",
            "473/473 [==============================] - 4s 8ms/step - loss: 6.9155e-04 - mse: 0.0014 - mae: 0.0291 - val_loss: 0.0363 - val_mse: 0.0727 - val_mae: 0.1904\n",
            "Epoch 91/100\n",
            "473/473 [==============================] - 4s 8ms/step - loss: 6.9156e-04 - mse: 0.0014 - mae: 0.0290 - val_loss: 0.0363 - val_mse: 0.0727 - val_mae: 0.1904\n",
            "Epoch 92/100\n",
            "473/473 [==============================] - 4s 8ms/step - loss: 6.9165e-04 - mse: 0.0014 - mae: 0.0290 - val_loss: 0.0363 - val_mse: 0.0727 - val_mae: 0.1905\n",
            "Epoch 93/100\n",
            "473/473 [==============================] - 4s 8ms/step - loss: 6.9158e-04 - mse: 0.0014 - mae: 0.0291 - val_loss: 0.0363 - val_mse: 0.0727 - val_mae: 0.1905\n",
            "Epoch 94/100\n",
            "473/473 [==============================] - 4s 8ms/step - loss: 6.9181e-04 - mse: 0.0014 - mae: 0.0290 - val_loss: 0.0363 - val_mse: 0.0726 - val_mae: 0.1904\n",
            "Epoch 95/100\n",
            "473/473 [==============================] - 4s 8ms/step - loss: 6.9149e-04 - mse: 0.0014 - mae: 0.0290 - val_loss: 0.0363 - val_mse: 0.0726 - val_mae: 0.1903\n",
            "Epoch 96/100\n",
            "473/473 [==============================] - 4s 8ms/step - loss: 6.9140e-04 - mse: 0.0014 - mae: 0.0290 - val_loss: 0.0363 - val_mse: 0.0726 - val_mae: 0.1903\n",
            "Epoch 97/100\n",
            "473/473 [==============================] - 4s 8ms/step - loss: 6.9169e-04 - mse: 0.0014 - mae: 0.0290 - val_loss: 0.0363 - val_mse: 0.0726 - val_mae: 0.1903\n",
            "Epoch 98/100\n",
            "473/473 [==============================] - 4s 8ms/step - loss: 6.9151e-04 - mse: 0.0014 - mae: 0.0290 - val_loss: 0.0363 - val_mse: 0.0726 - val_mae: 0.1903\n",
            "Epoch 99/100\n",
            "473/473 [==============================] - 4s 8ms/step - loss: 6.9159e-04 - mse: 0.0014 - mae: 0.0290 - val_loss: 0.0363 - val_mse: 0.0726 - val_mae: 0.1902\n",
            "Epoch 100/100\n",
            "473/473 [==============================] - 4s 8ms/step - loss: 6.9128e-04 - mse: 0.0014 - mae: 0.0290 - val_loss: 0.0363 - val_mse: 0.0726 - val_mae: 0.1903\n"
          ]
        }
      ]
    },
    {
      "cell_type": "code",
      "metadata": {
        "id": "ctI2ap51kfRd",
        "colab": {
          "base_uri": "https://localhost:8080/",
          "height": 298
        },
        "outputId": "a652f8ab-630b-4dac-de40-4435a50846a3"
      },
      "source": [
        "import matplotlib.pyplot as plt\n",
        "import numpy as np\n",
        "\n",
        "plt.style.use(\"ggplot\")\n",
        "plt.figure()\n",
        "plt.plot(np.arange(0, 100), history.history[\"loss\"], label=\"train_loss\")\n",
        "plt.plot(np.arange(0, 100), history.history[\"val_loss\"], label=\"val_loss\")\n",
        "plt.title(\"Loss Plot\")\n",
        "plt.xlabel(\"Epoch #\")\n",
        "plt.ylabel(\"Loss\")\n",
        "plt.legend()\n",
        "plt.show()"
      ],
      "execution_count": null,
      "outputs": [
        {
          "output_type": "display_data",
          "data": {
            "image/png": "[encoded data removed]",
            "text/plain": [
              "<Figure size 432x288 with 1 Axes>"
            ]
          },
          "metadata": {}
        }
      ]
    },
    {
      "cell_type": "code",
      "metadata": {
        "id": "XWfbi9V7kfRd",
        "colab": {
          "base_uri": "https://localhost:8080/",
          "height": 298
        },
        "outputId": "08b5a62b-70c8-484b-ac7e-9611d064d949"
      },
      "source": [
        "plt.style.use(\"ggplot\")\n",
        "plt.figure()\n",
        "plt.plot(np.arange(0, 100), history.history[\"mae\"], label=\"train_mae\")\n",
        "plt.plot(np.arange(0, 100), history.history[\"val_mae\"], label=\"val_mae\")\n",
        "plt.title(\"mae Plot\")\n",
        "plt.xlabel(\"Epoch #\")\n",
        "plt.ylabel(\"Loss\")\n",
        "plt.legend()\n",
        "plt.show()"
      ],
      "execution_count": null,
      "outputs": [
        {
          "output_type": "display_data",
          "data": {
            "image/png": "[encoded data removed]",
            "text/plain": [
              "<Figure size 432x288 with 1 Axes>"
            ]
          },
          "metadata": {}
        }
      ]
    },
    {
      "cell_type": "code",
      "metadata": {
        "id": "Bn31TfxnkfRd",
        "colab": {
          "base_uri": "https://localhost:8080/",
          "height": 298
        },
        "outputId": "71c3c0f3-bcce-4a0e-deab-7996ac076693"
      },
      "source": [
        "plt.style.use(\"ggplot\")\n",
        "plt.figure()\n",
        "plt.plot(np.arange(0, 100), history.history[\"mse\"], label=\"train_mse\")\n",
        "plt.plot(np.arange(0, 100), history.history[\"val_mse\"], label=\"val_mse\")\n",
        "plt.title(\"mse Plot\")\n",
        "plt.xlabel(\"Epoch #\")\n",
        "plt.ylabel(\"Loss\")\n",
        "plt.legend()\n",
        "plt.show()"
      ],
      "execution_count": null,
      "outputs": [
        {
          "output_type": "display_data",
          "data": {
            "image/png": "[encoded data removed]",
            "text/plain": [
              "<Figure size 432x288 with 1 Axes>"
            ]
          },
          "metadata": {}
        }
      ]
    },
    {
      "cell_type": "markdown",
      "metadata": {
        "id": "fSKHzKqk_XK5"
      },
      "source": [
        "#Forecasting"
      ]
    },
    {
      "cell_type": "code",
      "source": [
        "NUM_FORECASTS = 31 #1 bulan\n",
        "SEED = 1234"
      ],
      "metadata": {
        "id": "-OTscMu2eixi"
      },
      "execution_count": null,
      "outputs": []
    },
    {
      "cell_type": "markdown",
      "source": [
        "##pm10"
      ],
      "metadata": {
        "id": "fqxRVksDr8C8"
      }
    },
    {
      "cell_type": "code",
      "source": [
        "output_data_pm10 = pd.DataFrame(columns = [\"tanggal\", \"pm10\"])\n",
        "\n",
        "time = df[\"tanggal\"].values[-1]\n",
        "x_train_pm10 = df['pm10'].values\n",
        "    \n",
        "#Buld Model\n",
        "tf.keras.backend.clear_session()\n",
        "tf.random.set_seed(SEED)\n",
        "np.random.seed(SEED)\n",
        "    \n",
        "train_set_pm10 = windowed_dataset(x_train_pm10, window_size, batch_size, shuffle_buffer_size)\n",
        "\n",
        "model = tf.keras.models.Sequential([\n",
        "  tf.keras.layers.Dense(128, activation=\"relu\"),\n",
        "  tf.keras.layers.Dense(64, activation=\"relu\"),\n",
        "  tf.keras.layers.Dense(1),\n",
        "])\n",
        "\n",
        "optimizer = tf.keras.optimizers.SGD(learning_rate=1.0000e-04, momentum=0.9)\n",
        "model.compile(loss=tf.keras.losses.Huber(),\n",
        "              optimizer=optimizer,\n",
        "              metrics=[\"mse\", \"mae\"])\n",
        "history_pm10 = model.fit(train_set_pm10, epochs=10)    "
      ],
      "metadata": {
        "colab": {
          "base_uri": "https://localhost:8080/"
        },
        "id": "WWgthqvYcpaz",
        "outputId": "27f9e6b9-5d26-4bb8-eeec-03bd1fff2f09"
      },
      "execution_count": null,
      "outputs": [
        {
          "output_type": "stream",
          "name": "stdout",
          "text": [
            "Epoch 1/10\n",
            "525/525 [==============================] - 5s 7ms/step - loss: 15.4623 - mse: 462.4987 - mae: 15.9547\n",
            "Epoch 2/10\n",
            "525/525 [==============================] - 4s 8ms/step - loss: 14.4141 - mse: 381.0418 - mae: 14.9061\n",
            "Epoch 3/10\n",
            "525/525 [==============================] - 4s 7ms/step - loss: 14.3672 - mse: 378.1226 - mae: 14.8591\n",
            "Epoch 4/10\n",
            "525/525 [==============================] - 4s 7ms/step - loss: 14.3275 - mse: 375.9148 - mae: 14.8197\n",
            "Epoch 5/10\n",
            "525/525 [==============================] - 4s 7ms/step - loss: 14.3331 - mse: 375.9048 - mae: 14.8253\n",
            "Epoch 6/10\n",
            "525/525 [==============================] - 4s 8ms/step - loss: 14.3238 - mse: 375.5980 - mae: 14.8158\n",
            "Epoch 7/10\n",
            "525/525 [==============================] - 4s 7ms/step - loss: 14.2794 - mse: 373.3524 - mae: 14.7715\n",
            "Epoch 8/10\n",
            "525/525 [==============================] - 4s 7ms/step - loss: 14.2519 - mse: 372.7760 - mae: 14.7435\n",
            "Epoch 9/10\n",
            "525/525 [==============================] - 4s 8ms/step - loss: 14.2471 - mse: 372.3804 - mae: 14.7391\n",
            "Epoch 10/10\n",
            "525/525 [==============================] - 4s 7ms/step - loss: 14.2506 - mse: 371.7021 - mae: 14.7428\n"
          ]
        }
      ]
    },
    {
      "cell_type": "code",
      "source": [
        "#Forecasting\n",
        "pm10 = df['pm10'].values\n",
        "data_temp = pm10.copy()\n",
        "for j in range(NUM_FORECASTS):\n",
        "    pm10_forecast = model_forecast(model, data_temp[-window_size:, np.newaxis], batch_size, window_size)\n",
        "    pm10_forecast = pm10_forecast[:, -1, 0]\n",
        "    data_temp = np.append(data_temp, pm10_forecast[0])\n",
        "    time += np.timedelta64(1,'D')\n",
        "    output_data_pm10 = output_data_pm10.append({\"tanggal\":time,\n",
        "                                \"pm10\":pm10_forecast[0]}, \n",
        "                                ignore_index=True)"
      ],
      "metadata": {
        "id": "Qdnva37uhrAl"
      },
      "execution_count": null,
      "outputs": []
    },
    {
      "cell_type": "code",
      "source": [
        "output_data_pm10"
      ],
      "metadata": {
        "colab": {
          "base_uri": "https://localhost:8080/",
          "height": 986
        },
        "id": "GD-jkLKSycWU",
        "outputId": "0b4e7e26-9327-4bbf-ae0e-ef03fda938f1"
      },
      "execution_count": null,
      "outputs": [
        {
          "output_type": "execute_result",
          "data": {
            "text/html": [
              "<div>\n",
              "<style scoped>\n",
              "    .dataframe tbody tr th:only-of-type {\n",
              "        vertical-align: middle;\n",
              "    }\n",
              "\n",
              "    .dataframe tbody tr th {\n",
              "        vertical-align: top;\n",
              "    }\n",
              "\n",
              "    .dataframe thead th {\n",
              "        text-align: right;\n",
              "    }\n",
              "</style>\n",
              "<table border=\"1\" class=\"dataframe\">\n",
              "  <thead>\n",
              "    <tr style=\"text-align: right;\">\n",
              "      <th></th>\n",
              "      <th>tanggal</th>\n",
              "      <th>pm10</th>\n",
              "    </tr>\n",
              "  </thead>\n",
              "  <tbody>\n",
              "    <tr>\n",
              "      <th>0</th>\n",
              "      <td>2021-08-01</td>\n",
              "      <td>60.600922</td>\n",
              "    </tr>\n",
              "    <tr>\n",
              "      <th>1</th>\n",
              "      <td>2021-08-02</td>\n",
              "      <td>58.361027</td>\n",
              "    </tr>\n",
              "    <tr>\n",
              "      <th>2</th>\n",
              "      <td>2021-08-03</td>\n",
              "      <td>56.269749</td>\n",
              "    </tr>\n",
              "    <tr>\n",
              "      <th>3</th>\n",
              "      <td>2021-08-04</td>\n",
              "      <td>54.317223</td>\n",
              "    </tr>\n",
              "    <tr>\n",
              "      <th>4</th>\n",
              "      <td>2021-08-05</td>\n",
              "      <td>52.494259</td>\n",
              "    </tr>\n",
              "    <tr>\n",
              "      <th>5</th>\n",
              "      <td>2021-08-06</td>\n",
              "      <td>50.792248</td>\n",
              "    </tr>\n",
              "    <tr>\n",
              "      <th>6</th>\n",
              "      <td>2021-08-07</td>\n",
              "      <td>49.203175</td>\n",
              "    </tr>\n",
              "    <tr>\n",
              "      <th>7</th>\n",
              "      <td>2021-08-08</td>\n",
              "      <td>47.719540</td>\n",
              "    </tr>\n",
              "    <tr>\n",
              "      <th>8</th>\n",
              "      <td>2021-08-09</td>\n",
              "      <td>46.334335</td>\n",
              "    </tr>\n",
              "    <tr>\n",
              "      <th>9</th>\n",
              "      <td>2021-08-10</td>\n",
              "      <td>45.041046</td>\n",
              "    </tr>\n",
              "    <tr>\n",
              "      <th>10</th>\n",
              "      <td>2021-08-11</td>\n",
              "      <td>43.833569</td>\n",
              "    </tr>\n",
              "    <tr>\n",
              "      <th>11</th>\n",
              "      <td>2021-08-12</td>\n",
              "      <td>42.706211</td>\n",
              "    </tr>\n",
              "    <tr>\n",
              "      <th>12</th>\n",
              "      <td>2021-08-13</td>\n",
              "      <td>41.653652</td>\n",
              "    </tr>\n",
              "    <tr>\n",
              "      <th>13</th>\n",
              "      <td>2021-08-14</td>\n",
              "      <td>40.670940</td>\n",
              "    </tr>\n",
              "    <tr>\n",
              "      <th>14</th>\n",
              "      <td>2021-08-15</td>\n",
              "      <td>39.753429</td>\n",
              "    </tr>\n",
              "    <tr>\n",
              "      <th>15</th>\n",
              "      <td>2021-08-16</td>\n",
              "      <td>38.896793</td>\n",
              "    </tr>\n",
              "    <tr>\n",
              "      <th>16</th>\n",
              "      <td>2021-08-17</td>\n",
              "      <td>38.096996</td>\n",
              "    </tr>\n",
              "    <tr>\n",
              "      <th>17</th>\n",
              "      <td>2021-08-18</td>\n",
              "      <td>37.350266</td>\n",
              "    </tr>\n",
              "    <tr>\n",
              "      <th>18</th>\n",
              "      <td>2021-08-19</td>\n",
              "      <td>36.653091</td>\n",
              "    </tr>\n",
              "    <tr>\n",
              "      <th>19</th>\n",
              "      <td>2021-08-20</td>\n",
              "      <td>36.002167</td>\n",
              "    </tr>\n",
              "    <tr>\n",
              "      <th>20</th>\n",
              "      <td>2021-08-21</td>\n",
              "      <td>35.394436</td>\n",
              "    </tr>\n",
              "    <tr>\n",
              "      <th>21</th>\n",
              "      <td>2021-08-22</td>\n",
              "      <td>34.827026</td>\n",
              "    </tr>\n",
              "    <tr>\n",
              "      <th>22</th>\n",
              "      <td>2021-08-23</td>\n",
              "      <td>34.297268</td>\n",
              "    </tr>\n",
              "    <tr>\n",
              "      <th>23</th>\n",
              "      <td>2021-08-24</td>\n",
              "      <td>33.802654</td>\n",
              "    </tr>\n",
              "    <tr>\n",
              "      <th>24</th>\n",
              "      <td>2021-08-25</td>\n",
              "      <td>33.340862</td>\n",
              "    </tr>\n",
              "    <tr>\n",
              "      <th>25</th>\n",
              "      <td>2021-08-26</td>\n",
              "      <td>32.909710</td>\n",
              "    </tr>\n",
              "    <tr>\n",
              "      <th>26</th>\n",
              "      <td>2021-08-27</td>\n",
              "      <td>32.507164</td>\n",
              "    </tr>\n",
              "    <tr>\n",
              "      <th>27</th>\n",
              "      <td>2021-08-28</td>\n",
              "      <td>32.131329</td>\n",
              "    </tr>\n",
              "    <tr>\n",
              "      <th>28</th>\n",
              "      <td>2021-08-29</td>\n",
              "      <td>31.780430</td>\n",
              "    </tr>\n",
              "    <tr>\n",
              "      <th>29</th>\n",
              "      <td>2021-08-30</td>\n",
              "      <td>31.452816</td>\n",
              "    </tr>\n",
              "    <tr>\n",
              "      <th>30</th>\n",
              "      <td>2021-08-31</td>\n",
              "      <td>31.146940</td>\n",
              "    </tr>\n",
              "  </tbody>\n",
              "</table>\n",
              "</div>"
            ],
            "text/plain": [
              "      tanggal       pm10\n",
              "0  2021-08-01  60.600922\n",
              "1  2021-08-02  58.361027\n",
              "2  2021-08-03  56.269749\n",
              "3  2021-08-04  54.317223\n",
              "4  2021-08-05  52.494259\n",
              "5  2021-08-06  50.792248\n",
              "6  2021-08-07  49.203175\n",
              "7  2021-08-08  47.719540\n",
              "8  2021-08-09  46.334335\n",
              "9  2021-08-10  45.041046\n",
              "10 2021-08-11  43.833569\n",
              "11 2021-08-12  42.706211\n",
              "12 2021-08-13  41.653652\n",
              "13 2021-08-14  40.670940\n",
              "14 2021-08-15  39.753429\n",
              "15 2021-08-16  38.896793\n",
              "16 2021-08-17  38.096996\n",
              "17 2021-08-18  37.350266\n",
              "18 2021-08-19  36.653091\n",
              "19 2021-08-20  36.002167\n",
              "20 2021-08-21  35.394436\n",
              "21 2021-08-22  34.827026\n",
              "22 2021-08-23  34.297268\n",
              "23 2021-08-24  33.802654\n",
              "24 2021-08-25  33.340862\n",
              "25 2021-08-26  32.909710\n",
              "26 2021-08-27  32.507164\n",
              "27 2021-08-28  32.131329\n",
              "28 2021-08-29  31.780430\n",
              "29 2021-08-30  31.452816\n",
              "30 2021-08-31  31.146940"
            ]
          },
          "metadata": {},
          "execution_count": 133
        }
      ]
    },
    {
      "cell_type": "markdown",
      "source": [
        "##so2"
      ],
      "metadata": {
        "id": "KgaXD3oOsGul"
      }
    },
    {
      "cell_type": "code",
      "source": [
        "# x_train_co = df['co'].values\n",
        "# x_train_o3 = df['o3'].values\n",
        "# x_train_no2 = df['no2'].values"
      ],
      "metadata": {
        "id": "H1dhoNKJsFBD"
      },
      "execution_count": null,
      "outputs": []
    },
    {
      "cell_type": "code",
      "source": [
        "output_data_so2 = pd.DataFrame(columns = [\"so2\"])\n",
        "\n",
        "x_train_so2 = df['so2'].values\n",
        "\n",
        "train_set_so2 = windowed_dataset(x_train_so2, window_size, batch_size, shuffle_buffer_size)\n",
        "history_so2 = model.fit(train_set_so2, epochs=10)    "
      ],
      "metadata": {
        "colab": {
          "base_uri": "https://localhost:8080/"
        },
        "id": "5tnjuENusXcS",
        "outputId": "e379aa75-917b-4ab6-fe62-6272edb82f24"
      },
      "execution_count": null,
      "outputs": [
        {
          "output_type": "stream",
          "name": "stdout",
          "text": [
            "Epoch 1/10\n",
            "525/525 [==============================] - 4s 7ms/step - loss: 4.8670 - mse: 84.4838 - mae: 5.3305\n",
            "Epoch 2/10\n",
            "525/525 [==============================] - 4s 7ms/step - loss: 4.8407 - mse: 83.7449 - mae: 5.3048\n",
            "Epoch 3/10\n",
            "525/525 [==============================] - 4s 7ms/step - loss: 4.8361 - mse: 83.4553 - mae: 5.2993\n",
            "Epoch 4/10\n",
            "525/525 [==============================] - 4s 7ms/step - loss: 4.8260 - mse: 82.9605 - mae: 5.2902\n",
            "Epoch 5/10\n",
            "525/525 [==============================] - 4s 7ms/step - loss: 4.8277 - mse: 83.0657 - mae: 5.2907\n",
            "Epoch 6/10\n",
            "525/525 [==============================] - 4s 7ms/step - loss: 4.8407 - mse: 83.1322 - mae: 5.3047\n",
            "Epoch 7/10\n",
            "525/525 [==============================] - 4s 7ms/step - loss: 4.8532 - mse: 83.2149 - mae: 5.3186\n",
            "Epoch 8/10\n",
            "525/525 [==============================] - 4s 7ms/step - loss: 4.8297 - mse: 83.1469 - mae: 5.2943\n",
            "Epoch 9/10\n",
            "525/525 [==============================] - 4s 7ms/step - loss: 4.8374 - mse: 82.9416 - mae: 5.3016\n",
            "Epoch 10/10\n",
            "525/525 [==============================] - 4s 7ms/step - loss: 4.8394 - mse: 82.9898 - mae: 5.3041\n"
          ]
        }
      ]
    },
    {
      "cell_type": "code",
      "source": [
        "#Forecasting\n",
        "data_temp_so2 = x_train_so2.copy()\n",
        "for j in range(NUM_FORECASTS):\n",
        "    so2_forecast = model_forecast(model, data_temp_so2[-window_size:, np.newaxis], batch_size, window_size)\n",
        "    so2_forecast = so2_forecast[:, -1, 0]\n",
        "    data_temp_so2 = np.append(data_temp_so2, so2_forecast[0])\n",
        "    output_data_so2 = output_data_so2.append({\"so2\":so2_forecast[0]}, \n",
        "                                ignore_index=True)\n",
        "output_data_so2"
      ],
      "metadata": {
        "colab": {
          "base_uri": "https://localhost:8080/",
          "height": 986
        },
        "id": "1SPhGzZws2S5",
        "outputId": "f1481cf0-44aa-44d5-c50e-79e7987c34cf"
      },
      "execution_count": null,
      "outputs": [
        {
          "output_type": "execute_result",
          "data": {
            "text/html": [
              "<div>\n",
              "<style scoped>\n",
              "    .dataframe tbody tr th:only-of-type {\n",
              "        vertical-align: middle;\n",
              "    }\n",
              "\n",
              "    .dataframe tbody tr th {\n",
              "        vertical-align: top;\n",
              "    }\n",
              "\n",
              "    .dataframe thead th {\n",
              "        text-align: right;\n",
              "    }\n",
              "</style>\n",
              "<table border=\"1\" class=\"dataframe\">\n",
              "  <thead>\n",
              "    <tr style=\"text-align: right;\">\n",
              "      <th></th>\n",
              "      <th>so2</th>\n",
              "    </tr>\n",
              "  </thead>\n",
              "  <tbody>\n",
              "    <tr>\n",
              "      <th>0</th>\n",
              "      <td>49.358723</td>\n",
              "    </tr>\n",
              "    <tr>\n",
              "      <th>1</th>\n",
              "      <td>48.766232</td>\n",
              "    </tr>\n",
              "    <tr>\n",
              "      <th>2</th>\n",
              "      <td>48.218819</td>\n",
              "    </tr>\n",
              "    <tr>\n",
              "      <th>3</th>\n",
              "      <td>47.713047</td>\n",
              "    </tr>\n",
              "    <tr>\n",
              "      <th>4</th>\n",
              "      <td>47.245762</td>\n",
              "    </tr>\n",
              "    <tr>\n",
              "      <th>5</th>\n",
              "      <td>46.814026</td>\n",
              "    </tr>\n",
              "    <tr>\n",
              "      <th>6</th>\n",
              "      <td>46.415138</td>\n",
              "    </tr>\n",
              "    <tr>\n",
              "      <th>7</th>\n",
              "      <td>46.046597</td>\n",
              "    </tr>\n",
              "    <tr>\n",
              "      <th>8</th>\n",
              "      <td>45.706093</td>\n",
              "    </tr>\n",
              "    <tr>\n",
              "      <th>9</th>\n",
              "      <td>45.391499</td>\n",
              "    </tr>\n",
              "    <tr>\n",
              "      <th>10</th>\n",
              "      <td>45.100834</td>\n",
              "    </tr>\n",
              "    <tr>\n",
              "      <th>11</th>\n",
              "      <td>44.832291</td>\n",
              "    </tr>\n",
              "    <tr>\n",
              "      <th>12</th>\n",
              "      <td>44.584171</td>\n",
              "    </tr>\n",
              "    <tr>\n",
              "      <th>13</th>\n",
              "      <td>44.354935</td>\n",
              "    </tr>\n",
              "    <tr>\n",
              "      <th>14</th>\n",
              "      <td>44.143131</td>\n",
              "    </tr>\n",
              "    <tr>\n",
              "      <th>15</th>\n",
              "      <td>43.947449</td>\n",
              "    </tr>\n",
              "    <tr>\n",
              "      <th>16</th>\n",
              "      <td>43.766647</td>\n",
              "    </tr>\n",
              "    <tr>\n",
              "      <th>17</th>\n",
              "      <td>43.599598</td>\n",
              "    </tr>\n",
              "    <tr>\n",
              "      <th>18</th>\n",
              "      <td>43.445263</td>\n",
              "    </tr>\n",
              "    <tr>\n",
              "      <th>19</th>\n",
              "      <td>43.302670</td>\n",
              "    </tr>\n",
              "    <tr>\n",
              "      <th>20</th>\n",
              "      <td>43.170921</td>\n",
              "    </tr>\n",
              "    <tr>\n",
              "      <th>21</th>\n",
              "      <td>43.049198</td>\n",
              "    </tr>\n",
              "    <tr>\n",
              "      <th>22</th>\n",
              "      <td>42.936745</td>\n",
              "    </tr>\n",
              "    <tr>\n",
              "      <th>23</th>\n",
              "      <td>42.832840</td>\n",
              "    </tr>\n",
              "    <tr>\n",
              "      <th>24</th>\n",
              "      <td>42.736843</td>\n",
              "    </tr>\n",
              "    <tr>\n",
              "      <th>25</th>\n",
              "      <td>42.648144</td>\n",
              "    </tr>\n",
              "    <tr>\n",
              "      <th>26</th>\n",
              "      <td>42.566193</td>\n",
              "    </tr>\n",
              "    <tr>\n",
              "      <th>27</th>\n",
              "      <td>42.490482</td>\n",
              "    </tr>\n",
              "    <tr>\n",
              "      <th>28</th>\n",
              "      <td>42.420528</td>\n",
              "    </tr>\n",
              "    <tr>\n",
              "      <th>29</th>\n",
              "      <td>42.355896</td>\n",
              "    </tr>\n",
              "    <tr>\n",
              "      <th>30</th>\n",
              "      <td>42.296185</td>\n",
              "    </tr>\n",
              "  </tbody>\n",
              "</table>\n",
              "</div>"
            ],
            "text/plain": [
              "          so2\n",
              "0   49.358723\n",
              "1   48.766232\n",
              "2   48.218819\n",
              "3   47.713047\n",
              "4   47.245762\n",
              "5   46.814026\n",
              "6   46.415138\n",
              "7   46.046597\n",
              "8   45.706093\n",
              "9   45.391499\n",
              "10  45.100834\n",
              "11  44.832291\n",
              "12  44.584171\n",
              "13  44.354935\n",
              "14  44.143131\n",
              "15  43.947449\n",
              "16  43.766647\n",
              "17  43.599598\n",
              "18  43.445263\n",
              "19  43.302670\n",
              "20  43.170921\n",
              "21  43.049198\n",
              "22  42.936745\n",
              "23  42.832840\n",
              "24  42.736843\n",
              "25  42.648144\n",
              "26  42.566193\n",
              "27  42.490482\n",
              "28  42.420528\n",
              "29  42.355896\n",
              "30  42.296185"
            ]
          },
          "metadata": {},
          "execution_count": 139
        }
      ]
    },
    {
      "cell_type": "markdown",
      "source": [
        "##co"
      ],
      "metadata": {
        "id": "oXFL3Hpl6LRJ"
      }
    },
    {
      "cell_type": "code",
      "source": [
        "output_data_co = pd.DataFrame(columns = [\"co\"])\n",
        "\n",
        "x_train_co = df['co'].values\n",
        "\n",
        "train_set_co = windowed_dataset(x_train_co, window_size, batch_size, shuffle_buffer_size)\n",
        "history_co = model.fit(train_set_co, epochs=10)    "
      ],
      "metadata": {
        "colab": {
          "base_uri": "https://localhost:8080/"
        },
        "id": "6G5iT8_A6MKn",
        "outputId": "3b9638b6-9555-4cc1-8ea5-3e63efb3619e"
      },
      "execution_count": null,
      "outputs": [
        {
          "output_type": "stream",
          "name": "stdout",
          "text": [
            "Epoch 1/10\n",
            "525/525 [==============================] - 4s 7ms/step - loss: 8.3259 - mse: 152.8087 - mae: 8.8119\n",
            "Epoch 2/10\n",
            "525/525 [==============================] - 4s 7ms/step - loss: 8.2915 - mse: 151.6393 - mae: 8.7771\n",
            "Epoch 3/10\n",
            "525/525 [==============================] - 4s 7ms/step - loss: 8.2603 - mse: 151.4129 - mae: 8.7460\n",
            "Epoch 4/10\n",
            "525/525 [==============================] - 4s 7ms/step - loss: 8.3047 - mse: 152.5468 - mae: 8.7909\n",
            "Epoch 5/10\n",
            "525/525 [==============================] - 4s 7ms/step - loss: 8.3094 - mse: 152.8581 - mae: 8.7953\n",
            "Epoch 6/10\n",
            "525/525 [==============================] - 4s 7ms/step - loss: 8.2688 - mse: 151.9094 - mae: 8.7549\n",
            "Epoch 7/10\n",
            "525/525 [==============================] - 4s 7ms/step - loss: 8.2544 - mse: 150.3796 - mae: 8.7402\n",
            "Epoch 8/10\n",
            "525/525 [==============================] - 4s 7ms/step - loss: 8.2997 - mse: 152.3086 - mae: 8.7858\n",
            "Epoch 9/10\n",
            "525/525 [==============================] - 4s 7ms/step - loss: 8.2728 - mse: 151.6289 - mae: 8.7587\n",
            "Epoch 10/10\n",
            "525/525 [==============================] - 4s 8ms/step - loss: 8.2960 - mse: 153.3359 - mae: 8.7819\n"
          ]
        }
      ]
    },
    {
      "cell_type": "code",
      "source": [
        "#Forecasting\n",
        "data_temp_co = x_train_co.copy()\n",
        "for j in range(NUM_FORECASTS):\n",
        "    co_forecast = model_forecast(model, data_temp_co[-window_size:, np.newaxis], batch_size, window_size)\n",
        "    co_forecast = co_forecast[:, -1, 0]\n",
        "    data_temp_co = np.append(data_temp_co, co_forecast[0])\n",
        "    output_data_co = output_data_co.append({\"co\":co_forecast[0]}, \n",
        "                                ignore_index=True)\n",
        "output_data_co"
      ],
      "metadata": {
        "colab": {
          "base_uri": "https://localhost:8080/",
          "height": 986
        },
        "id": "3hukbp-c6YjK",
        "outputId": "5a31b741-274f-4ced-a804-b17353572c11"
      },
      "execution_count": null,
      "outputs": [
        {
          "output_type": "execute_result",
          "data": {
            "text/html": [
              "<div>\n",
              "<style scoped>\n",
              "    .dataframe tbody tr th:only-of-type {\n",
              "        vertical-align: middle;\n",
              "    }\n",
              "\n",
              "    .dataframe tbody tr th {\n",
              "        vertical-align: top;\n",
              "    }\n",
              "\n",
              "    .dataframe thead th {\n",
              "        text-align: right;\n",
              "    }\n",
              "</style>\n",
              "<table border=\"1\" class=\"dataframe\">\n",
              "  <thead>\n",
              "    <tr style=\"text-align: right;\">\n",
              "      <th></th>\n",
              "      <th>co</th>\n",
              "    </tr>\n",
              "  </thead>\n",
              "  <tbody>\n",
              "    <tr>\n",
              "      <th>0</th>\n",
              "      <td>22.272120</td>\n",
              "    </tr>\n",
              "    <tr>\n",
              "      <th>1</th>\n",
              "      <td>24.210720</td>\n",
              "    </tr>\n",
              "    <tr>\n",
              "      <th>2</th>\n",
              "      <td>25.090414</td>\n",
              "    </tr>\n",
              "    <tr>\n",
              "      <th>3</th>\n",
              "      <td>25.489597</td>\n",
              "    </tr>\n",
              "    <tr>\n",
              "      <th>4</th>\n",
              "      <td>25.670740</td>\n",
              "    </tr>\n",
              "    <tr>\n",
              "      <th>5</th>\n",
              "      <td>25.752939</td>\n",
              "    </tr>\n",
              "    <tr>\n",
              "      <th>6</th>\n",
              "      <td>25.790241</td>\n",
              "    </tr>\n",
              "    <tr>\n",
              "      <th>7</th>\n",
              "      <td>25.807165</td>\n",
              "    </tr>\n",
              "    <tr>\n",
              "      <th>8</th>\n",
              "      <td>25.814844</td>\n",
              "    </tr>\n",
              "    <tr>\n",
              "      <th>9</th>\n",
              "      <td>25.818329</td>\n",
              "    </tr>\n",
              "    <tr>\n",
              "      <th>10</th>\n",
              "      <td>25.819916</td>\n",
              "    </tr>\n",
              "    <tr>\n",
              "      <th>11</th>\n",
              "      <td>25.820631</td>\n",
              "    </tr>\n",
              "    <tr>\n",
              "      <th>12</th>\n",
              "      <td>25.820955</td>\n",
              "    </tr>\n",
              "    <tr>\n",
              "      <th>13</th>\n",
              "      <td>25.821102</td>\n",
              "    </tr>\n",
              "    <tr>\n",
              "      <th>14</th>\n",
              "      <td>25.821167</td>\n",
              "    </tr>\n",
              "    <tr>\n",
              "      <th>15</th>\n",
              "      <td>25.821201</td>\n",
              "    </tr>\n",
              "    <tr>\n",
              "      <th>16</th>\n",
              "      <td>25.821215</td>\n",
              "    </tr>\n",
              "    <tr>\n",
              "      <th>17</th>\n",
              "      <td>25.821220</td>\n",
              "    </tr>\n",
              "    <tr>\n",
              "      <th>18</th>\n",
              "      <td>25.821222</td>\n",
              "    </tr>\n",
              "    <tr>\n",
              "      <th>19</th>\n",
              "      <td>25.821224</td>\n",
              "    </tr>\n",
              "    <tr>\n",
              "      <th>20</th>\n",
              "      <td>25.821226</td>\n",
              "    </tr>\n",
              "    <tr>\n",
              "      <th>21</th>\n",
              "      <td>25.821226</td>\n",
              "    </tr>\n",
              "    <tr>\n",
              "      <th>22</th>\n",
              "      <td>25.821226</td>\n",
              "    </tr>\n",
              "    <tr>\n",
              "      <th>23</th>\n",
              "      <td>25.821226</td>\n",
              "    </tr>\n",
              "    <tr>\n",
              "      <th>24</th>\n",
              "      <td>25.821226</td>\n",
              "    </tr>\n",
              "    <tr>\n",
              "      <th>25</th>\n",
              "      <td>25.821226</td>\n",
              "    </tr>\n",
              "    <tr>\n",
              "      <th>26</th>\n",
              "      <td>25.821226</td>\n",
              "    </tr>\n",
              "    <tr>\n",
              "      <th>27</th>\n",
              "      <td>25.821226</td>\n",
              "    </tr>\n",
              "    <tr>\n",
              "      <th>28</th>\n",
              "      <td>25.821226</td>\n",
              "    </tr>\n",
              "    <tr>\n",
              "      <th>29</th>\n",
              "      <td>25.821226</td>\n",
              "    </tr>\n",
              "    <tr>\n",
              "      <th>30</th>\n",
              "      <td>25.821226</td>\n",
              "    </tr>\n",
              "  </tbody>\n",
              "</table>\n",
              "</div>"
            ],
            "text/plain": [
              "           co\n",
              "0   22.272120\n",
              "1   24.210720\n",
              "2   25.090414\n",
              "3   25.489597\n",
              "4   25.670740\n",
              "5   25.752939\n",
              "6   25.790241\n",
              "7   25.807165\n",
              "8   25.814844\n",
              "9   25.818329\n",
              "10  25.819916\n",
              "11  25.820631\n",
              "12  25.820955\n",
              "13  25.821102\n",
              "14  25.821167\n",
              "15  25.821201\n",
              "16  25.821215\n",
              "17  25.821220\n",
              "18  25.821222\n",
              "19  25.821224\n",
              "20  25.821226\n",
              "21  25.821226\n",
              "22  25.821226\n",
              "23  25.821226\n",
              "24  25.821226\n",
              "25  25.821226\n",
              "26  25.821226\n",
              "27  25.821226\n",
              "28  25.821226\n",
              "29  25.821226\n",
              "30  25.821226"
            ]
          },
          "metadata": {},
          "execution_count": 147
        }
      ]
    },
    {
      "cell_type": "markdown",
      "source": [
        "##o3"
      ],
      "metadata": {
        "id": "oWIHqXHx6r9i"
      }
    },
    {
      "cell_type": "code",
      "source": [
        "output_data_o3 = pd.DataFrame(columns = [\"o3\"])\n",
        "\n",
        "x_train_o3 = df['o3'].values\n",
        "\n",
        "train_set_o3 = windowed_dataset(x_train_o3, window_size, batch_size, shuffle_buffer_size)\n",
        "history_o3 = model.fit(train_set_o3, epochs=10)    "
      ],
      "metadata": {
        "colab": {
          "base_uri": "https://localhost:8080/"
        },
        "id": "i3Gn6bhp6s8g",
        "outputId": "e0c8a7b1-6e6c-4e68-8088-1dc44af76a3e"
      },
      "execution_count": null,
      "outputs": [
        {
          "output_type": "stream",
          "name": "stdout",
          "text": [
            "Epoch 1/10\n",
            "525/525 [==============================] - 4s 8ms/step - loss: 30.1400 - mse: 1802.1075 - mae: 30.6356\n",
            "Epoch 2/10\n",
            "525/525 [==============================] - 4s 7ms/step - loss: 30.3532 - mse: 1816.0906 - mae: 30.8489\n",
            "Epoch 3/10\n",
            "525/525 [==============================] - 4s 7ms/step - loss: 30.2400 - mse: 1797.5748 - mae: 30.7357\n",
            "Epoch 4/10\n",
            "525/525 [==============================] - 4s 7ms/step - loss: 30.4080 - mse: 1821.7242 - mae: 30.9038\n",
            "Epoch 5/10\n",
            "525/525 [==============================] - 4s 7ms/step - loss: 30.1524 - mse: 1797.4078 - mae: 30.6480\n",
            "Epoch 6/10\n",
            "525/525 [==============================] - 4s 7ms/step - loss: 30.2786 - mse: 1804.9343 - mae: 30.7741\n",
            "Epoch 7/10\n",
            "525/525 [==============================] - 4s 7ms/step - loss: 30.2621 - mse: 1811.9850 - mae: 30.7577\n",
            "Epoch 8/10\n",
            "525/525 [==============================] - 4s 7ms/step - loss: 30.1168 - mse: 1782.8259 - mae: 30.6125\n",
            "Epoch 9/10\n",
            "525/525 [==============================] - 4s 7ms/step - loss: 30.1419 - mse: 1785.0656 - mae: 30.6376\n",
            "Epoch 10/10\n",
            "525/525 [==============================] - 4s 7ms/step - loss: 29.9372 - mse: 1757.4407 - mae: 30.4328\n"
          ]
        }
      ]
    },
    {
      "cell_type": "code",
      "source": [
        "#Forecasting\n",
        "data_temp_o3 = x_train_o3.copy()\n",
        "for j in range(NUM_FORECASTS):\n",
        "    o3_forecast = model_forecast(model, data_temp_o3[-window_size:, np.newaxis], batch_size, window_size)\n",
        "    o3_forecast = o3_forecast[:, -1, 0]\n",
        "    data_temp_o3 = np.append(data_temp_o3, o3_forecast[0])\n",
        "    output_data_o3 = output_data_o3.append({\"o3\":o3_forecast[0]}, \n",
        "                                ignore_index=True)\n",
        "output_data_o3"
      ],
      "metadata": {
        "colab": {
          "base_uri": "https://localhost:8080/",
          "height": 986
        },
        "id": "g47U-hub6tQn",
        "outputId": "e9e08427-b6bf-45c2-b291-f88ac4d750b9"
      },
      "execution_count": null,
      "outputs": [
        {
          "output_type": "execute_result",
          "data": {
            "text/html": [
              "<div>\n",
              "<style scoped>\n",
              "    .dataframe tbody tr th:only-of-type {\n",
              "        vertical-align: middle;\n",
              "    }\n",
              "\n",
              "    .dataframe tbody tr th {\n",
              "        vertical-align: top;\n",
              "    }\n",
              "\n",
              "    .dataframe thead th {\n",
              "        text-align: right;\n",
              "    }\n",
              "</style>\n",
              "<table border=\"1\" class=\"dataframe\">\n",
              "  <thead>\n",
              "    <tr style=\"text-align: right;\">\n",
              "      <th></th>\n",
              "      <th>o3</th>\n",
              "    </tr>\n",
              "  </thead>\n",
              "  <tbody>\n",
              "    <tr>\n",
              "      <th>0</th>\n",
              "      <td>83.021141</td>\n",
              "    </tr>\n",
              "    <tr>\n",
              "      <th>1</th>\n",
              "      <td>98.388680</td>\n",
              "    </tr>\n",
              "    <tr>\n",
              "      <th>2</th>\n",
              "      <td>111.493362</td>\n",
              "    </tr>\n",
              "    <tr>\n",
              "      <th>3</th>\n",
              "      <td>122.668373</td>\n",
              "    </tr>\n",
              "    <tr>\n",
              "      <th>4</th>\n",
              "      <td>132.197876</td>\n",
              "    </tr>\n",
              "    <tr>\n",
              "      <th>5</th>\n",
              "      <td>140.324158</td>\n",
              "    </tr>\n",
              "    <tr>\n",
              "      <th>6</th>\n",
              "      <td>147.253845</td>\n",
              "    </tr>\n",
              "    <tr>\n",
              "      <th>7</th>\n",
              "      <td>153.163147</td>\n",
              "    </tr>\n",
              "    <tr>\n",
              "      <th>8</th>\n",
              "      <td>158.202301</td>\n",
              "    </tr>\n",
              "    <tr>\n",
              "      <th>9</th>\n",
              "      <td>162.499451</td>\n",
              "    </tr>\n",
              "    <tr>\n",
              "      <th>10</th>\n",
              "      <td>166.163849</td>\n",
              "    </tr>\n",
              "    <tr>\n",
              "      <th>11</th>\n",
              "      <td>169.288666</td>\n",
              "    </tr>\n",
              "    <tr>\n",
              "      <th>12</th>\n",
              "      <td>171.953354</td>\n",
              "    </tr>\n",
              "    <tr>\n",
              "      <th>13</th>\n",
              "      <td>174.225662</td>\n",
              "    </tr>\n",
              "    <tr>\n",
              "      <th>14</th>\n",
              "      <td>176.163391</td>\n",
              "    </tr>\n",
              "    <tr>\n",
              "      <th>15</th>\n",
              "      <td>177.815796</td>\n",
              "    </tr>\n",
              "    <tr>\n",
              "      <th>16</th>\n",
              "      <td>179.224884</td>\n",
              "    </tr>\n",
              "    <tr>\n",
              "      <th>17</th>\n",
              "      <td>180.426483</td>\n",
              "    </tr>\n",
              "    <tr>\n",
              "      <th>18</th>\n",
              "      <td>181.451126</td>\n",
              "    </tr>\n",
              "    <tr>\n",
              "      <th>19</th>\n",
              "      <td>182.324905</td>\n",
              "    </tr>\n",
              "    <tr>\n",
              "      <th>20</th>\n",
              "      <td>183.070023</td>\n",
              "    </tr>\n",
              "    <tr>\n",
              "      <th>21</th>\n",
              "      <td>183.705414</td>\n",
              "    </tr>\n",
              "    <tr>\n",
              "      <th>22</th>\n",
              "      <td>184.247238</td>\n",
              "    </tr>\n",
              "    <tr>\n",
              "      <th>23</th>\n",
              "      <td>184.709290</td>\n",
              "    </tr>\n",
              "    <tr>\n",
              "      <th>24</th>\n",
              "      <td>185.103287</td>\n",
              "    </tr>\n",
              "    <tr>\n",
              "      <th>25</th>\n",
              "      <td>185.439301</td>\n",
              "    </tr>\n",
              "    <tr>\n",
              "      <th>26</th>\n",
              "      <td>185.725815</td>\n",
              "    </tr>\n",
              "    <tr>\n",
              "      <th>27</th>\n",
              "      <td>185.970139</td>\n",
              "    </tr>\n",
              "    <tr>\n",
              "      <th>28</th>\n",
              "      <td>186.178497</td>\n",
              "    </tr>\n",
              "    <tr>\n",
              "      <th>29</th>\n",
              "      <td>186.356171</td>\n",
              "    </tr>\n",
              "    <tr>\n",
              "      <th>30</th>\n",
              "      <td>186.507660</td>\n",
              "    </tr>\n",
              "  </tbody>\n",
              "</table>\n",
              "</div>"
            ],
            "text/plain": [
              "            o3\n",
              "0    83.021141\n",
              "1    98.388680\n",
              "2   111.493362\n",
              "3   122.668373\n",
              "4   132.197876\n",
              "5   140.324158\n",
              "6   147.253845\n",
              "7   153.163147\n",
              "8   158.202301\n",
              "9   162.499451\n",
              "10  166.163849\n",
              "11  169.288666\n",
              "12  171.953354\n",
              "13  174.225662\n",
              "14  176.163391\n",
              "15  177.815796\n",
              "16  179.224884\n",
              "17  180.426483\n",
              "18  181.451126\n",
              "19  182.324905\n",
              "20  183.070023\n",
              "21  183.705414\n",
              "22  184.247238\n",
              "23  184.709290\n",
              "24  185.103287\n",
              "25  185.439301\n",
              "26  185.725815\n",
              "27  185.970139\n",
              "28  186.178497\n",
              "29  186.356171\n",
              "30  186.507660"
            ]
          },
          "metadata": {},
          "execution_count": 151
        }
      ]
    },
    {
      "cell_type": "markdown",
      "source": [
        "##no2"
      ],
      "metadata": {
        "id": "Qvsyn7R87NWN"
      }
    },
    {
      "cell_type": "code",
      "source": [
        "output_data_no2 = pd.DataFrame(columns = [\"no2\"])\n",
        "\n",
        "x_train_no2 = df['no2'].values\n",
        "\n",
        "train_set_no2 = windowed_dataset(x_train_no2, window_size, batch_size, shuffle_buffer_size)\n",
        "history_no2 = model.fit(train_set_no2, epochs=10)    "
      ],
      "metadata": {
        "colab": {
          "base_uri": "https://localhost:8080/"
        },
        "id": "Gfqn01NR7Oxo",
        "outputId": "cdaef455-34b9-4965-bfda-5dba9ce4087f"
      },
      "execution_count": null,
      "outputs": [
        {
          "output_type": "stream",
          "name": "stdout",
          "text": [
            "Epoch 1/10\n",
            "525/525 [==============================] - 4s 8ms/step - loss: 5.5477 - mse: 131.0981 - mae: 6.0237\n",
            "Epoch 2/10\n",
            "525/525 [==============================] - 4s 7ms/step - loss: 5.5371 - mse: 130.0498 - mae: 6.0133\n",
            "Epoch 3/10\n",
            "525/525 [==============================] - 4s 7ms/step - loss: 5.5952 - mse: 130.3595 - mae: 6.0718\n",
            "Epoch 4/10\n",
            "525/525 [==============================] - 4s 7ms/step - loss: 5.5558 - mse: 130.4645 - mae: 6.0320\n",
            "Epoch 5/10\n",
            "525/525 [==============================] - 4s 7ms/step - loss: 5.5589 - mse: 129.6564 - mae: 6.0354\n",
            "Epoch 6/10\n",
            "525/525 [==============================] - 4s 7ms/step - loss: 5.5481 - mse: 129.8990 - mae: 6.0241\n",
            "Epoch 7/10\n",
            "525/525 [==============================] - 4s 7ms/step - loss: 5.5346 - mse: 127.7701 - mae: 6.0109\n",
            "Epoch 8/10\n",
            "525/525 [==============================] - 4s 7ms/step - loss: 5.5929 - mse: 128.0279 - mae: 6.0699\n",
            "Epoch 9/10\n",
            "525/525 [==============================] - 4s 7ms/step - loss: 5.5582 - mse: 128.4066 - mae: 6.0347\n",
            "Epoch 10/10\n",
            "525/525 [==============================] - 4s 7ms/step - loss: 5.6349 - mse: 129.3881 - mae: 6.1116\n"
          ]
        }
      ]
    },
    {
      "cell_type": "code",
      "source": [
        "#Forecasting\n",
        "data_temp_no2 = x_train_no2.copy()\n",
        "for j in range(NUM_FORECASTS):\n",
        "    no2_forecast = model_forecast(model, data_temp_no2[-window_size:, np.newaxis], batch_size, window_size)\n",
        "    no2_forecast = no2_forecast[:, -1, 0]\n",
        "    data_temp_no2 = np.append(data_temp_so2, no2_forecast[0])\n",
        "    output_data_no2 = output_data_no2.append({\"no2\":no2_forecast[0]}, \n",
        "                                ignore_index=True)\n",
        "output_data_no2"
      ],
      "metadata": {
        "colab": {
          "base_uri": "https://localhost:8080/",
          "height": 986
        },
        "id": "P3pCXlgb7gcp",
        "outputId": "f68cc060-c9e9-47f4-bfcf-974c7c214b88"
      },
      "execution_count": null,
      "outputs": [
        {
          "output_type": "execute_result",
          "data": {
            "text/html": [
              "<div>\n",
              "<style scoped>\n",
              "    .dataframe tbody tr th:only-of-type {\n",
              "        vertical-align: middle;\n",
              "    }\n",
              "\n",
              "    .dataframe tbody tr th {\n",
              "        vertical-align: top;\n",
              "    }\n",
              "\n",
              "    .dataframe thead th {\n",
              "        text-align: right;\n",
              "    }\n",
              "</style>\n",
              "<table border=\"1\" class=\"dataframe\">\n",
              "  <thead>\n",
              "    <tr style=\"text-align: right;\">\n",
              "      <th></th>\n",
              "      <th>no2</th>\n",
              "    </tr>\n",
              "  </thead>\n",
              "  <tbody>\n",
              "    <tr>\n",
              "      <th>0</th>\n",
              "      <td>22.961458</td>\n",
              "    </tr>\n",
              "    <tr>\n",
              "      <th>1</th>\n",
              "      <td>19.515585</td>\n",
              "    </tr>\n",
              "    <tr>\n",
              "      <th>2</th>\n",
              "      <td>17.561869</td>\n",
              "    </tr>\n",
              "    <tr>\n",
              "      <th>3</th>\n",
              "      <td>16.456810</td>\n",
              "    </tr>\n",
              "    <tr>\n",
              "      <th>4</th>\n",
              "      <td>15.831768</td>\n",
              "    </tr>\n",
              "    <tr>\n",
              "      <th>5</th>\n",
              "      <td>15.478233</td>\n",
              "    </tr>\n",
              "    <tr>\n",
              "      <th>6</th>\n",
              "      <td>15.278267</td>\n",
              "    </tr>\n",
              "    <tr>\n",
              "      <th>7</th>\n",
              "      <td>15.165163</td>\n",
              "    </tr>\n",
              "    <tr>\n",
              "      <th>8</th>\n",
              "      <td>15.101190</td>\n",
              "    </tr>\n",
              "    <tr>\n",
              "      <th>9</th>\n",
              "      <td>15.065005</td>\n",
              "    </tr>\n",
              "    <tr>\n",
              "      <th>10</th>\n",
              "      <td>15.044538</td>\n",
              "    </tr>\n",
              "    <tr>\n",
              "      <th>11</th>\n",
              "      <td>15.032961</td>\n",
              "    </tr>\n",
              "    <tr>\n",
              "      <th>12</th>\n",
              "      <td>15.026411</td>\n",
              "    </tr>\n",
              "    <tr>\n",
              "      <th>13</th>\n",
              "      <td>15.022709</td>\n",
              "    </tr>\n",
              "    <tr>\n",
              "      <th>14</th>\n",
              "      <td>15.020615</td>\n",
              "    </tr>\n",
              "    <tr>\n",
              "      <th>15</th>\n",
              "      <td>15.019428</td>\n",
              "    </tr>\n",
              "    <tr>\n",
              "      <th>16</th>\n",
              "      <td>15.018759</td>\n",
              "    </tr>\n",
              "    <tr>\n",
              "      <th>17</th>\n",
              "      <td>15.018380</td>\n",
              "    </tr>\n",
              "    <tr>\n",
              "      <th>18</th>\n",
              "      <td>15.018167</td>\n",
              "    </tr>\n",
              "    <tr>\n",
              "      <th>19</th>\n",
              "      <td>15.018045</td>\n",
              "    </tr>\n",
              "    <tr>\n",
              "      <th>20</th>\n",
              "      <td>15.017976</td>\n",
              "    </tr>\n",
              "    <tr>\n",
              "      <th>21</th>\n",
              "      <td>15.017938</td>\n",
              "    </tr>\n",
              "    <tr>\n",
              "      <th>22</th>\n",
              "      <td>15.017917</td>\n",
              "    </tr>\n",
              "    <tr>\n",
              "      <th>23</th>\n",
              "      <td>15.017904</td>\n",
              "    </tr>\n",
              "    <tr>\n",
              "      <th>24</th>\n",
              "      <td>15.017898</td>\n",
              "    </tr>\n",
              "    <tr>\n",
              "      <th>25</th>\n",
              "      <td>15.017891</td>\n",
              "    </tr>\n",
              "    <tr>\n",
              "      <th>26</th>\n",
              "      <td>15.017889</td>\n",
              "    </tr>\n",
              "    <tr>\n",
              "      <th>27</th>\n",
              "      <td>15.017888</td>\n",
              "    </tr>\n",
              "    <tr>\n",
              "      <th>28</th>\n",
              "      <td>15.017887</td>\n",
              "    </tr>\n",
              "    <tr>\n",
              "      <th>29</th>\n",
              "      <td>15.017887</td>\n",
              "    </tr>\n",
              "    <tr>\n",
              "      <th>30</th>\n",
              "      <td>15.017887</td>\n",
              "    </tr>\n",
              "  </tbody>\n",
              "</table>\n",
              "</div>"
            ],
            "text/plain": [
              "          no2\n",
              "0   22.961458\n",
              "1   19.515585\n",
              "2   17.561869\n",
              "3   16.456810\n",
              "4   15.831768\n",
              "5   15.478233\n",
              "6   15.278267\n",
              "7   15.165163\n",
              "8   15.101190\n",
              "9   15.065005\n",
              "10  15.044538\n",
              "11  15.032961\n",
              "12  15.026411\n",
              "13  15.022709\n",
              "14  15.020615\n",
              "15  15.019428\n",
              "16  15.018759\n",
              "17  15.018380\n",
              "18  15.018167\n",
              "19  15.018045\n",
              "20  15.017976\n",
              "21  15.017938\n",
              "22  15.017917\n",
              "23  15.017904\n",
              "24  15.017898\n",
              "25  15.017891\n",
              "26  15.017889\n",
              "27  15.017888\n",
              "28  15.017887\n",
              "29  15.017887\n",
              "30  15.017887"
            ]
          },
          "metadata": {},
          "execution_count": 161
        }
      ]
    },
    {
      "cell_type": "code",
      "source": [
        "df_predict = pd.DataFrame()\n",
        "df_predict = pd.concat([output_data_pm10, output_data_so2, output_data_co, output_data_o3, output_data_no2], axis=1)\n",
        "df_predict"
      ],
      "metadata": {
        "colab": {
          "base_uri": "https://localhost:8080/",
          "height": 986
        },
        "id": "9X7PA-PT8Ebp",
        "outputId": "76fb376f-f8d5-4ffb-fd34-e21f62c17690"
      },
      "execution_count": null,
      "outputs": [
        {
          "output_type": "execute_result",
          "data": {
            "text/html": [
              "<div>\n",
              "<style scoped>\n",
              "    .dataframe tbody tr th:only-of-type {\n",
              "        vertical-align: middle;\n",
              "    }\n",
              "\n",
              "    .dataframe tbody tr th {\n",
              "        vertical-align: top;\n",
              "    }\n",
              "\n",
              "    .dataframe thead th {\n",
              "        text-align: right;\n",
              "    }\n",
              "</style>\n",
              "<table border=\"1\" class=\"dataframe\">\n",
              "  <thead>\n",
              "    <tr style=\"text-align: right;\">\n",
              "      <th></th>\n",
              "      <th>tanggal</th>\n",
              "      <th>pm10</th>\n",
              "      <th>so2</th>\n",
              "      <th>co</th>\n",
              "      <th>o3</th>\n",
              "      <th>no2</th>\n",
              "    </tr>\n",
              "  </thead>\n",
              "  <tbody>\n",
              "    <tr>\n",
              "      <th>0</th>\n",
              "      <td>2021-08-01</td>\n",
              "      <td>60.600922</td>\n",
              "      <td>49.358723</td>\n",
              "      <td>22.272120</td>\n",
              "      <td>83.021141</td>\n",
              "      <td>22.961458</td>\n",
              "    </tr>\n",
              "    <tr>\n",
              "      <th>1</th>\n",
              "      <td>2021-08-02</td>\n",
              "      <td>58.361027</td>\n",
              "      <td>48.766232</td>\n",
              "      <td>24.210720</td>\n",
              "      <td>98.388680</td>\n",
              "      <td>19.515585</td>\n",
              "    </tr>\n",
              "    <tr>\n",
              "      <th>2</th>\n",
              "      <td>2021-08-03</td>\n",
              "      <td>56.269749</td>\n",
              "      <td>48.218819</td>\n",
              "      <td>25.090414</td>\n",
              "      <td>111.493362</td>\n",
              "      <td>17.561869</td>\n",
              "    </tr>\n",
              "    <tr>\n",
              "      <th>3</th>\n",
              "      <td>2021-08-04</td>\n",
              "      <td>54.317223</td>\n",
              "      <td>47.713047</td>\n",
              "      <td>25.489597</td>\n",
              "      <td>122.668373</td>\n",
              "      <td>16.456810</td>\n",
              "    </tr>\n",
              "    <tr>\n",
              "      <th>4</th>\n",
              "      <td>2021-08-05</td>\n",
              "      <td>52.494259</td>\n",
              "      <td>47.245762</td>\n",
              "      <td>25.670740</td>\n",
              "      <td>132.197876</td>\n",
              "      <td>15.831768</td>\n",
              "    </tr>\n",
              "    <tr>\n",
              "      <th>5</th>\n",
              "      <td>2021-08-06</td>\n",
              "      <td>50.792248</td>\n",
              "      <td>46.814026</td>\n",
              "      <td>25.752939</td>\n",
              "      <td>140.324158</td>\n",
              "      <td>15.478233</td>\n",
              "    </tr>\n",
              "    <tr>\n",
              "      <th>6</th>\n",
              "      <td>2021-08-07</td>\n",
              "      <td>49.203175</td>\n",
              "      <td>46.415138</td>\n",
              "      <td>25.790241</td>\n",
              "      <td>147.253845</td>\n",
              "      <td>15.278267</td>\n",
              "    </tr>\n",
              "    <tr>\n",
              "      <th>7</th>\n",
              "      <td>2021-08-08</td>\n",
              "      <td>47.719540</td>\n",
              "      <td>46.046597</td>\n",
              "      <td>25.807165</td>\n",
              "      <td>153.163147</td>\n",
              "      <td>15.165163</td>\n",
              "    </tr>\n",
              "    <tr>\n",
              "      <th>8</th>\n",
              "      <td>2021-08-09</td>\n",
              "      <td>46.334335</td>\n",
              "      <td>45.706093</td>\n",
              "      <td>25.814844</td>\n",
              "      <td>158.202301</td>\n",
              "      <td>15.101190</td>\n",
              "    </tr>\n",
              "    <tr>\n",
              "      <th>9</th>\n",
              "      <td>2021-08-10</td>\n",
              "      <td>45.041046</td>\n",
              "      <td>45.391499</td>\n",
              "      <td>25.818329</td>\n",
              "      <td>162.499451</td>\n",
              "      <td>15.065005</td>\n",
              "    </tr>\n",
              "    <tr>\n",
              "      <th>10</th>\n",
              "      <td>2021-08-11</td>\n",
              "      <td>43.833569</td>\n",
              "      <td>45.100834</td>\n",
              "      <td>25.819916</td>\n",
              "      <td>166.163849</td>\n",
              "      <td>15.044538</td>\n",
              "    </tr>\n",
              "    <tr>\n",
              "      <th>11</th>\n",
              "      <td>2021-08-12</td>\n",
              "      <td>42.706211</td>\n",
              "      <td>44.832291</td>\n",
              "      <td>25.820631</td>\n",
              "      <td>169.288666</td>\n",
              "      <td>15.032961</td>\n",
              "    </tr>\n",
              "    <tr>\n",
              "      <th>12</th>\n",
              "      <td>2021-08-13</td>\n",
              "      <td>41.653652</td>\n",
              "      <td>44.584171</td>\n",
              "      <td>25.820955</td>\n",
              "      <td>171.953354</td>\n",
              "      <td>15.026411</td>\n",
              "    </tr>\n",
              "    <tr>\n",
              "      <th>13</th>\n",
              "      <td>2021-08-14</td>\n",
              "      <td>40.670940</td>\n",
              "      <td>44.354935</td>\n",
              "      <td>25.821102</td>\n",
              "      <td>174.225662</td>\n",
              "      <td>15.022709</td>\n",
              "    </tr>\n",
              "    <tr>\n",
              "      <th>14</th>\n",
              "      <td>2021-08-15</td>\n",
              "      <td>39.753429</td>\n",
              "      <td>44.143131</td>\n",
              "      <td>25.821167</td>\n",
              "      <td>176.163391</td>\n",
              "      <td>15.020615</td>\n",
              "    </tr>\n",
              "    <tr>\n",
              "      <th>15</th>\n",
              "      <td>2021-08-16</td>\n",
              "      <td>38.896793</td>\n",
              "      <td>43.947449</td>\n",
              "      <td>25.821201</td>\n",
              "      <td>177.815796</td>\n",
              "      <td>15.019428</td>\n",
              "    </tr>\n",
              "    <tr>\n",
              "      <th>16</th>\n",
              "      <td>2021-08-17</td>\n",
              "      <td>38.096996</td>\n",
              "      <td>43.766647</td>\n",
              "      <td>25.821215</td>\n",
              "      <td>179.224884</td>\n",
              "      <td>15.018759</td>\n",
              "    </tr>\n",
              "    <tr>\n",
              "      <th>17</th>\n",
              "      <td>2021-08-18</td>\n",
              "      <td>37.350266</td>\n",
              "      <td>43.599598</td>\n",
              "      <td>25.821220</td>\n",
              "      <td>180.426483</td>\n",
              "      <td>15.018380</td>\n",
              "    </tr>\n",
              "    <tr>\n",
              "      <th>18</th>\n",
              "      <td>2021-08-19</td>\n",
              "      <td>36.653091</td>\n",
              "      <td>43.445263</td>\n",
              "      <td>25.821222</td>\n",
              "      <td>181.451126</td>\n",
              "      <td>15.018167</td>\n",
              "    </tr>\n",
              "    <tr>\n",
              "      <th>19</th>\n",
              "      <td>2021-08-20</td>\n",
              "      <td>36.002167</td>\n",
              "      <td>43.302670</td>\n",
              "      <td>25.821224</td>\n",
              "      <td>182.324905</td>\n",
              "      <td>15.018045</td>\n",
              "    </tr>\n",
              "    <tr>\n",
              "      <th>20</th>\n",
              "      <td>2021-08-21</td>\n",
              "      <td>35.394436</td>\n",
              "      <td>43.170921</td>\n",
              "      <td>25.821226</td>\n",
              "      <td>183.070023</td>\n",
              "      <td>15.017976</td>\n",
              "    </tr>\n",
              "    <tr>\n",
              "      <th>21</th>\n",
              "      <td>2021-08-22</td>\n",
              "      <td>34.827026</td>\n",
              "      <td>43.049198</td>\n",
              "      <td>25.821226</td>\n",
              "      <td>183.705414</td>\n",
              "      <td>15.017938</td>\n",
              "    </tr>\n",
              "    <tr>\n",
              "      <th>22</th>\n",
              "      <td>2021-08-23</td>\n",
              "      <td>34.297268</td>\n",
              "      <td>42.936745</td>\n",
              "      <td>25.821226</td>\n",
              "      <td>184.247238</td>\n",
              "      <td>15.017917</td>\n",
              "    </tr>\n",
              "    <tr>\n",
              "      <th>23</th>\n",
              "      <td>2021-08-24</td>\n",
              "      <td>33.802654</td>\n",
              "      <td>42.832840</td>\n",
              "      <td>25.821226</td>\n",
              "      <td>184.709290</td>\n",
              "      <td>15.017904</td>\n",
              "    </tr>\n",
              "    <tr>\n",
              "      <th>24</th>\n",
              "      <td>2021-08-25</td>\n",
              "      <td>33.340862</td>\n",
              "      <td>42.736843</td>\n",
              "      <td>25.821226</td>\n",
              "      <td>185.103287</td>\n",
              "      <td>15.017898</td>\n",
              "    </tr>\n",
              "    <tr>\n",
              "      <th>25</th>\n",
              "      <td>2021-08-26</td>\n",
              "      <td>32.909710</td>\n",
              "      <td>42.648144</td>\n",
              "      <td>25.821226</td>\n",
              "      <td>185.439301</td>\n",
              "      <td>15.017891</td>\n",
              "    </tr>\n",
              "    <tr>\n",
              "      <th>26</th>\n",
              "      <td>2021-08-27</td>\n",
              "      <td>32.507164</td>\n",
              "      <td>42.566193</td>\n",
              "      <td>25.821226</td>\n",
              "      <td>185.725815</td>\n",
              "      <td>15.017889</td>\n",
              "    </tr>\n",
              "    <tr>\n",
              "      <th>27</th>\n",
              "      <td>2021-08-28</td>\n",
              "      <td>32.131329</td>\n",
              "      <td>42.490482</td>\n",
              "      <td>25.821226</td>\n",
              "      <td>185.970139</td>\n",
              "      <td>15.017888</td>\n",
              "    </tr>\n",
              "    <tr>\n",
              "      <th>28</th>\n",
              "      <td>2021-08-29</td>\n",
              "      <td>31.780430</td>\n",
              "      <td>42.420528</td>\n",
              "      <td>25.821226</td>\n",
              "      <td>186.178497</td>\n",
              "      <td>15.017887</td>\n",
              "    </tr>\n",
              "    <tr>\n",
              "      <th>29</th>\n",
              "      <td>2021-08-30</td>\n",
              "      <td>31.452816</td>\n",
              "      <td>42.355896</td>\n",
              "      <td>25.821226</td>\n",
              "      <td>186.356171</td>\n",
              "      <td>15.017887</td>\n",
              "    </tr>\n",
              "    <tr>\n",
              "      <th>30</th>\n",
              "      <td>2021-08-31</td>\n",
              "      <td>31.146940</td>\n",
              "      <td>42.296185</td>\n",
              "      <td>25.821226</td>\n",
              "      <td>186.507660</td>\n",
              "      <td>15.017887</td>\n",
              "    </tr>\n",
              "  </tbody>\n",
              "</table>\n",
              "</div>"
            ],
            "text/plain": [
              "      tanggal       pm10        so2         co          o3        no2\n",
              "0  2021-08-01  60.600922  49.358723  22.272120   83.021141  22.961458\n",
              "1  2021-08-02  58.361027  48.766232  24.210720   98.388680  19.515585\n",
              "2  2021-08-03  56.269749  48.218819  25.090414  111.493362  17.561869\n",
              "3  2021-08-04  54.317223  47.713047  25.489597  122.668373  16.456810\n",
              "4  2021-08-05  52.494259  47.245762  25.670740  132.197876  15.831768\n",
              "5  2021-08-06  50.792248  46.814026  25.752939  140.324158  15.478233\n",
              "6  2021-08-07  49.203175  46.415138  25.790241  147.253845  15.278267\n",
              "7  2021-08-08  47.719540  46.046597  25.807165  153.163147  15.165163\n",
              "8  2021-08-09  46.334335  45.706093  25.814844  158.202301  15.101190\n",
              "9  2021-08-10  45.041046  45.391499  25.818329  162.499451  15.065005\n",
              "10 2021-08-11  43.833569  45.100834  25.819916  166.163849  15.044538\n",
              "11 2021-08-12  42.706211  44.832291  25.820631  169.288666  15.032961\n",
              "12 2021-08-13  41.653652  44.584171  25.820955  171.953354  15.026411\n",
              "13 2021-08-14  40.670940  44.354935  25.821102  174.225662  15.022709\n",
              "14 2021-08-15  39.753429  44.143131  25.821167  176.163391  15.020615\n",
              "15 2021-08-16  38.896793  43.947449  25.821201  177.815796  15.019428\n",
              "16 2021-08-17  38.096996  43.766647  25.821215  179.224884  15.018759\n",
              "17 2021-08-18  37.350266  43.599598  25.821220  180.426483  15.018380\n",
              "18 2021-08-19  36.653091  43.445263  25.821222  181.451126  15.018167\n",
              "19 2021-08-20  36.002167  43.302670  25.821224  182.324905  15.018045\n",
              "20 2021-08-21  35.394436  43.170921  25.821226  183.070023  15.017976\n",
              "21 2021-08-22  34.827026  43.049198  25.821226  183.705414  15.017938\n",
              "22 2021-08-23  34.297268  42.936745  25.821226  184.247238  15.017917\n",
              "23 2021-08-24  33.802654  42.832840  25.821226  184.709290  15.017904\n",
              "24 2021-08-25  33.340862  42.736843  25.821226  185.103287  15.017898\n",
              "25 2021-08-26  32.909710  42.648144  25.821226  185.439301  15.017891\n",
              "26 2021-08-27  32.507164  42.566193  25.821226  185.725815  15.017889\n",
              "27 2021-08-28  32.131329  42.490482  25.821226  185.970139  15.017888\n",
              "28 2021-08-29  31.780430  42.420528  25.821226  186.178497  15.017887\n",
              "29 2021-08-30  31.452816  42.355896  25.821226  186.356171  15.017887\n",
              "30 2021-08-31  31.146940  42.296185  25.821226  186.507660  15.017887"
            ]
          },
          "metadata": {},
          "execution_count": 162
        }
      ]
    },
    {
      "cell_type": "markdown",
      "source": [
        "# Convert data"
      ],
      "metadata": {
        "id": "S5S5kzGJZH0i"
      }
    },
    {
      "cell_type": "code",
      "source": [
        "df_predict.to_csv(\"air_pollution_prediction.csv\", index=False)"
      ],
      "metadata": {
        "id": "Ow3VhjwZ-ejP"
      },
      "execution_count": null,
      "outputs": []
    }
  ]
}
